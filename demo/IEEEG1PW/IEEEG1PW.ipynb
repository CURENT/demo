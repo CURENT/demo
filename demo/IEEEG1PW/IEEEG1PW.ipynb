{
 "cells": [
  {
   "cell_type": "markdown",
   "metadata": {},
   "source": [
    "# IEEEG1PW"
   ]
  },
  {
   "cell_type": "code",
   "execution_count": 1,
   "metadata": {},
   "outputs": [],
   "source": [
    "import matplotlib.pyplot as plt\n",
    "\n",
    "import andes"
   ]
  },
  {
   "cell_type": "code",
   "execution_count": 2,
   "metadata": {},
   "outputs": [],
   "source": [
    "%matplotlib inline"
   ]
  },
  {
   "cell_type": "code",
   "execution_count": 3,
   "metadata": {},
   "outputs": [],
   "source": [
    "andes.config_logger(20)"
   ]
  },
  {
   "cell_type": "code",
   "execution_count": 4,
   "metadata": {},
   "outputs": [
    {
     "name": "stdout",
     "output_type": "stream",
     "text": [
      "Python  3.12.0\n",
      "andes   1.9.3.post43+g99df4545\n",
      "numpy   2.0.2\n",
      "kvxopt  1.3.2.1\n",
      "sympy   1.13.3\n",
      "scipy   1.13.1\n",
      "pandas  2.2.2\n",
      "numba   0.60.0\n"
     ]
    }
   ],
   "source": [
    "!andes misc --version"
   ]
  },
  {
   "cell_type": "code",
   "execution_count": 5,
   "metadata": {},
   "outputs": [
    {
     "name": "stderr",
     "output_type": "stream",
     "text": [
      "Working directory: \"/Users/jinningwang/work/demo/demo/IEEEG1PW\"\n",
      "> Loaded generated Python code in \"/Users/jinningwang/.andes/pycode\".\n",
      "Parsing input file \"/Users/jinningwang/work/andes/andes/cases/kundur/kundur_ieeeg1.xlsx\"...\n",
      "Input file parsed in 0.3239 seconds.\n",
      "Working directory: \"/Users/jinningwang/work/demo/demo/IEEEG1PW\"\n",
      "> Reloaded generated Python code of module \"pycode\".\n",
      "Parsing input file \"./kundur_ieeeg1pw.xlsx\"...\n",
      "Input file parsed in 0.0207 seconds.\n",
      "System internal structure set up in 0.0138 seconds.\n",
      "System internal structure set up in 0.0131 seconds.\n",
      "-> System connectivity check results:\n",
      "  No islanded bus detected.\n",
      "  System is interconnected.\n",
      "  Each island has a slack bus correctly defined and enabled.\n",
      "\n",
      "-> Power flow calculation\n",
      "           Numba: Off\n",
      "   Sparse solver: KLU\n",
      " Solution method: NR method\n",
      "Power flow initialized in 0.0020 seconds.\n",
      "0: |F(x)| = 14.9282832\n",
      "1: |F(x)| = 3.608627841\n",
      "2: |F(x)| = 0.1701107882\n",
      "3: |F(x)| = 0.002038626956\n",
      "4: |F(x)| = 3.745103979e-07\n",
      "Converged in 5 iterations in 0.0031 seconds.\n",
      "-> System connectivity check results:\n",
      "  No islanded bus detected.\n",
      "  System is interconnected.\n",
      "  Each island has a slack bus correctly defined and enabled.\n",
      "\n",
      "-> Power flow calculation\n",
      "           Numba: Off\n",
      "   Sparse solver: KLU\n",
      " Solution method: NR method\n",
      "Power flow initialized in 0.0017 seconds.\n",
      "0: |F(x)| = 14.9282832\n",
      "1: |F(x)| = 3.608627841\n",
      "2: |F(x)| = 0.1701107882\n",
      "3: |F(x)| = 0.002038626956\n",
      "4: |F(x)| = 3.745103979e-07\n",
      "Converged in 5 iterations in 0.0027 seconds.\n"
     ]
    }
   ],
   "source": [
    "s1 = andes.load(andes.get_case('kundur/kundur_ieeeg1.xlsx'),\n",
    "                setup=False, no_output=True, default_config=True)\n",
    "s2 = andes.load('./kundur_ieeeg1pw.xlsx',\n",
    "                setup=False, no_output=True, default_config=True)\n",
    "\n",
    "for ss in [s1, s2]:\n",
    "\n",
    "    ss.Toggle.alter(src='u', idx=1, value=0)\n",
    "\n",
    "    ss.add(model='Alter',\n",
    "           param_dict=dict(t=1, model='PQ', dev='PQ_0', src='Ppf',\n",
    "                           attr='v', method='+', amount=0.8))\n",
    "    ss.add(model='Alter',\n",
    "           param_dict=dict(t=1, model='PQ', dev='PQ_1', src='Ppf',\n",
    "                           attr='v', method='+', amount=0.8))\n",
    "\n",
    "    ss.setup()\n",
    "\n",
    "for ss in [s1, s2]:\n",
    "    # Constant load\n",
    "    ss.PQ.config.p2p = 1\n",
    "    ss.PQ.config.q2q = 1\n",
    "    ss.PQ.config.p2z = 0\n",
    "    ss.PQ.config.q2z = 0\n",
    "\n",
    "    ss.PFlow.run()"
   ]
  },
  {
   "cell_type": "code",
   "execution_count": 6,
   "metadata": {},
   "outputs": [
    {
     "name": "stderr",
     "output_type": "stream",
     "text": [
      "Initialization for dynamics completed in 0.0162 seconds.\n",
      "Initialization was successful.\n",
      "Suspect initialization issue! Simulation may crash!\n",
      "\n",
      "      Name       | Var. Value | Eqn. Mismatch\n",
      "-----------------+------------+--------------\n",
      " GV_y IEEEG1PW 1 | 7.268      | -7.268       \n",
      "\n",
      "\n",
      "Initialization for dynamics completed in 0.0341 seconds.\n",
      "Initialization failed!!\n",
      "If you are developing a new model, check the initialization with\n",
      "   andes -v 10 run -r tds --init ./kundur_ieeeg1pw.xlsx\n",
      "Otherwise, check the variables that are initialized out of limits.\n"
     ]
    }
   ],
   "source": [
    "for ss in [s1, s2]:\n",
    "    _ = ss.TDS.init()"
   ]
  },
  {
   "cell_type": "code",
   "execution_count": 7,
   "metadata": {},
   "outputs": [
    {
     "name": "stdout",
     "output_type": "stream",
     "text": [
      "      PMIN: 0.0\n",
      "Gv1 * PMAX: 3.8571428571428568\n",
      "Gv2 * PMAX: 7.7142857142857135\n",
      "Gv3 * PMAX: 11.571428571428571\n",
      "Gv4 * PMAX: 15.428571428571427\n",
      "Gv5 * PMAX: 19.285714285714285\n",
      "Gv6 * PMAX: 23.142857142857142\n",
      "      PMAX: 27.0\n"
     ]
    }
   ],
   "source": [
    "print('      PMIN:', s2.IEEEG1PW.PMIN.v[0])\n",
    "\n",
    "for i in range(1, 7):\n",
    "    print(f'Gv{i} * PMAX:', s2.IEEEG1PW.params[f'Gv{i}'].v[0] * s2.IEEEG1PW.PMAX.v[0])\n",
    "\n",
    "print('      PMAX:', s2.IEEEG1PW.PMAX.v[0])"
   ]
  },
  {
   "cell_type": "markdown",
   "metadata": {},
   "source": [
    "Below code is skipped for now"
   ]
  },
  {
   "cell_type": "code",
   "execution_count": 8,
   "metadata": {},
   "outputs": [],
   "source": [
    "# for ss in [s1, s2]:\n",
    "#     ss.TDS.config.tf = 300\n",
    "#     ss.TDS.config.criteria = 0\n",
    "#     ss.TDS.config.no_tqdm = True\n",
    "#     # ss.TDS.run()"
   ]
  },
  {
   "cell_type": "code",
   "execution_count": 9,
   "metadata": {},
   "outputs": [],
   "source": [
    "# plt.style.use('default')\n",
    "\n",
    "# fig, ax = plt.subplots(2, 2, figsize=(15, 15))\n",
    "\n",
    "# a=(3,)\n",
    "# fmin, fmax = 58.5, 60.5\n",
    "# _ = s1.TDS.plt.plot(s1.GENROU.omega,\n",
    "#                     a=a,\n",
    "#                     ymin=fmin, ymax=fmax,\n",
    "#                     ytimes=s1.config.freq,\n",
    "#                     grid=True, show=False, latex=False,\n",
    "#                     yheader=['Case1: Linear'],\n",
    "#                     title='a. Gen. Freq. [Hz]',\n",
    "#                     fig=fig, ax=ax[0, 0])\n",
    "# _ = s2.TDS.plt.plot(s2.GENROU.omega,\n",
    "#                     a=a,\n",
    "#                     ytimes=s1.config.freq,\n",
    "#                     grid=True, show=False, latex=False,\n",
    "#                     yheader=['Case2: Non-linear'],\n",
    "#                     linestyles=['--'],\n",
    "#                     fig=fig, ax=ax[0, 0])\n",
    "\n",
    "# a= (0,)\n",
    "# _ = s1.TDS.plt.plot(s1.IEEEG1.IAW_y,\n",
    "#                     a=a,\n",
    "#                     # ycalc=lambda x: x - s1.IEEEG1.v0.v[0],\n",
    "#                     grid=True, show=False, latex=False,\n",
    "#                     ymax=10,\n",
    "#                     yheader=['Case1-Linear']*len(a),\n",
    "#                     title='b. Valve position [p.u.]',\n",
    "#                     fig=fig, ax=ax[0, 1])\n",
    "# _ = s2.TDS.plt.plot(s2.IEEEG1NL.IAW_y,\n",
    "#                     # ycalc=lambda x: x - s2.IEEEG1N.v0.v[0],\n",
    "#                     grid=True, show=False, latex=False,\n",
    "#                     yheader=['Case2-Non-linear']*len(a),\n",
    "#                     linestyles=['--'],\n",
    "#                     # ymin=5, ymax=15,\n",
    "#                     fig=fig, ax=ax[0, 1])\n",
    "# a= (0,)\n",
    "# pmin, pmax = 7.2, 8.7\n",
    "# _ = s1.TDS.plt.plot(s1.IEEEG1.GV,\n",
    "#                     a=a,\n",
    "#                     grid=True, show=False, latex=False,\n",
    "#                     yheader=['Case1-Linear']*len(a),\n",
    "#                     ymin=pmin, ymax=pmax,\n",
    "#                     title='c. Steam flow [p.u.]',\n",
    "#                     fig=fig, ax=ax[1, 0])\n",
    "# _ = s2.TDS.plt.plot(s2.IEEEG1NL.GV,\n",
    "#                     grid=True, show=False, latex=False,\n",
    "#                     yheader=['Case2-Non-linear']*len(a),\n",
    "#                     linestyles=['--'],\n",
    "#                     # ymin=5, ymax=15,\n",
    "#                     fig=fig, ax=ax[1, 0])\n",
    "\n",
    "# _ = s1.TDS.plt.plot(s1.IEEEG1.pout,\n",
    "#                     a=a,\n",
    "#                     grid=True, show=False, latex=False,\n",
    "#                     ymin=pmin, ymax=pmax,\n",
    "#                     yheader=['Case1-Linear']*len(a),\n",
    "#                     title='d. Mech. power [p.u.]',\n",
    "#                     fig=fig, ax=ax[1, 1])\n",
    "# _ = s2.TDS.plt.plot(s2.IEEEG1NL.pout,\n",
    "#                     grid=True, show=False, latex=False,\n",
    "#                     yheader=['Case2-Non-linear']*len(a),\n",
    "#                     linestyles=['--'],\n",
    "#                     fig=fig, ax=ax[1, 1])"
   ]
  }
 ],
 "metadata": {
  "kernelspec": {
   "display_name": "amsre",
   "language": "python",
   "name": "python3"
  },
  "language_info": {
   "codemirror_mode": {
    "name": "ipython",
    "version": 3
   },
   "file_extension": ".py",
   "mimetype": "text/x-python",
   "name": "python",
   "nbconvert_exporter": "python",
   "pygments_lexer": "ipython3",
   "version": "3.12.0"
  }
 },
 "nbformat": 4,
 "nbformat_minor": 2
}
