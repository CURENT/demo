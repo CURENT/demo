{
 "cells": [
  {
   "cell_type": "markdown",
   "metadata": {},
   "source": [
    "# UC Case Synthesis\n",
    "\n",
    "This notebook synthetises the case of a Unit Commitment problem.\n",
    "\n",
    "The source data comes from Grid Optimization Competition (GO Competition) and is available at https://gocompetition.energy.gov/challenges/challenge-2\n",
    "\n",
    "Here we use the dataset: C2FEN31777, Scenario 5, 31777 Buses, X Lines"
   ]
  },
  {
   "cell_type": "code",
   "execution_count": 1,
   "metadata": {},
   "outputs": [],
   "source": [
    "import numpy as np\n",
    "\n",
    "import ams\n",
    "\n",
    "import json"
   ]
  },
  {
   "cell_type": "code",
   "execution_count": 2,
   "metadata": {},
   "outputs": [],
   "source": [
    "ams.config_logger(stream_level=20)"
   ]
  },
  {
   "cell_type": "markdown",
   "metadata": {},
   "source": [
    "There are five scenarios in the dataset, and the case is regarded as one area with 5 hourly intervals.\n",
    "\n",
    "The Load factors are calculated by summing the power values for each case, storing these sums, and then normalizing them by dividing each sum by the maximum sum across all cases. This results in relative loading factors for comparison."
   ]
  },
  {
   "cell_type": "code",
   "execution_count": 3,
   "metadata": {},
   "outputs": [
    {
     "name": "stderr",
     "output_type": "stream",
     "text": [
      "Parsing input file \"./C2FEN31777/scenario_011/case.raw\"...\n",
      "Input file parsed in 7.3241 seconds.\n",
      "System set up in 0.0861 seconds.\n",
      "Parsing input file \"./C2FEN31777/scenario_012/case.raw\"...\n",
      "Input file parsed in 7.3992 seconds.\n",
      "System set up in 0.0866 seconds.\n",
      "Parsing input file \"./C2FEN31777/scenario_015/case.raw\"...\n",
      "Input file parsed in 7.3907 seconds.\n",
      "System set up in 0.0882 seconds.\n",
      "Parsing input file \"./C2FEN31777/scenario_019/case.raw\"...\n",
      "Input file parsed in 7.3758 seconds.\n",
      "System set up in 0.0853 seconds.\n",
      "Parsing input file \"./C2FEN31777/scenario_051/case.raw\"...\n",
      "Input file parsed in 7.3412 seconds.\n",
      "System set up in 0.1406 seconds.\n"
     ]
    },
    {
     "data": {
      "text/plain": [
       "array([1.        , 0.85034375, 0.94469362, 0.86164711, 0.96305627])"
      ]
     },
     "execution_count": 3,
     "metadata": {},
     "output_type": "execute_result"
    }
   ],
   "source": [
    "cases = [\n",
    "    './C2FEN31777/scenario_011/case.raw',\n",
    "    './C2FEN31777/scenario_012/case.raw',\n",
    "    './C2FEN31777/scenario_015/case.raw',\n",
    "    './C2FEN31777/scenario_019/case.raw',\n",
    "    './C2FEN31777/scenario_051/case.raw',\n",
    "]\n",
    "\n",
    "sd_data = np.zeros(len(cases), dtype=float)\n",
    "\n",
    "for i, case in enumerate(cases):\n",
    "    sp = ams.load(case, setup=True, default_config=True, no_output=True)\n",
    "    psum = sp.PQ.p0.v.sum()\n",
    "    sd_data[i] = psum\n",
    "\n",
    "sd_data[:] = sd_data / sd_data.max()\n",
    "sd_data"
   ]
  },
  {
   "cell_type": "markdown",
   "metadata": {},
   "source": [
    "## Supplerary Data Description\n",
    "\n",
    "### System Parameters\n",
    "\n",
    "| Field      | Unit | Description                                                                 |\n",
    "|------------|------|-----------------------------------------------------------------------------|\n",
    "| delta      | h    | duration of the base case                                                   |\n",
    "| deltactg   | h    | duration of each contingency case                                           |\n",
    "| deltar     | h    | duration (for ramping) from the given operating point prior to the base case to base case operating point |\n",
    "| duration   | h    | duration (for ramping) from observation of a contingency to post-contingency operating point |\n",
    "\n",
    "### Generators\n",
    "\n",
    "| Field      | Unit         | Description                                                                 |\n",
    "|------------|--------------|-----------------------------------------------------------------------------|\n",
    "| bus        | -            | bus number                                                                  |\n",
    "| id         | -            | generator identifier                                                        |\n",
    "| suqual     | -            | allowed to start up in base case                                            |\n",
    "| sdqual     | -            | allowed to shut down in base case                                           |\n",
    "| suqualct   | -            | allowed to start up in contingencies                                        |\n",
    "| sdqualct   | -            | allowed to shut down in contingencies                                       |\n",
    "| prumax     | pu/h         | maximum ramp up rate in base case                                           |\n",
    "| prdmax     | pu/h         | maximum ramp down rate in base case                                         |\n",
    "| prumaxctg  | pu/h         | maximum ramp up rate in contingencies                                       |\n",
    "| prdmaxctg  | pu/h         | maximum ramp down rate in contingencies                                     |\n",
    "| oncost     | USD/h        | fixed operating cost                                                        |\n",
    "| sucost     | USD          | startup cost                                                                |\n",
    "| sdcost     | USD          | shutdown cost                                                               |\n",
    "| cblocks    | USD/pu-h     | a convex piecewise linear cost function, where pmax and c are the maximum power output and cost of the block, respectively |"
   ]
  },
  {
   "cell_type": "code",
   "execution_count": 4,
   "metadata": {},
   "outputs": [
    {
     "data": {
      "text/plain": [
       "dict_keys(['systemparameters', 'loads', 'generators', 'lines', 'transformers', 'pcblocks', 'qcblocks', 'scblocks'])"
      ]
     },
     "execution_count": 4,
     "metadata": {},
     "output_type": "execute_result"
    }
   ],
   "source": [
    "file_name = './C2FEN31777/scenario_011/case.json'\n",
    "# Open the JSON file\n",
    "with open(file_name, 'r') as file:\n",
    "    # Load the contents of the file into a Python dictionary\n",
    "    data = json.load(file)\n",
    "\n",
    "data.keys()"
   ]
  },
  {
   "cell_type": "code",
   "execution_count": 5,
   "metadata": {},
   "outputs": [
    {
     "name": "stderr",
     "output_type": "stream",
     "text": [
      "Parsing input file \"./C2FEN31777/scenario_011/case.raw\"...\n",
      "Input file parsed in 7.5264 seconds.\n"
     ]
    }
   ],
   "source": [
    "# use the most heavy load one as base case\n",
    "sp = ams.load(cases[sd_data.argmax()],\n",
    "              setup=False, default_config=True, no_output=True)"
   ]
  },
  {
   "cell_type": "code",
   "execution_count": 6,
   "metadata": {},
   "outputs": [],
   "source": [
    "# --- Generator ---\n",
    "for gen in data['generators']:\n",
    "    # get generator idx\n",
    "    stg_idx = sp.StaticGen.find_idx(keys=['bus', 'subidx'],\n",
    "                                    values=[[gen['bus']], [int(gen['id'])]])[0]\n",
    "\n",
    "    # alter ramping data\n",
    "    sp.StaticGen.alter(src='R30', idx=stg_idx, value=gen['prumax']/2)\n",
    "\n",
    "    # add cost data\n",
    "    cblock = gen['cblocks']\n",
    "    c1 = np.mean([cblock[i]['c'] for i in range(len(cblock))])\n",
    "    sp.add(model='GCost', param_dict=dict(gen=stg_idx,\n",
    "                                          csu=gen['sucost'], csd=gen['sdcost'],\n",
    "                                          c0=gen['oncost'], c1=c1, c2=0))\n",
    "\n",
    "    # gen enforce on/off status\n",
    "    if gen['suqual'] == 0:\n",
    "        sp.StaticGen.alter(src='uf', idx=stg_idx, value=-1)\n",
    "    if gen['sdqual'] == 0:\n",
    "        sp.StaticGen.alter(src='df', idx=stg_idx, value=1)\n",
    "\n",
    "# --- Load ---\n",
    "# NOTE: here we know the data['loads'] and ss.PQ are one-to-one mapping\n",
    "for load, pq_idx in zip(data['loads'], sp.PQ.idx.v):\n",
    "    cblock = load['cblocks']\n",
    "    cdp = cblock[0]['c']  # pick the first point as cdp\n",
    "    sp.add(model='DCost', param_dict=dict(pq=pq_idx, cdp=cdp))\n",
    "\n",
    "# --- Region ---\n",
    "# NOTE: add two regions, where the first one is the actually used one\n",
    "sp.add(model='Region', param_dict=dict(idx='Zone_1'))\n",
    "sp.add(model='Region', param_dict=dict(idx='Zone_2'))\n",
    "sp.Bus.zone.v = sp.Bus.n * ['Zone_1']  # overwrite Bus.zone\n",
    "\n",
    "# --- UC load factor ---\n",
    "for sd in sd_data:\n",
    "    sp.add(model='UCTSlot', param_dict=dict(sd=f'{sd:.2f} ,0'))\n",
    "\n",
    "# --- ED load factor ---\n",
    "# NOTE: for placeholder\n",
    "ug = ', '.join(map(str, [1] * sp.StaticGen.n))\n",
    "for sd in sd_data:\n",
    "    sp.add(model='EDTSlot', param_dict=dict(sd=f'{sd:.2f} ,0', ug=ug))\n",
    "\n",
    "# --- Non-spinning reserve ---\n",
    "# NOTE: use 0.1 for all regions\n",
    "for z in sp.Region.idx.v:\n",
    "    sp.add(model='NSR', param_dict=dict(demand=0.1, zone=z))\n",
    "\n",
    "# --- Non-spinning reserve cost ---\n",
    "# NOTE: use 0.1 for all generators\n",
    "for stg_idx in sp.PV.idx.v + sp.Slack.idx.v:\n",
    "    sp.add(model='NSRCost', param_dict=dict(gen=stg_idx, cnsr=0.1))\n",
    "\n",
    "# --- Spinning reserve ---\n",
    "# NOTE: use 0.3 for all regions\n",
    "for z in sp.Region.idx.v:\n",
    "    sp.add(model='SR', param_dict=dict(demand=0.3, zone=z))\n",
    "\n",
    "# --- Spinning reserve cost ---\n",
    "# NOTE: use 0.1 for all generators\n",
    "for stg_idx in sp.PV.idx.v + sp.Slack.idx.v:\n",
    "    sp.add(model='SRCost', param_dict=dict(gen=stg_idx, csr=0.1))\n",
    "\n",
    "# --- Secondary Frequency Regulation Reserve ---\n",
    "# NOTE: use 0.02 for both du and dd for all regions\n",
    "for z in sp.Region.idx.v:\n",
    "    sp.add(model='SFR', param_dict=dict(du=0.02, dd=0.02, zone=z))\n",
    "\n",
    "# --- Secondary Frequency Regulation Reserve cost ---\n",
    "# NOTE: use 0 for both cru and crd for all generators\n",
    "for stg_idx in sp.PV.idx.v + sp.Slack.idx.v:\n",
    "    sp.add(model='SFRCost', param_dict=dict(gen=stg_idx, cru=0, crd=0))"
   ]
  },
  {
   "cell_type": "code",
   "execution_count": 7,
   "metadata": {},
   "outputs": [
    {
     "name": "stderr",
     "output_type": "stream",
     "text": [
      "System set up in 0.1324 seconds.\n"
     ]
    },
    {
     "data": {
      "text/plain": [
       "True"
      ]
     },
     "execution_count": 7,
     "metadata": {},
     "output_type": "execute_result"
    }
   ],
   "source": [
    "sp.setup()"
   ]
  },
  {
   "cell_type": "code",
   "execution_count": 8,
   "metadata": {},
   "outputs": [
    {
     "name": "stderr",
     "output_type": "stream",
     "text": [
      "<UC> initialized in 37.9986 seconds.\n"
     ]
    },
    {
     "data": {
      "text/plain": [
       "True"
      ]
     },
     "execution_count": 8,
     "metadata": {},
     "output_type": "execute_result"
    }
   ],
   "source": [
    "sp.UC.init()"
   ]
  },
  {
   "cell_type": "code",
   "execution_count": 9,
   "metadata": {},
   "outputs": [
    {
     "name": "stdout",
     "output_type": "stream",
     "text": [
      "Set parameter Username\n",
      "Academic license - for non-commercial use only - expires 2025-09-25\n"
     ]
    },
    {
     "name": "stderr",
     "output_type": "stream",
     "text": [
      "<UC> solved as optimal in 44.9931 seconds, converged in 10298 iterations with GUROBI.\n"
     ]
    },
    {
     "data": {
      "text/plain": [
       "True"
      ]
     },
     "execution_count": 9,
     "metadata": {},
     "output_type": "execute_result"
    }
   ],
   "source": [
    "sp.UC.run(solver='GUROBI', ignore_dpp=True)"
   ]
  },
  {
   "cell_type": "code",
   "execution_count": 10,
   "metadata": {},
   "outputs": [],
   "source": [
    "for i, edt in enumerate(sp.EDTSlot.idx.v):\n",
    "    sp.EDTSlot.alter(src='ug', idx=edt, value=sp.UC.ugd.v[:, i])"
   ]
  },
  {
   "cell_type": "code",
   "execution_count": 11,
   "metadata": {},
   "outputs": [
    {
     "name": "stderr",
     "output_type": "stream",
     "text": [
      "xlsx file written to \"./goc31777_uced.xlsx\"\n"
     ]
    },
    {
     "data": {
      "text/plain": [
       "True"
      ]
     },
     "execution_count": 11,
     "metadata": {},
     "output_type": "execute_result"
    }
   ],
   "source": [
    "ams.io.xlsx.write(sp, './goc31777_uced.xlsx', overwrite=True)"
   ]
  }
 ],
 "metadata": {
  "kernelspec": {
   "display_name": "ams",
   "language": "python",
   "name": "python3"
  },
  "language_info": {
   "codemirror_mode": {
    "name": "ipython",
    "version": 3
   },
   "file_extension": ".py",
   "mimetype": "text/x-python",
   "name": "python",
   "nbconvert_exporter": "python",
   "pygments_lexer": "ipython3",
   "version": "3.10.0"
  }
 },
 "nbformat": 4,
 "nbformat_minor": 2
}
