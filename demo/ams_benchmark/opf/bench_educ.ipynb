{
 "cells": [
  {
   "cell_type": "markdown",
   "metadata": {},
   "source": [
    "# Benchmark EDUC\n",
    "\n",
    "This notebook aims to benchmark the economic dispatch and unit commitment problem."
   ]
  },
  {
   "cell_type": "code",
   "execution_count": 1,
   "metadata": {},
   "outputs": [
    {
     "name": "stderr",
     "output_type": "stream",
     "text": [
      "Last run time: 2024-11-09 23:36:24\n",
      "Python: 3.10.0 | packaged by conda-forge | (default, Nov 20 2021, 02:27:15) [Clang 11.1.0 ]\n",
      "\n",
      "Tool        Version                      \n",
      "----------  -----------------------------\n",
      "ltbams      0.9.10.post153.dev0+gc73b7f8a\n",
      "andes       1.9.1.post100+g2b17faac      \n",
      "cvxpy       1.5.3                        \n",
      "gurobipy    11.0.3                       \n",
      "mosek       10.2.6                       \n",
      "piqp        0.4.2                        \n",
      "pandapower  2.14.11                      \n",
      "numba       0.60.0                       \n"
     ]
    }
   ],
   "source": [
    "import warnings\n",
    "import logging\n",
    "import ams\n",
    "import numpy as np\n",
    "import pandas as pd\n",
    "\n",
    "import ams.benchmarks as bp\n",
    "\n",
    "# Configure AMS logger\n",
    "ams.config_logger(stream_level=20)\n",
    "\n",
    "# Display tool versions\n",
    "_ = bp.get_tool_versions()\n",
    "\n",
    "ams.config_logger(stream_level=50)"
   ]
  },
  {
   "cell_type": "code",
   "execution_count": 2,
   "metadata": {},
   "outputs": [],
   "source": [
    "%matplotlib inline"
   ]
  },
  {
   "cell_type": "code",
   "execution_count": 3,
   "metadata": {},
   "outputs": [],
   "source": [
    "ams.config_logger(stream_level=50)"
   ]
  },
  {
   "cell_type": "code",
   "execution_count": 4,
   "metadata": {},
   "outputs": [],
   "source": [
    "cases = [\n",
    "    './cases/pjm5bus_uced.xlsx',\n",
    "    './cases/ieee14_uced.xlsx',\n",
    "    './cases/ieee39_uced.xlsx',\n",
    "    './cases/npcc_uced.xlsx',\n",
    "    './cases/wecc_uced.xlsx',\n",
    "]"
   ]
  },
  {
   "cell_type": "code",
   "execution_count": 5,
   "metadata": {},
   "outputs": [],
   "source": [
    "solvers=['GUROBI', 'MOSEK']"
   ]
  },
  {
   "cell_type": "code",
   "execution_count": 6,
   "metadata": {},
   "outputs": [
    {
     "name": "stdout",
     "output_type": "stream",
     "text": [
      "Set parameter Username\n",
      "Academic license - for non-commercial use only - expires 2025-09-25\n",
      "{'ams_mats': 0.0007, 'ams_parse': 0.0058, 'ams_eval': 0.0064, 'ams_final': 0.0001, 'ams_postinit': 0.0001}\n",
      "{'GUROBI': {'time': 0.0278, 'obj': 62.022999999999996}, 'MOSEK': {'time': 0.0308, 'obj': 62.0230000813157}}\n"
     ]
    }
   ],
   "source": [
    "# run individual case to ensure everything is working\n",
    "sp = ams.load(cases[0],\n",
    "              setup=True, no_output=True, default_config=True)\n",
    "pre_time, sol = bp.time_routine(sp, routine='ED', solvers=solvers)\n",
    "print(pre_time)\n",
    "print(sol)"
   ]
  },
  {
   "cell_type": "code",
   "execution_count": 7,
   "metadata": {},
   "outputs": [],
   "source": [
    "# Suppress warnings\n",
    "warnings.filterwarnings('ignore')\n",
    "# show only errors\n",
    "logging.getLogger('pandapower').setLevel(logging.ERROR)\n",
    "\n",
    "# Initialize data structures for storing results\n",
    "n_iters = 10\n",
    "n_cases = len(cases)\n",
    "\n",
    "time_data_ed = np.zeros((n_iters, n_cases, len(bp.cols_pre) + len(solvers)))\n",
    "obj_data_ed = np.zeros((n_cases, len(solvers)))\n",
    "\n",
    "time_data_uc = np.zeros((n_iters, n_cases, len(bp.cols_pre) + len(solvers)))\n",
    "obj_data_uc = np.zeros((n_cases, len(solvers)))"
   ]
  },
  {
   "cell_type": "code",
   "execution_count": 8,
   "metadata": {},
   "outputs": [
    {
     "name": "stdout",
     "output_type": "stream",
     "text": [
      "Case: ./cases/pjm5bus_uced.xlsx\n",
      "Case: ./cases/ieee14_uced.xlsx\n",
      "Case: ./cases/ieee39_uced.xlsx\n",
      "Case: ./cases/npcc_uced.xlsx\n",
      "Case: ./cases/wecc_uced.xlsx\n"
     ]
    }
   ],
   "source": [
    "# Run ED\n",
    "for n_case, case in enumerate(cases):\n",
    "    print(f'Case: {case}')\n",
    "    system = ams.load(case, setup=True, no_output=True, default_config=True)\n",
    "    for n_iter in range(n_iters):\n",
    "        pre_time, sol = bp.time_routine(system, routine='ED',\n",
    "                                        solvers=solvers,\n",
    "                                        ignore_dpp=True)\n",
    "        time_data_ed[n_iter, n_case, :len(pre_time)] = np.array([i for i in pre_time.values()])\n",
    "        time_data_ed[n_iter, n_case, len(pre_time):] = np.array([sol[solver]['time'] for solver in solvers])\n",
    "    obj = np.array([sol[solver]['obj'] for solver in solvers])\n",
    "    obj_data_ed[n_case, :] = obj"
   ]
  },
  {
   "cell_type": "code",
   "execution_count": 9,
   "metadata": {},
   "outputs": [
    {
     "name": "stdout",
     "output_type": "stream",
     "text": [
      "Case: ./cases/pjm5bus_uced.xlsx\n",
      "Case: ./cases/ieee14_uced.xlsx\n",
      "Case: ./cases/ieee39_uced.xlsx\n",
      "Case: ./cases/npcc_uced.xlsx\n",
      "Case: ./cases/wecc_uced.xlsx\n"
     ]
    }
   ],
   "source": [
    "# Run UC\n",
    "for n_case, case in enumerate(cases):\n",
    "    print(f'Case: {case}')\n",
    "    system = ams.load(case, setup=True, no_output=True, default_config=True)\n",
    "    for n_iter in range(n_iters):\n",
    "        pre_time, sol = bp.time_routine(system, routine='UC',\n",
    "                                        solvers=solvers,\n",
    "                                        ignore_dpp=True)\n",
    "        time_data_ed[n_iter, n_case, :len(pre_time)] = np.array([i for i in pre_time.values()])\n",
    "        time_data_ed[n_iter, n_case, len(pre_time):] = np.array([sol[solver]['time'] for solver in solvers])\n",
    "    obj = np.array([sol[solver]['obj'] for solver in solvers])\n",
    "    obj_data_ed[n_case, :] = obj"
   ]
  },
  {
   "cell_type": "code",
   "execution_count": 10,
   "metadata": {},
   "outputs": [],
   "source": [
    "# Process and display the results\n",
    "case_names = [case.split('/')[-1].split('.')[0] for case in cases]\n",
    "\n",
    "time_ed = pd.DataFrame(columns=bp.cols_pre + solvers, index=case_names)\n",
    "for case in case_names:\n",
    "    time_ed.loc[case] = time_data_ed[:, case_names.index(case), :].mean(axis=0)\n",
    "\n",
    "time_uc = pd.DataFrame(columns=bp.cols_pre + solvers, index=case_names)\n",
    "for case in case_names:\n",
    "    time_uc.loc[case] = time_data_uc[:, case_names.index(case), :].mean(axis=0)\n",
    "\n",
    "# scale to ms\n",
    "time_ed *= 1000 \n",
    "time_uc *= 1000"
   ]
  },
  {
   "cell_type": "code",
   "execution_count": 11,
   "metadata": {},
   "outputs": [
    {
     "data": {
      "text/html": [
       "<div>\n",
       "<style scoped>\n",
       "    .dataframe tbody tr th:only-of-type {\n",
       "        vertical-align: middle;\n",
       "    }\n",
       "\n",
       "    .dataframe tbody tr th {\n",
       "        vertical-align: top;\n",
       "    }\n",
       "\n",
       "    .dataframe thead th {\n",
       "        text-align: right;\n",
       "    }\n",
       "</style>\n",
       "<table border=\"1\" class=\"dataframe\">\n",
       "  <thead>\n",
       "    <tr style=\"text-align: right;\">\n",
       "      <th></th>\n",
       "      <th>ams_mats</th>\n",
       "      <th>ams_parse</th>\n",
       "      <th>ams_eval</th>\n",
       "      <th>ams_final</th>\n",
       "      <th>ams_postinit</th>\n",
       "      <th>GUROBI</th>\n",
       "      <th>MOSEK</th>\n",
       "    </tr>\n",
       "  </thead>\n",
       "  <tbody>\n",
       "    <tr>\n",
       "      <th>pjm5bus_uced</th>\n",
       "      <td>0.58</td>\n",
       "      <td>5.21</td>\n",
       "      <td>6.0</td>\n",
       "      <td>0.19</td>\n",
       "      <td>0.16</td>\n",
       "      <td>26.47</td>\n",
       "      <td>24.51</td>\n",
       "    </tr>\n",
       "    <tr>\n",
       "      <th>ieee14_uced</th>\n",
       "      <td>0.63</td>\n",
       "      <td>5.23</td>\n",
       "      <td>6.47</td>\n",
       "      <td>0.19</td>\n",
       "      <td>0.13</td>\n",
       "      <td>38.83</td>\n",
       "      <td>40.71</td>\n",
       "    </tr>\n",
       "    <tr>\n",
       "      <th>ieee39_uced</th>\n",
       "      <td>0.76</td>\n",
       "      <td>5.26</td>\n",
       "      <td>7.25</td>\n",
       "      <td>0.19</td>\n",
       "      <td>0.14</td>\n",
       "      <td>70.66</td>\n",
       "      <td>71.24</td>\n",
       "    </tr>\n",
       "    <tr>\n",
       "      <th>npcc_uced</th>\n",
       "      <td>1.6</td>\n",
       "      <td>5.23</td>\n",
       "      <td>16.47</td>\n",
       "      <td>0.34</td>\n",
       "      <td>0.21</td>\n",
       "      <td>353.19</td>\n",
       "      <td>338.87</td>\n",
       "    </tr>\n",
       "    <tr>\n",
       "      <th>wecc_uced</th>\n",
       "      <td>1.69</td>\n",
       "      <td>5.24</td>\n",
       "      <td>12.97</td>\n",
       "      <td>0.37</td>\n",
       "      <td>0.16</td>\n",
       "      <td>329.09</td>\n",
       "      <td>362.66</td>\n",
       "    </tr>\n",
       "  </tbody>\n",
       "</table>\n",
       "</div>"
      ],
      "text/plain": [
       "             ams_mats ams_parse ams_eval ams_final ams_postinit  GUROBI  \\\n",
       "pjm5bus_uced     0.58      5.21      6.0      0.19         0.16   26.47   \n",
       "ieee14_uced      0.63      5.23     6.47      0.19         0.13   38.83   \n",
       "ieee39_uced      0.76      5.26     7.25      0.19         0.14   70.66   \n",
       "npcc_uced         1.6      5.23    16.47      0.34         0.21  353.19   \n",
       "wecc_uced        1.69      5.24    12.97      0.37         0.16  329.09   \n",
       "\n",
       "               MOSEK  \n",
       "pjm5bus_uced   24.51  \n",
       "ieee14_uced    40.71  \n",
       "ieee39_uced    71.24  \n",
       "npcc_uced     338.87  \n",
       "wecc_uced     362.66  "
      ]
     },
     "execution_count": 11,
     "metadata": {},
     "output_type": "execute_result"
    }
   ],
   "source": [
    "time_ed"
   ]
  },
  {
   "cell_type": "code",
   "execution_count": 12,
   "metadata": {},
   "outputs": [
    {
     "data": {
      "text/html": [
       "<div>\n",
       "<style scoped>\n",
       "    .dataframe tbody tr th:only-of-type {\n",
       "        vertical-align: middle;\n",
       "    }\n",
       "\n",
       "    .dataframe tbody tr th {\n",
       "        vertical-align: top;\n",
       "    }\n",
       "\n",
       "    .dataframe thead th {\n",
       "        text-align: right;\n",
       "    }\n",
       "</style>\n",
       "<table border=\"1\" class=\"dataframe\">\n",
       "  <thead>\n",
       "    <tr style=\"text-align: right;\">\n",
       "      <th></th>\n",
       "      <th>ams_mats</th>\n",
       "      <th>ams_parse</th>\n",
       "      <th>ams_eval</th>\n",
       "      <th>ams_final</th>\n",
       "      <th>ams_postinit</th>\n",
       "      <th>GUROBI</th>\n",
       "      <th>MOSEK</th>\n",
       "    </tr>\n",
       "  </thead>\n",
       "  <tbody>\n",
       "    <tr>\n",
       "      <th>pjm5bus_uced</th>\n",
       "      <td>0.0</td>\n",
       "      <td>0.0</td>\n",
       "      <td>0.0</td>\n",
       "      <td>0.0</td>\n",
       "      <td>0.0</td>\n",
       "      <td>0.0</td>\n",
       "      <td>0.0</td>\n",
       "    </tr>\n",
       "    <tr>\n",
       "      <th>ieee14_uced</th>\n",
       "      <td>0.0</td>\n",
       "      <td>0.0</td>\n",
       "      <td>0.0</td>\n",
       "      <td>0.0</td>\n",
       "      <td>0.0</td>\n",
       "      <td>0.0</td>\n",
       "      <td>0.0</td>\n",
       "    </tr>\n",
       "    <tr>\n",
       "      <th>ieee39_uced</th>\n",
       "      <td>0.0</td>\n",
       "      <td>0.0</td>\n",
       "      <td>0.0</td>\n",
       "      <td>0.0</td>\n",
       "      <td>0.0</td>\n",
       "      <td>0.0</td>\n",
       "      <td>0.0</td>\n",
       "    </tr>\n",
       "    <tr>\n",
       "      <th>npcc_uced</th>\n",
       "      <td>0.0</td>\n",
       "      <td>0.0</td>\n",
       "      <td>0.0</td>\n",
       "      <td>0.0</td>\n",
       "      <td>0.0</td>\n",
       "      <td>0.0</td>\n",
       "      <td>0.0</td>\n",
       "    </tr>\n",
       "    <tr>\n",
       "      <th>wecc_uced</th>\n",
       "      <td>0.0</td>\n",
       "      <td>0.0</td>\n",
       "      <td>0.0</td>\n",
       "      <td>0.0</td>\n",
       "      <td>0.0</td>\n",
       "      <td>0.0</td>\n",
       "      <td>0.0</td>\n",
       "    </tr>\n",
       "  </tbody>\n",
       "</table>\n",
       "</div>"
      ],
      "text/plain": [
       "             ams_mats ams_parse ams_eval ams_final ams_postinit GUROBI MOSEK\n",
       "pjm5bus_uced      0.0       0.0      0.0       0.0          0.0    0.0   0.0\n",
       "ieee14_uced       0.0       0.0      0.0       0.0          0.0    0.0   0.0\n",
       "ieee39_uced       0.0       0.0      0.0       0.0          0.0    0.0   0.0\n",
       "npcc_uced         0.0       0.0      0.0       0.0          0.0    0.0   0.0\n",
       "wecc_uced         0.0       0.0      0.0       0.0          0.0    0.0   0.0"
      ]
     },
     "execution_count": 12,
     "metadata": {},
     "output_type": "execute_result"
    }
   ],
   "source": [
    "time_uc"
   ]
  },
  {
   "cell_type": "code",
   "execution_count": 13,
   "metadata": {},
   "outputs": [],
   "source": [
    "time_ed.to_csv('../results/results_ed.csv')\n",
    "time_uc.to_csv('../results/results_uc.csv')"
   ]
  }
 ],
 "metadata": {
  "kernelspec": {
   "display_name": "ams",
   "language": "python",
   "name": "python3"
  },
  "language_info": {
   "codemirror_mode": {
    "name": "ipython",
    "version": 3
   },
   "file_extension": ".py",
   "mimetype": "text/x-python",
   "name": "python",
   "nbconvert_exporter": "python",
   "pygments_lexer": "ipython3",
   "version": "3.10.0"
  },
  "orig_nbformat": 4,
  "vscode": {
   "interpreter": {
    "hash": "d2b3bf80176349caa68dc4a3c77bd06eaade8abc678330f7d1c813c53380e5d2"
   }
  }
 },
 "nbformat": 4,
 "nbformat_minor": 2
}
