{
 "cells": [
  {
   "cell_type": "markdown",
   "metadata": {},
   "source": [
    "# Benchmark EDUC\n",
    "\n",
    "This notebook aims to benchmark the economic dispatch and unit commitment problem."
   ]
  },
  {
   "cell_type": "code",
   "execution_count": 1,
   "metadata": {},
   "outputs": [
    {
     "name": "stderr",
     "output_type": "stream",
     "text": [
      "Last run time: 2024-11-05 18:59:12\n",
      "Python: 3.10.0 | packaged by conda-forge | (default, Nov 20 2021, 02:27:15) [Clang 11.1.0 ]\n",
      "\n",
      "Tool        Version                \n",
      "----------  -----------------------\n",
      "ltbams      0.9.10.post18+g43b7dbe3\n",
      "cvxpy       1.5.3                  \n",
      "pandapower  2.14.11                \n",
      "PYPOWER     5.1.17                 \n",
      "gurobipy    11.0.3                 \n",
      "mosek       10.2.6                 \n",
      "ecos        2.0.14                 \n",
      "scs         3.2.7                  \n",
      "piqp        0.4.2                  \n",
      "numba       0.60.0                 \n"
     ]
    }
   ],
   "source": [
    "import warnings\n",
    "import logging\n",
    "import ams\n",
    "import numpy as np\n",
    "import pandas as pd\n",
    "\n",
    "import ams.benchmarks as bp\n",
    "\n",
    "# Configure AMS logger\n",
    "ams.config_logger(stream_level=20)\n",
    "\n",
    "# Display tool versions\n",
    "_ = bp.get_tool_versions()\n",
    "\n",
    "ams.config_logger(stream_level=50)"
   ]
  },
  {
   "cell_type": "code",
   "execution_count": 2,
   "metadata": {},
   "outputs": [],
   "source": [
    "%matplotlib inline"
   ]
  },
  {
   "cell_type": "code",
   "execution_count": 3,
   "metadata": {},
   "outputs": [],
   "source": [
    "ams.config_logger(stream_level=50)"
   ]
  },
  {
   "cell_type": "code",
   "execution_count": 4,
   "metadata": {},
   "outputs": [],
   "source": [
    "cases = [\n",
    "    ams.get_case('5bus/pjm5bus_uced.xlsx'),\n",
    "    ams.get_case('ieee14/ieee14_uced.xlsx'),\n",
    "    ams.get_case('ieee39/ieee39_uced.xlsx'),\n",
    "    ams.get_case('npcc/npcc_uced.xlsx'),\n",
    "    ams.get_case('wecc/wecc_uced.xlsx'),\n",
    "]"
   ]
  },
  {
   "cell_type": "code",
   "execution_count": 5,
   "metadata": {},
   "outputs": [
    {
     "name": "stdout",
     "output_type": "stream",
     "text": [
      "Set parameter Username\n",
      "Academic license - for non-commercial use only - expires 2025-09-25\n"
     ]
    },
    {
     "name": "stderr",
     "output_type": "stream",
     "text": [
      "/Users/jinningwang/work/miniconda3/envs/ams/lib/python3.10/site-packages/pandapower/create.py:5049: FutureWarning: The behavior of DataFrame concatenation with empty or all-NA entries is deprecated. In a future version, this will no longer exclude empty or all-NA columns when determining the result dtypes. To retain the old behavior, exclude the relevant entries before the concat operation.\n",
      "  net[table] = pd.concat([net[table], dd[dd.columns[~dd.isnull().all()]]], sort=False)\n",
      "/Users/jinningwang/work/miniconda3/envs/ams/lib/python3.10/site-packages/pandapower/converter/pypower/from_ppc.py:277: FutureWarning: Setting an item of incompatible dtype is deprecated and will raise an error in a future version of pandas. Value '[]' has dtype incompatible with int64, please explicitly cast to a compatible dtype first.\n",
      "  branch_lookup.loc[~is_line, \"element\"] = idx_trafo\n"
     ]
    },
    {
     "name": "stdout",
     "output_type": "stream",
     "text": [
      "Time [0.0008, 0.0072, 0.0078, 0.0001, 0.0001, 0.0281, 0.3257, 0.0188, 0.207]\n"
     ]
    }
   ],
   "source": [
    "# run individual case to ensure everything is working\n",
    "_t, _ = bp.test_time(cases[0], routine='ED')\n",
    "print(f'Time {_t}')"
   ]
  },
  {
   "cell_type": "code",
   "execution_count": 6,
   "metadata": {},
   "outputs": [],
   "source": [
    "# Suppress warnings\n",
    "warnings.filterwarnings('ignore')\n",
    "# show only errors\n",
    "logging.getLogger('pandapower').setLevel(logging.ERROR)\n",
    "\n",
    "# Initialize data structures for storing results\n",
    "n_iters = 10\n",
    "n_cases = len(cases)\n",
    "\n",
    "time_data_ed = np.zeros((n_iters, n_cases, len(bp.cols_time)))\n",
    "obj_data_ed = np.zeros((n_cases, len(bp.cols_obj)))\n",
    "\n",
    "time_data_uc = np.zeros((n_iters, n_cases, len(bp.cols_time)))\n",
    "obj_data_uc = np.zeros((n_cases, len(bp.cols_obj)))"
   ]
  },
  {
   "cell_type": "code",
   "execution_count": 7,
   "metadata": {},
   "outputs": [
    {
     "name": "stdout",
     "output_type": "stream",
     "text": [
      "Case: /Users/jinningwang/work/ams/ams/cases/5bus/pjm5bus_uced.xlsx\n",
      "Case: /Users/jinningwang/work/ams/ams/cases/ieee14/ieee14_uced.xlsx\n",
      "Case: /Users/jinningwang/work/ams/ams/cases/ieee39/ieee39_uced.xlsx\n",
      "Case: /Users/jinningwang/work/ams/ams/cases/npcc/npcc_uced.xlsx\n",
      "Case: /Users/jinningwang/work/ams/ams/cases/wecc/wecc_uced.xlsx\n"
     ]
    }
   ],
   "source": [
    "# Run ED\n",
    "for n_case, case in enumerate(cases):\n",
    "    print(f'Case: {case}')\n",
    "    for n_iter in range(n_iters):\n",
    "        time, obj = bp.test_time(case)\n",
    "        time_data_ed[n_iter, n_case, :] = time\n",
    "    obj_data_ed[n_case, :] = obj"
   ]
  },
  {
   "cell_type": "code",
   "execution_count": 8,
   "metadata": {},
   "outputs": [
    {
     "name": "stdout",
     "output_type": "stream",
     "text": [
      "Case: /Users/jinningwang/work/ams/ams/cases/5bus/pjm5bus_uced.xlsx\n",
      "Case: /Users/jinningwang/work/ams/ams/cases/ieee14/ieee14_uced.xlsx\n",
      "Case: /Users/jinningwang/work/ams/ams/cases/ieee39/ieee39_uced.xlsx\n",
      "Case: /Users/jinningwang/work/ams/ams/cases/npcc/npcc_uced.xlsx\n",
      "Case: /Users/jinningwang/work/ams/ams/cases/wecc/wecc_uced.xlsx\n"
     ]
    }
   ],
   "source": [
    "# Run UC\n",
    "for n_case, case in enumerate(cases):\n",
    "    print(f'Case: {case}')\n",
    "    for n_iter in range(n_iters):\n",
    "        time, obj = bp.test_time(case, routine='UC')\n",
    "        time_data_uc[n_iter, n_case, :] = time\n",
    "    obj_data_uc[n_case, :] = obj"
   ]
  },
  {
   "cell_type": "code",
   "execution_count": 9,
   "metadata": {},
   "outputs": [],
   "source": [
    "# Process and display the results\n",
    "case_names = [case.split('/')[-1].split('.')[0] for case in cases]\n",
    "\n",
    "obj_ed = pd.DataFrame(obj_data_ed, columns=bp.cols_obj, index=case_names)\n",
    "\n",
    "time_ed = pd.DataFrame(columns=bp.cols_time, index=case_names)\n",
    "for case in case_names:\n",
    "    time_ed.loc[case] = time_data_ed[:, case_names.index(case), :].mean(axis=0)\n",
    "\n",
    "time_uc = pd.DataFrame(columns=bp.cols_time, index=case_names)\n",
    "for case in case_names:\n",
    "    time_uc.loc[case] = time_data_uc[:, case_names.index(case), :].mean(axis=0)\n",
    "\n",
    "# drop the PIQP and pandapower columns\n",
    "# PIQP doesn't solve UC, pandapower doesn't solve ED and UC\n",
    "time_ed = time_ed.drop(columns=['ams_piqp', 'pdp'])\n",
    "time_uc = time_uc.drop(columns=['ams_piqp', 'pdp'])\n",
    "\n",
    "# scale to ms\n",
    "time_ed *= 1000 \n",
    "time_uc *= 1000"
   ]
  },
  {
   "cell_type": "code",
   "execution_count": 10,
   "metadata": {},
   "outputs": [
    {
     "data": {
      "text/html": [
       "<div>\n",
       "<style scoped>\n",
       "    .dataframe tbody tr th:only-of-type {\n",
       "        vertical-align: middle;\n",
       "    }\n",
       "\n",
       "    .dataframe tbody tr th {\n",
       "        vertical-align: top;\n",
       "    }\n",
       "\n",
       "    .dataframe thead th {\n",
       "        text-align: right;\n",
       "    }\n",
       "</style>\n",
       "<table border=\"1\" class=\"dataframe\">\n",
       "  <thead>\n",
       "    <tr style=\"text-align: right;\">\n",
       "      <th></th>\n",
       "      <th>ams_mats</th>\n",
       "      <th>ams_parse</th>\n",
       "      <th>ams_eval</th>\n",
       "      <th>ams_final</th>\n",
       "      <th>ams_postinit</th>\n",
       "      <th>ams_grb</th>\n",
       "      <th>ams_mosek</th>\n",
       "    </tr>\n",
       "  </thead>\n",
       "  <tbody>\n",
       "    <tr>\n",
       "      <th>pjm5bus_uced</th>\n",
       "      <td>0.61</td>\n",
       "      <td>1.53</td>\n",
       "      <td>2.35</td>\n",
       "      <td>0.0</td>\n",
       "      <td>0.1</td>\n",
       "      <td>5.2</td>\n",
       "      <td>5.58</td>\n",
       "    </tr>\n",
       "    <tr>\n",
       "      <th>ieee14_uced</th>\n",
       "      <td>0.65</td>\n",
       "      <td>1.66</td>\n",
       "      <td>2.37</td>\n",
       "      <td>0.0</td>\n",
       "      <td>0.1</td>\n",
       "      <td>5.76</td>\n",
       "      <td>5.8</td>\n",
       "    </tr>\n",
       "    <tr>\n",
       "      <th>ieee39_uced</th>\n",
       "      <td>0.79</td>\n",
       "      <td>1.61</td>\n",
       "      <td>2.48</td>\n",
       "      <td>0.0</td>\n",
       "      <td>0.1</td>\n",
       "      <td>5.99</td>\n",
       "      <td>6.51</td>\n",
       "    </tr>\n",
       "    <tr>\n",
       "      <th>npcc_uced</th>\n",
       "      <td>1.5</td>\n",
       "      <td>2.36</td>\n",
       "      <td>5.61</td>\n",
       "      <td>0.0</td>\n",
       "      <td>0.1</td>\n",
       "      <td>9.72</td>\n",
       "      <td>11.03</td>\n",
       "    </tr>\n",
       "    <tr>\n",
       "      <th>wecc_uced</th>\n",
       "      <td>1.6</td>\n",
       "      <td>1.95</td>\n",
       "      <td>3.84</td>\n",
       "      <td>0.0</td>\n",
       "      <td>0.1</td>\n",
       "      <td>9.43</td>\n",
       "      <td>9.52</td>\n",
       "    </tr>\n",
       "  </tbody>\n",
       "</table>\n",
       "</div>"
      ],
      "text/plain": [
       "             ams_mats ams_parse ams_eval ams_final ams_postinit ams_grb  \\\n",
       "pjm5bus_uced     0.61      1.53     2.35       0.0          0.1     5.2   \n",
       "ieee14_uced      0.65      1.66     2.37       0.0          0.1    5.76   \n",
       "ieee39_uced      0.79      1.61     2.48       0.0          0.1    5.99   \n",
       "npcc_uced         1.5      2.36     5.61       0.0          0.1    9.72   \n",
       "wecc_uced         1.6      1.95     3.84       0.0          0.1    9.43   \n",
       "\n",
       "             ams_mosek  \n",
       "pjm5bus_uced      5.58  \n",
       "ieee14_uced        5.8  \n",
       "ieee39_uced       6.51  \n",
       "npcc_uced        11.03  \n",
       "wecc_uced         9.52  "
      ]
     },
     "execution_count": 10,
     "metadata": {},
     "output_type": "execute_result"
    }
   ],
   "source": [
    "time_ed"
   ]
  },
  {
   "cell_type": "code",
   "execution_count": 11,
   "metadata": {},
   "outputs": [
    {
     "data": {
      "text/html": [
       "<div>\n",
       "<style scoped>\n",
       "    .dataframe tbody tr th:only-of-type {\n",
       "        vertical-align: middle;\n",
       "    }\n",
       "\n",
       "    .dataframe tbody tr th {\n",
       "        vertical-align: top;\n",
       "    }\n",
       "\n",
       "    .dataframe thead th {\n",
       "        text-align: right;\n",
       "    }\n",
       "</style>\n",
       "<table border=\"1\" class=\"dataframe\">\n",
       "  <thead>\n",
       "    <tr style=\"text-align: right;\">\n",
       "      <th></th>\n",
       "      <th>ams_mats</th>\n",
       "      <th>ams_parse</th>\n",
       "      <th>ams_eval</th>\n",
       "      <th>ams_final</th>\n",
       "      <th>ams_postinit</th>\n",
       "      <th>ams_grb</th>\n",
       "      <th>ams_mosek</th>\n",
       "    </tr>\n",
       "  </thead>\n",
       "  <tbody>\n",
       "    <tr>\n",
       "      <th>pjm5bus_uced</th>\n",
       "      <td>0.57</td>\n",
       "      <td>6.45</td>\n",
       "      <td>6.12</td>\n",
       "      <td>0.1</td>\n",
       "      <td>1.35</td>\n",
       "      <td>18.96</td>\n",
       "      <td>18.63</td>\n",
       "    </tr>\n",
       "    <tr>\n",
       "      <th>ieee14_uced</th>\n",
       "      <td>0.65</td>\n",
       "      <td>6.57</td>\n",
       "      <td>6.39</td>\n",
       "      <td>0.1</td>\n",
       "      <td>1.3</td>\n",
       "      <td>24.45</td>\n",
       "      <td>22.47</td>\n",
       "    </tr>\n",
       "    <tr>\n",
       "      <th>ieee39_uced</th>\n",
       "      <td>0.73</td>\n",
       "      <td>6.86</td>\n",
       "      <td>7.15</td>\n",
       "      <td>0.1</td>\n",
       "      <td>1.3</td>\n",
       "      <td>55.85</td>\n",
       "      <td>31.89</td>\n",
       "    </tr>\n",
       "    <tr>\n",
       "      <th>npcc_uced</th>\n",
       "      <td>1.5</td>\n",
       "      <td>10.01</td>\n",
       "      <td>15.79</td>\n",
       "      <td>0.1</td>\n",
       "      <td>1.98</td>\n",
       "      <td>167.09</td>\n",
       "      <td>100.39</td>\n",
       "    </tr>\n",
       "    <tr>\n",
       "      <th>wecc_uced</th>\n",
       "      <td>1.61</td>\n",
       "      <td>9.16</td>\n",
       "      <td>12.92</td>\n",
       "      <td>0.1</td>\n",
       "      <td>1.6</td>\n",
       "      <td>349.9</td>\n",
       "      <td>362.42</td>\n",
       "    </tr>\n",
       "  </tbody>\n",
       "</table>\n",
       "</div>"
      ],
      "text/plain": [
       "             ams_mats ams_parse ams_eval ams_final ams_postinit ams_grb  \\\n",
       "pjm5bus_uced     0.57      6.45     6.12       0.1         1.35   18.96   \n",
       "ieee14_uced      0.65      6.57     6.39       0.1          1.3   24.45   \n",
       "ieee39_uced      0.73      6.86     7.15       0.1          1.3   55.85   \n",
       "npcc_uced         1.5     10.01    15.79       0.1         1.98  167.09   \n",
       "wecc_uced        1.61      9.16    12.92       0.1          1.6   349.9   \n",
       "\n",
       "             ams_mosek  \n",
       "pjm5bus_uced     18.63  \n",
       "ieee14_uced      22.47  \n",
       "ieee39_uced      31.89  \n",
       "npcc_uced       100.39  \n",
       "wecc_uced       362.42  "
      ]
     },
     "execution_count": 11,
     "metadata": {},
     "output_type": "execute_result"
    }
   ],
   "source": [
    "time_uc"
   ]
  },
  {
   "cell_type": "code",
   "execution_count": 12,
   "metadata": {},
   "outputs": [],
   "source": [
    "time_ed.to_csv('../results_ed.csv')\n",
    "time_uc.to_csv('../results_uc.csv')"
   ]
  }
 ],
 "metadata": {
  "kernelspec": {
   "display_name": "ams",
   "language": "python",
   "name": "python3"
  },
  "language_info": {
   "codemirror_mode": {
    "name": "ipython",
    "version": 3
   },
   "file_extension": ".py",
   "mimetype": "text/x-python",
   "name": "python",
   "nbconvert_exporter": "python",
   "pygments_lexer": "ipython3",
   "version": "3.10.0"
  },
  "orig_nbformat": 4,
  "vscode": {
   "interpreter": {
    "hash": "d2b3bf80176349caa68dc4a3c77bd06eaade8abc678330f7d1c813c53380e5d2"
   }
  }
 },
 "nbformat": 4,
 "nbformat_minor": 2
}
