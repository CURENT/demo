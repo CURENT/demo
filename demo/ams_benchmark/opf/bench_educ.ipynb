{
 "cells": [
  {
   "cell_type": "markdown",
   "metadata": {},
   "source": [
    "# Benchmark EDUC\n",
    "\n",
    "This notebook aims to benchmark the economic dispatch and unit commitment problem."
   ]
  },
  {
   "cell_type": "code",
   "execution_count": 1,
   "metadata": {},
   "outputs": [
    {
     "name": "stderr",
     "output_type": "stream",
     "text": [
      "Last run time: 2024-11-09 23:45:58\n",
      "Python: 3.10.0 | packaged by conda-forge | (default, Nov 20 2021, 02:27:15) [Clang 11.1.0 ]\n",
      "\n",
      "Tool        Version                      \n",
      "----------  -----------------------------\n",
      "ltbams      0.9.10.post153.dev0+gc73b7f8a\n",
      "andes       1.9.1.post100+g2b17faac      \n",
      "cvxpy       1.5.3                        \n",
      "gurobipy    11.0.3                       \n",
      "mosek       10.2.6                       \n",
      "piqp        0.4.2                        \n",
      "pandapower  2.14.11                      \n",
      "numba       0.60.0                       \n"
     ]
    }
   ],
   "source": [
    "import warnings\n",
    "import logging\n",
    "import ams\n",
    "import numpy as np\n",
    "import pandas as pd\n",
    "\n",
    "import ams.benchmarks as bp\n",
    "\n",
    "# Configure AMS logger\n",
    "ams.config_logger(stream_level=20)\n",
    "\n",
    "# Display tool versions\n",
    "_ = bp.get_tool_versions()\n",
    "\n",
    "ams.config_logger(stream_level=50)"
   ]
  },
  {
   "cell_type": "code",
   "execution_count": 2,
   "metadata": {},
   "outputs": [],
   "source": [
    "%matplotlib inline"
   ]
  },
  {
   "cell_type": "code",
   "execution_count": 3,
   "metadata": {},
   "outputs": [],
   "source": [
    "ams.config_logger(stream_level=50)"
   ]
  },
  {
   "cell_type": "code",
   "execution_count": 4,
   "metadata": {},
   "outputs": [],
   "source": [
    "cases = [\n",
    "    './cases/pjm5bus_uced.xlsx',\n",
    "    './cases/ieee14_uced.xlsx',\n",
    "    './cases/ieee39_uced.xlsx',\n",
    "    './cases/npcc_uced.xlsx',\n",
    "    './cases/wecc_uced.xlsx',\n",
    "]"
   ]
  },
  {
   "cell_type": "code",
   "execution_count": 5,
   "metadata": {},
   "outputs": [],
   "source": [
    "solvers=['GUROBI', 'MOSEK']"
   ]
  },
  {
   "cell_type": "code",
   "execution_count": 6,
   "metadata": {},
   "outputs": [
    {
     "name": "stdout",
     "output_type": "stream",
     "text": [
      "Set parameter Username\n",
      "Academic license - for non-commercial use only - expires 2025-09-25\n",
      "{'ams_mats': 0.0007, 'ams_parse': 0.0058, 'ams_eval': 0.0063, 'ams_final': 0.0001, 'ams_postinit': 0.0001}\n",
      "{'GUROBI': {'time': 0.0286, 'obj': 62.022999999999996}, 'MOSEK': {'time': 0.0308, 'obj': 62.0230000813157}}\n"
     ]
    }
   ],
   "source": [
    "# run individual case to ensure everything is working\n",
    "sp = ams.load(cases[0],\n",
    "              setup=True, no_output=True, default_config=True)\n",
    "pre_time, sol = bp.time_routine(sp, routine='ED', solvers=solvers)\n",
    "print(pre_time)\n",
    "print(sol)"
   ]
  },
  {
   "cell_type": "code",
   "execution_count": 7,
   "metadata": {},
   "outputs": [],
   "source": [
    "# Suppress warnings\n",
    "warnings.filterwarnings('ignore')\n",
    "# show only errors\n",
    "logging.getLogger('pandapower').setLevel(logging.ERROR)\n",
    "\n",
    "# Initialize data structures for storing results\n",
    "n_iters = 10\n",
    "n_cases = len(cases)\n",
    "\n",
    "time_data_ed = np.zeros((n_iters, n_cases, len(bp.cols_pre) + len(solvers)))\n",
    "obj_data_ed = np.zeros((n_cases, len(solvers)))\n",
    "\n",
    "time_data_uc = np.zeros((n_iters, n_cases, len(bp.cols_pre) + len(solvers)))\n",
    "obj_data_uc = np.zeros((n_cases, len(solvers)))"
   ]
  },
  {
   "cell_type": "code",
   "execution_count": 8,
   "metadata": {},
   "outputs": [
    {
     "name": "stdout",
     "output_type": "stream",
     "text": [
      "Case: ./cases/pjm5bus_uced.xlsx\n",
      "Case: ./cases/ieee14_uced.xlsx\n",
      "Case: ./cases/ieee39_uced.xlsx\n",
      "Case: ./cases/npcc_uced.xlsx\n",
      "Case: ./cases/wecc_uced.xlsx\n"
     ]
    }
   ],
   "source": [
    "# Run ED\n",
    "for n_case, case in enumerate(cases):\n",
    "    print(f'Case: {case}')\n",
    "    system = ams.load(case, setup=True, no_output=True, default_config=True)\n",
    "    for n_iter in range(n_iters):\n",
    "        pre_time, sol = bp.time_routine(system, routine='ED',\n",
    "                                        solvers=solvers,\n",
    "                                        ignore_dpp=True)\n",
    "        time_data_ed[n_iter, n_case, :len(pre_time)] = np.array([i for i in pre_time.values()])\n",
    "        time_data_ed[n_iter, n_case, len(pre_time):] = np.array([sol[solver]['time'] for solver in solvers])\n",
    "    obj = np.array([sol[solver]['obj'] for solver in solvers])\n",
    "    obj_data_ed[n_case, :] = obj"
   ]
  },
  {
   "cell_type": "code",
   "execution_count": 9,
   "metadata": {},
   "outputs": [
    {
     "name": "stdout",
     "output_type": "stream",
     "text": [
      "Case: ./cases/pjm5bus_uced.xlsx\n",
      "Case: ./cases/ieee14_uced.xlsx\n",
      "Case: ./cases/ieee39_uced.xlsx\n",
      "Case: ./cases/npcc_uced.xlsx\n",
      "Case: ./cases/wecc_uced.xlsx\n"
     ]
    }
   ],
   "source": [
    "# Run UC\n",
    "for n_case, case in enumerate(cases):\n",
    "    print(f'Case: {case}')\n",
    "    system = ams.load(case, setup=True, no_output=True, default_config=True)\n",
    "    for n_iter in range(n_iters):\n",
    "        pre_time, sol = bp.time_routine(system, routine='UC',\n",
    "                                        solvers=solvers,\n",
    "                                        ignore_dpp=True)\n",
    "        time_data_uc[n_iter, n_case, :len(pre_time)] = np.array([i for i in pre_time.values()])\n",
    "        time_data_uc[n_iter, n_case, len(pre_time):] = np.array([sol[solver]['time'] for solver in solvers])\n",
    "    obj = np.array([sol[solver]['obj'] for solver in solvers])\n",
    "    obj_data_uc[n_case, :] = obj"
   ]
  },
  {
   "cell_type": "code",
   "execution_count": 10,
   "metadata": {},
   "outputs": [],
   "source": [
    "# Process and display the results\n",
    "case_names = [case.split('/')[-1].split('.')[0] for case in cases]\n",
    "\n",
    "time_ed = pd.DataFrame(columns=bp.cols_pre + solvers, index=case_names)\n",
    "for case in case_names:\n",
    "    time_ed.loc[case] = time_data_ed[:, case_names.index(case), :].mean(axis=0)\n",
    "\n",
    "time_uc = pd.DataFrame(columns=bp.cols_pre + solvers, index=case_names)\n",
    "for case in case_names:\n",
    "    time_uc.loc[case] = time_data_uc[:, case_names.index(case), :].mean(axis=0)\n",
    "\n",
    "# scale to ms\n",
    "time_ed *= 1000 \n",
    "time_uc *= 1000"
   ]
  },
  {
   "cell_type": "code",
   "execution_count": 11,
   "metadata": {},
   "outputs": [
    {
     "data": {
      "text/html": [
       "<div>\n",
       "<style scoped>\n",
       "    .dataframe tbody tr th:only-of-type {\n",
       "        vertical-align: middle;\n",
       "    }\n",
       "\n",
       "    .dataframe tbody tr th {\n",
       "        vertical-align: top;\n",
       "    }\n",
       "\n",
       "    .dataframe thead th {\n",
       "        text-align: right;\n",
       "    }\n",
       "</style>\n",
       "<table border=\"1\" class=\"dataframe\">\n",
       "  <thead>\n",
       "    <tr style=\"text-align: right;\">\n",
       "      <th></th>\n",
       "      <th>ams_mats</th>\n",
       "      <th>ams_parse</th>\n",
       "      <th>ams_eval</th>\n",
       "      <th>ams_final</th>\n",
       "      <th>ams_postinit</th>\n",
       "      <th>GUROBI</th>\n",
       "      <th>MOSEK</th>\n",
       "    </tr>\n",
       "  </thead>\n",
       "  <tbody>\n",
       "    <tr>\n",
       "      <th>pjm5bus_uced</th>\n",
       "      <td>0.8</td>\n",
       "      <td>4.45</td>\n",
       "      <td>6.3</td>\n",
       "      <td>0.17</td>\n",
       "      <td>0.01</td>\n",
       "      <td>21.36</td>\n",
       "      <td>17.78</td>\n",
       "    </tr>\n",
       "    <tr>\n",
       "      <th>ieee14_uced</th>\n",
       "      <td>0.66</td>\n",
       "      <td>3.63</td>\n",
       "      <td>6.36</td>\n",
       "      <td>0.2</td>\n",
       "      <td>0.01</td>\n",
       "      <td>28.48</td>\n",
       "      <td>25.23</td>\n",
       "    </tr>\n",
       "    <tr>\n",
       "      <th>ieee39_uced</th>\n",
       "      <td>0.76</td>\n",
       "      <td>3.61</td>\n",
       "      <td>6.78</td>\n",
       "      <td>0.18</td>\n",
       "      <td>0.01</td>\n",
       "      <td>46.43</td>\n",
       "      <td>52.9</td>\n",
       "    </tr>\n",
       "    <tr>\n",
       "      <th>npcc_uced</th>\n",
       "      <td>1.51</td>\n",
       "      <td>3.64</td>\n",
       "      <td>15.69</td>\n",
       "      <td>0.42</td>\n",
       "      <td>0.01</td>\n",
       "      <td>206.73</td>\n",
       "      <td>185.16</td>\n",
       "    </tr>\n",
       "    <tr>\n",
       "      <th>wecc_uced</th>\n",
       "      <td>1.59</td>\n",
       "      <td>3.67</td>\n",
       "      <td>12.2</td>\n",
       "      <td>0.33</td>\n",
       "      <td>0.01</td>\n",
       "      <td>167.47</td>\n",
       "      <td>139.93</td>\n",
       "    </tr>\n",
       "  </tbody>\n",
       "</table>\n",
       "</div>"
      ],
      "text/plain": [
       "             ams_mats ams_parse ams_eval ams_final ams_postinit  GUROBI  \\\n",
       "pjm5bus_uced      0.8      4.45      6.3      0.17         0.01   21.36   \n",
       "ieee14_uced      0.66      3.63     6.36       0.2         0.01   28.48   \n",
       "ieee39_uced      0.76      3.61     6.78      0.18         0.01   46.43   \n",
       "npcc_uced        1.51      3.64    15.69      0.42         0.01  206.73   \n",
       "wecc_uced        1.59      3.67     12.2      0.33         0.01  167.47   \n",
       "\n",
       "               MOSEK  \n",
       "pjm5bus_uced   17.78  \n",
       "ieee14_uced    25.23  \n",
       "ieee39_uced     52.9  \n",
       "npcc_uced     185.16  \n",
       "wecc_uced     139.93  "
      ]
     },
     "execution_count": 11,
     "metadata": {},
     "output_type": "execute_result"
    }
   ],
   "source": [
    "time_ed"
   ]
  },
  {
   "cell_type": "code",
   "execution_count": 12,
   "metadata": {},
   "outputs": [
    {
     "data": {
      "text/html": [
       "<div>\n",
       "<style scoped>\n",
       "    .dataframe tbody tr th:only-of-type {\n",
       "        vertical-align: middle;\n",
       "    }\n",
       "\n",
       "    .dataframe tbody tr th {\n",
       "        vertical-align: top;\n",
       "    }\n",
       "\n",
       "    .dataframe thead th {\n",
       "        text-align: right;\n",
       "    }\n",
       "</style>\n",
       "<table border=\"1\" class=\"dataframe\">\n",
       "  <thead>\n",
       "    <tr style=\"text-align: right;\">\n",
       "      <th></th>\n",
       "      <th>ams_mats</th>\n",
       "      <th>ams_parse</th>\n",
       "      <th>ams_eval</th>\n",
       "      <th>ams_final</th>\n",
       "      <th>ams_postinit</th>\n",
       "      <th>GUROBI</th>\n",
       "      <th>MOSEK</th>\n",
       "    </tr>\n",
       "  </thead>\n",
       "  <tbody>\n",
       "    <tr>\n",
       "      <th>pjm5bus_uced</th>\n",
       "      <td>0.53</td>\n",
       "      <td>5.05</td>\n",
       "      <td>5.84</td>\n",
       "      <td>0.19</td>\n",
       "      <td>0.16</td>\n",
       "      <td>27.97</td>\n",
       "      <td>23.9</td>\n",
       "    </tr>\n",
       "    <tr>\n",
       "      <th>ieee14_uced</th>\n",
       "      <td>0.63</td>\n",
       "      <td>5.06</td>\n",
       "      <td>6.26</td>\n",
       "      <td>0.19</td>\n",
       "      <td>0.13</td>\n",
       "      <td>36.41</td>\n",
       "      <td>40.31</td>\n",
       "    </tr>\n",
       "    <tr>\n",
       "      <th>ieee39_uced</th>\n",
       "      <td>0.72</td>\n",
       "      <td>5.05</td>\n",
       "      <td>6.84</td>\n",
       "      <td>0.19</td>\n",
       "      <td>0.13</td>\n",
       "      <td>69.11</td>\n",
       "      <td>70.38</td>\n",
       "    </tr>\n",
       "    <tr>\n",
       "      <th>npcc_uced</th>\n",
       "      <td>1.45</td>\n",
       "      <td>5.17</td>\n",
       "      <td>15.64</td>\n",
       "      <td>0.41</td>\n",
       "      <td>0.19</td>\n",
       "      <td>344.94</td>\n",
       "      <td>325.89</td>\n",
       "    </tr>\n",
       "    <tr>\n",
       "      <th>wecc_uced</th>\n",
       "      <td>1.6</td>\n",
       "      <td>5.17</td>\n",
       "      <td>12.73</td>\n",
       "      <td>0.35</td>\n",
       "      <td>0.15</td>\n",
       "      <td>320.88</td>\n",
       "      <td>346.52</td>\n",
       "    </tr>\n",
       "  </tbody>\n",
       "</table>\n",
       "</div>"
      ],
      "text/plain": [
       "             ams_mats ams_parse ams_eval ams_final ams_postinit  GUROBI  \\\n",
       "pjm5bus_uced     0.53      5.05     5.84      0.19         0.16   27.97   \n",
       "ieee14_uced      0.63      5.06     6.26      0.19         0.13   36.41   \n",
       "ieee39_uced      0.72      5.05     6.84      0.19         0.13   69.11   \n",
       "npcc_uced        1.45      5.17    15.64      0.41         0.19  344.94   \n",
       "wecc_uced         1.6      5.17    12.73      0.35         0.15  320.88   \n",
       "\n",
       "               MOSEK  \n",
       "pjm5bus_uced    23.9  \n",
       "ieee14_uced    40.31  \n",
       "ieee39_uced    70.38  \n",
       "npcc_uced     325.89  \n",
       "wecc_uced     346.52  "
      ]
     },
     "execution_count": 12,
     "metadata": {},
     "output_type": "execute_result"
    }
   ],
   "source": [
    "time_uc"
   ]
  },
  {
   "cell_type": "code",
   "execution_count": 13,
   "metadata": {},
   "outputs": [],
   "source": [
    "time_ed.to_csv('../results/results_ed.csv')\n",
    "time_uc.to_csv('../results/results_uc.csv')"
   ]
  }
 ],
 "metadata": {
  "kernelspec": {
   "display_name": "ams",
   "language": "python",
   "name": "python3"
  },
  "language_info": {
   "codemirror_mode": {
    "name": "ipython",
    "version": 3
   },
   "file_extension": ".py",
   "mimetype": "text/x-python",
   "name": "python",
   "nbconvert_exporter": "python",
   "pygments_lexer": "ipython3",
   "version": "3.10.0"
  },
  "orig_nbformat": 4,
  "vscode": {
   "interpreter": {
    "hash": "d2b3bf80176349caa68dc4a3c77bd06eaade8abc678330f7d1c813c53380e5d2"
   }
  }
 },
 "nbformat": 4,
 "nbformat_minor": 2
}
