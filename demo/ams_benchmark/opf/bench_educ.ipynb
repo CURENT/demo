{
 "cells": [
  {
   "cell_type": "markdown",
   "metadata": {},
   "source": [
    "# Benchmark EDUC\n",
    "\n",
    "This notebook aims to benchmark the economic dispatch and unit commitment problem."
   ]
  },
  {
   "cell_type": "code",
   "execution_count": 1,
   "metadata": {},
   "outputs": [
    {
     "name": "stderr",
     "output_type": "stream",
     "text": [
      "Last run time: 2024-11-06 11:55:47\n",
      "Python: 3.10.0 | packaged by conda-forge | (default, Nov 20 2021, 02:27:15) [Clang 11.1.0 ]\n",
      "\n",
      "Tool        Version                      \n",
      "----------  -----------------------------\n",
      "ltbams      0.9.10.post153.dev0+gc73b7f8a\n",
      "cvxpy       1.5.3                        \n",
      "pandapower  2.14.11                      \n",
      "PYPOWER     5.1.17                       \n",
      "gurobipy    11.0.3                       \n",
      "mosek       10.2.6                       \n",
      "ecos        2.0.14                       \n",
      "scs         3.2.7                        \n",
      "piqp        0.4.2                        \n",
      "numba       0.60.0                       \n"
     ]
    }
   ],
   "source": [
    "import warnings\n",
    "import logging\n",
    "import ams\n",
    "import numpy as np\n",
    "import pandas as pd\n",
    "\n",
    "import ams.benchmarks as bp\n",
    "\n",
    "# Configure AMS logger\n",
    "ams.config_logger(stream_level=20)\n",
    "\n",
    "# Display tool versions\n",
    "_ = bp.get_tool_versions()\n",
    "\n",
    "ams.config_logger(stream_level=50)"
   ]
  },
  {
   "cell_type": "code",
   "execution_count": 2,
   "metadata": {},
   "outputs": [],
   "source": [
    "%matplotlib inline"
   ]
  },
  {
   "cell_type": "code",
   "execution_count": 3,
   "metadata": {},
   "outputs": [],
   "source": [
    "ams.config_logger(stream_level=50)"
   ]
  },
  {
   "cell_type": "code",
   "execution_count": 4,
   "metadata": {},
   "outputs": [],
   "source": [
    "cases = [\n",
    "    './cases/pjm5bus_uced.xlsx',\n",
    "    './cases/ieee14_uced.xlsx',\n",
    "    './cases/ieee39_uced.xlsx',\n",
    "    './cases/npcc_uced.xlsx',\n",
    "    './cases/wecc_uced.xlsx',\n",
    "]"
   ]
  },
  {
   "cell_type": "markdown",
   "metadata": {},
   "source": [
    "*** DEBUG ***"
   ]
  },
  {
   "cell_type": "code",
   "execution_count": 5,
   "metadata": {},
   "outputs": [
    {
     "name": "stdout",
     "output_type": "stream",
     "text": [
      "Set parameter Username\n",
      "Academic license - for non-commercial use only - expires 2025-09-25\n",
      "Time [0.0007, 0.0057, 0.0061, 0.0001, 0.0001, 0.0249, 0.2706, 0.0195, 0.123]\n"
     ]
    },
    {
     "name": "stderr",
     "output_type": "stream",
     "text": [
      "/Users/jinningwang/work/miniconda3/envs/ams/lib/python3.10/site-packages/pandapower/create.py:5049: FutureWarning: The behavior of DataFrame concatenation with empty or all-NA entries is deprecated. In a future version, this will no longer exclude empty or all-NA columns when determining the result dtypes. To retain the old behavior, exclude the relevant entries before the concat operation.\n",
      "  net[table] = pd.concat([net[table], dd[dd.columns[~dd.isnull().all()]]], sort=False)\n",
      "/Users/jinningwang/work/miniconda3/envs/ams/lib/python3.10/site-packages/pandapower/converter/pypower/from_ppc.py:277: FutureWarning: Setting an item of incompatible dtype is deprecated and will raise an error in a future version of pandas. Value '[]' has dtype incompatible with int64, please explicitly cast to a compatible dtype first.\n",
      "  branch_lookup.loc[~is_line, \"element\"] = idx_trafo\n"
     ]
    }
   ],
   "source": [
    "# run individual case to ensure everything is working\n",
    "_t, _ = bp.test_time(cases[0], routine='ED')\n",
    "print(f'Time {_t}')"
   ]
  },
  {
   "cell_type": "code",
   "execution_count": 6,
   "metadata": {},
   "outputs": [],
   "source": [
    "# Suppress warnings\n",
    "warnings.filterwarnings('ignore')\n",
    "# show only errors\n",
    "logging.getLogger('pandapower').setLevel(logging.ERROR)\n",
    "\n",
    "# Initialize data structures for storing results\n",
    "n_iters = 10\n",
    "n_cases = len(cases)\n",
    "\n",
    "time_data_ed = np.zeros((n_iters, n_cases, len(bp.cols_time)))\n",
    "obj_data_ed = np.zeros((n_cases, len(bp.cols_obj)))\n",
    "\n",
    "time_data_uc = np.zeros((n_iters, n_cases, len(bp.cols_time)))\n",
    "obj_data_uc = np.zeros((n_cases, len(bp.cols_obj)))"
   ]
  },
  {
   "cell_type": "code",
   "execution_count": 7,
   "metadata": {},
   "outputs": [
    {
     "name": "stdout",
     "output_type": "stream",
     "text": [
      "Case: ./cases/pjm5bus_uced.xlsx\n",
      "Case: ./cases/ieee14_uced.xlsx\n",
      "Case: ./cases/ieee39_uced.xlsx\n",
      "Case: ./cases/npcc_uced.xlsx\n",
      "Case: ./cases/wecc_uced.xlsx\n"
     ]
    }
   ],
   "source": [
    "# Run ED\n",
    "for n_case, case in enumerate(cases):\n",
    "    print(f'Case: {case}')\n",
    "    for n_iter in range(n_iters):\n",
    "        time, obj = bp.test_time(case)\n",
    "        time_data_ed[n_iter, n_case, :] = time\n",
    "    obj_data_ed[n_case, :] = obj"
   ]
  },
  {
   "cell_type": "code",
   "execution_count": 8,
   "metadata": {},
   "outputs": [
    {
     "name": "stdout",
     "output_type": "stream",
     "text": [
      "Case: ./cases/pjm5bus_uced.xlsx\n",
      "Case: ./cases/ieee14_uced.xlsx\n",
      "Case: ./cases/ieee39_uced.xlsx\n",
      "Case: ./cases/npcc_uced.xlsx\n",
      "Case: ./cases/wecc_uced.xlsx\n"
     ]
    }
   ],
   "source": [
    "# Run UC\n",
    "for n_case, case in enumerate(cases):\n",
    "    print(f'Case: {case}')\n",
    "    for n_iter in range(n_iters):\n",
    "        time, obj = bp.test_time(case, routine='UC')\n",
    "        time_data_uc[n_iter, n_case, :] = time\n",
    "    obj_data_uc[n_case, :] = obj"
   ]
  },
  {
   "cell_type": "code",
   "execution_count": 9,
   "metadata": {},
   "outputs": [],
   "source": [
    "# Process and display the results\n",
    "case_names = [case.split('/')[-1].split('.')[0] for case in cases]\n",
    "\n",
    "obj_ed = pd.DataFrame(obj_data_ed, columns=bp.cols_obj, index=case_names)\n",
    "\n",
    "time_ed = pd.DataFrame(columns=bp.cols_time, index=case_names)\n",
    "for case in case_names:\n",
    "    time_ed.loc[case] = time_data_ed[:, case_names.index(case), :].mean(axis=0)\n",
    "\n",
    "time_uc = pd.DataFrame(columns=bp.cols_time, index=case_names)\n",
    "for case in case_names:\n",
    "    time_uc.loc[case] = time_data_uc[:, case_names.index(case), :].mean(axis=0)\n",
    "\n",
    "# drop the PIQP and pandapower columns\n",
    "# PIQP doesn't solve UC, pandapower doesn't solve ED and UC\n",
    "time_ed = time_ed.drop(columns=['ams_piqp', 'pdp'])\n",
    "time_uc = time_uc.drop(columns=['ams_piqp', 'pdp'])\n",
    "\n",
    "# scale to ms\n",
    "time_ed *= 1000 \n",
    "time_uc *= 1000"
   ]
  },
  {
   "cell_type": "code",
   "execution_count": 10,
   "metadata": {},
   "outputs": [
    {
     "data": {
      "text/html": [
       "<div>\n",
       "<style scoped>\n",
       "    .dataframe tbody tr th:only-of-type {\n",
       "        vertical-align: middle;\n",
       "    }\n",
       "\n",
       "    .dataframe tbody tr th {\n",
       "        vertical-align: top;\n",
       "    }\n",
       "\n",
       "    .dataframe thead th {\n",
       "        text-align: right;\n",
       "    }\n",
       "</style>\n",
       "<table border=\"1\" class=\"dataframe\">\n",
       "  <thead>\n",
       "    <tr style=\"text-align: right;\">\n",
       "      <th></th>\n",
       "      <th>ams_mats</th>\n",
       "      <th>ams_parse</th>\n",
       "      <th>ams_eval</th>\n",
       "      <th>ams_final</th>\n",
       "      <th>ams_postinit</th>\n",
       "      <th>ams_grb</th>\n",
       "      <th>ams_mosek</th>\n",
       "    </tr>\n",
       "  </thead>\n",
       "  <tbody>\n",
       "    <tr>\n",
       "      <th>pjm5bus_uced</th>\n",
       "      <td>0.58</td>\n",
       "      <td>1.41</td>\n",
       "      <td>2.23</td>\n",
       "      <td>0.0</td>\n",
       "      <td>0.1</td>\n",
       "      <td>5.01</td>\n",
       "      <td>5.29</td>\n",
       "    </tr>\n",
       "    <tr>\n",
       "      <th>ieee14_uced</th>\n",
       "      <td>0.67</td>\n",
       "      <td>1.4</td>\n",
       "      <td>2.31</td>\n",
       "      <td>0.0</td>\n",
       "      <td>0.1</td>\n",
       "      <td>5.6</td>\n",
       "      <td>5.91</td>\n",
       "    </tr>\n",
       "    <tr>\n",
       "      <th>ieee39_uced</th>\n",
       "      <td>0.72</td>\n",
       "      <td>1.4</td>\n",
       "      <td>2.42</td>\n",
       "      <td>0.0</td>\n",
       "      <td>0.1</td>\n",
       "      <td>5.92</td>\n",
       "      <td>6.35</td>\n",
       "    </tr>\n",
       "    <tr>\n",
       "      <th>npcc_uced</th>\n",
       "      <td>1.92</td>\n",
       "      <td>1.41</td>\n",
       "      <td>5.54</td>\n",
       "      <td>0.0</td>\n",
       "      <td>0.1</td>\n",
       "      <td>9.47</td>\n",
       "      <td>10.64</td>\n",
       "    </tr>\n",
       "    <tr>\n",
       "      <th>wecc_uced</th>\n",
       "      <td>1.63</td>\n",
       "      <td>1.44</td>\n",
       "      <td>3.85</td>\n",
       "      <td>0.0</td>\n",
       "      <td>0.1</td>\n",
       "      <td>9.45</td>\n",
       "      <td>9.45</td>\n",
       "    </tr>\n",
       "  </tbody>\n",
       "</table>\n",
       "</div>"
      ],
      "text/plain": [
       "             ams_mats ams_parse ams_eval ams_final ams_postinit ams_grb  \\\n",
       "pjm5bus_uced     0.58      1.41     2.23       0.0          0.1    5.01   \n",
       "ieee14_uced      0.67       1.4     2.31       0.0          0.1     5.6   \n",
       "ieee39_uced      0.72       1.4     2.42       0.0          0.1    5.92   \n",
       "npcc_uced        1.92      1.41     5.54       0.0          0.1    9.47   \n",
       "wecc_uced        1.63      1.44     3.85       0.0          0.1    9.45   \n",
       "\n",
       "             ams_mosek  \n",
       "pjm5bus_uced      5.29  \n",
       "ieee14_uced       5.91  \n",
       "ieee39_uced       6.35  \n",
       "npcc_uced        10.64  \n",
       "wecc_uced         9.45  "
      ]
     },
     "execution_count": 10,
     "metadata": {},
     "output_type": "execute_result"
    }
   ],
   "source": [
    "time_ed"
   ]
  },
  {
   "cell_type": "code",
   "execution_count": 11,
   "metadata": {},
   "outputs": [
    {
     "data": {
      "text/html": [
       "<div>\n",
       "<style scoped>\n",
       "    .dataframe tbody tr th:only-of-type {\n",
       "        vertical-align: middle;\n",
       "    }\n",
       "\n",
       "    .dataframe tbody tr th {\n",
       "        vertical-align: top;\n",
       "    }\n",
       "\n",
       "    .dataframe thead th {\n",
       "        text-align: right;\n",
       "    }\n",
       "</style>\n",
       "<table border=\"1\" class=\"dataframe\">\n",
       "  <thead>\n",
       "    <tr style=\"text-align: right;\">\n",
       "      <th></th>\n",
       "      <th>ams_mats</th>\n",
       "      <th>ams_parse</th>\n",
       "      <th>ams_eval</th>\n",
       "      <th>ams_final</th>\n",
       "      <th>ams_postinit</th>\n",
       "      <th>ams_grb</th>\n",
       "      <th>ams_mosek</th>\n",
       "    </tr>\n",
       "  </thead>\n",
       "  <tbody>\n",
       "    <tr>\n",
       "      <th>pjm5bus_uced</th>\n",
       "      <td>0.6</td>\n",
       "      <td>5.69</td>\n",
       "      <td>6.17</td>\n",
       "      <td>0.1</td>\n",
       "      <td>1.32</td>\n",
       "      <td>19.07</td>\n",
       "      <td>18.38</td>\n",
       "    </tr>\n",
       "    <tr>\n",
       "      <th>ieee14_uced</th>\n",
       "      <td>0.62</td>\n",
       "      <td>5.61</td>\n",
       "      <td>6.41</td>\n",
       "      <td>0.1</td>\n",
       "      <td>1.24</td>\n",
       "      <td>24.49</td>\n",
       "      <td>22.27</td>\n",
       "    </tr>\n",
       "    <tr>\n",
       "      <th>ieee39_uced</th>\n",
       "      <td>0.73</td>\n",
       "      <td>5.65</td>\n",
       "      <td>7.23</td>\n",
       "      <td>0.1</td>\n",
       "      <td>1.28</td>\n",
       "      <td>55.42</td>\n",
       "      <td>31.35</td>\n",
       "    </tr>\n",
       "    <tr>\n",
       "      <th>npcc_uced</th>\n",
       "      <td>1.5</td>\n",
       "      <td>5.66</td>\n",
       "      <td>15.9</td>\n",
       "      <td>0.1</td>\n",
       "      <td>1.92</td>\n",
       "      <td>167.94</td>\n",
       "      <td>99.19</td>\n",
       "    </tr>\n",
       "    <tr>\n",
       "      <th>wecc_uced</th>\n",
       "      <td>1.65</td>\n",
       "      <td>5.64</td>\n",
       "      <td>12.88</td>\n",
       "      <td>0.1</td>\n",
       "      <td>1.56</td>\n",
       "      <td>340.07</td>\n",
       "      <td>352.71</td>\n",
       "    </tr>\n",
       "  </tbody>\n",
       "</table>\n",
       "</div>"
      ],
      "text/plain": [
       "             ams_mats ams_parse ams_eval ams_final ams_postinit ams_grb  \\\n",
       "pjm5bus_uced      0.6      5.69     6.17       0.1         1.32   19.07   \n",
       "ieee14_uced      0.62      5.61     6.41       0.1         1.24   24.49   \n",
       "ieee39_uced      0.73      5.65     7.23       0.1         1.28   55.42   \n",
       "npcc_uced         1.5      5.66     15.9       0.1         1.92  167.94   \n",
       "wecc_uced        1.65      5.64    12.88       0.1         1.56  340.07   \n",
       "\n",
       "             ams_mosek  \n",
       "pjm5bus_uced     18.38  \n",
       "ieee14_uced      22.27  \n",
       "ieee39_uced      31.35  \n",
       "npcc_uced        99.19  \n",
       "wecc_uced       352.71  "
      ]
     },
     "execution_count": 11,
     "metadata": {},
     "output_type": "execute_result"
    }
   ],
   "source": [
    "time_uc"
   ]
  },
  {
   "cell_type": "code",
   "execution_count": null,
   "metadata": {},
   "outputs": [],
   "source": [
    "time_ed.to_csv('../results/results_ed.csv')\n",
    "time_uc.to_csv('../results/results_uc.csv')"
   ]
  }
 ],
 "metadata": {
  "kernelspec": {
   "display_name": "ams",
   "language": "python",
   "name": "python3"
  },
  "language_info": {
   "codemirror_mode": {
    "name": "ipython",
    "version": 3
   },
   "file_extension": ".py",
   "mimetype": "text/x-python",
   "name": "python",
   "nbconvert_exporter": "python",
   "pygments_lexer": "ipython3",
   "version": "3.10.0"
  },
  "orig_nbformat": 4,
  "vscode": {
   "interpreter": {
    "hash": "d2b3bf80176349caa68dc4a3c77bd06eaade8abc678330f7d1c813c53380e5d2"
   }
  }
 },
 "nbformat": 4,
 "nbformat_minor": 2
}
