{
 "cells": [
  {
   "cell_type": "markdown",
   "metadata": {},
   "source": [
    "# Benchmark EDUC\n",
    "\n",
    "This notebook aims to benchmark the economic dispatch and unit commitment problem."
   ]
  },
  {
   "cell_type": "code",
   "execution_count": 1,
   "metadata": {},
   "outputs": [
    {
     "name": "stdout",
     "output_type": "stream",
     "text": [
      "Last run time: 2025-02-02 00:25:51\n",
      "Python: 3.12.0 | packaged by conda-forge | (main, Oct  3 2023, 08:36:57) [Clang 15.0.7 ]\n",
      "\n",
      "Tool        Version\n",
      "----------  ------\n",
      "ltbams      1.0.2 \n",
      "andes       1.9.3 \n",
      "cvxpy       1.6.0 \n",
      "gurobipy    12.0.1\n",
      "mosek       11.0.5\n",
      "piqp        0.4.2 \n",
      "pandapower  2.14.7\n",
      "numba       0.60.0\n"
     ]
    }
   ],
   "source": [
    "import warnings\n",
    "import logging\n",
    "import ams\n",
    "import numpy as np\n",
    "import pandas as pd\n",
    "\n",
    "ams.config_logger(stream_level=50)\n",
    "\n",
    "%run ../benchmarks.py\n",
    "_ = get_tool_versions()"
   ]
  },
  {
   "cell_type": "code",
   "execution_count": 2,
   "metadata": {},
   "outputs": [],
   "source": [
    "ams.config_logger(stream_level=50)"
   ]
  },
  {
   "cell_type": "code",
   "execution_count": 3,
   "metadata": {},
   "outputs": [],
   "source": [
    "cases = [\n",
    "    './cases/pjm5bus_uced.xlsx',\n",
    "    './cases/ieee14_uced.xlsx',\n",
    "    './cases/ieee39_uced.xlsx',\n",
    "    './cases/npcc_uced.xlsx',\n",
    "    './cases/wecc_uced.xlsx',\n",
    "]"
   ]
  },
  {
   "cell_type": "code",
   "execution_count": 4,
   "metadata": {},
   "outputs": [],
   "source": [
    "solvers=['GUROBI', 'MOSEK']"
   ]
  },
  {
   "cell_type": "code",
   "execution_count": 5,
   "metadata": {},
   "outputs": [
    {
     "name": "stdout",
     "output_type": "stream",
     "text": [
      "Set parameter Username\n",
      "Set parameter LicenseID to value 2617183\n",
      "Academic license - for non-commercial use only - expires 2026-02-02\n",
      "{'ams_mats': 0.0006, 'ams_parse': 0.0055, 'ams_eval': 0.0061, 'ams_final': 0.0001, 'ams_postinit': 0.0}\n",
      "{'GUROBI': {'time': 0.0295, 'obj': np.float64(62.022999999999996)}, 'MOSEK': {'time': 0.0477, 'obj': np.float64(62.023000001038014)}}\n"
     ]
    },
    {
     "name": "stderr",
     "output_type": "stream",
     "text": [
      "/Users/jinningwang/work/miniconda3/envs/amsre/lib/python3.12/site-packages/mosek/__init__.py:18617: UserWarning: Argument sub in putvarboundlist: Incorrect array format causing data to be copied\n",
      "  warnings.warn(\"Argument sub in putvarboundlist: Incorrect array format causing data to be copied\");\n",
      "/Users/jinningwang/work/miniconda3/envs/amsre/lib/python3.12/site-packages/mosek/__init__.py:18925: UserWarning: Argument subj in putclist: Incorrect array format causing data to be copied\n",
      "  warnings.warn(\"Argument subj in putclist: Incorrect array format causing data to be copied\");\n",
      "/Users/jinningwang/work/miniconda3/envs/amsre/lib/python3.12/site-packages/mosek/__init__.py:18349: UserWarning: Argument sub in putconboundlist: Incorrect array format causing data to be copied\n",
      "  warnings.warn(\"Argument sub in putconboundlist: Incorrect array format causing data to be copied\");\n"
     ]
    }
   ],
   "source": [
    "# run individual case to ensure everything is working\n",
    "sp = ams.load(cases[0],\n",
    "              setup=True, no_output=True, default_config=True)\n",
    "pre_time, sol = time_routine(sp, routine='ED', solvers=solvers)\n",
    "print(pre_time)\n",
    "print(sol)"
   ]
  },
  {
   "cell_type": "code",
   "execution_count": 6,
   "metadata": {},
   "outputs": [],
   "source": [
    "# Suppress warnings\n",
    "warnings.filterwarnings('ignore')\n",
    "# show only errors\n",
    "logging.getLogger('pandapower').setLevel(logging.ERROR)\n",
    "\n",
    "# Initialize data structures for storing results\n",
    "n_iters = 10\n",
    "n_cases = len(cases)\n",
    "\n",
    "time_data_ed = np.zeros((n_iters, n_cases, len(cols_pre) + len(solvers)))\n",
    "obj_data_ed = np.zeros((n_cases, len(solvers)))\n",
    "\n",
    "time_data_uc = np.zeros((n_iters, n_cases, len(cols_pre) + len(solvers)))\n",
    "obj_data_uc = np.zeros((n_cases, len(solvers)))"
   ]
  },
  {
   "cell_type": "code",
   "execution_count": 7,
   "metadata": {},
   "outputs": [
    {
     "name": "stdout",
     "output_type": "stream",
     "text": [
      "Case: ./cases/pjm5bus_uced.xlsx\n",
      "Case: ./cases/ieee14_uced.xlsx\n",
      "Case: ./cases/ieee39_uced.xlsx\n",
      "Case: ./cases/npcc_uced.xlsx\n",
      "Case: ./cases/wecc_uced.xlsx\n"
     ]
    }
   ],
   "source": [
    "# Run ED\n",
    "for n_case, case in enumerate(cases):\n",
    "    print(f'Case: {case}')\n",
    "    system = ams.load(case, setup=True, no_output=True, default_config=True)\n",
    "    for n_iter in range(n_iters):\n",
    "        pre_time, sol = time_routine(system, routine='ED',\n",
    "                                     solvers=solvers,\n",
    "                                     ignore_dpp=True)\n",
    "        time_data_ed[n_iter, n_case, :len(pre_time)] = np.array(\n",
    "            [i for i in pre_time.values()])\n",
    "        time_data_ed[n_iter, n_case, len(pre_time):] = np.array(\n",
    "            [sol[solver]['time'] for solver in solvers])\n",
    "    obj = np.array([sol[solver]['obj'] for solver in solvers])\n",
    "    obj_data_ed[n_case, :] = obj"
   ]
  },
  {
   "cell_type": "code",
   "execution_count": 8,
   "metadata": {},
   "outputs": [
    {
     "name": "stdout",
     "output_type": "stream",
     "text": [
      "Case: ./cases/pjm5bus_uced.xlsx\n",
      "Case: ./cases/ieee14_uced.xlsx\n",
      "Case: ./cases/ieee39_uced.xlsx\n",
      "Case: ./cases/npcc_uced.xlsx\n",
      "Case: ./cases/wecc_uced.xlsx\n"
     ]
    }
   ],
   "source": [
    "# Run UC\n",
    "for n_case, case in enumerate(cases):\n",
    "    print(f'Case: {case}')\n",
    "    system = ams.load(case, setup=True, no_output=True, default_config=True)\n",
    "    for n_iter in range(n_iters):\n",
    "        pre_time, sol = time_routine(system, routine='UC',\n",
    "                                     solvers=solvers,\n",
    "                                     ignore_dpp=True)\n",
    "        time_data_uc[n_iter, n_case, :len(pre_time)] = np.array(\n",
    "            [i for i in pre_time.values()])\n",
    "        time_data_uc[n_iter, n_case, len(pre_time):] = np.array(\n",
    "            [sol[solver]['time'] for solver in solvers])\n",
    "    obj = np.array([sol[solver]['obj'] for solver in solvers])\n",
    "    obj_data_uc[n_case, :] = obj"
   ]
  },
  {
   "cell_type": "code",
   "execution_count": 9,
   "metadata": {},
   "outputs": [],
   "source": [
    "# Process and display the results\n",
    "case_names = [case.split('/')[-1].split('.')[0] for case in cases]\n",
    "\n",
    "time_ed = pd.DataFrame(columns=cols_pre + solvers, index=case_names)\n",
    "for case in case_names:\n",
    "    time_ed.loc[case] = time_data_ed[:, case_names.index(case), :].mean(axis=0)\n",
    "\n",
    "time_uc = pd.DataFrame(columns=cols_pre + solvers, index=case_names)\n",
    "for case in case_names:\n",
    "    time_uc.loc[case] = time_data_uc[:, case_names.index(case), :].mean(axis=0)\n",
    "\n",
    "# scale to ms\n",
    "time_ed *= 1000\n",
    "time_uc *= 1000"
   ]
  },
  {
   "cell_type": "code",
   "execution_count": 10,
   "metadata": {},
   "outputs": [
    {
     "data": {
      "text/html": [
       "<div>\n",
       "<style scoped>\n",
       "    .dataframe tbody tr th:only-of-type {\n",
       "        vertical-align: middle;\n",
       "    }\n",
       "\n",
       "    .dataframe tbody tr th {\n",
       "        vertical-align: top;\n",
       "    }\n",
       "\n",
       "    .dataframe thead th {\n",
       "        text-align: right;\n",
       "    }\n",
       "</style>\n",
       "<table border=\"1\" class=\"dataframe\">\n",
       "  <thead>\n",
       "    <tr style=\"text-align: right;\">\n",
       "      <th></th>\n",
       "      <th>ams_mats</th>\n",
       "      <th>ams_parse</th>\n",
       "      <th>ams_eval</th>\n",
       "      <th>ams_final</th>\n",
       "      <th>ams_postinit</th>\n",
       "      <th>GUROBI</th>\n",
       "      <th>MOSEK</th>\n",
       "    </tr>\n",
       "  </thead>\n",
       "  <tbody>\n",
       "    <tr>\n",
       "      <th>pjm5bus_uced</th>\n",
       "      <td>0.5</td>\n",
       "      <td>3.34</td>\n",
       "      <td>5.26</td>\n",
       "      <td>0.18</td>\n",
       "      <td>0.0</td>\n",
       "      <td>19.91</td>\n",
       "      <td>16.14</td>\n",
       "    </tr>\n",
       "    <tr>\n",
       "      <th>ieee14_uced</th>\n",
       "      <td>0.6</td>\n",
       "      <td>3.38</td>\n",
       "      <td>5.25</td>\n",
       "      <td>0.18</td>\n",
       "      <td>0.0</td>\n",
       "      <td>26.29</td>\n",
       "      <td>24.41</td>\n",
       "    </tr>\n",
       "    <tr>\n",
       "      <th>ieee39_uced</th>\n",
       "      <td>0.7</td>\n",
       "      <td>3.4</td>\n",
       "      <td>5.78</td>\n",
       "      <td>0.18</td>\n",
       "      <td>0.0</td>\n",
       "      <td>37.98</td>\n",
       "      <td>44.76</td>\n",
       "    </tr>\n",
       "    <tr>\n",
       "      <th>npcc_uced</th>\n",
       "      <td>1.32</td>\n",
       "      <td>3.47</td>\n",
       "      <td>13.94</td>\n",
       "      <td>0.44</td>\n",
       "      <td>0.0</td>\n",
       "      <td>208.07</td>\n",
       "      <td>191.46</td>\n",
       "    </tr>\n",
       "    <tr>\n",
       "      <th>wecc_uced</th>\n",
       "      <td>1.4</td>\n",
       "      <td>3.41</td>\n",
       "      <td>14.23</td>\n",
       "      <td>0.35</td>\n",
       "      <td>0.0</td>\n",
       "      <td>140.49</td>\n",
       "      <td>151.25</td>\n",
       "    </tr>\n",
       "  </tbody>\n",
       "</table>\n",
       "</div>"
      ],
      "text/plain": [
       "             ams_mats ams_parse ams_eval ams_final ams_postinit  GUROBI  \\\n",
       "pjm5bus_uced      0.5      3.34     5.26      0.18          0.0   19.91   \n",
       "ieee14_uced       0.6      3.38     5.25      0.18          0.0   26.29   \n",
       "ieee39_uced       0.7       3.4     5.78      0.18          0.0   37.98   \n",
       "npcc_uced        1.32      3.47    13.94      0.44          0.0  208.07   \n",
       "wecc_uced         1.4      3.41    14.23      0.35          0.0  140.49   \n",
       "\n",
       "               MOSEK  \n",
       "pjm5bus_uced   16.14  \n",
       "ieee14_uced    24.41  \n",
       "ieee39_uced    44.76  \n",
       "npcc_uced     191.46  \n",
       "wecc_uced     151.25  "
      ]
     },
     "execution_count": 10,
     "metadata": {},
     "output_type": "execute_result"
    }
   ],
   "source": [
    "time_ed"
   ]
  },
  {
   "cell_type": "code",
   "execution_count": 11,
   "metadata": {},
   "outputs": [
    {
     "data": {
      "text/html": [
       "<div>\n",
       "<style scoped>\n",
       "    .dataframe tbody tr th:only-of-type {\n",
       "        vertical-align: middle;\n",
       "    }\n",
       "\n",
       "    .dataframe tbody tr th {\n",
       "        vertical-align: top;\n",
       "    }\n",
       "\n",
       "    .dataframe thead th {\n",
       "        text-align: right;\n",
       "    }\n",
       "</style>\n",
       "<table border=\"1\" class=\"dataframe\">\n",
       "  <thead>\n",
       "    <tr style=\"text-align: right;\">\n",
       "      <th></th>\n",
       "      <th>ams_mats</th>\n",
       "      <th>ams_parse</th>\n",
       "      <th>ams_eval</th>\n",
       "      <th>ams_final</th>\n",
       "      <th>ams_postinit</th>\n",
       "      <th>GUROBI</th>\n",
       "      <th>MOSEK</th>\n",
       "    </tr>\n",
       "  </thead>\n",
       "  <tbody>\n",
       "    <tr>\n",
       "      <th>pjm5bus_uced</th>\n",
       "      <td>0.63</td>\n",
       "      <td>5.05</td>\n",
       "      <td>5.63</td>\n",
       "      <td>0.22</td>\n",
       "      <td>0.19</td>\n",
       "      <td>27.5</td>\n",
       "      <td>61.59</td>\n",
       "    </tr>\n",
       "    <tr>\n",
       "      <th>ieee14_uced</th>\n",
       "      <td>0.61</td>\n",
       "      <td>4.9</td>\n",
       "      <td>10.83</td>\n",
       "      <td>0.2</td>\n",
       "      <td>0.12</td>\n",
       "      <td>30.16</td>\n",
       "      <td>73.96</td>\n",
       "    </tr>\n",
       "    <tr>\n",
       "      <th>ieee39_uced</th>\n",
       "      <td>0.8</td>\n",
       "      <td>4.94</td>\n",
       "      <td>6.78</td>\n",
       "      <td>0.21</td>\n",
       "      <td>0.15</td>\n",
       "      <td>58.38</td>\n",
       "      <td>111.54</td>\n",
       "    </tr>\n",
       "    <tr>\n",
       "      <th>npcc_uced</th>\n",
       "      <td>1.29</td>\n",
       "      <td>4.86</td>\n",
       "      <td>12.7</td>\n",
       "      <td>0.42</td>\n",
       "      <td>0.17</td>\n",
       "      <td>324.19</td>\n",
       "      <td>541.98</td>\n",
       "    </tr>\n",
       "    <tr>\n",
       "      <th>wecc_uced</th>\n",
       "      <td>1.42</td>\n",
       "      <td>4.8</td>\n",
       "      <td>9.69</td>\n",
       "      <td>0.36</td>\n",
       "      <td>0.13</td>\n",
       "      <td>308.03</td>\n",
       "      <td>448.3</td>\n",
       "    </tr>\n",
       "  </tbody>\n",
       "</table>\n",
       "</div>"
      ],
      "text/plain": [
       "             ams_mats ams_parse ams_eval ams_final ams_postinit  GUROBI  \\\n",
       "pjm5bus_uced     0.63      5.05     5.63      0.22         0.19    27.5   \n",
       "ieee14_uced      0.61       4.9    10.83       0.2         0.12   30.16   \n",
       "ieee39_uced       0.8      4.94     6.78      0.21         0.15   58.38   \n",
       "npcc_uced        1.29      4.86     12.7      0.42         0.17  324.19   \n",
       "wecc_uced        1.42       4.8     9.69      0.36         0.13  308.03   \n",
       "\n",
       "               MOSEK  \n",
       "pjm5bus_uced   61.59  \n",
       "ieee14_uced    73.96  \n",
       "ieee39_uced   111.54  \n",
       "npcc_uced     541.98  \n",
       "wecc_uced      448.3  "
      ]
     },
     "execution_count": 11,
     "metadata": {},
     "output_type": "execute_result"
    }
   ],
   "source": [
    "time_uc"
   ]
  },
  {
   "cell_type": "code",
   "execution_count": 12,
   "metadata": {},
   "outputs": [],
   "source": [
    "time_ed.to_csv('../results/results_ed.csv')\n",
    "time_uc.to_csv('../results/results_uc.csv')"
   ]
  }
 ],
 "metadata": {
  "kernelspec": {
   "display_name": "amsre",
   "language": "python",
   "name": "python3"
  },
  "language_info": {
   "codemirror_mode": {
    "name": "ipython",
    "version": 3
   },
   "file_extension": ".py",
   "mimetype": "text/x-python",
   "name": "python",
   "nbconvert_exporter": "python",
   "pygments_lexer": "ipython3",
   "version": "3.12.0"
  },
  "orig_nbformat": 4
 },
 "nbformat": 4,
 "nbformat_minor": 2
}
