{
 "cells": [
  {
   "cell_type": "markdown",
   "metadata": {},
   "source": [
    "# Benchmark EDUC at Large Scale\n",
    "\n",
    "This notebook aims to benchmark the economic dispatch and unit commitment problems at large scale."
   ]
  },
  {
   "cell_type": "code",
   "execution_count": 1,
   "metadata": {},
   "outputs": [
    {
     "name": "stderr",
     "output_type": "stream",
     "text": [
      "Package mosek not found.\n"
     ]
    },
    {
     "name": "stdout",
     "output_type": "stream",
     "text": [
      "Last run time: 2025-02-02 00:16:24\n",
      "Python: 3.12.0 | packaged by conda-forge | (main, Oct  3 2023, 08:36:57) [Clang 15.0.7 ]\n",
      "\n",
      "Tool        Version      \n",
      "----------  -------------\n",
      "ltbams      1.0.2        \n",
      "andes       1.9.3        \n",
      "cvxpy       1.6.0        \n",
      "gurobipy    12.0.1       \n",
      "mosek       Not installed\n",
      "piqp        0.4.2        \n",
      "pandapower  2.14.7       \n",
      "numba       0.60.0       \n"
     ]
    }
   ],
   "source": [
    "import pandas as pd\n",
    "\n",
    "import ams\n",
    "\n",
    "from andes.utils.misc import elapsed\n",
    "\n",
    "ams.config_logger(stream_level=50)\n",
    "\n",
    "%run ../benchmarks.py\n",
    "_ = get_tool_versions()"
   ]
  },
  {
   "cell_type": "code",
   "execution_count": 2,
   "metadata": {},
   "outputs": [],
   "source": [
    "def test_educ(case, routine='UC', solver='GUROBI', ignore_dpp=True, ):\n",
    "    \"\"\"\n",
    "    Test the execution time of the specified routine on the given case.\n",
    "\n",
    "    Parameters\n",
    "    ----------\n",
    "    case : str\n",
    "        The path to the case file.\n",
    "    routine : str, optional\n",
    "        The name of the routine to test. Defaults to 'DCOPF'.\n",
    "    solver : str, optional\n",
    "        The name of the solver to use. Defaults to 'GUROBI'\n",
    "    ignore_dpp : bool, optional\n",
    "        Whether to ignore DPP. Defaults to True.\n",
    "\n",
    "    Returns\n",
    "    -------\n",
    "    tuple\n",
    "        A tuple containing the list of times and the list of objective values.\n",
    "    \"\"\"\n",
    "    sp = ams.load(case, setup=True, default_config=True, no_output=True)\n",
    "\n",
    "    rtn = sp.routines[routine]\n",
    "\n",
    "    # Initialize AMS\n",
    "    # --- matrices build ---\n",
    "    t_mats, _ = elapsed()\n",
    "    sp.mats.build()\n",
    "    _, s_mats = elapsed(t_mats)\n",
    "\n",
    "    # --- code generation ---\n",
    "    t_parse, _ = elapsed()\n",
    "    rtn.om.parse()\n",
    "    _, s_parse = elapsed(t_parse)\n",
    "\n",
    "    # --- code evaluation ---\n",
    "    t_evaluate, _ = elapsed()\n",
    "    rtn.om.evaluate()\n",
    "    _, s_evaluate = elapsed(t_evaluate)\n",
    "\n",
    "    # --- problem finalization ---\n",
    "    t_finalize, _ = elapsed()\n",
    "    rtn.om.finalize()\n",
    "    _, s_finalize = elapsed(t_finalize)\n",
    "\n",
    "    # --- rest init process ---\n",
    "    t_postinit, _ = elapsed()\n",
    "    rtn.init()\n",
    "    _, s_postinit = elapsed(t_postinit)\n",
    "\n",
    "    # --- run solvers ---\n",
    "    t_ams_solve, _ = elapsed()\n",
    "    rtn.run(solver=solver, ignore_dpp=ignore_dpp)\n",
    "    _, s_ams_solve = elapsed(t_ams_solve)\n",
    "\n",
    "    time = [s_mats, s_parse, s_evaluate, s_finalize,\n",
    "            s_postinit, s_ams_solve]\n",
    "    time = [float(t.split(' ')[0]) for t in time]\n",
    "\n",
    "    return time"
   ]
  },
  {
   "cell_type": "code",
   "execution_count": 3,
   "metadata": {},
   "outputs": [
    {
     "name": "stdout",
     "output_type": "stream",
     "text": [
      "Set parameter Username\n",
      "Set parameter LicenseID to value 2617183\n",
      "Academic license - for non-commercial use only - expires 2026-02-02\n"
     ]
    },
    {
     "data": {
      "text/plain": [
       "[0.0006, 0.0049, 0.0067, 0.0001, 0.0, 0.0301]"
      ]
     },
     "execution_count": 3,
     "metadata": {},
     "output_type": "execute_result"
    }
   ],
   "source": [
    "# run a small case to ensure test is working\n",
    "_case0 = ams.get_case('ieee14/ieee14_uced.xlsx')\n",
    "test_educ(_case0, routine='ED', solver='GUROBI', ignore_dpp=True)"
   ]
  },
  {
   "cell_type": "code",
   "execution_count": 4,
   "metadata": {},
   "outputs": [],
   "source": [
    "case = '../UCCase/goc31777_uced.xlsx'\n",
    "t_ed = test_educ(case, routine='ED', solver='GUROBI', ignore_dpp=True)"
   ]
  },
  {
   "cell_type": "code",
   "execution_count": 5,
   "metadata": {},
   "outputs": [],
   "source": [
    "case = '../UCCase/goc31777_uced.xlsx'\n",
    "t_uc = test_educ(case, routine='UC', solver='GUROBI', ignore_dpp=True)"
   ]
  },
  {
   "cell_type": "code",
   "execution_count": 6,
   "metadata": {},
   "outputs": [
    {
     "data": {
      "text/html": [
       "<div>\n",
       "<style scoped>\n",
       "    .dataframe tbody tr th:only-of-type {\n",
       "        vertical-align: middle;\n",
       "    }\n",
       "\n",
       "    .dataframe tbody tr th {\n",
       "        vertical-align: top;\n",
       "    }\n",
       "\n",
       "    .dataframe thead th {\n",
       "        text-align: right;\n",
       "    }\n",
       "</style>\n",
       "<table border=\"1\" class=\"dataframe\">\n",
       "  <thead>\n",
       "    <tr style=\"text-align: right;\">\n",
       "      <th></th>\n",
       "      <th>time</th>\n",
       "      <th>UC</th>\n",
       "      <th>ED</th>\n",
       "    </tr>\n",
       "  </thead>\n",
       "  <tbody>\n",
       "    <tr>\n",
       "      <th>0</th>\n",
       "      <td>ams_mats</td>\n",
       "      <td>0.2083</td>\n",
       "      <td>0.2182</td>\n",
       "    </tr>\n",
       "    <tr>\n",
       "      <th>1</th>\n",
       "      <td>ams_parse</td>\n",
       "      <td>0.0057</td>\n",
       "      <td>0.0039</td>\n",
       "    </tr>\n",
       "    <tr>\n",
       "      <th>2</th>\n",
       "      <td>ams_eval</td>\n",
       "      <td>41.7867</td>\n",
       "      <td>52.9578</td>\n",
       "    </tr>\n",
       "    <tr>\n",
       "      <th>3</th>\n",
       "      <td>ams_final</td>\n",
       "      <td>0.0001</td>\n",
       "      <td>0.0001</td>\n",
       "    </tr>\n",
       "    <tr>\n",
       "      <th>4</th>\n",
       "      <td>ams_postinit</td>\n",
       "      <td>0.0006</td>\n",
       "      <td>0.0000</td>\n",
       "    </tr>\n",
       "    <tr>\n",
       "      <th>5</th>\n",
       "      <td>ams_solver</td>\n",
       "      <td>42.3423</td>\n",
       "      <td>21.0474</td>\n",
       "    </tr>\n",
       "  </tbody>\n",
       "</table>\n",
       "</div>"
      ],
      "text/plain": [
       "           time       UC       ED\n",
       "0      ams_mats   0.2083   0.2182\n",
       "1     ams_parse   0.0057   0.0039\n",
       "2      ams_eval  41.7867  52.9578\n",
       "3     ams_final   0.0001   0.0001\n",
       "4  ams_postinit   0.0006   0.0000\n",
       "5    ams_solver  42.3423  21.0474"
      ]
     },
     "execution_count": 6,
     "metadata": {},
     "output_type": "execute_result"
    }
   ],
   "source": [
    "# Define the column names and the results\n",
    "cols = ['ams_mats', 'ams_parse', 'ams_eval',\n",
    "        'ams_final', 'ams_postinit', 'ams_solver']\n",
    "\n",
    "# Create a DataFrame\n",
    "df = pd.DataFrame({'time': cols, 'UC': t_uc, 'ED': t_ed})\n",
    "\n",
    "df"
   ]
  },
  {
   "cell_type": "code",
   "execution_count": 7,
   "metadata": {},
   "outputs": [],
   "source": [
    "df.to_csv('../results/results_educ_large.csv')"
   ]
  }
 ],
 "metadata": {
  "kernelspec": {
   "display_name": "amsre",
   "language": "python",
   "name": "python3"
  },
  "language_info": {
   "codemirror_mode": {
    "name": "ipython",
    "version": 3
   },
   "file_extension": ".py",
   "mimetype": "text/x-python",
   "name": "python",
   "nbconvert_exporter": "python",
   "pygments_lexer": "ipython3",
   "version": "3.12.0"
  },
  "orig_nbformat": 4
 },
 "nbformat": 4,
 "nbformat_minor": 2
}
