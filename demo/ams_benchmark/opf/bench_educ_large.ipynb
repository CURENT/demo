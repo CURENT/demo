{
 "cells": [
  {
   "cell_type": "markdown",
   "metadata": {},
   "source": [
    "# Benchmark EDUC at Large Scale\n",
    "\n",
    "This notebook aims to benchmark the economic dispatch and unit commitment problems at large scale."
   ]
  },
  {
   "cell_type": "code",
   "execution_count": 1,
   "metadata": {},
   "outputs": [
    {
     "name": "stderr",
     "output_type": "stream",
     "text": [
      "Last run time: 2024-11-05 18:55:10\n",
      "Python: 3.10.0 | packaged by conda-forge | (default, Nov 20 2021, 02:27:15) [Clang 11.1.0 ]\n",
      "\n",
      "Tool        Version                \n",
      "----------  -----------------------\n",
      "ltbams      0.9.10.post18+g43b7dbe3\n",
      "cvxpy       1.5.3                  \n",
      "pandapower  2.14.11                \n",
      "PYPOWER     5.1.17                 \n",
      "gurobipy    11.0.3                 \n",
      "mosek       10.2.6                 \n",
      "ecos        2.0.14                 \n",
      "scs         3.2.7                  \n",
      "piqp        0.4.2                  \n",
      "numba       0.60.0                 \n"
     ]
    }
   ],
   "source": [
    "import pandas as pd\n",
    "\n",
    "import ams\n",
    "\n",
    "import ams.benchmarks as bp\n",
    "\n",
    "from andes.utils.misc import elapsed\n",
    "\n",
    "# Configure AMS logger\n",
    "ams.config_logger(stream_level=20)\n",
    "\n",
    "# Display tool versions\n",
    "_ = bp.get_tool_versions()\n",
    "\n",
    "ams.config_logger(stream_level=50)"
   ]
  },
  {
   "cell_type": "code",
   "execution_count": 2,
   "metadata": {},
   "outputs": [],
   "source": [
    "%matplotlib inline"
   ]
  },
  {
   "cell_type": "code",
   "execution_count": 3,
   "metadata": {},
   "outputs": [],
   "source": [
    "def test_educ(case, routine='UC', solver='GUROBI', ignore_dpp=True, ):\n",
    "    \"\"\"\n",
    "    Test the execution time of the specified routine on the given case.\n",
    "\n",
    "    Parameters\n",
    "    ----------\n",
    "    case : str\n",
    "        The path to the case file.\n",
    "    routine : str, optional\n",
    "        The name of the routine to test. Defaults to 'DCOPF'.\n",
    "    solver : str, optional\n",
    "        The name of the solver to use. Defaults to 'GUROBI'\n",
    "    ignore_dpp : bool, optional\n",
    "        Whether to ignore DPP. Defaults to True.\n",
    "\n",
    "    Returns\n",
    "    -------\n",
    "    tuple\n",
    "        A tuple containing the list of times and the list of objective values.\n",
    "    \"\"\"\n",
    "    sp = ams.load(case, setup=True, default_config=True, no_output=True)\n",
    "\n",
    "    rtn = sp.routines[routine]\n",
    "\n",
    "    # Initialize AMS\n",
    "    # --- matrices build ---\n",
    "    t_mats, _ = elapsed()\n",
    "    sp.mats.build()\n",
    "    _, s_mats = elapsed(t_mats)\n",
    "\n",
    "    # --- code generation ---\n",
    "    t_parse, _ = elapsed()\n",
    "    rtn.om.parse()\n",
    "    _, s_parse = elapsed(t_parse)\n",
    "\n",
    "    # --- code evaluation ---\n",
    "    t_evaluate, _ = elapsed()\n",
    "    rtn.om.evaluate()\n",
    "    _, s_evaluate = elapsed(t_evaluate)\n",
    "\n",
    "    # --- problem finalization ---\n",
    "    t_finalize, _ = elapsed()\n",
    "    rtn.om.finalize()\n",
    "    _, s_finalize = elapsed(t_finalize)\n",
    "\n",
    "    # --- rest init process ---\n",
    "    t_postinit, _ = elapsed()\n",
    "    rtn.init()\n",
    "    _, s_postinit = elapsed(t_postinit)\n",
    "\n",
    "    # --- run solvers ---\n",
    "    t_ams_solve, _ = elapsed()\n",
    "    rtn.run(solver=solver, ignore_dpp=ignore_dpp)\n",
    "    _, s_ams_solve = elapsed(t_ams_solve)\n",
    "\n",
    "    time = [s_mats, s_parse, s_evaluate, s_finalize,\n",
    "            s_postinit, s_ams_solve]\n",
    "    time = [float(t.split(' ')[0]) for t in time]\n",
    "\n",
    "    return time"
   ]
  },
  {
   "cell_type": "code",
   "execution_count": 4,
   "metadata": {},
   "outputs": [
    {
     "name": "stdout",
     "output_type": "stream",
     "text": [
      "Set parameter Username\n",
      "Academic license - for non-commercial use only - expires 2025-09-25\n"
     ]
    },
    {
     "data": {
      "text/plain": [
       "[0.0007, 0.0063, 0.0064, 0.0001, 0.0001, 0.0451]"
      ]
     },
     "execution_count": 4,
     "metadata": {},
     "output_type": "execute_result"
    }
   ],
   "source": [
    "# run a small case to ensure test is working\n",
    "_case0 = ams.get_case('ieee14/ieee14_uced.xlsx')\n",
    "test_educ(_case0, routine='ED', solver='GUROBI', ignore_dpp=True)"
   ]
  },
  {
   "cell_type": "code",
   "execution_count": 5,
   "metadata": {},
   "outputs": [],
   "source": [
    "case = '../UCCase/goc31777_uced.xlsx'\n",
    "t_ed = test_educ(case, routine='ED', solver='GUROBI', ignore_dpp=True)"
   ]
  },
  {
   "cell_type": "code",
   "execution_count": 6,
   "metadata": {},
   "outputs": [],
   "source": [
    "case = '../UCCase/goc31777_uced.xlsx'\n",
    "t_uc = test_educ(case, routine='UC', solver='GUROBI', ignore_dpp=True)"
   ]
  },
  {
   "cell_type": "code",
   "execution_count": 7,
   "metadata": {},
   "outputs": [
    {
     "data": {
      "text/html": [
       "<div>\n",
       "<style scoped>\n",
       "    .dataframe tbody tr th:only-of-type {\n",
       "        vertical-align: middle;\n",
       "    }\n",
       "\n",
       "    .dataframe tbody tr th {\n",
       "        vertical-align: top;\n",
       "    }\n",
       "\n",
       "    .dataframe thead th {\n",
       "        text-align: right;\n",
       "    }\n",
       "</style>\n",
       "<table border=\"1\" class=\"dataframe\">\n",
       "  <thead>\n",
       "    <tr style=\"text-align: right;\">\n",
       "      <th></th>\n",
       "      <th>time</th>\n",
       "      <th>UC</th>\n",
       "      <th>ED</th>\n",
       "    </tr>\n",
       "  </thead>\n",
       "  <tbody>\n",
       "    <tr>\n",
       "      <th>0</th>\n",
       "      <td>ams_mats</td>\n",
       "      <td>0.2223</td>\n",
       "      <td>0.2238</td>\n",
       "    </tr>\n",
       "    <tr>\n",
       "      <th>1</th>\n",
       "      <td>ams_parse</td>\n",
       "      <td>14.8685</td>\n",
       "      <td>19.6837</td>\n",
       "    </tr>\n",
       "    <tr>\n",
       "      <th>2</th>\n",
       "      <td>ams_eval</td>\n",
       "      <td>39.3289</td>\n",
       "      <td>48.6910</td>\n",
       "    </tr>\n",
       "    <tr>\n",
       "      <th>3</th>\n",
       "      <td>ams_final</td>\n",
       "      <td>0.0001</td>\n",
       "      <td>0.0001</td>\n",
       "    </tr>\n",
       "    <tr>\n",
       "      <th>4</th>\n",
       "      <td>ams_postinit</td>\n",
       "      <td>0.0007</td>\n",
       "      <td>0.0001</td>\n",
       "    </tr>\n",
       "    <tr>\n",
       "      <th>5</th>\n",
       "      <td>ams_solver</td>\n",
       "      <td>45.2441</td>\n",
       "      <td>39.0214</td>\n",
       "    </tr>\n",
       "  </tbody>\n",
       "</table>\n",
       "</div>"
      ],
      "text/plain": [
       "           time       UC       ED\n",
       "0      ams_mats   0.2223   0.2238\n",
       "1     ams_parse  14.8685  19.6837\n",
       "2      ams_eval  39.3289  48.6910\n",
       "3     ams_final   0.0001   0.0001\n",
       "4  ams_postinit   0.0007   0.0001\n",
       "5    ams_solver  45.2441  39.0214"
      ]
     },
     "execution_count": 7,
     "metadata": {},
     "output_type": "execute_result"
    }
   ],
   "source": [
    "# Define the column names and the results\n",
    "cols = ['ams_mats', 'ams_parse', 'ams_eval',\n",
    "        'ams_final', 'ams_postinit', 'ams_solver']\n",
    "\n",
    "# Create a DataFrame\n",
    "df = pd.DataFrame({'time': cols, 'UC': t_uc, 'ED': t_ed})\n",
    "\n",
    "df"
   ]
  },
  {
   "cell_type": "code",
   "execution_count": 8,
   "metadata": {},
   "outputs": [],
   "source": [
    "df.to_csv('../results_educ_large.csv')"
   ]
  }
 ],
 "metadata": {
  "kernelspec": {
   "display_name": "ams",
   "language": "python",
   "name": "python3"
  },
  "language_info": {
   "codemirror_mode": {
    "name": "ipython",
    "version": 3
   },
   "file_extension": ".py",
   "mimetype": "text/x-python",
   "name": "python",
   "nbconvert_exporter": "python",
   "pygments_lexer": "ipython3",
   "version": "3.10.0"
  },
  "orig_nbformat": 4,
  "vscode": {
   "interpreter": {
    "hash": "d2b3bf80176349caa68dc4a3c77bd06eaade8abc678330f7d1c813c53380e5d2"
   }
  }
 },
 "nbformat": 4,
 "nbformat_minor": 2
}
