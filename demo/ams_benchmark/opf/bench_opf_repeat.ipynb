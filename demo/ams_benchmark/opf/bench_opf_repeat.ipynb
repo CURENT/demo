{
 "cells": [
  {
   "cell_type": "markdown",
   "metadata": {},
   "source": [
    "# Benchmark Repeat OPF\n",
    "\n",
    "This notebook aims to benchmark the repeative optimal power flow."
   ]
  },
  {
   "cell_type": "code",
   "execution_count": 1,
   "metadata": {},
   "outputs": [
    {
     "name": "stderr",
     "output_type": "stream",
     "text": [
      "Last run time: 2024-11-09 23:34:27\n",
      "Python: 3.10.0 | packaged by conda-forge | (default, Nov 20 2021, 02:27:15) [Clang 11.1.0 ]\n",
      "\n",
      "Tool        Version                      \n",
      "----------  -----------------------------\n",
      "ltbams      0.9.10.post153.dev0+gc73b7f8a\n",
      "andes       1.9.1.post100+g2b17faac      \n",
      "cvxpy       1.5.3                        \n",
      "gurobipy    11.0.3                       \n",
      "mosek       10.2.6                       \n",
      "piqp        0.4.2                        \n",
      "pandapower  2.14.11                      \n",
      "numba       0.60.0                       \n"
     ]
    }
   ],
   "source": [
    "import warnings\n",
    "import logging\n",
    "import ams\n",
    "import numpy as np\n",
    "import pandas as pd\n",
    "\n",
    "import ams.benchmarks as bp\n",
    "\n",
    "# Configure AMS logger\n",
    "ams.config_logger(stream_level=20)\n",
    "\n",
    "# Display tool versions\n",
    "_ = bp.get_tool_versions()\n",
    "\n",
    "ams.config_logger(stream_level=50)"
   ]
  },
  {
   "cell_type": "code",
   "execution_count": 2,
   "metadata": {},
   "outputs": [],
   "source": [
    "%matplotlib inline"
   ]
  },
  {
   "cell_type": "code",
   "execution_count": 3,
   "metadata": {},
   "outputs": [],
   "source": [
    "cases_lfs = [\n",
    "    ams.get_case('5bus/pjm5bus_uced.xlsx'),\n",
    "    ams.get_case('ieee14/ieee14_uced.xlsx'),\n",
    "    ams.get_case('ieee39/ieee39_uced.xlsx'),\n",
    "    ams.get_case('npcc/npcc_uced.xlsx'),\n",
    "    ams.get_case('wecc/wecc_uced.xlsx'),\n",
    "]\n",
    "\n",
    "lfs = [ams.load(case, setup=True).EDTSlot.sd.v[:, 0] for case in cases_lfs]\n",
    "\n",
    "# store loading factor data\n",
    "lfs_data = pd.DataFrame(data=np.array(lfs).T,\n",
    "                        columns=['pglib_opf_case5_pjm', 'case14',\n",
    "                                 'case39', 'npcc', 'wecc'])\n",
    "lfs_data.to_csv('lfs_data.csv', index=False)"
   ]
  },
  {
   "cell_type": "code",
   "execution_count": 4,
   "metadata": {},
   "outputs": [],
   "source": [
    "# Suppress warnings\n",
    "warnings.filterwarnings('ignore')\n",
    "# show only errors\n",
    "logger = logging.getLogger('pandapower').setLevel(logging.ERROR)\n",
    "\n",
    "cases = [\n",
    "    './cases/case5.m',\n",
    "    './cases/case14.m',\n",
    "    './cases/case39.m',\n",
    "    './cases/npcc.m',\n",
    "    './cases/wecc.m',\n",
    "]\n",
    "\n",
    "case_names = [case.split('/')[-1].split('.')[0] for case in cases]\n",
    "\n",
    "# Initialize data structures for storing results\n",
    "n_iters = 10\n",
    "n_cases = len(cases)\n",
    "\n",
    "solvers = ['GUROBI', 'MOSEK', 'PIQP', 'pandapower']\n",
    "\n",
    "time_data = np.zeros((n_iters, n_cases, len(bp.cols_pre) + len(solvers)))\n",
    "obj_data = np.zeros((n_cases, len(solvers)))"
   ]
  },
  {
   "cell_type": "code",
   "execution_count": 5,
   "metadata": {},
   "outputs": [
    {
     "name": "stdout",
     "output_type": "stream",
     "text": [
      "Case: ./cases/case5.m\n",
      "Set parameter Username\n",
      "Academic license - for non-commercial use only - expires 2025-09-25\n",
      "Case: ./cases/case14.m\n",
      "Case: ./cases/case39.m\n",
      "Case: ./cases/npcc.m\n",
      "Case: ./cases/wecc.m\n"
     ]
    }
   ],
   "source": [
    "for n_case, (case, lf) in enumerate(zip(cases, lfs)):\n",
    "    print(f'Case: {case}')\n",
    "    system = ams.load(case, setup=True, no_output=True, default_config=True)\n",
    "\n",
    "    for n_iter in range(n_iters):\n",
    "        pre_time, sol = bp.time_dcopf_with_lf(system,\n",
    "                                              solvers=solvers,\n",
    "                                              load_factors=lf,\n",
    "                                              ignore_dpp=False)\n",
    "        time_data[n_iter, n_case, :len(pre_time)] = np.array(\n",
    "            [i for i in pre_time.values()])\n",
    "        time_data[n_iter, n_case, len(pre_time):] = np.array(\n",
    "            [sol[solver]['time'] for solver in solvers])\n",
    "\n",
    "    obj = np.array([sol[solver]['obj'] for solver in solvers])\n",
    "    obj_data[n_case, :] = obj"
   ]
  },
  {
   "cell_type": "code",
   "execution_count": 6,
   "metadata": {},
   "outputs": [],
   "source": [
    "# NOTE: results structure:\n",
    "# 1st column: iteration\n",
    "# 2nd column: cases\n",
    "# 3rd column: solvers\n",
    "\n",
    "obj_dcopf = pd.DataFrame(obj_data, columns=solvers, index=case_names)\n",
    "\n",
    "time_dcopf = pd.DataFrame(columns=bp.cols_pre+solvers, index=case_names)\n",
    "for case in case_names:\n",
    "    time_dcopf.loc[case] = time_data[:, case_names.index(case), :].mean(axis=0)\n",
    "\n",
    "time_dcopf.iloc[:, :] *= 1000        # scale to ms"
   ]
  },
  {
   "cell_type": "code",
   "execution_count": 7,
   "metadata": {},
   "outputs": [
    {
     "data": {
      "text/html": [
       "<div>\n",
       "<style scoped>\n",
       "    .dataframe tbody tr th:only-of-type {\n",
       "        vertical-align: middle;\n",
       "    }\n",
       "\n",
       "    .dataframe tbody tr th {\n",
       "        vertical-align: top;\n",
       "    }\n",
       "\n",
       "    .dataframe thead th {\n",
       "        text-align: right;\n",
       "    }\n",
       "</style>\n",
       "<table border=\"1\" class=\"dataframe\">\n",
       "  <thead>\n",
       "    <tr style=\"text-align: right;\">\n",
       "      <th></th>\n",
       "      <th>ams_mats</th>\n",
       "      <th>ams_parse</th>\n",
       "      <th>ams_eval</th>\n",
       "      <th>ams_final</th>\n",
       "      <th>ams_postinit</th>\n",
       "      <th>GUROBI</th>\n",
       "      <th>MOSEK</th>\n",
       "      <th>PIQP</th>\n",
       "      <th>pandapower</th>\n",
       "    </tr>\n",
       "  </thead>\n",
       "  <tbody>\n",
       "    <tr>\n",
       "      <th>case5</th>\n",
       "      <td>0.6</td>\n",
       "      <td>1.25</td>\n",
       "      <td>2.17</td>\n",
       "      <td>0.1</td>\n",
       "      <td>0.01</td>\n",
       "      <td>47.8</td>\n",
       "      <td>47.12</td>\n",
       "      <td>36.16</td>\n",
       "      <td>403.03</td>\n",
       "    </tr>\n",
       "    <tr>\n",
       "      <th>case14</th>\n",
       "      <td>0.67</td>\n",
       "      <td>1.21</td>\n",
       "      <td>2.14</td>\n",
       "      <td>0.09</td>\n",
       "      <td>0.01</td>\n",
       "      <td>54.92</td>\n",
       "      <td>53.85</td>\n",
       "      <td>41.17</td>\n",
       "      <td>280.8</td>\n",
       "    </tr>\n",
       "    <tr>\n",
       "      <th>case39</th>\n",
       "      <td>0.73</td>\n",
       "      <td>1.15</td>\n",
       "      <td>2.28</td>\n",
       "      <td>0.09</td>\n",
       "      <td>0.01</td>\n",
       "      <td>70.04</td>\n",
       "      <td>67.3</td>\n",
       "      <td>44.99</td>\n",
       "      <td>281.45</td>\n",
       "    </tr>\n",
       "    <tr>\n",
       "      <th>npcc</th>\n",
       "      <td>1.49</td>\n",
       "      <td>1.19</td>\n",
       "      <td>4.91</td>\n",
       "      <td>0.1</td>\n",
       "      <td>0.01</td>\n",
       "      <td>197.15</td>\n",
       "      <td>183.22</td>\n",
       "      <td>92.37</td>\n",
       "      <td>1246.63</td>\n",
       "    </tr>\n",
       "    <tr>\n",
       "      <th>wecc</th>\n",
       "      <td>1.61</td>\n",
       "      <td>1.22</td>\n",
       "      <td>3.43</td>\n",
       "      <td>0.1</td>\n",
       "      <td>0.01</td>\n",
       "      <td>196.25</td>\n",
       "      <td>154.21</td>\n",
       "      <td>96.59</td>\n",
       "      <td>884.5</td>\n",
       "    </tr>\n",
       "  </tbody>\n",
       "</table>\n",
       "</div>"
      ],
      "text/plain": [
       "       ams_mats ams_parse ams_eval ams_final ams_postinit  GUROBI   MOSEK  \\\n",
       "case5       0.6      1.25     2.17       0.1         0.01    47.8   47.12   \n",
       "case14     0.67      1.21     2.14      0.09         0.01   54.92   53.85   \n",
       "case39     0.73      1.15     2.28      0.09         0.01   70.04    67.3   \n",
       "npcc       1.49      1.19     4.91       0.1         0.01  197.15  183.22   \n",
       "wecc       1.61      1.22     3.43       0.1         0.01  196.25  154.21   \n",
       "\n",
       "         PIQP pandapower  \n",
       "case5   36.16     403.03  \n",
       "case14  41.17      280.8  \n",
       "case39  44.99     281.45  \n",
       "npcc    92.37    1246.63  \n",
       "wecc    96.59      884.5  "
      ]
     },
     "execution_count": 7,
     "metadata": {},
     "output_type": "execute_result"
    }
   ],
   "source": [
    "time_dcopf"
   ]
  },
  {
   "cell_type": "code",
   "execution_count": 8,
   "metadata": {},
   "outputs": [
    {
     "data": {
      "text/html": [
       "<div>\n",
       "<style scoped>\n",
       "    .dataframe tbody tr th:only-of-type {\n",
       "        vertical-align: middle;\n",
       "    }\n",
       "\n",
       "    .dataframe tbody tr th {\n",
       "        vertical-align: top;\n",
       "    }\n",
       "\n",
       "    .dataframe thead th {\n",
       "        text-align: right;\n",
       "    }\n",
       "</style>\n",
       "<table border=\"1\" class=\"dataframe\">\n",
       "  <thead>\n",
       "    <tr style=\"text-align: right;\">\n",
       "      <th></th>\n",
       "      <th>GUROBI</th>\n",
       "      <th>MOSEK</th>\n",
       "      <th>PIQP</th>\n",
       "      <th>pandapower</th>\n",
       "    </tr>\n",
       "  </thead>\n",
       "  <tbody>\n",
       "    <tr>\n",
       "      <th>case5</th>\n",
       "      <td>308818.76</td>\n",
       "      <td>308818.76</td>\n",
       "      <td>308818.76</td>\n",
       "      <td>308818.76</td>\n",
       "    </tr>\n",
       "    <tr>\n",
       "      <th>case14</th>\n",
       "      <td>136767.75</td>\n",
       "      <td>136767.75</td>\n",
       "      <td>136767.75</td>\n",
       "      <td>136767.75</td>\n",
       "    </tr>\n",
       "    <tr>\n",
       "      <th>case39</th>\n",
       "      <td>643403.27</td>\n",
       "      <td>643403.26</td>\n",
       "      <td>643403.27</td>\n",
       "      <td>643403.27</td>\n",
       "    </tr>\n",
       "    <tr>\n",
       "      <th>npcc</th>\n",
       "      <td>16635796.96</td>\n",
       "      <td>16635796.96</td>\n",
       "      <td>16635796.96</td>\n",
       "      <td>16634401.65</td>\n",
       "    </tr>\n",
       "    <tr>\n",
       "      <th>wecc</th>\n",
       "      <td>8621568.97</td>\n",
       "      <td>8621568.97</td>\n",
       "      <td>8621568.97</td>\n",
       "      <td>8621568.97</td>\n",
       "    </tr>\n",
       "  </tbody>\n",
       "</table>\n",
       "</div>"
      ],
      "text/plain": [
       "             GUROBI        MOSEK         PIQP   pandapower\n",
       "case5     308818.76    308818.76    308818.76    308818.76\n",
       "case14    136767.75    136767.75    136767.75    136767.75\n",
       "case39    643403.27    643403.26    643403.27    643403.27\n",
       "npcc    16635796.96  16635796.96  16635796.96  16634401.65\n",
       "wecc     8621568.97   8621568.97   8621568.97   8621568.97"
      ]
     },
     "execution_count": 8,
     "metadata": {},
     "output_type": "execute_result"
    }
   ],
   "source": [
    "obj_dcopf.round(2)"
   ]
  },
  {
   "cell_type": "code",
   "execution_count": 9,
   "metadata": {},
   "outputs": [],
   "source": [
    "obj_dcopf.to_csv('../results/results_obj_repeat.csv')\n",
    "time_dcopf.to_csv('../results/results_time_repeat.csv')"
   ]
  }
 ],
 "metadata": {
  "kernelspec": {
   "display_name": "ams",
   "language": "python",
   "name": "python3"
  },
  "language_info": {
   "codemirror_mode": {
    "name": "ipython",
    "version": 3
   },
   "file_extension": ".py",
   "mimetype": "text/x-python",
   "name": "python",
   "nbconvert_exporter": "python",
   "pygments_lexer": "ipython3",
   "version": "3.10.0"
  },
  "orig_nbformat": 4,
  "vscode": {
   "interpreter": {
    "hash": "d2b3bf80176349caa68dc4a3c77bd06eaade8abc678330f7d1c813c53380e5d2"
   }
  }
 },
 "nbformat": 4,
 "nbformat_minor": 2
}
