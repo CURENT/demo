{
 "cells": [
  {
   "cell_type": "markdown",
   "metadata": {},
   "source": [
    "# Benchmark Repeat OPF\n",
    "\n",
    "This notebook aims to benchmark the repeative optimal power flow."
   ]
  },
  {
   "cell_type": "code",
   "execution_count": 1,
   "metadata": {},
   "outputs": [
    {
     "name": "stderr",
     "output_type": "stream",
     "text": [
      "Last run time: 2024-11-06 11:52:33\n",
      "Python: 3.10.0 | packaged by conda-forge | (default, Nov 20 2021, 02:27:15) [Clang 11.1.0 ]\n",
      "\n",
      "Tool        Version                      \n",
      "----------  -----------------------------\n",
      "ltbams      0.9.10.post153.dev0+gc73b7f8a\n",
      "cvxpy       1.5.3                        \n",
      "pandapower  2.14.11                      \n",
      "PYPOWER     5.1.17                       \n",
      "gurobipy    11.0.3                       \n",
      "mosek       10.2.6                       \n",
      "ecos        2.0.14                       \n",
      "scs         3.2.7                        \n",
      "piqp        0.4.2                        \n",
      "numba       0.60.0                       \n"
     ]
    }
   ],
   "source": [
    "import warnings\n",
    "import logging\n",
    "import ams\n",
    "import numpy as np\n",
    "import pandas as pd\n",
    "\n",
    "import ams.benchmarks as bp\n",
    "\n",
    "# Configure AMS logger\n",
    "ams.config_logger(stream_level=20)\n",
    "\n",
    "# Display tool versions\n",
    "_ = bp.get_tool_versions()\n",
    "\n",
    "ams.config_logger(stream_level=50)"
   ]
  },
  {
   "cell_type": "code",
   "execution_count": 2,
   "metadata": {},
   "outputs": [],
   "source": [
    "%matplotlib inline"
   ]
  },
  {
   "cell_type": "code",
   "execution_count": 3,
   "metadata": {},
   "outputs": [],
   "source": [
    "cases_lfs = [\n",
    "    ams.get_case('5bus/pjm5bus_uced.xlsx'),\n",
    "    ams.get_case('ieee14/ieee14_uced.xlsx'),\n",
    "    ams.get_case('ieee39/ieee39_uced.xlsx'),\n",
    "    ams.get_case('npcc/npcc_uced.xlsx'),\n",
    "    ams.get_case('wecc/wecc_uced.xlsx'),\n",
    "]\n",
    "\n",
    "lfs = [ams.load(case, setup=True).EDTSlot.sd.v[:, 0] for case in cases_lfs]\n",
    "\n",
    "# store loading factor data\n",
    "lfs_data = pd.DataFrame(data=np.array(lfs).T,\n",
    "                        columns=['pglib_opf_case5_pjm', 'case14',\n",
    "                                 'case39', 'npcc', 'wecc'])\n",
    "lfs_data.to_csv('lfs_data.csv', index=False)"
   ]
  },
  {
   "cell_type": "code",
   "execution_count": 4,
   "metadata": {},
   "outputs": [],
   "source": [
    "# Suppress warnings\n",
    "warnings.filterwarnings('ignore')\n",
    "# show only errors\n",
    "logger = logging.getLogger('pandapower').setLevel(logging.ERROR)\n",
    "\n",
    "cases = [\n",
    "    './cases/case5.m',\n",
    "    './cases/case14.m',\n",
    "    './cases/case39.m',\n",
    "    './cases/npcc.m',\n",
    "    './cases/wecc.m',\n",
    "]\n",
    "\n",
    "case_names = [case.split('/')[-1].split('.')[0] for case in cases]\n",
    "\n",
    "# Initialize data structures for storing results\n",
    "n_iters = 10\n",
    "n_cases = len(cases)\n",
    "\n",
    "time_data = np.zeros((n_iters, n_cases, len(bp.cols_time)))\n",
    "obj_data = np.zeros((n_cases, len(bp.cols_obj)))"
   ]
  },
  {
   "cell_type": "code",
   "execution_count": 5,
   "metadata": {},
   "outputs": [
    {
     "name": "stdout",
     "output_type": "stream",
     "text": [
      "Case: ./cases/case5.m\n",
      "Set parameter Username\n",
      "Academic license - for non-commercial use only - expires 2025-09-25\n",
      "Case: ./cases/case14.m\n",
      "Case: ./cases/case39.m\n",
      "Case: ./cases/npcc.m\n",
      "Case: ./cases/wecc.m\n"
     ]
    }
   ],
   "source": [
    "for n_case, (case, lf) in enumerate(zip(cases, lfs)):\n",
    "    print(f'Case: {case}')\n",
    "    for n_iter in range(n_iters):\n",
    "        time, obj = bp.test_mtime(case, lf, ignore_dpp=False)\n",
    "        time_data[n_iter, n_case, :] = time\n",
    "    obj_data[n_case, :] = obj"
   ]
  },
  {
   "cell_type": "code",
   "execution_count": 6,
   "metadata": {},
   "outputs": [],
   "source": [
    "# NOTE: results structure:\n",
    "# 1st column: iteration\n",
    "# 2nd column: cases\n",
    "# 3rd column: solvers\n",
    "\n",
    "obj_dcopf = pd.DataFrame(obj_data, columns=bp.cols_obj, index=case_names)\n",
    "\n",
    "time_dcopf = pd.DataFrame(columns=bp.cols_time, index=case_names)\n",
    "for case in case_names:\n",
    "    time_dcopf.loc[case] = time_data[:, case_names.index(case), :].mean(axis=0)\n",
    "\n",
    "time_dcopf.iloc[:, :] *= 1000        # scale to ms"
   ]
  },
  {
   "cell_type": "code",
   "execution_count": 7,
   "metadata": {},
   "outputs": [
    {
     "data": {
      "text/html": [
       "<div>\n",
       "<style scoped>\n",
       "    .dataframe tbody tr th:only-of-type {\n",
       "        vertical-align: middle;\n",
       "    }\n",
       "\n",
       "    .dataframe tbody tr th {\n",
       "        vertical-align: top;\n",
       "    }\n",
       "\n",
       "    .dataframe thead th {\n",
       "        text-align: right;\n",
       "    }\n",
       "</style>\n",
       "<table border=\"1\" class=\"dataframe\">\n",
       "  <thead>\n",
       "    <tr style=\"text-align: right;\">\n",
       "      <th></th>\n",
       "      <th>ams_mats</th>\n",
       "      <th>ams_parse</th>\n",
       "      <th>ams_eval</th>\n",
       "      <th>ams_final</th>\n",
       "      <th>ams_postinit</th>\n",
       "      <th>ams_grb</th>\n",
       "      <th>ams_mosek</th>\n",
       "      <th>ams_piqp</th>\n",
       "      <th>pdp</th>\n",
       "    </tr>\n",
       "  </thead>\n",
       "  <tbody>\n",
       "    <tr>\n",
       "      <th>case5</th>\n",
       "      <td>0.56</td>\n",
       "      <td>1.52</td>\n",
       "      <td>2.18</td>\n",
       "      <td>0.0</td>\n",
       "      <td>0.1</td>\n",
       "      <td>48.52</td>\n",
       "      <td>52.28</td>\n",
       "      <td>36.04</td>\n",
       "      <td>345.87</td>\n",
       "    </tr>\n",
       "    <tr>\n",
       "      <th>case14</th>\n",
       "      <td>0.6</td>\n",
       "      <td>1.4</td>\n",
       "      <td>2.18</td>\n",
       "      <td>0.0</td>\n",
       "      <td>0.1</td>\n",
       "      <td>54.87</td>\n",
       "      <td>55.45</td>\n",
       "      <td>39.31</td>\n",
       "      <td>325.07</td>\n",
       "    </tr>\n",
       "    <tr>\n",
       "      <th>case39</th>\n",
       "      <td>0.7</td>\n",
       "      <td>1.41</td>\n",
       "      <td>2.33</td>\n",
       "      <td>0.0</td>\n",
       "      <td>0.1</td>\n",
       "      <td>73.16</td>\n",
       "      <td>70.11</td>\n",
       "      <td>45.02</td>\n",
       "      <td>320.7</td>\n",
       "    </tr>\n",
       "    <tr>\n",
       "      <th>npcc</th>\n",
       "      <td>1.4</td>\n",
       "      <td>1.4</td>\n",
       "      <td>4.92</td>\n",
       "      <td>0.0</td>\n",
       "      <td>0.1</td>\n",
       "      <td>198.34</td>\n",
       "      <td>188.39</td>\n",
       "      <td>91.15</td>\n",
       "      <td>1301.61</td>\n",
       "    </tr>\n",
       "    <tr>\n",
       "      <th>wecc</th>\n",
       "      <td>1.57</td>\n",
       "      <td>1.4</td>\n",
       "      <td>3.46</td>\n",
       "      <td>0.01</td>\n",
       "      <td>0.1</td>\n",
       "      <td>189.02</td>\n",
       "      <td>152.91</td>\n",
       "      <td>95.98</td>\n",
       "      <td>939.71</td>\n",
       "    </tr>\n",
       "  </tbody>\n",
       "</table>\n",
       "</div>"
      ],
      "text/plain": [
       "       ams_mats ams_parse ams_eval ams_final ams_postinit ams_grb ams_mosek  \\\n",
       "case5      0.56      1.52     2.18       0.0          0.1   48.52     52.28   \n",
       "case14      0.6       1.4     2.18       0.0          0.1   54.87     55.45   \n",
       "case39      0.7      1.41     2.33       0.0          0.1   73.16     70.11   \n",
       "npcc        1.4       1.4     4.92       0.0          0.1  198.34    188.39   \n",
       "wecc       1.57       1.4     3.46      0.01          0.1  189.02    152.91   \n",
       "\n",
       "       ams_piqp      pdp  \n",
       "case5     36.04   345.87  \n",
       "case14    39.31   325.07  \n",
       "case39    45.02    320.7  \n",
       "npcc      91.15  1301.61  \n",
       "wecc      95.98   939.71  "
      ]
     },
     "execution_count": 7,
     "metadata": {},
     "output_type": "execute_result"
    }
   ],
   "source": [
    "time_dcopf"
   ]
  },
  {
   "cell_type": "code",
   "execution_count": 8,
   "metadata": {},
   "outputs": [
    {
     "data": {
      "text/html": [
       "<div>\n",
       "<style scoped>\n",
       "    .dataframe tbody tr th:only-of-type {\n",
       "        vertical-align: middle;\n",
       "    }\n",
       "\n",
       "    .dataframe tbody tr th {\n",
       "        vertical-align: top;\n",
       "    }\n",
       "\n",
       "    .dataframe thead th {\n",
       "        text-align: right;\n",
       "    }\n",
       "</style>\n",
       "<table border=\"1\" class=\"dataframe\">\n",
       "  <thead>\n",
       "    <tr style=\"text-align: right;\">\n",
       "      <th></th>\n",
       "      <th>grb</th>\n",
       "      <th>mosek</th>\n",
       "      <th>piqp</th>\n",
       "      <th>pdp</th>\n",
       "    </tr>\n",
       "  </thead>\n",
       "  <tbody>\n",
       "    <tr>\n",
       "      <th>case5</th>\n",
       "      <td>76407795.79</td>\n",
       "      <td>76407795.80</td>\n",
       "      <td>76407795.80</td>\n",
       "      <td>76407795.79</td>\n",
       "    </tr>\n",
       "    <tr>\n",
       "      <th>case14</th>\n",
       "      <td>136767.75</td>\n",
       "      <td>136767.75</td>\n",
       "      <td>136767.75</td>\n",
       "      <td>136767.75</td>\n",
       "    </tr>\n",
       "    <tr>\n",
       "      <th>case39</th>\n",
       "      <td>643403.27</td>\n",
       "      <td>643403.26</td>\n",
       "      <td>643403.27</td>\n",
       "      <td>643403.27</td>\n",
       "    </tr>\n",
       "    <tr>\n",
       "      <th>npcc</th>\n",
       "      <td>16635796.96</td>\n",
       "      <td>16635796.96</td>\n",
       "      <td>16635796.96</td>\n",
       "      <td>16635511.24</td>\n",
       "    </tr>\n",
       "    <tr>\n",
       "      <th>wecc</th>\n",
       "      <td>8621568.97</td>\n",
       "      <td>8621568.97</td>\n",
       "      <td>8621568.97</td>\n",
       "      <td>8621568.97</td>\n",
       "    </tr>\n",
       "  </tbody>\n",
       "</table>\n",
       "</div>"
      ],
      "text/plain": [
       "                grb        mosek         piqp          pdp\n",
       "case5   76407795.79  76407795.80  76407795.80  76407795.79\n",
       "case14    136767.75    136767.75    136767.75    136767.75\n",
       "case39    643403.27    643403.26    643403.27    643403.27\n",
       "npcc    16635796.96  16635796.96  16635796.96  16635511.24\n",
       "wecc     8621568.97   8621568.97   8621568.97   8621568.97"
      ]
     },
     "execution_count": 8,
     "metadata": {},
     "output_type": "execute_result"
    }
   ],
   "source": [
    "obj_dcopf.round(2)"
   ]
  },
  {
   "cell_type": "code",
   "execution_count": null,
   "metadata": {},
   "outputs": [],
   "source": [
    "obj_dcopf.to_csv('../results/results_obj_repeat.csv')\n",
    "time_dcopf.to_csv('../results/results_time_repeat.csv')"
   ]
  }
 ],
 "metadata": {
  "kernelspec": {
   "display_name": "ams",
   "language": "python",
   "name": "python3"
  },
  "language_info": {
   "codemirror_mode": {
    "name": "ipython",
    "version": 3
   },
   "file_extension": ".py",
   "mimetype": "text/x-python",
   "name": "python",
   "nbconvert_exporter": "python",
   "pygments_lexer": "ipython3",
   "version": "3.10.0"
  },
  "orig_nbformat": 4,
  "vscode": {
   "interpreter": {
    "hash": "d2b3bf80176349caa68dc4a3c77bd06eaade8abc678330f7d1c813c53380e5d2"
   }
  }
 },
 "nbformat": 4,
 "nbformat_minor": 2
}
