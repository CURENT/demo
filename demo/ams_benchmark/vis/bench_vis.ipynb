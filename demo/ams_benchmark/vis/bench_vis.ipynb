{
 "cells": [
  {
   "cell_type": "markdown",
   "metadata": {},
   "source": [
    "# Virtual inertia scheduling"
   ]
  },
  {
   "cell_type": "code",
   "execution_count": 1,
   "metadata": {},
   "outputs": [
    {
     "name": "stdout",
     "output_type": "stream",
     "text": [
      "Last run time: 2025-02-02 09:17:11\n",
      "Python: 3.12.0 | packaged by conda-forge | (main, Oct  3 2023, 08:36:57) [Clang 15.0.7 ]\n",
      "\n",
      "Tool        Version\n",
      "----------  -------\n",
      "ltbams      1.0.3a1\n",
      "andes       1.9.3  \n",
      "cvxpy       1.6.0  \n",
      "gurobipy    12.0.1 \n",
      "mosek       11.0.5 \n",
      "piqp        0.4.2  \n",
      "pandapower  2.14.7 \n",
      "numba       0.60.0 \n"
     ]
    }
   ],
   "source": [
    "import numpy as np\n",
    "import pandas as pd\n",
    "\n",
    "import matplotlib.pyplot as plt\n",
    "import scienceplots\n",
    "\n",
    "import andes\n",
    "import ams\n",
    "\n",
    "# Configure logger\n",
    "andes.config_logger(stream_level=30)\n",
    "ams.config_logger(stream_level=20)\n",
    "\n",
    "%run ../benchmarks.py\n",
    "_ = get_tool_versions()"
   ]
  },
  {
   "cell_type": "code",
   "execution_count": 2,
   "metadata": {},
   "outputs": [],
   "source": [
    "%matplotlib inline"
   ]
  },
  {
   "cell_type": "markdown",
   "metadata": {},
   "source": [
    "## Import cases"
   ]
  },
  {
   "cell_type": "markdown",
   "metadata": {},
   "source": [
    "- Case1; no IBR: sp1, sa1\n",
    "- Case2; IBR, no VIS: sp2, sa2\n",
    "- Case3; IBR, VIS: sp3, sa3"
   ]
  },
  {
   "cell_type": "code",
   "execution_count": 3,
   "metadata": {},
   "outputs": [
    {
     "name": "stderr",
     "output_type": "stream",
     "text": [
      "Parsing input file \"./ieee39_uced.xlsx\"...\n",
      "Input file parsed in 0.0385 seconds.\n",
      "System set up in 0.0019 seconds.\n",
      "Parsing input file \"./ieee39_uced_vis.xlsx\"...\n",
      "Input file parsed in 0.0403 seconds.\n",
      "System set up in 0.0018 seconds.\n",
      "Parsing input file \"./ieee39_uced_vis.xlsx\"...\n",
      "Input file parsed in 0.0404 seconds.\n",
      "System set up in 0.0017 seconds.\n"
     ]
    }
   ],
   "source": [
    "sp1 = ams.load('./ieee39_uced.xlsx',\n",
    "               setup=True,\n",
    "               default=True,\n",
    "               no_output=True)\n",
    "\n",
    "sp2 = ams.load('./ieee39_uced_vis.xlsx',\n",
    "               setup=True,\n",
    "               default_config=True,\n",
    "               no_output=True,)\n",
    "\n",
    "sp3 = ams.load('./ieee39_uced_vis.xlsx',\n",
    "               setup=True,\n",
    "               default_config=True,\n",
    "               no_output=True,)"
   ]
  },
  {
   "cell_type": "markdown",
   "metadata": {},
   "source": [
    "Ensure PFlow models are identical."
   ]
  },
  {
   "cell_type": "code",
   "execution_count": 4,
   "metadata": {},
   "outputs": [
    {
     "name": "stdout",
     "output_type": "stream",
     "text": [
      "Bus: True\n",
      "Line: True\n",
      "PQ: True\n",
      "Shunt: True\n",
      "Slack: True\n",
      "PV: True\n"
     ]
    }
   ],
   "source": [
    "for mdl_name in ['Bus', 'Line', 'PQ', 'Shunt', 'Slack', 'PV']:\n",
    "    mdl_sp1 = sp1.models[mdl_name]\n",
    "    mdl_sp2 = sp2.models[mdl_name]\n",
    "    is_equal = mdl_sp1.as_df().equals(mdl_sp2.as_df())\n",
    "    print(f'{mdl_name}: {is_equal}')"
   ]
  },
  {
   "cell_type": "markdown",
   "metadata": {},
   "source": [
    "## Solve scheduling"
   ]
  },
  {
   "cell_type": "code",
   "execution_count": 5,
   "metadata": {},
   "outputs": [
    {
     "name": "stderr",
     "output_type": "stream",
     "text": [
      "Building system matrices\n",
      "Parsing OModel for <RTED>\n",
      "Evaluating OModel for <RTED>\n",
      "Finalizing OModel for <RTED>\n",
      "<RTED> initialized in 0.0310 seconds.\n",
      "<RTED> solved as optimal in 0.0139 seconds, converged in 10 iterations with CLARABEL.\n"
     ]
    },
    {
     "data": {
      "text/plain": [
       "True"
      ]
     },
     "execution_count": 5,
     "metadata": {},
     "output_type": "execute_result"
    }
   ],
   "source": [
    "sp1.RTED.run(solver='CLARABEL')"
   ]
  },
  {
   "cell_type": "code",
   "execution_count": 6,
   "metadata": {},
   "outputs": [
    {
     "name": "stderr",
     "output_type": "stream",
     "text": [
      "Building system matrices\n",
      "Parsing OModel for <RTED>\n",
      "Evaluating OModel for <RTED>\n",
      "Finalizing OModel for <RTED>\n",
      "<RTED> initialized in 0.0097 seconds.\n",
      "<RTED> solved as optimal in 0.0130 seconds, converged in 10 iterations with CLARABEL.\n"
     ]
    },
    {
     "data": {
      "text/plain": [
       "True"
      ]
     },
     "execution_count": 6,
     "metadata": {},
     "output_type": "execute_result"
    }
   ],
   "source": [
    "sp2.RTED.run(solver='CLARABEL')"
   ]
  },
  {
   "cell_type": "code",
   "execution_count": 7,
   "metadata": {},
   "outputs": [
    {
     "name": "stderr",
     "output_type": "stream",
     "text": [
      "Building system matrices\n",
      "Parsing OModel for <RTEDVIS>\n",
      "Evaluating OModel for <RTEDVIS>\n",
      "Finalizing OModel for <RTEDVIS>\n",
      "<RTEDVIS> initialized in 0.0115 seconds.\n",
      "<RTEDVIS> solved as optimal in 0.0151 seconds, converged in 12 iterations with CLARABEL.\n"
     ]
    },
    {
     "data": {
      "text/plain": [
       "True"
      ]
     },
     "execution_count": 7,
     "metadata": {},
     "output_type": "execute_result"
    }
   ],
   "source": [
    "sp3.RTEDVIS.run(solver='CLARABEL')"
   ]
  },
  {
   "cell_type": "markdown",
   "metadata": {},
   "source": [
    "DC-AC conversion"
   ]
  },
  {
   "cell_type": "code",
   "execution_count": 8,
   "metadata": {},
   "outputs": [
    {
     "name": "stderr",
     "output_type": "stream",
     "text": [
      "Parsing OModel for <ACOPF>\n",
      "Evaluating OModel for <ACOPF>\n",
      "Finalizing OModel for <ACOPF>\n",
      "<ACOPF> initialized in 0.0036 seconds.\n",
      "<ACOPF> solved in 0.4974 seconds, converged in 41 iterations with PYPOWER-PIPS.\n",
      "<RTED> converted to AC.\n"
     ]
    },
    {
     "data": {
      "text/plain": [
       "True"
      ]
     },
     "execution_count": 8,
     "metadata": {},
     "output_type": "execute_result"
    }
   ],
   "source": [
    "sp1.RTED.dc2ac()"
   ]
  },
  {
   "cell_type": "code",
   "execution_count": 9,
   "metadata": {},
   "outputs": [
    {
     "name": "stderr",
     "output_type": "stream",
     "text": [
      "Parsing OModel for <ACOPF>\n",
      "Evaluating OModel for <ACOPF>\n",
      "Finalizing OModel for <ACOPF>\n",
      "<ACOPF> initialized in 0.0176 seconds.\n",
      "<ACOPF> solved in 0.5322 seconds, converged in 41 iterations with PYPOWER-PIPS.\n",
      "<RTED> converted to AC.\n"
     ]
    },
    {
     "data": {
      "text/plain": [
       "True"
      ]
     },
     "execution_count": 9,
     "metadata": {},
     "output_type": "execute_result"
    }
   ],
   "source": [
    "sp2.RTED.dc2ac()"
   ]
  },
  {
   "cell_type": "code",
   "execution_count": 10,
   "metadata": {},
   "outputs": [
    {
     "name": "stderr",
     "output_type": "stream",
     "text": [
      "Parsing OModel for <ACOPF>\n",
      "Evaluating OModel for <ACOPF>\n",
      "Finalizing OModel for <ACOPF>\n",
      "<ACOPF> initialized in 0.0040 seconds.\n",
      "<ACOPF> solved in 0.5203 seconds, converged in 41 iterations with PYPOWER-PIPS.\n",
      "<RTEDVIS> converted to AC.\n"
     ]
    },
    {
     "data": {
      "text/plain": [
       "True"
      ]
     },
     "execution_count": 10,
     "metadata": {},
     "output_type": "execute_result"
    }
   ],
   "source": [
    "sp3.RTEDVIS.dc2ac()"
   ]
  },
  {
   "cell_type": "markdown",
   "metadata": {},
   "source": [
    "Convert to dynamic cases."
   ]
  },
  {
   "cell_type": "code",
   "execution_count": 11,
   "metadata": {},
   "outputs": [
    {
     "name": "stdout",
     "output_type": "stream",
     "text": [
      "Generating code for 1 models on 12 processes.\n"
     ]
    },
    {
     "name": "stderr",
     "output_type": "stream",
     "text": [
      "Parsing additional file \"ieee39_sg.xlsx\"...\n",
      "Following PFlow models in addfile will be overwritten: <Bus>, <PQ>, <PV>, <Slack>, <Shunt>, <Line>, <Area>\n",
      "Addfile parsed in 0.0629 seconds.\n",
      "System converted to ANDES in 0.2153 seconds.\n",
      "AMS system 0x107b1f890 is linked to the ANDES system 0x35977e0f0.\n"
     ]
    },
    {
     "name": "stdout",
     "output_type": "stream",
     "text": [
      "Generating code for 1 models on 12 processes.\n"
     ]
    },
    {
     "name": "stderr",
     "output_type": "stream",
     "text": [
      "Parsing additional file \"ieee39_vis.xlsx\"...\n",
      "Following PFlow models in addfile will be overwritten: <Bus>, <PQ>, <PV>, <Slack>, <Shunt>, <Line>, <Area>\n",
      "Addfile parsed in 0.0633 seconds.\n",
      "System converted to ANDES in 0.1435 seconds.\n",
      "AMS system 0x3584f3a10 is linked to the ANDES system 0x3598a03e0.\n"
     ]
    },
    {
     "name": "stdout",
     "output_type": "stream",
     "text": [
      "Generating code for 1 models on 12 processes.\n"
     ]
    },
    {
     "name": "stderr",
     "output_type": "stream",
     "text": [
      "Parsing additional file \"ieee39_vis.xlsx\"...\n",
      "Following PFlow models in addfile will be overwritten: <Bus>, <PQ>, <PV>, <Slack>, <Shunt>, <Line>, <Area>\n",
      "Addfile parsed in 0.0592 seconds.\n",
      "System converted to ANDES in 0.2997 seconds.\n",
      "AMS system 0x358797500 is linked to the ANDES system 0x171eeae40.\n"
     ]
    }
   ],
   "source": [
    "sa1 = sp1.to_andes(setup=False, addfile='ieee39_sg.xlsx')\n",
    "\n",
    "sa2 = sp2.to_andes(setup=False, addfile='ieee39_vis.xlsx')\n",
    "\n",
    "sa3 = sp3.to_andes(setup=False, addfile='ieee39_vis.xlsx')"
   ]
  },
  {
   "cell_type": "code",
   "execution_count": 12,
   "metadata": {},
   "outputs": [],
   "source": [
    "# add Alter model as a load change at 1s\n",
    "for ss in [sa1, sa2, sa3]:\n",
    "    ss.add(model='Toggle', param_dict=dict(t=1, model='GENROU', dev='GENROU_3'))\n",
    "    ss.setup()"
   ]
  },
  {
   "cell_type": "markdown",
   "metadata": {},
   "source": [
    "Send dispatch results to dynamic cases."
   ]
  },
  {
   "cell_type": "code",
   "execution_count": 13,
   "metadata": {},
   "outputs": [
    {
     "name": "stderr",
     "output_type": "stream",
     "text": [
      "Send <RTED> results to ANDES <0x35977e0f0>...\n",
      "*Send <vBus> to StaticGen.v0\n",
      "Send <vBus> to Bus.v0\n",
      "Send <ug> to StaticGen.u\n",
      "Send <pg> to StaticGen.p0\n"
     ]
    },
    {
     "data": {
      "text/plain": [
       "True"
      ]
     },
     "execution_count": 13,
     "metadata": {},
     "output_type": "execute_result"
    }
   ],
   "source": [
    "sp1.dyn.send(adsys=sa1, routine='RTED')"
   ]
  },
  {
   "cell_type": "code",
   "execution_count": 14,
   "metadata": {},
   "outputs": [
    {
     "name": "stderr",
     "output_type": "stream",
     "text": [
      "Send <RTED> results to ANDES <0x3598a03e0>...\n",
      "*Send <vBus> to StaticGen.v0\n",
      "Send <vBus> to Bus.v0\n",
      "Send <ug> to StaticGen.u\n",
      "Send <pg> to StaticGen.p0\n"
     ]
    },
    {
     "data": {
      "text/plain": [
       "True"
      ]
     },
     "execution_count": 14,
     "metadata": {},
     "output_type": "execute_result"
    }
   ],
   "source": [
    "sp2.dyn.send(adsys=sa2, routine='RTED')"
   ]
  },
  {
   "cell_type": "code",
   "execution_count": 15,
   "metadata": {},
   "outputs": [
    {
     "name": "stderr",
     "output_type": "stream",
     "text": [
      "Send <RTEDVIS> results to ANDES <0x171eeae40>...\n",
      "*Send <vBus> to StaticGen.v0\n",
      "Send <vBus> to Bus.v0\n",
      "Send <ug> to StaticGen.u\n",
      "Send <pg> to StaticGen.p0\n",
      "Send <M> to RenGen.M\n",
      "Send <D> to RenGen.D\n"
     ]
    },
    {
     "data": {
      "text/plain": [
       "True"
      ]
     },
     "execution_count": 15,
     "metadata": {},
     "output_type": "execute_result"
    }
   ],
   "source": [
    "sp3.dyn.send(adsys=sa3, routine='RTEDVIS')"
   ]
  },
  {
   "cell_type": "markdown",
   "metadata": {},
   "source": [
    "## Run PFlow"
   ]
  },
  {
   "cell_type": "code",
   "execution_count": 16,
   "metadata": {},
   "outputs": [],
   "source": [
    "# settings\n",
    "for ss in [sa1, sa2, sa3]:\n",
    "    ss.PQ.config.p2p = 1\n",
    "    ss.PQ.config.q2q = 1\n",
    "    ss.PQ.config.p2z = 0\n",
    "    ss.PQ.config.q2z = 0\n",
    "    ss.PQ.pq2z = 0\n",
    "\n",
    "    ss.TDS.config.criteria = 0\n",
    "    ss.TDS.config.tf = 30"
   ]
  },
  {
   "cell_type": "code",
   "execution_count": 17,
   "metadata": {},
   "outputs": [
    {
     "data": {
      "text/plain": [
       "True"
      ]
     },
     "execution_count": 17,
     "metadata": {},
     "output_type": "execute_result"
    }
   ],
   "source": [
    "sa1.PFlow.run()"
   ]
  },
  {
   "cell_type": "code",
   "execution_count": 18,
   "metadata": {},
   "outputs": [
    {
     "data": {
      "text/plain": [
       "True"
      ]
     },
     "execution_count": 18,
     "metadata": {},
     "output_type": "execute_result"
    }
   ],
   "source": [
    "sa2.PFlow.run()"
   ]
  },
  {
   "cell_type": "code",
   "execution_count": 19,
   "metadata": {},
   "outputs": [
    {
     "data": {
      "text/plain": [
       "True"
      ]
     },
     "execution_count": 19,
     "metadata": {},
     "output_type": "execute_result"
    }
   ],
   "source": [
    "sa3.PFlow.run()"
   ]
  },
  {
   "cell_type": "markdown",
   "metadata": {},
   "source": [
    "## Run TDS"
   ]
  },
  {
   "cell_type": "markdown",
   "metadata": {},
   "source": [
    "Run PFlow and TDS."
   ]
  },
  {
   "cell_type": "code",
   "execution_count": 20,
   "metadata": {},
   "outputs": [
    {
     "name": "stderr",
     "output_type": "stream",
     "text": [
      "GENROU (xl <= xd2) out of typical upper limit.\n",
      "\n",
      "   idx     | values | limit\n",
      "-----------+--------+------\n",
      " GENROU_1  | 0.012  | 0.001\n",
      " GENROU_2  | 0.042  | 0.036\n",
      " GENROU_3  | 0.036  | 0.003\n",
      " GENROU_4  | 0.025  | 0.001\n",
      " GENROU_5  | 0.050  | 0.001\n",
      " GENROU_7  | 0.031  | 0.002\n",
      " GENROU_8  | 0.029  | 0.006\n",
      " GENROU_9  | 0.018  | 0.001\n",
      " GENROU_10 | 0.003  | 0.000\n",
      "\n",
      "\n"
     ]
    }
   ],
   "source": [
    "_ = sa1.TDS.init()"
   ]
  },
  {
   "cell_type": "code",
   "execution_count": 21,
   "metadata": {},
   "outputs": [
    {
     "data": {
      "application/vnd.jupyter.widget-view+json": {
       "model_id": "f7f52fe77dd84fcaad8a163dd9c44ff6",
       "version_major": 2,
       "version_minor": 0
      },
      "text/plain": [
       "  0%|          | 0/100 [00:00<?, ?%/s]"
      ]
     },
     "metadata": {},
     "output_type": "display_data"
    },
    {
     "name": "stdout",
     "output_type": "stream",
     "text": [
      "<Toggle Toggle_2>: GENROU.GENROU_3 status changed to 0 at t=1.0 sec.\n"
     ]
    },
    {
     "data": {
      "text/plain": [
       "True"
      ]
     },
     "execution_count": 21,
     "metadata": {},
     "output_type": "execute_result"
    }
   ],
   "source": [
    "sa1.TDS.run()"
   ]
  },
  {
   "cell_type": "code",
   "execution_count": 22,
   "metadata": {},
   "outputs": [
    {
     "name": "stderr",
     "output_type": "stream",
     "text": [
      "GENROU (xl <= xd2) out of typical upper limit.\n",
      "\n",
      "   idx     | values | limit\n",
      "-----------+--------+------\n",
      " GENROU_2  | 0.042  | 0.036\n",
      " GENROU_3  | 0.036  | 0.003\n",
      " GENROU_4  | 0.025  | 0.001\n",
      " GENROU_5  | 0.050  | 0.001\n",
      " GENROU_7  | 0.031  | 0.002\n",
      " GENROU_10 | 0.003  | 0.000\n",
      "\n",
      "\n"
     ]
    }
   ],
   "source": [
    "_ = sa2.TDS.init()"
   ]
  },
  {
   "cell_type": "code",
   "execution_count": 23,
   "metadata": {},
   "outputs": [
    {
     "data": {
      "application/vnd.jupyter.widget-view+json": {
       "model_id": "75d0167747dc474fa358e8e8ec8fc8dc",
       "version_major": 2,
       "version_minor": 0
      },
      "text/plain": [
       "  0%|          | 0/100 [00:00<?, ?%/s]"
      ]
     },
     "metadata": {},
     "output_type": "display_data"
    },
    {
     "name": "stdout",
     "output_type": "stream",
     "text": [
      "<Toggle Toggle_2>: GENROU.GENROU_3 status changed to 0 at t=1.0 sec.\n"
     ]
    },
    {
     "data": {
      "text/plain": [
       "True"
      ]
     },
     "execution_count": 23,
     "metadata": {},
     "output_type": "execute_result"
    }
   ],
   "source": [
    "sa2.TDS.run()"
   ]
  },
  {
   "cell_type": "code",
   "execution_count": 24,
   "metadata": {},
   "outputs": [
    {
     "name": "stderr",
     "output_type": "stream",
     "text": [
      "GENROU (xl <= xd2) out of typical upper limit.\n",
      "\n",
      "   idx     | values | limit\n",
      "-----------+--------+------\n",
      " GENROU_2  | 0.042  | 0.036\n",
      " GENROU_3  | 0.036  | 0.003\n",
      " GENROU_4  | 0.025  | 0.001\n",
      " GENROU_5  | 0.050  | 0.001\n",
      " GENROU_7  | 0.031  | 0.002\n",
      " GENROU_10 | 0.003  | 0.000\n",
      "\n",
      "\n"
     ]
    }
   ],
   "source": [
    "_ = sa3.TDS.init()"
   ]
  },
  {
   "cell_type": "code",
   "execution_count": 25,
   "metadata": {},
   "outputs": [
    {
     "data": {
      "application/vnd.jupyter.widget-view+json": {
       "model_id": "29588fa2345648068827df6da3f2edc5",
       "version_major": 2,
       "version_minor": 0
      },
      "text/plain": [
       "  0%|          | 0/100 [00:00<?, ?%/s]"
      ]
     },
     "metadata": {},
     "output_type": "display_data"
    },
    {
     "name": "stdout",
     "output_type": "stream",
     "text": [
      "<Toggle Toggle_2>: GENROU.GENROU_3 status changed to 0 at t=1.0 sec.\n"
     ]
    },
    {
     "data": {
      "text/plain": [
       "True"
      ]
     },
     "execution_count": 25,
     "metadata": {},
     "output_type": "execute_result"
    }
   ],
   "source": [
    "sa3.TDS.run()"
   ]
  },
  {
   "cell_type": "markdown",
   "metadata": {},
   "source": [
    "Receive dynamic results from TDS.\n",
    "\n",
    "Generator outpus after frequency deviation are stored in `pg0` of `RTED` or `RTEDVIS`, which might be used in next round dispatch."
   ]
  },
  {
   "cell_type": "code",
   "execution_count": 26,
   "metadata": {},
   "outputs": [
    {
     "name": "stderr",
     "output_type": "stream",
     "text": [
      "Receive <ug> from SynGen.u\n",
      "Receive <pg0> from SynGen.Pe\n",
      "<RTED> reinit OModel due to non-parametric change.\n",
      "Evaluating OModel for <RTED>\n",
      "Finalizing OModel for <RTED>\n"
     ]
    },
    {
     "data": {
      "text/plain": [
       "True"
      ]
     },
     "execution_count": 26,
     "metadata": {},
     "output_type": "execute_result"
    }
   ],
   "source": [
    "sp1.dyn.receive(adsys=sa1, routine='RTED')"
   ]
  },
  {
   "cell_type": "code",
   "execution_count": 27,
   "metadata": {},
   "outputs": [
    {
     "name": "stderr",
     "output_type": "stream",
     "text": [
      "Receive <ug> from SynGen.u, RenGen.u\n",
      "Receive <pg0> from SynGen.Pe, RenGen.Pe\n",
      "<RTED> reinit OModel due to non-parametric change.\n",
      "Evaluating OModel for <RTED>\n",
      "Finalizing OModel for <RTED>\n"
     ]
    },
    {
     "data": {
      "text/plain": [
       "True"
      ]
     },
     "execution_count": 27,
     "metadata": {},
     "output_type": "execute_result"
    }
   ],
   "source": [
    "sp2.dyn.receive(adsys=sa2, routine='RTED')"
   ]
  },
  {
   "cell_type": "code",
   "execution_count": 28,
   "metadata": {},
   "outputs": [
    {
     "name": "stderr",
     "output_type": "stream",
     "text": [
      "Receive <ug> from SynGen.u, RenGen.u\n",
      "Receive <pg0> from SynGen.Pe, RenGen.Pe\n",
      "<RTEDVIS> reinit OModel due to non-parametric change.\n",
      "Evaluating OModel for <RTEDVIS>\n",
      "Finalizing OModel for <RTEDVIS>\n"
     ]
    },
    {
     "data": {
      "text/plain": [
       "True"
      ]
     },
     "execution_count": 28,
     "metadata": {},
     "output_type": "execute_result"
    }
   ],
   "source": [
    "sp3.dyn.receive(adsys=sa3, routine='RTEDVIS')"
   ]
  },
  {
   "cell_type": "markdown",
   "metadata": {},
   "source": [
    "## Results"
   ]
  },
  {
   "cell_type": "code",
   "execution_count": 29,
   "metadata": {},
   "outputs": [
    {
     "name": "stdout",
     "output_type": "stream",
     "text": [
      "Case 1, no IBR; \n",
      "M= 817.47 ; D= 30.79 \n",
      "Cost= None\n",
      "Case 2, IBR no VIS; \n",
      "M= 817.47 ; D= 54.69 \n",
      "Cost= None\n",
      "Case 3, IBR VIS; \n",
      "M= 941.19 ; D= 75.78999999999999 \n",
      "Cost= None\n",
      "Case3, IBR max; \n",
      "Mmax= 562.2 ; Dsum= 47.8\n"
     ]
    }
   ],
   "source": [
    "print('Case 1, no IBR;',\n",
    "      '\\nM=', sa1.GENROU.M.v.sum().round(2),\n",
    "      '; D=', sa2.GENROU.D.v.sum().round(2),\n",
    "      '\\nCost=', sp1.RTED.obj.v)\n",
    "print('Case 2, IBR no VIS;',\n",
    "      '\\nM=', sa2.GENROU.M.v.sum().round(2) + sa2.REGCV1.M.v.sum().round(2),\n",
    "      '; D=', sa2.GENROU.D.v.sum().round(2) + sa2.REGCV1.D.v.sum().round(2),\n",
    "      '\\nCost=', sp2.RTED.obj.v)\n",
    "print('Case 3, IBR VIS;',\n",
    "      '\\nM=', sa3.GENROU.M.v.sum().round(2) + sa3.REGCV1.M.v.sum().round(2),\n",
    "      '; D=', sa3.GENROU.D.v.sum().round(2) + sa3.REGCV1.D.v.sum().round(2),\n",
    "      '\\nCost=', sp3.RTEDVIS.obj.v)\n",
    "print('Case3, IBR max;',\n",
    "      '\\nMmax=', sp3.REGCV1.Mmax.v.sum().round(2),\n",
    "      '; Dsum=', sp3.REGCV1.Dmax.v.sum().round(2))"
   ]
  },
  {
   "cell_type": "code",
   "execution_count": 30,
   "metadata": {},
   "outputs": [],
   "source": [
    "# --- generator idx ---\n",
    "\n",
    "gen_id = pd.DataFrame()\n",
    "\n",
    "# StaticGen idx\n",
    "stg_idx = sa2.REGCV1.gen.v + sa2.GENROU.gen.v\n",
    "# Generator bus (should be identical for StaticGen and SynGen or RenGen)\n",
    "gen_id['gen_bus'] = sp1.StaticGen.get(src='bus', attr='v', idx=stg_idx).astype(int)\n",
    "gen_id['stg_idx'] = stg_idx\n",
    "\n",
    "# Dynamic generator idx\n",
    "gen_id['dyg_sp1'] = sa1.SynGen.find_idx(keys='gen', values=stg_idx)\n",
    "sg_sp2 = pd.Series(sa2.GENROU.find_idx(keys='gen', values=stg_idx, allow_none=True, default=''))\n",
    "reg_sp2 = pd.Series(sa2.REGCV1.find_idx(keys='gen', values=stg_idx, allow_none=True, default=''))\n",
    "gen_id['dyg_sp2'] = sg_sp2 + reg_sp2\n",
    "\n",
    "# --- generator power ---\n",
    "gen_p = pd.DataFrame()\n",
    "gen_p.index = gen_id['stg_idx']\n",
    "\n",
    "# schedul power\n",
    "gen_p['pg_sp1'] = sp1.RTED.get(src='pg', attr='v', idx=stg_idx)\n",
    "gen_p['pg_sp2'] = sp2.RTED.get(src='pg', attr='v', idx=stg_idx)\n",
    "gen_p['pg_sp3'] = sp3.RTEDVIS.get(src='pg', attr='v', idx=stg_idx)\n",
    "gen_p[['pg_sp1', 'pg_sp2', 'pg_sp3']] *= sa1.config.mva  # scale from p.u. to MW\n",
    "\n",
    "# reserve power (should be zero)\n",
    "gen_p['pru_sp1'] = sp1.RTED.get(src='pru', attr='v', idx=stg_idx)\n",
    "gen_p['pru_sp2'] = sp2.RTED.get(src='pru', attr='v', idx=stg_idx)\n",
    "gen_p['pru_sp3'] = sp3.RTEDVIS.get(src='pru', attr='v', idx=stg_idx)\n",
    "\n",
    "gen_p['prd_sp1'] = sp1.RTED.get(src='prd', attr='v', idx=stg_idx)\n",
    "gen_p['prd_sp2'] = sp2.RTED.get(src='prd', attr='v', idx=stg_idx)\n",
    "gen_p['prd_sp3'] = sp3.RTEDVIS.get(src='prd', attr='v', idx=stg_idx)\n",
    "\n",
    "# --- generator reserve ---\n",
    "gen_MD = pd.DataFrame()\n",
    "gen_MD.index = gen_id['stg_idx']\n",
    "\n",
    "# collect M and D\n",
    "M_sp2 = []\n",
    "D_sp2 = []\n",
    "M_pu_coeff_sp2 = []\n",
    "D_pu_coeff_sp2 = []\n",
    "for id in gen_id['dyg_sp2']:\n",
    "    if id in sa2.GENROU.idx.v:\n",
    "        M_sp2.append(sa2.GENROU.get(src='M', attr='v', idx=id))\n",
    "        D_sp2.append(sa2.GENROU.get(src='D', attr='v', idx=id))\n",
    "        M_pu_coeff_sp2.append(sa2.GENROU.get(src='M', attr='pu_coeff', idx=id))\n",
    "        D_pu_coeff_sp2.append(sa2.GENROU.get(src='D', attr='pu_coeff', idx=id))\n",
    "\n",
    "    elif id in sa2.REGCV1.idx.v:\n",
    "        M_sp2.append(sa2.REGCV1.get(src='M', attr='v', idx=id))\n",
    "        D_sp2.append(sa2.REGCV1.get(src='D', attr='v', idx=id))\n",
    "        M_pu_coeff_sp2.append(sa2.REGCV1.get(src='M', attr='pu_coeff', idx=id))\n",
    "        D_pu_coeff_sp2.append(sa2.REGCV1.get(src='D', attr='pu_coeff', idx=id))\n",
    "\n",
    "M_sp3 = []\n",
    "D_sp3 = []\n",
    "M_pu_coeff_sp3 = []\n",
    "D_pu_coeff_sp3 = []\n",
    "for id in gen_id['dyg_sp2']:\n",
    "    if id in sa3.GENROU.idx.v:\n",
    "        M_sp3.append(sa3.GENROU.get(src='M', attr='v', idx=id))\n",
    "        D_sp3.append(sa3.GENROU.get(src='D', attr='v', idx=id))\n",
    "        M_pu_coeff_sp3.append(sa3.GENROU.get(src='M', attr='pu_coeff', idx=id))\n",
    "        D_pu_coeff_sp3.append(sa3.GENROU.get(src='D', attr='pu_coeff', idx=id))\n",
    "    elif id in sa3.REGCV1.idx.v:\n",
    "        M_sp3.append(sa3.REGCV1.get(src='M', attr='v', idx=id))\n",
    "        D_sp3.append(sa3.REGCV1.get(src='D', attr='v', idx=id))\n",
    "        M_pu_coeff_sp3.append(sa3.REGCV1.get(src='M', attr='pu_coeff', idx=id))\n",
    "        D_pu_coeff_sp3.append(sa3.REGCV1.get(src='D', attr='pu_coeff', idx=id))\n",
    "\n",
    "# convert to device base\n",
    "M_sa1 = sa1.GENROU.get(src='M', attr='v', idx=gen_id['dyg_sp1'])\n",
    "M_pu_coeff = sa1.GENROU.get(src='M', attr='pu_coeff', idx=gen_id['dyg_sp1'])\n",
    "gen_MD['M_sp1'] = [M / coeff for M, coeff in zip(M_sa1, M_pu_coeff)]\n",
    "gen_MD['M_sp2'] = [M / coeff for M, coeff in zip(M_sp2, M_pu_coeff_sp2)]\n",
    "gen_MD['M_sp3'] = [M / coeff for M, coeff in zip(M_sp3, M_pu_coeff_sp3)]\n",
    "\n",
    "D_sa1 = sa1.GENROU.get(src='D', attr='v', idx=gen_id['dyg_sp1'])\n",
    "D_pu_coeff = sa1.GENROU.get(src='D', attr='pu_coeff', idx=gen_id['dyg_sp1'])\n",
    "gen_MD['D_sp1'] = [D / coeff for D, coeff in zip(D_sa1, D_pu_coeff)]\n",
    "gen_MD['D_sp2'] = [D / coeff for D, coeff in zip(D_sp2, D_pu_coeff_sp2)]\n",
    "gen_MD['D_sp3'] = [D / coeff for D, coeff in zip(D_sp3, D_pu_coeff_sp3)]"
   ]
  },
  {
   "cell_type": "code",
   "execution_count": 31,
   "metadata": {},
   "outputs": [
    {
     "data": {
      "text/html": [
       "<div>\n",
       "<style scoped>\n",
       "    .dataframe tbody tr th:only-of-type {\n",
       "        vertical-align: middle;\n",
       "    }\n",
       "\n",
       "    .dataframe tbody tr th {\n",
       "        vertical-align: top;\n",
       "    }\n",
       "\n",
       "    .dataframe thead th {\n",
       "        text-align: right;\n",
       "    }\n",
       "</style>\n",
       "<table border=\"1\" class=\"dataframe\">\n",
       "  <thead>\n",
       "    <tr style=\"text-align: right;\">\n",
       "      <th></th>\n",
       "      <th>M_sp1</th>\n",
       "      <th>M_sp2</th>\n",
       "      <th>M_sp3</th>\n",
       "      <th>D_sp1</th>\n",
       "      <th>D_sp2</th>\n",
       "      <th>D_sp3</th>\n",
       "    </tr>\n",
       "    <tr>\n",
       "      <th>stg_idx</th>\n",
       "      <th></th>\n",
       "      <th></th>\n",
       "      <th></th>\n",
       "      <th></th>\n",
       "      <th></th>\n",
       "      <th></th>\n",
       "    </tr>\n",
       "  </thead>\n",
       "  <tbody>\n",
       "    <tr>\n",
       "      <th>PV_30</th>\n",
       "      <td>8.40</td>\n",
       "      <td>8.40</td>\n",
       "      <td>10.00</td>\n",
       "      <td>0.5</td>\n",
       "      <td>0.5</td>\n",
       "      <td>1.00</td>\n",
       "    </tr>\n",
       "    <tr>\n",
       "      <th>PV_35</th>\n",
       "      <td>6.96</td>\n",
       "      <td>6.96</td>\n",
       "      <td>10.00</td>\n",
       "      <td>0.5</td>\n",
       "      <td>0.5</td>\n",
       "      <td>1.00</td>\n",
       "    </tr>\n",
       "    <tr>\n",
       "      <th>PV_37</th>\n",
       "      <td>4.86</td>\n",
       "      <td>4.86</td>\n",
       "      <td>10.00</td>\n",
       "      <td>0.5</td>\n",
       "      <td>0.5</td>\n",
       "      <td>1.00</td>\n",
       "    </tr>\n",
       "    <tr>\n",
       "      <th>PV_38</th>\n",
       "      <td>6.90</td>\n",
       "      <td>6.90</td>\n",
       "      <td>8.34</td>\n",
       "      <td>0.5</td>\n",
       "      <td>0.5</td>\n",
       "      <td>0.83</td>\n",
       "    </tr>\n",
       "    <tr>\n",
       "      <th>PV_31</th>\n",
       "      <td>8.06</td>\n",
       "      <td>8.06</td>\n",
       "      <td>8.06</td>\n",
       "      <td>0.5</td>\n",
       "      <td>0.5</td>\n",
       "      <td>0.50</td>\n",
       "    </tr>\n",
       "    <tr>\n",
       "      <th>PV_32</th>\n",
       "      <td>7.16</td>\n",
       "      <td>7.16</td>\n",
       "      <td>7.16</td>\n",
       "      <td>0.5</td>\n",
       "      <td>0.5</td>\n",
       "      <td>0.50</td>\n",
       "    </tr>\n",
       "    <tr>\n",
       "      <th>PV_33</th>\n",
       "      <td>8.72</td>\n",
       "      <td>8.72</td>\n",
       "      <td>8.72</td>\n",
       "      <td>0.5</td>\n",
       "      <td>0.5</td>\n",
       "      <td>0.50</td>\n",
       "    </tr>\n",
       "    <tr>\n",
       "      <th>PV_34</th>\n",
       "      <td>5.20</td>\n",
       "      <td>5.20</td>\n",
       "      <td>5.20</td>\n",
       "      <td>0.5</td>\n",
       "      <td>0.5</td>\n",
       "      <td>0.50</td>\n",
       "    </tr>\n",
       "    <tr>\n",
       "      <th>PV_36</th>\n",
       "      <td>8.28</td>\n",
       "      <td>8.28</td>\n",
       "      <td>8.28</td>\n",
       "      <td>0.5</td>\n",
       "      <td>0.5</td>\n",
       "      <td>0.50</td>\n",
       "    </tr>\n",
       "    <tr>\n",
       "      <th>Slack_39</th>\n",
       "      <td>10.00</td>\n",
       "      <td>10.00</td>\n",
       "      <td>10.00</td>\n",
       "      <td>0.5</td>\n",
       "      <td>0.5</td>\n",
       "      <td>0.50</td>\n",
       "    </tr>\n",
       "  </tbody>\n",
       "</table>\n",
       "</div>"
      ],
      "text/plain": [
       "          M_sp1  M_sp2  M_sp3  D_sp1  D_sp2  D_sp3\n",
       "stg_idx                                           \n",
       "PV_30      8.40   8.40  10.00    0.5    0.5   1.00\n",
       "PV_35      6.96   6.96  10.00    0.5    0.5   1.00\n",
       "PV_37      4.86   4.86  10.00    0.5    0.5   1.00\n",
       "PV_38      6.90   6.90   8.34    0.5    0.5   0.83\n",
       "PV_31      8.06   8.06   8.06    0.5    0.5   0.50\n",
       "PV_32      7.16   7.16   7.16    0.5    0.5   0.50\n",
       "PV_33      8.72   8.72   8.72    0.5    0.5   0.50\n",
       "PV_34      5.20   5.20   5.20    0.5    0.5   0.50\n",
       "PV_36      8.28   8.28   8.28    0.5    0.5   0.50\n",
       "Slack_39  10.00  10.00  10.00    0.5    0.5   0.50"
      ]
     },
     "execution_count": 31,
     "metadata": {},
     "output_type": "execute_result"
    }
   ],
   "source": [
    "gen_MD.round(2)"
   ]
  },
  {
   "cell_type": "code",
   "execution_count": 32,
   "metadata": {},
   "outputs": [
    {
     "data": {
      "text/html": [
       "<div>\n",
       "<style scoped>\n",
       "    .dataframe tbody tr th:only-of-type {\n",
       "        vertical-align: middle;\n",
       "    }\n",
       "\n",
       "    .dataframe tbody tr th {\n",
       "        vertical-align: top;\n",
       "    }\n",
       "\n",
       "    .dataframe thead th {\n",
       "        text-align: right;\n",
       "    }\n",
       "</style>\n",
       "<table border=\"1\" class=\"dataframe\">\n",
       "  <thead>\n",
       "    <tr style=\"text-align: right;\">\n",
       "      <th></th>\n",
       "      <th>gen_bus</th>\n",
       "      <th>stg_idx</th>\n",
       "      <th>dyg_sp1</th>\n",
       "      <th>dyg_sp2</th>\n",
       "    </tr>\n",
       "  </thead>\n",
       "  <tbody>\n",
       "    <tr>\n",
       "      <th>0</th>\n",
       "      <td>30</td>\n",
       "      <td>PV_30</td>\n",
       "      <td>GENROU_1</td>\n",
       "      <td>VSG_1</td>\n",
       "    </tr>\n",
       "    <tr>\n",
       "      <th>1</th>\n",
       "      <td>35</td>\n",
       "      <td>PV_35</td>\n",
       "      <td>GENROU_6</td>\n",
       "      <td>VSG_2</td>\n",
       "    </tr>\n",
       "    <tr>\n",
       "      <th>2</th>\n",
       "      <td>37</td>\n",
       "      <td>PV_37</td>\n",
       "      <td>GENROU_8</td>\n",
       "      <td>VSG_3</td>\n",
       "    </tr>\n",
       "    <tr>\n",
       "      <th>3</th>\n",
       "      <td>38</td>\n",
       "      <td>PV_38</td>\n",
       "      <td>GENROU_9</td>\n",
       "      <td>VSG_4</td>\n",
       "    </tr>\n",
       "    <tr>\n",
       "      <th>4</th>\n",
       "      <td>31</td>\n",
       "      <td>PV_31</td>\n",
       "      <td>GENROU_2</td>\n",
       "      <td>GENROU_2</td>\n",
       "    </tr>\n",
       "    <tr>\n",
       "      <th>5</th>\n",
       "      <td>32</td>\n",
       "      <td>PV_32</td>\n",
       "      <td>GENROU_3</td>\n",
       "      <td>GENROU_3</td>\n",
       "    </tr>\n",
       "    <tr>\n",
       "      <th>6</th>\n",
       "      <td>33</td>\n",
       "      <td>PV_33</td>\n",
       "      <td>GENROU_4</td>\n",
       "      <td>GENROU_4</td>\n",
       "    </tr>\n",
       "    <tr>\n",
       "      <th>7</th>\n",
       "      <td>34</td>\n",
       "      <td>PV_34</td>\n",
       "      <td>GENROU_5</td>\n",
       "      <td>GENROU_5</td>\n",
       "    </tr>\n",
       "    <tr>\n",
       "      <th>8</th>\n",
       "      <td>36</td>\n",
       "      <td>PV_36</td>\n",
       "      <td>GENROU_7</td>\n",
       "      <td>GENROU_7</td>\n",
       "    </tr>\n",
       "    <tr>\n",
       "      <th>9</th>\n",
       "      <td>39</td>\n",
       "      <td>Slack_39</td>\n",
       "      <td>GENROU_10</td>\n",
       "      <td>GENROU_10</td>\n",
       "    </tr>\n",
       "  </tbody>\n",
       "</table>\n",
       "</div>"
      ],
      "text/plain": [
       "   gen_bus   stg_idx    dyg_sp1    dyg_sp2\n",
       "0       30     PV_30   GENROU_1      VSG_1\n",
       "1       35     PV_35   GENROU_6      VSG_2\n",
       "2       37     PV_37   GENROU_8      VSG_3\n",
       "3       38     PV_38   GENROU_9      VSG_4\n",
       "4       31     PV_31   GENROU_2   GENROU_2\n",
       "5       32     PV_32   GENROU_3   GENROU_3\n",
       "6       33     PV_33   GENROU_4   GENROU_4\n",
       "7       34     PV_34   GENROU_5   GENROU_5\n",
       "8       36     PV_36   GENROU_7   GENROU_7\n",
       "9       39  Slack_39  GENROU_10  GENROU_10"
      ]
     },
     "execution_count": 32,
     "metadata": {},
     "output_type": "execute_result"
    }
   ],
   "source": [
    "gen_id"
   ]
  },
  {
   "cell_type": "code",
   "execution_count": 33,
   "metadata": {},
   "outputs": [
    {
     "data": {
      "text/html": [
       "<div>\n",
       "<style scoped>\n",
       "    .dataframe tbody tr th:only-of-type {\n",
       "        vertical-align: middle;\n",
       "    }\n",
       "\n",
       "    .dataframe tbody tr th {\n",
       "        vertical-align: top;\n",
       "    }\n",
       "\n",
       "    .dataframe thead th {\n",
       "        text-align: right;\n",
       "    }\n",
       "</style>\n",
       "<table border=\"1\" class=\"dataframe\">\n",
       "  <thead>\n",
       "    <tr style=\"text-align: right;\">\n",
       "      <th></th>\n",
       "      <th>pg_sp1</th>\n",
       "      <th>pg_sp2</th>\n",
       "      <th>pg_sp3</th>\n",
       "    </tr>\n",
       "    <tr>\n",
       "      <th>stg_idx</th>\n",
       "      <th></th>\n",
       "      <th></th>\n",
       "      <th></th>\n",
       "    </tr>\n",
       "  </thead>\n",
       "  <tbody>\n",
       "    <tr>\n",
       "      <th>PV_30</th>\n",
       "      <td>0.0</td>\n",
       "      <td>0.0</td>\n",
       "      <td>0.0</td>\n",
       "    </tr>\n",
       "    <tr>\n",
       "      <th>PV_35</th>\n",
       "      <td>0.0</td>\n",
       "      <td>0.0</td>\n",
       "      <td>0.0</td>\n",
       "    </tr>\n",
       "    <tr>\n",
       "      <th>PV_37</th>\n",
       "      <td>0.0</td>\n",
       "      <td>0.0</td>\n",
       "      <td>0.0</td>\n",
       "    </tr>\n",
       "    <tr>\n",
       "      <th>PV_38</th>\n",
       "      <td>0.0</td>\n",
       "      <td>0.0</td>\n",
       "      <td>0.0</td>\n",
       "    </tr>\n",
       "    <tr>\n",
       "      <th>PV_31</th>\n",
       "      <td>0.0</td>\n",
       "      <td>0.0</td>\n",
       "      <td>0.0</td>\n",
       "    </tr>\n",
       "    <tr>\n",
       "      <th>PV_32</th>\n",
       "      <td>0.0</td>\n",
       "      <td>0.0</td>\n",
       "      <td>0.0</td>\n",
       "    </tr>\n",
       "    <tr>\n",
       "      <th>PV_33</th>\n",
       "      <td>0.0</td>\n",
       "      <td>0.0</td>\n",
       "      <td>0.0</td>\n",
       "    </tr>\n",
       "    <tr>\n",
       "      <th>PV_34</th>\n",
       "      <td>0.0</td>\n",
       "      <td>0.0</td>\n",
       "      <td>0.0</td>\n",
       "    </tr>\n",
       "    <tr>\n",
       "      <th>PV_36</th>\n",
       "      <td>0.0</td>\n",
       "      <td>0.0</td>\n",
       "      <td>0.0</td>\n",
       "    </tr>\n",
       "    <tr>\n",
       "      <th>Slack_39</th>\n",
       "      <td>0.0</td>\n",
       "      <td>0.0</td>\n",
       "      <td>0.0</td>\n",
       "    </tr>\n",
       "  </tbody>\n",
       "</table>\n",
       "</div>"
      ],
      "text/plain": [
       "          pg_sp1  pg_sp2  pg_sp3\n",
       "stg_idx                         \n",
       "PV_30        0.0     0.0     0.0\n",
       "PV_35        0.0     0.0     0.0\n",
       "PV_37        0.0     0.0     0.0\n",
       "PV_38        0.0     0.0     0.0\n",
       "PV_31        0.0     0.0     0.0\n",
       "PV_32        0.0     0.0     0.0\n",
       "PV_33        0.0     0.0     0.0\n",
       "PV_34        0.0     0.0     0.0\n",
       "PV_36        0.0     0.0     0.0\n",
       "Slack_39     0.0     0.0     0.0"
      ]
     },
     "execution_count": 33,
     "metadata": {},
     "output_type": "execute_result"
    }
   ],
   "source": [
    "# pru and prd are zero\n",
    "pg_cols = ['pg_sp1', 'pg_sp2', 'pg_sp3']\n",
    "gen_p[pg_cols].round(4)"
   ]
  },
  {
   "cell_type": "markdown",
   "metadata": {},
   "source": [
    "Dynamic results"
   ]
  },
  {
   "cell_type": "code",
   "execution_count": 34,
   "metadata": {},
   "outputs": [],
   "source": [
    "# --- index ---\n",
    "vsg_stg = [sa2.REGCV1.gen.v[0]]\n",
    "idx_vsg = sa2.REGCV1.find_idx(keys='gen', values=vsg_stg)\n",
    "syg_vsg = sa1.GENROU.find_idx(keys='gen', values=vsg_stg)\n",
    "bus_syg = sa1.SynGen.get(src='bus', attr='v', idx=syg_vsg)\n",
    "a_vBus_syg = sa1.Bus.get(src='v', attr='a', idx=bus_syg)\n",
    "a_aBus_syg = sa1.Bus.get(src='a', attr='a', idx=bus_syg)\n",
    "\n",
    "# --- data for fig1 ---\n",
    "uid_sg = sa1.SynGen.idx2uid(syg_vsg)\n",
    "pe_case1 = sa1.dae.ts.y[:, sa1.GENROU.Pe.a[uid_sg]]\n",
    "paux_case1 = pe_case1 - sa1.GENROU.p0.v[uid_sg]\n",
    "paux_case1 *= sa1.config.mva\n",
    "\n",
    "uid_vsg = sa2.REGCV1.idx2uid(idx_vsg)\n",
    "pe_case2 = sa2.dae.ts.y[:, sa2.REGCV1.Pe.a[uid_vsg]]\n",
    "pref_case2 = sa2.REGCV1.Pref.v[uid_vsg]\n",
    "paux_case2 = pe_case2 - pref_case2\n",
    "paux_case2 *= sa2.config.mva\n",
    "\n",
    "pe_case3 = sa3.dae.ts.y[:, sa3.REGCV1.Pe.a[uid_vsg]]\n",
    "pref_case3 = sa3.REGCV1.Pref.v[uid_vsg]\n",
    "paux_case3 = pe_case3 - pref_case3\n",
    "paux_case3 *= sa3.config.mva\n",
    "\n",
    "v_case1 = sa1.dae.ts.y[:, sa1.GENROU.v.a[uid_sg]]\n",
    "v_case2 = sa2.dae.ts.y[:, sa2.REGCV1.v.a[uid_vsg]]\n",
    "v_case3 = sa3.dae.ts.y[:, sa3.REGCV1.v.a[uid_vsg]]\n",
    "\n",
    "# --- data for fig2 ---\n",
    "omega_case1 = sa1.dae.ts.y[:, sa1.COI.omega.a]\n",
    "omega_case1 *= sa1.config.freq\n",
    "omega_case2 = sa2.dae.ts.y[:, sa2.COI.omega.a]\n",
    "omega_case2 *= sa2.config.freq\n",
    "omega_case3 = sa3.dae.ts.y[:, sa3.COI.omega.a]\n",
    "omega_case3 *= sa3.config.freq\n",
    "\n",
    "a_rocof = 7\n",
    "rocof_case1 = sa1.dae.ts.y[:, sa1.BusROCOF.Wf_y.a[a_rocof]]\n",
    "rocof_case1 *= sa1.config.freq\n",
    "rocof_case2 = sa2.dae.ts.y[:, sa2.BusROCOF.Wf_y.a[a_rocof]]\n",
    "rocof_case2 *= sa2.config.freq\n",
    "rocof_case3 = sa3.dae.ts.y[:, sa3.BusROCOF.Wf_y.a[a_rocof]]\n",
    "rocof_case3 *= sa3.config.freq"
   ]
  },
  {
   "cell_type": "code",
   "execution_count": 35,
   "metadata": {},
   "outputs": [
    {
     "name": "stderr",
     "output_type": "stream",
     "text": [
      "The PostScript backend does not support transparency; partially transparent artists will be rendered opaque.\n"
     ]
    },
    {
     "data": {
      "image/png": "[encoded data removed]",
      "text/plain": [
       "<Figure size 1400x1400 with 4 Axes>"
      ]
     },
     "metadata": {},
     "output_type": "display_data"
    }
   ],
   "source": [
    "plt.style.use(['default', 'science', 'ieee'])\n",
    "plt.rcParams['text.usetex'] = False\n",
    "\n",
    "fig_v, ax_v = plt.subplots(2, 2, figsize=(7, 7), dpi=200)\n",
    "fig_v.subplots_adjust(wspace=0.3, hspace=0.25)\n",
    "\n",
    "ax_v[0, 0].plot(sa1.dae.ts.t, paux_case1,\n",
    "                label='Case 1', zorder=10,\n",
    "                linestyle='--')\n",
    "ax_v[0, 0].plot(sa2.dae.ts.t, paux_case2,\n",
    "                label='Case 2', zorder=9,\n",
    "                linestyle='-')\n",
    "ax_v[0, 0].plot(sa3.dae.ts.t, paux_case3,\n",
    "                label='Case 3', zorder=8,\n",
    "                linestyle='-')\n",
    "\n",
    "ax_v[0, 1].plot(sa1.dae.ts.t, v_case1,\n",
    "                label='Case 1', zorder=10,\n",
    "                linestyle='--')\n",
    "ax_v[0, 1].plot(sa2.dae.ts.t, v_case2,\n",
    "                label='Case 2', zorder=9,\n",
    "                linestyle='-')\n",
    "ax_v[0, 1].plot(sa3.dae.ts.t, v_case3,\n",
    "                label='Case 3', zorder=8,\n",
    "                linestyle='-')\n",
    "\n",
    "ax_v[1, 0].plot(sa1.dae.ts.t, omega_case1,\n",
    "                label='Case 1', linestyle='--',\n",
    "                zorder=10,)\n",
    "ax_v[1, 0].plot(sa2.dae.ts.t, omega_case2,\n",
    "                label='Case 2', linestyle='-',\n",
    "                zorder=11,)\n",
    "ax_v[1, 0].plot(sa3.dae.ts.t, omega_case3,\n",
    "                label='Case 3', linestyle='-',\n",
    "                zorder=12,)\n",
    "\n",
    "ax_v[1, 1].plot(sa1.dae.ts.t, rocof_case1,\n",
    "                label='Case 1', linestyle='--',\n",
    "                zorder=10,)\n",
    "ax_v[1, 1].plot(sa2.dae.ts.t, rocof_case2,\n",
    "                label='Case 2', linestyle='-',\n",
    "                zorder=9,)\n",
    "ax_v[1, 1].plot(sa3.dae.ts.t, rocof_case3,\n",
    "                label='Case 3', linestyle='-',\n",
    "                zorder=11,)\n",
    "\n",
    "_ = ax_v[0, 0].set_title('(a) IBR1/SG1 Aux Power')\n",
    "_ = ax_v[0, 0].set_ylabel('Power [MW]')\n",
    "\n",
    "_ = ax_v[0, 1].set_title('(b) IBR1/SG1 Bus Voltage')\n",
    "_ = ax_v[0, 1].set_ylabel('Voltage [p.u.]')\n",
    "\n",
    "_ = ax_v[1, 0].set_title('(c) System Frequency')\n",
    "_ = ax_v[1, 0].set_ylabel('Frequency [Hz]')\n",
    "\n",
    "_ = ax_v[1, 1].set_title('(d) System ROCOF')\n",
    "_ = ax_v[1, 1].set_ylabel('ROCOF [Hz/s]')\n",
    "\n",
    "for axes in ax_v.reshape(-1):\n",
    "    axes.legend(frameon=True)\n",
    "    axes.grid(True, zorder=0)\n",
    "    axes.set_xlim([sa1.dae.ts.t[0], sa1.dae.ts.t[-1]])\n",
    "    axes.set_xlabel('Time [s]')\n",
    "\n",
    "fig_v.savefig(\"fig_vis_dyr.eps\", format='eps')"
   ]
  }
 ],
 "metadata": {
  "kernelspec": {
   "display_name": "amsre",
   "language": "python",
   "name": "python3"
  },
  "language_info": {
   "codemirror_mode": {
    "name": "ipython",
    "version": 3
   },
   "file_extension": ".py",
   "mimetype": "text/x-python",
   "name": "python",
   "nbconvert_exporter": "python",
   "pygments_lexer": "ipython3",
   "version": "3.12.0"
  },
  "orig_nbformat": 4
 },
 "nbformat": 4,
 "nbformat_minor": 2
}
