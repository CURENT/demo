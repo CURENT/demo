{
 "cells": [
  {
   "cell_type": "markdown",
   "metadata": {},
   "source": [
    "# Bus Current Injection"
   ]
  },
  {
   "cell_type": "code",
   "execution_count": 1,
   "metadata": {},
   "outputs": [],
   "source": [
    "import numpy as np\n",
    "\n",
    "import andes\n",
    "\n",
    "from andes.linsolvers.scipy import spmatrix_to_csc\n",
    "\n",
    "import scipy.sparse as sps"
   ]
  },
  {
   "cell_type": "code",
   "execution_count": 2,
   "metadata": {},
   "outputs": [],
   "source": [
    "andes.config_logger(20)"
   ]
  },
  {
   "cell_type": "code",
   "execution_count": 3,
   "metadata": {},
   "outputs": [
    {
     "name": "stderr",
     "output_type": "stream",
     "text": [
      "Working directory: \"/Users/jinningwang/work/demo/demo/bus_current_injection\"\n",
      "> Loaded generated Python code in \"/Users/jinningwang/.andes/pycode\".\n",
      "Generated code for <PQ> is stale.\n",
      "Numerical code generation (rapid incremental mode) started...\n"
     ]
    },
    {
     "name": "stdout",
     "output_type": "stream",
     "text": [
      "Generating code for 1 models on 12 processes.\n"
     ]
    },
    {
     "name": "stderr",
     "output_type": "stream",
     "text": [
      "Saved generated pycode to \"/Users/jinningwang/.andes/pycode\"\n",
      "> Reloaded generated Python code of module \"pycode\".\n",
      "Generated numerical code for 1 models in 0.1665 seconds.\n",
      "Parsing input file \"/Users/jinningwang/work/andes/andes/cases/kundur/kundur_full.xlsx\"...\n",
      "Input file parsed in 0.1497 seconds.\n",
      "System internal structure set up in 0.0132 seconds.\n"
     ]
    }
   ],
   "source": [
    "ss = andes.load(andes.get_case('kundur/kundur_full.xlsx'),\n",
    "                setup=True, no_output=True, default_config=True,\n",
    "                pert=\"./pert.py\")"
   ]
  },
  {
   "cell_type": "markdown",
   "metadata": {},
   "source": [
    "ANDES allows bus admittance matrix calculation."
   ]
  },
  {
   "cell_type": "code",
   "execution_count": 4,
   "metadata": {},
   "outputs": [
    {
     "data": {
      "text/plain": [
       "(10, 10)"
      ]
     },
     "execution_count": 4,
     "metadata": {},
     "output_type": "execute_result"
    }
   ],
   "source": [
    "Y = spmatrix_to_csc(ss.Line.build_y()).todense()\n",
    "Y.shape"
   ]
  },
  {
   "cell_type": "code",
   "execution_count": 5,
   "metadata": {},
   "outputs": [
    {
     "name": "stderr",
     "output_type": "stream",
     "text": [
      "-> System connectivity check results:\n",
      "  No islanded bus detected.\n",
      "  System is interconnected.\n",
      "  Each island has a slack bus correctly defined and enabled.\n",
      "\n",
      "-> Power flow calculation\n",
      "           Numba: Off\n",
      "   Sparse solver: KLU\n",
      " Solution method: NR method\n",
      "Power flow initialized in 0.0023 seconds.\n",
      "0: |F(x)| = 14.9282832\n",
      "1: |F(x)| = 3.608627841\n",
      "2: |F(x)| = 0.1701107882\n",
      "3: |F(x)| = 0.002038626956\n",
      "4: |F(x)| = 3.745103979e-07\n",
      "Converged in 5 iterations in 0.0030 seconds.\n"
     ]
    },
    {
     "data": {
      "text/plain": [
       "True"
      ]
     },
     "execution_count": 5,
     "metadata": {},
     "output_type": "execute_result"
    }
   ],
   "source": [
    "ss.PFlow.run()"
   ]
  },
  {
   "cell_type": "code",
   "execution_count": 6,
   "metadata": {},
   "outputs": [],
   "source": [
    "# --- Cft ---\n",
    "ss.nb = ss.Bus.n\n",
    "ss.nl = ss.Line.n\n",
    "\n",
    "# line indices: idx -> uid\n",
    "idx_line = ss.Line.idx.v\n",
    "u_line = ss.Line.get(src='u', attr='v', idx=idx_line)\n",
    "on_line = np.flatnonzero(u_line)\n",
    "on_line_idx = [idx_line[i] for i in on_line]\n",
    "on_line_bus1 = ss.Line.get(src='bus1', attr='v', idx=on_line_idx)\n",
    "on_line_bus2 = ss.Line.get(src='bus2', attr='v', idx=on_line_idx)\n",
    "\n",
    "data_line = np.ones(2*len(on_line_idx))\n",
    "data_line[len(on_line_idx):] = -1\n",
    "row_line = np.array([ss.Bus.idx2uid(x) for x in on_line_bus1 + on_line_bus2])\n",
    "col_line = np.array([ss.Line.idx2uid(x) for x in on_line_idx + on_line_idx])\n",
    "Cft = sps.csr_matrix((data_line, (row_line, col_line)), (ss.nb, ss.nl)).toarray()\n",
    "\n",
    "ss.Cft = Cft\n",
    "ss.Igen = np.zeros((1, ss.nb), dtype=complex)\n",
    "ss.Iline = np.zeros((1, ss.nb), dtype=complex)"
   ]
  },
  {
   "cell_type": "code",
   "execution_count": 7,
   "metadata": {},
   "outputs": [
    {
     "name": "stderr",
     "output_type": "stream",
     "text": [
      "Perturbation file \"./pert.py\" loaded.\n",
      "Initialization for dynamics completed in 0.0299 seconds.\n",
      "Initialization was successful.\n"
     ]
    },
    {
     "name": "stdout",
     "output_type": "stream",
     "text": [
      "<Toggle 1>: Line.Line_8 status changed to 0 at t=2.0 sec.\n"
     ]
    },
    {
     "name": "stderr",
     "output_type": "stream",
     "text": [
      "Simulation to t=30.00 sec completed in 0.7927 seconds.\n"
     ]
    },
    {
     "data": {
      "text/plain": [
       "True"
      ]
     },
     "execution_count": 7,
     "metadata": {},
     "output_type": "execute_result"
    }
   ],
   "source": [
    "ss.TDS.config.tf = 30\n",
    "ss.TDS.config.no_tqdm = True\n",
    "ss.TDS.config.criteria = 0\n",
    "\n",
    "ss.TDS.run()"
   ]
  },
  {
   "cell_type": "code",
   "execution_count": 9,
   "metadata": {},
   "outputs": [
    {
     "data": {
      "text/plain": [
       "(904, 10)"
      ]
     },
     "execution_count": 9,
     "metadata": {},
     "output_type": "execute_result"
    }
   ],
   "source": [
    "ss.Igen.shape"
   ]
  },
  {
   "cell_type": "code",
   "execution_count": 10,
   "metadata": {},
   "outputs": [
    {
     "data": {
      "text/plain": [
       "(904, 10)"
      ]
     },
     "execution_count": 10,
     "metadata": {},
     "output_type": "execute_result"
    }
   ],
   "source": [
    "ss.Iline.shape"
   ]
  }
 ],
 "metadata": {
  "kernelspec": {
   "display_name": "ams",
   "language": "python",
   "name": "python3"
  },
  "language_info": {
   "codemirror_mode": {
    "name": "ipython",
    "version": 3
   },
   "file_extension": ".py",
   "mimetype": "text/x-python",
   "name": "python",
   "nbconvert_exporter": "python",
   "pygments_lexer": "ipython3",
   "version": "3.12.0"
  }
 },
 "nbformat": 4,
 "nbformat_minor": 2
}
