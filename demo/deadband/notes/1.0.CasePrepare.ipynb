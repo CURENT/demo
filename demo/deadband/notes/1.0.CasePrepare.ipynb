{
 "cells": [
  {
   "cell_type": "markdown",
   "metadata": {},
   "source": [
    "# Case Preparation"
   ]
  },
  {
   "cell_type": "code",
   "execution_count": 1,
   "metadata": {},
   "outputs": [],
   "source": [
    "import numpy as np\n",
    "import pandas as pd\n",
    "\n",
    "import andes\n",
    "import ams"
   ]
  },
  {
   "cell_type": "code",
   "execution_count": 2,
   "metadata": {},
   "outputs": [],
   "source": [
    "andes.config_logger(stream_level=30)\n",
    "ams.config_logger(stream_level=30)"
   ]
  },
  {
   "cell_type": "code",
   "execution_count": 3,
   "metadata": {},
   "outputs": [],
   "source": [
    "sp = ams.load('./../cases/IL200_opf.xlsx',\n",
    "               setup=True, no_output=True,\n",
    "               default_config=True)"
   ]
  },
  {
   "cell_type": "code",
   "execution_count": 4,
   "metadata": {},
   "outputs": [
    {
     "data": {
      "text/plain": [
       "True"
      ]
     },
     "execution_count": 4,
     "metadata": {},
     "output_type": "execute_result"
    }
   ],
   "source": [
    "stgs = sp.StaticGen.find_idx(keys='gentype',\n",
    "                             values=['W2', 'PV', 'ES'],\n",
    "                             allow_all=True)\n",
    "\n",
    "for stg in stgs:\n",
    "    gcost = sp.GCost.find_idx(keys='gen', values=stg)\n",
    "    sp.GCost.alter(src='c2', attr='vin', idx=gcost, value=0)\n",
    "    sp.GCost.alter(src='c1', attr='vin', idx=gcost, value=0)\n",
    "    sp.GCost.alter(src='c0', attr='vin', idx=gcost, value=0)\n",
    "\n",
    "    sp.StaticGen.set(src='ctrl', attr='vin', idx=stg, value=0)\n",
    "\n",
    "stgs = sp.StaticGen.find_idx(keys='genfuel',\n",
    "                             values=['coal', 'nuclear'],\n",
    "                             allow_all=True)\n",
    "for stg in stgs:\n",
    "    sp.StaticGen.alter(src='pmin', attr='vin', idx=stg, value=0)\n",
    "\n",
    "slack = sp.Slack.idx.v\n",
    "slack_gcost = sp.GCost.find_idx(keys='gen', values=slack)\n",
    "\n",
    "pmax0 = sp.StaticGen.get(src='pmax', attr='v', idx=slack)\n",
    "sp.StaticGen.alter(src='pmax', attr='vin', idx=slack, value=5*pmax0)\n",
    "\n",
    "for param in ['c2', 'c1', 'c0']:\n",
    "    v0 = sp.GCost.get(attr='v', idx=slack_gcost, src=param)\n",
    "    sp.GCost.alter(src=param, attr='vin', idx=slack_gcost, value=10*v0)\n",
    "\n",
    "sp.to_xlsx('./../cases/IL200_opf2.xlsx', overwrite=True)"
   ]
  },
  {
   "cell_type": "code",
   "execution_count": 5,
   "metadata": {},
   "outputs": [
    {
     "name": "stdout",
     "output_type": "stream",
     "text": [
      "Total capacity: 4251.60 MVA\n",
      "Wind capacity: 1040.52 MVA\n",
      "Solar capacity: 1916.70 MVA\n",
      "ESS capacity: 36.72 MVA\n"
     ]
    }
   ],
   "source": [
    "stg_idx = sp.StaticGen.get_all_idxes()\n",
    "stg_wt = sp.StaticGen.find_idx(keys='genfuel', values=['wind'], allow_all=True)[0]\n",
    "stg_pv = sp.StaticGen.find_idx(keys='genfuel', values=['solar'], allow_all=True)[0]\n",
    "stg_es = sp.StaticGen.find_idx(keys='genfuel', values=['ess'], allow_all=True)[0]\n",
    "\n",
    "sn_wt = sp.StaticGen.get(src='Sn', attr='v', idx=stg_wt)\n",
    "sn_pv = sp.StaticGen.get(src='Sn', attr='v', idx=stg_pv)\n",
    "sn_es = sp.StaticGen.get(src='Sn', attr='v', idx=stg_es)\n",
    "sn_total = sp.StaticGen.get(src='Sn', attr='v', idx=stg_idx)\n",
    "\n",
    "print('Total capacity: {0:.2f} MVA'.format(sn_total.sum()))\n",
    "print('Wind capacity: {0:.2f} MVA'.format(sn_wt.sum()))\n",
    "print('Solar capacity: {0:.2f} MVA'.format(sn_pv.sum()))\n",
    "print('ESS capacity: {0:.2f} MVA'.format(sn_es.sum()))"
   ]
  },
  {
   "cell_type": "markdown",
   "metadata": {},
   "source": [
    "## Inspect Case\n",
    "\n",
    "There are different types of generators:\n",
    "- ST: Steam Turbine (includes nuclear, geothermal, and solar steam)\n",
    "- NB: ST - Boiling Water Nuclear Reactor\n",
    "- W2: Wind Turbine, Type 2\n",
    "- GT: Combustion (Gas) Turbine\n",
    "- PV: Photovoltaic\n",
    "- ESS: Energy Storage System"
   ]
  },
  {
   "cell_type": "code",
   "execution_count": 6,
   "metadata": {},
   "outputs": [
    {
     "data": {
      "application/vnd.microsoft.datawrangler.viewer.v0+json": {
       "columns": [
        {
         "name": "index",
         "rawType": "int64",
         "type": "integer"
        },
        {
         "name": "idx",
         "rawType": "int64",
         "type": "integer"
        },
        {
         "name": "bus",
         "rawType": "int64",
         "type": "integer"
        },
        {
         "name": "Sn",
         "rawType": "float64",
         "type": "float"
        },
        {
         "name": "gentype",
         "rawType": "object",
         "type": "string"
        },
        {
         "name": "genfuel",
         "rawType": "object",
         "type": "string"
        }
       ],
       "ref": "12c25602-32cd-4d26-a30a-ba06edee88b8",
       "rows": [
        [
         "0",
         "47",
         "189",
         "682.98",
         "NB",
         "nuclear"
        ],
        [
         "1",
         "1",
         "49",
         "5.44",
         "ST",
         "coal"
        ],
        [
         "2",
         "2",
         "50",
         "5.44",
         "ST",
         "coal"
        ],
        [
         "3",
         "3",
         "51",
         "5.44",
         "ST",
         "coal"
        ],
        [
         "4",
         "4",
         "52",
         "5.44",
         "ST",
         "coal"
        ],
        [
         "5",
         "5",
         "53",
         "10.88",
         "ST",
         "coal"
        ],
        [
         "6",
         "6",
         "65",
         "180.48",
         "W2",
         "wind"
        ],
        [
         "7",
         "7",
         "67",
         "5.64",
         "ST",
         "coal"
        ],
        [
         "8",
         "8",
         "68",
         "33.5",
         "W2",
         "wind"
        ],
        [
         "9",
         "9",
         "69",
         "33.5",
         "W2",
         "wind"
        ],
        [
         "10",
         "10",
         "70",
         "33.5",
         "W2",
         "wind"
        ],
        [
         "11",
         "11",
         "71",
         "33.5",
         "W2",
         "wind"
        ],
        [
         "12",
         "12",
         "72",
         "33.5",
         "W2",
         "wind"
        ],
        [
         "13",
         "13",
         "73",
         "33.5",
         "W2",
         "wind"
        ],
        [
         "14",
         "14",
         "76",
         "4.8",
         "ES",
         "ess"
        ],
        [
         "15",
         "15",
         "77",
         "2.88",
         "GT",
         "ng"
        ],
        [
         "16",
         "16",
         "78",
         "21.6",
         "GT",
         "ng"
        ],
        [
         "17",
         "17",
         "79",
         "21.6",
         "GT",
         "ng"
        ],
        [
         "18",
         "18",
         "90",
         "3.84",
         "GT",
         "ng"
        ],
        [
         "19",
         "19",
         "91",
         "6.0",
         "GT",
         "ng"
        ],
        [
         "20",
         "20",
         "92",
         "7.56",
         "GT",
         "ng"
        ],
        [
         "21",
         "21",
         "94",
         "21.6",
         "ST",
         "coal"
        ],
        [
         "22",
         "22",
         "104",
         "118.8",
         "W2",
         "wind"
        ],
        [
         "23",
         "23",
         "105",
         "237.6",
         "W2",
         "wind"
        ],
        [
         "24",
         "24",
         "114",
         "2.04",
         "W2",
         "wind"
        ],
        [
         "25",
         "25",
         "115",
         "180.0",
         "W2",
         "wind"
        ],
        [
         "26",
         "26",
         "125",
         "156.06",
         "PV",
         "solar"
        ],
        [
         "27",
         "27",
         "126",
         "156.06",
         "PV",
         "solar"
        ],
        [
         "28",
         "28",
         "127",
         "156.06",
         "PV",
         "solar"
        ],
        [
         "29",
         "29",
         "135",
         "535.68",
         "PV",
         "solar"
        ],
        [
         "30",
         "30",
         "136",
         "535.68",
         "PV",
         "solar"
        ],
        [
         "31",
         "31",
         "147",
         "120.6",
         "W2",
         "wind"
        ],
        [
         "32",
         "32",
         "151",
         "6.48",
         "PV",
         "solar"
        ],
        [
         "33",
         "33",
         "152",
         "92.67",
         "PV",
         "solar"
        ],
        [
         "34",
         "34",
         "153",
         "92.67",
         "PV",
         "solar"
        ],
        [
         "35",
         "35",
         "154",
         "92.67",
         "PV",
         "solar"
        ],
        [
         "36",
         "36",
         "155",
         "92.67",
         "PV",
         "solar"
        ],
        [
         "37",
         "37",
         "161",
         "166.32",
         "GT",
         "ng"
        ],
        [
         "38",
         "38",
         "164",
         "14.4",
         "GT",
         "ng"
        ],
        [
         "39",
         "39",
         "165",
         "31.2",
         "GT",
         "ng"
        ],
        [
         "40",
         "40",
         "166",
         "11.28",
         "GT",
         "ng"
        ],
        [
         "41",
         "41",
         "167",
         "11.28",
         "GT",
         "ng"
        ],
        [
         "42",
         "42",
         "168",
         "11.28",
         "GT",
         "ng"
        ],
        [
         "43",
         "43",
         "169",
         "11.28",
         "GT",
         "ng"
        ],
        [
         "44",
         "44",
         "170",
         "11.28",
         "GT",
         "ng"
        ],
        [
         "45",
         "45",
         "182",
         "21.0",
         "ST",
         "coal"
        ],
        [
         "46",
         "46",
         "183",
         "31.92",
         "ES",
         "ess"
        ],
        [
         "47",
         "48",
         "196",
         "81.0",
         "GT",
         "ng"
        ],
        [
         "48",
         "49",
         "197",
         "81.0",
         "GT",
         "ng"
        ]
       ],
       "shape": {
        "columns": 5,
        "rows": 49
       }
      },
      "text/html": [
       "<div>\n",
       "<style scoped>\n",
       "    .dataframe tbody tr th:only-of-type {\n",
       "        vertical-align: middle;\n",
       "    }\n",
       "\n",
       "    .dataframe tbody tr th {\n",
       "        vertical-align: top;\n",
       "    }\n",
       "\n",
       "    .dataframe thead th {\n",
       "        text-align: right;\n",
       "    }\n",
       "</style>\n",
       "<table border=\"1\" class=\"dataframe\">\n",
       "  <thead>\n",
       "    <tr style=\"text-align: right;\">\n",
       "      <th></th>\n",
       "      <th>idx</th>\n",
       "      <th>bus</th>\n",
       "      <th>Sn</th>\n",
       "      <th>gentype</th>\n",
       "      <th>genfuel</th>\n",
       "    </tr>\n",
       "  </thead>\n",
       "  <tbody>\n",
       "    <tr>\n",
       "      <th>0</th>\n",
       "      <td>47</td>\n",
       "      <td>189</td>\n",
       "      <td>682.98</td>\n",
       "      <td>NB</td>\n",
       "      <td>nuclear</td>\n",
       "    </tr>\n",
       "    <tr>\n",
       "      <th>1</th>\n",
       "      <td>1</td>\n",
       "      <td>49</td>\n",
       "      <td>5.44</td>\n",
       "      <td>ST</td>\n",
       "      <td>coal</td>\n",
       "    </tr>\n",
       "    <tr>\n",
       "      <th>2</th>\n",
       "      <td>2</td>\n",
       "      <td>50</td>\n",
       "      <td>5.44</td>\n",
       "      <td>ST</td>\n",
       "      <td>coal</td>\n",
       "    </tr>\n",
       "    <tr>\n",
       "      <th>3</th>\n",
       "      <td>3</td>\n",
       "      <td>51</td>\n",
       "      <td>5.44</td>\n",
       "      <td>ST</td>\n",
       "      <td>coal</td>\n",
       "    </tr>\n",
       "    <tr>\n",
       "      <th>4</th>\n",
       "      <td>4</td>\n",
       "      <td>52</td>\n",
       "      <td>5.44</td>\n",
       "      <td>ST</td>\n",
       "      <td>coal</td>\n",
       "    </tr>\n",
       "    <tr>\n",
       "      <th>5</th>\n",
       "      <td>5</td>\n",
       "      <td>53</td>\n",
       "      <td>10.88</td>\n",
       "      <td>ST</td>\n",
       "      <td>coal</td>\n",
       "    </tr>\n",
       "    <tr>\n",
       "      <th>6</th>\n",
       "      <td>6</td>\n",
       "      <td>65</td>\n",
       "      <td>180.48</td>\n",
       "      <td>W2</td>\n",
       "      <td>wind</td>\n",
       "    </tr>\n",
       "    <tr>\n",
       "      <th>7</th>\n",
       "      <td>7</td>\n",
       "      <td>67</td>\n",
       "      <td>5.64</td>\n",
       "      <td>ST</td>\n",
       "      <td>coal</td>\n",
       "    </tr>\n",
       "    <tr>\n",
       "      <th>8</th>\n",
       "      <td>8</td>\n",
       "      <td>68</td>\n",
       "      <td>33.50</td>\n",
       "      <td>W2</td>\n",
       "      <td>wind</td>\n",
       "    </tr>\n",
       "    <tr>\n",
       "      <th>9</th>\n",
       "      <td>9</td>\n",
       "      <td>69</td>\n",
       "      <td>33.50</td>\n",
       "      <td>W2</td>\n",
       "      <td>wind</td>\n",
       "    </tr>\n",
       "    <tr>\n",
       "      <th>10</th>\n",
       "      <td>10</td>\n",
       "      <td>70</td>\n",
       "      <td>33.50</td>\n",
       "      <td>W2</td>\n",
       "      <td>wind</td>\n",
       "    </tr>\n",
       "    <tr>\n",
       "      <th>11</th>\n",
       "      <td>11</td>\n",
       "      <td>71</td>\n",
       "      <td>33.50</td>\n",
       "      <td>W2</td>\n",
       "      <td>wind</td>\n",
       "    </tr>\n",
       "    <tr>\n",
       "      <th>12</th>\n",
       "      <td>12</td>\n",
       "      <td>72</td>\n",
       "      <td>33.50</td>\n",
       "      <td>W2</td>\n",
       "      <td>wind</td>\n",
       "    </tr>\n",
       "    <tr>\n",
       "      <th>13</th>\n",
       "      <td>13</td>\n",
       "      <td>73</td>\n",
       "      <td>33.50</td>\n",
       "      <td>W2</td>\n",
       "      <td>wind</td>\n",
       "    </tr>\n",
       "    <tr>\n",
       "      <th>14</th>\n",
       "      <td>14</td>\n",
       "      <td>76</td>\n",
       "      <td>4.80</td>\n",
       "      <td>ES</td>\n",
       "      <td>ess</td>\n",
       "    </tr>\n",
       "    <tr>\n",
       "      <th>15</th>\n",
       "      <td>15</td>\n",
       "      <td>77</td>\n",
       "      <td>2.88</td>\n",
       "      <td>GT</td>\n",
       "      <td>ng</td>\n",
       "    </tr>\n",
       "    <tr>\n",
       "      <th>16</th>\n",
       "      <td>16</td>\n",
       "      <td>78</td>\n",
       "      <td>21.60</td>\n",
       "      <td>GT</td>\n",
       "      <td>ng</td>\n",
       "    </tr>\n",
       "    <tr>\n",
       "      <th>17</th>\n",
       "      <td>17</td>\n",
       "      <td>79</td>\n",
       "      <td>21.60</td>\n",
       "      <td>GT</td>\n",
       "      <td>ng</td>\n",
       "    </tr>\n",
       "    <tr>\n",
       "      <th>18</th>\n",
       "      <td>18</td>\n",
       "      <td>90</td>\n",
       "      <td>3.84</td>\n",
       "      <td>GT</td>\n",
       "      <td>ng</td>\n",
       "    </tr>\n",
       "    <tr>\n",
       "      <th>19</th>\n",
       "      <td>19</td>\n",
       "      <td>91</td>\n",
       "      <td>6.00</td>\n",
       "      <td>GT</td>\n",
       "      <td>ng</td>\n",
       "    </tr>\n",
       "    <tr>\n",
       "      <th>20</th>\n",
       "      <td>20</td>\n",
       "      <td>92</td>\n",
       "      <td>7.56</td>\n",
       "      <td>GT</td>\n",
       "      <td>ng</td>\n",
       "    </tr>\n",
       "    <tr>\n",
       "      <th>21</th>\n",
       "      <td>21</td>\n",
       "      <td>94</td>\n",
       "      <td>21.60</td>\n",
       "      <td>ST</td>\n",
       "      <td>coal</td>\n",
       "    </tr>\n",
       "    <tr>\n",
       "      <th>22</th>\n",
       "      <td>22</td>\n",
       "      <td>104</td>\n",
       "      <td>118.80</td>\n",
       "      <td>W2</td>\n",
       "      <td>wind</td>\n",
       "    </tr>\n",
       "    <tr>\n",
       "      <th>23</th>\n",
       "      <td>23</td>\n",
       "      <td>105</td>\n",
       "      <td>237.60</td>\n",
       "      <td>W2</td>\n",
       "      <td>wind</td>\n",
       "    </tr>\n",
       "    <tr>\n",
       "      <th>24</th>\n",
       "      <td>24</td>\n",
       "      <td>114</td>\n",
       "      <td>2.04</td>\n",
       "      <td>W2</td>\n",
       "      <td>wind</td>\n",
       "    </tr>\n",
       "    <tr>\n",
       "      <th>25</th>\n",
       "      <td>25</td>\n",
       "      <td>115</td>\n",
       "      <td>180.00</td>\n",
       "      <td>W2</td>\n",
       "      <td>wind</td>\n",
       "    </tr>\n",
       "    <tr>\n",
       "      <th>26</th>\n",
       "      <td>26</td>\n",
       "      <td>125</td>\n",
       "      <td>156.06</td>\n",
       "      <td>PV</td>\n",
       "      <td>solar</td>\n",
       "    </tr>\n",
       "    <tr>\n",
       "      <th>27</th>\n",
       "      <td>27</td>\n",
       "      <td>126</td>\n",
       "      <td>156.06</td>\n",
       "      <td>PV</td>\n",
       "      <td>solar</td>\n",
       "    </tr>\n",
       "    <tr>\n",
       "      <th>28</th>\n",
       "      <td>28</td>\n",
       "      <td>127</td>\n",
       "      <td>156.06</td>\n",
       "      <td>PV</td>\n",
       "      <td>solar</td>\n",
       "    </tr>\n",
       "    <tr>\n",
       "      <th>29</th>\n",
       "      <td>29</td>\n",
       "      <td>135</td>\n",
       "      <td>535.68</td>\n",
       "      <td>PV</td>\n",
       "      <td>solar</td>\n",
       "    </tr>\n",
       "    <tr>\n",
       "      <th>30</th>\n",
       "      <td>30</td>\n",
       "      <td>136</td>\n",
       "      <td>535.68</td>\n",
       "      <td>PV</td>\n",
       "      <td>solar</td>\n",
       "    </tr>\n",
       "    <tr>\n",
       "      <th>31</th>\n",
       "      <td>31</td>\n",
       "      <td>147</td>\n",
       "      <td>120.60</td>\n",
       "      <td>W2</td>\n",
       "      <td>wind</td>\n",
       "    </tr>\n",
       "    <tr>\n",
       "      <th>32</th>\n",
       "      <td>32</td>\n",
       "      <td>151</td>\n",
       "      <td>6.48</td>\n",
       "      <td>PV</td>\n",
       "      <td>solar</td>\n",
       "    </tr>\n",
       "    <tr>\n",
       "      <th>33</th>\n",
       "      <td>33</td>\n",
       "      <td>152</td>\n",
       "      <td>92.67</td>\n",
       "      <td>PV</td>\n",
       "      <td>solar</td>\n",
       "    </tr>\n",
       "    <tr>\n",
       "      <th>34</th>\n",
       "      <td>34</td>\n",
       "      <td>153</td>\n",
       "      <td>92.67</td>\n",
       "      <td>PV</td>\n",
       "      <td>solar</td>\n",
       "    </tr>\n",
       "    <tr>\n",
       "      <th>35</th>\n",
       "      <td>35</td>\n",
       "      <td>154</td>\n",
       "      <td>92.67</td>\n",
       "      <td>PV</td>\n",
       "      <td>solar</td>\n",
       "    </tr>\n",
       "    <tr>\n",
       "      <th>36</th>\n",
       "      <td>36</td>\n",
       "      <td>155</td>\n",
       "      <td>92.67</td>\n",
       "      <td>PV</td>\n",
       "      <td>solar</td>\n",
       "    </tr>\n",
       "    <tr>\n",
       "      <th>37</th>\n",
       "      <td>37</td>\n",
       "      <td>161</td>\n",
       "      <td>166.32</td>\n",
       "      <td>GT</td>\n",
       "      <td>ng</td>\n",
       "    </tr>\n",
       "    <tr>\n",
       "      <th>38</th>\n",
       "      <td>38</td>\n",
       "      <td>164</td>\n",
       "      <td>14.40</td>\n",
       "      <td>GT</td>\n",
       "      <td>ng</td>\n",
       "    </tr>\n",
       "    <tr>\n",
       "      <th>39</th>\n",
       "      <td>39</td>\n",
       "      <td>165</td>\n",
       "      <td>31.20</td>\n",
       "      <td>GT</td>\n",
       "      <td>ng</td>\n",
       "    </tr>\n",
       "    <tr>\n",
       "      <th>40</th>\n",
       "      <td>40</td>\n",
       "      <td>166</td>\n",
       "      <td>11.28</td>\n",
       "      <td>GT</td>\n",
       "      <td>ng</td>\n",
       "    </tr>\n",
       "    <tr>\n",
       "      <th>41</th>\n",
       "      <td>41</td>\n",
       "      <td>167</td>\n",
       "      <td>11.28</td>\n",
       "      <td>GT</td>\n",
       "      <td>ng</td>\n",
       "    </tr>\n",
       "    <tr>\n",
       "      <th>42</th>\n",
       "      <td>42</td>\n",
       "      <td>168</td>\n",
       "      <td>11.28</td>\n",
       "      <td>GT</td>\n",
       "      <td>ng</td>\n",
       "    </tr>\n",
       "    <tr>\n",
       "      <th>43</th>\n",
       "      <td>43</td>\n",
       "      <td>169</td>\n",
       "      <td>11.28</td>\n",
       "      <td>GT</td>\n",
       "      <td>ng</td>\n",
       "    </tr>\n",
       "    <tr>\n",
       "      <th>44</th>\n",
       "      <td>44</td>\n",
       "      <td>170</td>\n",
       "      <td>11.28</td>\n",
       "      <td>GT</td>\n",
       "      <td>ng</td>\n",
       "    </tr>\n",
       "    <tr>\n",
       "      <th>45</th>\n",
       "      <td>45</td>\n",
       "      <td>182</td>\n",
       "      <td>21.00</td>\n",
       "      <td>ST</td>\n",
       "      <td>coal</td>\n",
       "    </tr>\n",
       "    <tr>\n",
       "      <th>46</th>\n",
       "      <td>46</td>\n",
       "      <td>183</td>\n",
       "      <td>31.92</td>\n",
       "      <td>ES</td>\n",
       "      <td>ess</td>\n",
       "    </tr>\n",
       "    <tr>\n",
       "      <th>47</th>\n",
       "      <td>48</td>\n",
       "      <td>196</td>\n",
       "      <td>81.00</td>\n",
       "      <td>GT</td>\n",
       "      <td>ng</td>\n",
       "    </tr>\n",
       "    <tr>\n",
       "      <th>48</th>\n",
       "      <td>49</td>\n",
       "      <td>197</td>\n",
       "      <td>81.00</td>\n",
       "      <td>GT</td>\n",
       "      <td>ng</td>\n",
       "    </tr>\n",
       "  </tbody>\n",
       "</table>\n",
       "</div>"
      ],
      "text/plain": [
       "    idx  bus      Sn gentype  genfuel\n",
       "0    47  189  682.98      NB  nuclear\n",
       "1     1   49    5.44      ST     coal\n",
       "2     2   50    5.44      ST     coal\n",
       "3     3   51    5.44      ST     coal\n",
       "4     4   52    5.44      ST     coal\n",
       "5     5   53   10.88      ST     coal\n",
       "6     6   65  180.48      W2     wind\n",
       "7     7   67    5.64      ST     coal\n",
       "8     8   68   33.50      W2     wind\n",
       "9     9   69   33.50      W2     wind\n",
       "10   10   70   33.50      W2     wind\n",
       "11   11   71   33.50      W2     wind\n",
       "12   12   72   33.50      W2     wind\n",
       "13   13   73   33.50      W2     wind\n",
       "14   14   76    4.80      ES      ess\n",
       "15   15   77    2.88      GT       ng\n",
       "16   16   78   21.60      GT       ng\n",
       "17   17   79   21.60      GT       ng\n",
       "18   18   90    3.84      GT       ng\n",
       "19   19   91    6.00      GT       ng\n",
       "20   20   92    7.56      GT       ng\n",
       "21   21   94   21.60      ST     coal\n",
       "22   22  104  118.80      W2     wind\n",
       "23   23  105  237.60      W2     wind\n",
       "24   24  114    2.04      W2     wind\n",
       "25   25  115  180.00      W2     wind\n",
       "26   26  125  156.06      PV    solar\n",
       "27   27  126  156.06      PV    solar\n",
       "28   28  127  156.06      PV    solar\n",
       "29   29  135  535.68      PV    solar\n",
       "30   30  136  535.68      PV    solar\n",
       "31   31  147  120.60      W2     wind\n",
       "32   32  151    6.48      PV    solar\n",
       "33   33  152   92.67      PV    solar\n",
       "34   34  153   92.67      PV    solar\n",
       "35   35  154   92.67      PV    solar\n",
       "36   36  155   92.67      PV    solar\n",
       "37   37  161  166.32      GT       ng\n",
       "38   38  164   14.40      GT       ng\n",
       "39   39  165   31.20      GT       ng\n",
       "40   40  166   11.28      GT       ng\n",
       "41   41  167   11.28      GT       ng\n",
       "42   42  168   11.28      GT       ng\n",
       "43   43  169   11.28      GT       ng\n",
       "44   44  170   11.28      GT       ng\n",
       "45   45  182   21.00      ST     coal\n",
       "46   46  183   31.92      ES      ess\n",
       "47   48  196   81.00      GT       ng\n",
       "48   49  197   81.00      GT       ng"
      ]
     },
     "execution_count": 6,
     "metadata": {},
     "output_type": "execute_result"
    }
   ],
   "source": [
    "stg_dfs = sp.StaticGen.as_df()\n",
    "stg_cols = ['idx', 'bus', 'Sn', 'gentype', 'genfuel']\n",
    "\n",
    "stg_df = stg_dfs[stg_cols]\n",
    "\n",
    "stg_df"
   ]
  },
  {
   "cell_type": "markdown",
   "metadata": {},
   "source": [
    "## Dynamic Models Replacement"
   ]
  },
  {
   "cell_type": "markdown",
   "metadata": {},
   "source": [
    "In the original dynamic case, only ``GENROU`` is used for dynamic generators.\n",
    "To better represent the dynamic behavior, following replacements are made:\n",
    "1. W2 type gen, replace GENROU with: ``PVD1``\n",
    "1. PV type gen, replace GENROU with: ``PVD1``\n",
    "1. ESS type gen, replace GENROU with ``ESD1``"
   ]
  },
  {
   "cell_type": "code",
   "execution_count": 7,
   "metadata": {},
   "outputs": [
    {
     "name": "stdout",
     "output_type": "stream",
     "text": [
      "Generating code for 1 models on 12 processes.\n"
     ]
    },
    {
     "data": {
      "text/plain": [
       "'ACEc_1'"
      ]
     },
     "execution_count": 7,
     "metadata": {},
     "output_type": "execute_result"
    }
   ],
   "source": [
    "# load the dynamics case but don't set up it\n",
    "dyn_base_case = './../cases/IL200_dyn_new.xlsx'\n",
    "\n",
    "sa = andes.load(dyn_base_case,\n",
    "                setup=False, no_output=True,\n",
    "                default_config=True)\n",
    "\n",
    "# NOTE: bias is manually measured, in unit MW/0.1Hz\n",
    "slack_bus = sa.Slack.bus.v[0]\n",
    "sa.add('ACEc', param_dict=dict(bus=slack_bus, bias=-45))"
   ]
  },
  {
   "cell_type": "code",
   "execution_count": 8,
   "metadata": {},
   "outputs": [],
   "source": [
    "# In the ANDES case, get the StaticGen idx for type W2, NB, ST, GT, respectively\n",
    "stg_idxes = sp.StaticGen.find_idx(keys='gentype',\n",
    "                                  values=['W2', 'PV', 'ES'],\n",
    "                                  allow_all=True)\n",
    "stg_w2t = stg_idxes[0]\n",
    "stg_pv = stg_idxes[1]\n",
    "stg_ess = stg_idxes[2]\n",
    "\n",
    "n_w2t = len(stg_w2t)\n",
    "n_pv = len(stg_pv)\n",
    "n_ess = len(stg_ess)\n",
    "\n",
    "# In the ANDES case, get the corresponding SynGen idx\n",
    "syg_w2t = sa.SynGen.find_idx(keys='gen', values=stg_w2t)\n",
    "syg_pv = sa.SynGen.find_idx(keys='gen', values=stg_pv)\n",
    "syg_ess = sa.SynGen.find_idx(keys='gen', values=stg_ess)"
   ]
  },
  {
   "cell_type": "code",
   "execution_count": 9,
   "metadata": {},
   "outputs": [
    {
     "data": {
      "text/plain": [
       "True"
      ]
     },
     "execution_count": 9,
     "metadata": {},
     "output_type": "execute_result"
    }
   ],
   "source": [
    "# --- GENROU -> WT2G: REGF2WT ---\n",
    "REGF2WT = pd.DataFrame()\n",
    "\n",
    "# mapped parameters\n",
    "REGF2WT['u'] = sa.SynGen.get(src='u', idx=syg_w2t)\n",
    "REGF2WT['idx'] = [f'WT_{i}' for i in range(1, n_w2t + 1)]\n",
    "REGF2WT['bus'] = sa.SynGen.get(src='bus', idx=syg_w2t)\n",
    "REGF2WT['gen'] = sa.SynGen.get(src='gen', idx=syg_w2t)\n",
    "REGF2WT['Sn'] = sa.SynGen.get(src='Sn', idx=syg_w2t)\n",
    "REGF2WT['PQFLAG'] = [1] * n_w2t  # P priority\n",
    "REGF2WT['fn'] = [sa.config.freq] * n_w2t\n",
    "REGF2WT['dwmax'] = [75] * n_w2t\n",
    "REGF2WT['dwmin'] = [-75] * n_w2t\n",
    "REGF2WT['wdrp'] = [0.033] * n_w2t\n",
    "REGF2WT['Qdrp'] = [0.045] * n_w2t\n",
    "REGF2WT['KPi'] = [500] * n_w2t\n",
    "REGF2WT['KIi'] = [0] * n_w2t\n",
    "REGF2WT['Pmax'] = [999] * n_w2t\n",
    "REGF2WT['Pmin'] = [-999] * n_w2t\n",
    "REGF2WT['Qmax'] = [999] * n_w2t\n",
    "REGF2WT['Qmin'] = [-999] * n_w2t\n",
    "REGF2WT['gammap'] = sa.SynGen.get(src='gammap', idx=syg_w2t)\n",
    "REGF2WT['gammaq'] = sa.SynGen.get(src='gammaq', idx=syg_w2t)\n",
    "\n",
    "# unmapped parameters are skipped and default values are used\n",
    "# add to the system\n",
    "regf2_w2t = []\n",
    "for row in REGF2WT.itertuples(index=False):\n",
    "    idx = sa.add(model='REGF2', param_dict={**row._asdict()})\n",
    "    regf2_w2t.append(idx)\n",
    "\n",
    "# turn off the original GENROU\n",
    "sa.SynGen.alter(src='u', value=0, idx=syg_w2t)"
   ]
  },
  {
   "cell_type": "code",
   "execution_count": 10,
   "metadata": {},
   "outputs": [
    {
     "data": {
      "text/plain": [
       "True"
      ]
     },
     "execution_count": 10,
     "metadata": {},
     "output_type": "execute_result"
    }
   ],
   "source": [
    "# --- GENROU -> PV: REGF2PV ---\n",
    "REGF2PV = pd.DataFrame()\n",
    "\n",
    "# mapped parameters\n",
    "REGF2PV['u'] = sa.SynGen.get(src='u', idx=syg_pv)\n",
    "REGF2PV['idx'] = [f'PV_{i}' for i in range(1, n_pv + 1)]\n",
    "REGF2PV['bus'] = sa.SynGen.get(src='bus', idx=syg_pv)\n",
    "REGF2PV['gen'] = sa.SynGen.get(src='gen', idx=syg_pv)\n",
    "REGF2PV['Sn'] = sa.SynGen.get(src='Sn', idx=syg_pv)\n",
    "REGF2PV['PQFLAG'] = [1] * n_pv  # P priority\n",
    "REGF2PV['fn'] = [sa.config.freq] * n_pv\n",
    "REGF2PV['dwmax'] = [75] * n_pv\n",
    "REGF2PV['dwmin'] = [-75] * n_pv\n",
    "REGF2PV['wdrp'] = [0.033] * n_pv\n",
    "REGF2PV['Qdrp'] = [0.045] * n_pv\n",
    "REGF2PV['KPi'] = [500] * n_pv\n",
    "REGF2PV['KIi'] = [0] * n_pv\n",
    "REGF2PV['Pmax'] = [999] * n_pv\n",
    "REGF2PV['Pmin'] = [-999] * n_pv\n",
    "REGF2PV['Qmax'] = [999] * n_pv\n",
    "REGF2PV['Qmin'] = [-999] * n_pv\n",
    "REGF2PV['gammap'] = sa.SynGen.get(src='gammap', idx=syg_pv)\n",
    "REGF2PV['gammaq'] = sa.SynGen.get(src='gammaq', idx=syg_pv)\n",
    "\n",
    "# unmapped parameters are skipped and default values are used\n",
    "# add to the system\n",
    "regf2_pv = []\n",
    "for row in REGF2PV.itertuples(index=False):\n",
    "    idx = sa.add(model='REGF2', param_dict={**row._asdict()})\n",
    "    regf2_pv.append(idx)\n",
    "\n",
    "# turn off the original GENROU\n",
    "sa.SynGen.alter(src='u', value=0, idx=syg_pv)"
   ]
  },
  {
   "cell_type": "code",
   "execution_count": 11,
   "metadata": {},
   "outputs": [
    {
     "data": {
      "text/plain": [
       "True"
      ]
     },
     "execution_count": 11,
     "metadata": {},
     "output_type": "execute_result"
    }
   ],
   "source": [
    "# --- GENROU -> ESS: REGF2ES ---\n",
    "REGF2ES = pd.DataFrame()\n",
    "\n",
    "# mapped parameters\n",
    "REGF2ES['u'] = sa.SynGen.get(src='u', idx=syg_ess)\n",
    "REGF2ES['idx'] = [f'ESS_{i}' for i in range(1, n_ess + 1)]\n",
    "REGF2ES['bus'] = sa.SynGen.get(src='bus', idx=syg_ess)\n",
    "REGF2ES['gen'] = sa.SynGen.get(src='gen', idx=syg_ess)\n",
    "REGF2ES['Sn'] = sa.SynGen.get(src='Sn', idx=syg_ess)\n",
    "REGF2ES['PQFLAG'] = [1] * n_ess  # P priority\n",
    "REGF2ES['fn'] = [sa.config.freq] * n_ess\n",
    "REGF2ES['dwmax'] = [75] * n_ess\n",
    "REGF2ES['dwmin'] = [-75] * n_ess\n",
    "REGF2ES['wdrp'] = [0.033] * n_ess\n",
    "REGF2ES['Qdrp'] = [0.045] * n_ess\n",
    "REGF2ES['KPi'] = [500] * n_ess\n",
    "REGF2ES['KIi'] = [0] * n_ess\n",
    "REGF2ES['Pmax'] = [999] * n_ess\n",
    "REGF2ES['Pmin'] = [-999] * n_ess\n",
    "REGF2ES['Qmax'] = [999] * n_ess\n",
    "REGF2ES['Qmin'] = [-999] * n_ess\n",
    "REGF2ES['gammap'] = sa.SynGen.get(src='gammap', idx=syg_ess)\n",
    "REGF2ES['gammaq'] = sa.SynGen.get(src='gammaq', idx=syg_ess)\n",
    "\n",
    "# unmapped parameters are skipped and default values are used\n",
    "# add to the system\n",
    "regf2_es = []\n",
    "for row in REGF2ES.itertuples(index=False):\n",
    "    idx = sa.add(model='REGF2', param_dict={**row._asdict()})\n",
    "    regf2_es.append(idx)\n",
    "\n",
    "# turn off the original GENROU\n",
    "sa.SynGen.alter(src='u', value=0, idx=syg_ess)"
   ]
  },
  {
   "cell_type": "code",
   "execution_count": 12,
   "metadata": {},
   "outputs": [
    {
     "data": {
      "text/plain": [
       "True"
      ]
     },
     "execution_count": 12,
     "metadata": {},
     "output_type": "execute_result"
    }
   ],
   "source": [
    "sa.setup()\n",
    "\n",
    "# relax TurbineGov upper limit\n",
    "vmax0 = sa.TGOV1NDB.get(src='VMAX', attr='v', idx=sa.TGOV1NDB.idx.v)\n",
    "sa.TGOV1NDB.set(src='VMAX', attr='v', idx=sa.TGOV1NDB.idx.v,\n",
    "                value=100 * vmax0)"
   ]
  },
  {
   "cell_type": "code",
   "execution_count": 13,
   "metadata": {},
   "outputs": [
    {
     "name": "stderr",
     "output_type": "stream",
     "text": [
      "GENROU (vf range) out of typical lower limit.\n",
      "\n",
      "   idx     | values | limit\n",
      "-----------+--------+------\n",
      " GENROU_6  | 0      | 1    \n",
      " GENROU_7  | 0.865  | 1    \n",
      " GENROU_8  | 0      | 1    \n",
      " GENROU_9  | 0      | 1    \n",
      " GENROU_10 | 0      | 1    \n",
      " GENROU_11 | 0      | 1    \n",
      " GENROU_12 | 0      | 1    \n",
      " GENROU_13 | 0      | 1    \n",
      " GENROU_14 | 0      | 1    \n",
      " GENROU_22 | 0      | 1    \n",
      " GENROU_23 | 0      | 1    \n",
      " GENROU_24 | 0      | 1    \n",
      " GENROU_25 | 0      | 1    \n",
      " GENROU_26 | 0      | 1    \n",
      " GENROU_27 | 0      | 1    \n",
      " GENROU_28 | 0      | 1    \n",
      " GENROU_29 | 0      | 1    \n",
      " GENROU_30 | 0      | 1    \n",
      " GENROU_31 | 0      | 1    \n",
      " GENROU_32 | 0      | 1    \n",
      " GENROU_33 | 0      | 1    \n",
      " GENROU_34 | 0      | 1    \n",
      " GENROU_35 | 0      | 1    \n",
      " GENROU_36 | 0      | 1    \n",
      " GENROU_38 | 0.977  | 1    \n",
      " GENROU_46 | 0      | 1    \n",
      "\n",
      "\n"
     ]
    }
   ],
   "source": [
    "sa.PFlow.run()\n",
    "_ = sa.TDS.init()"
   ]
  },
  {
   "cell_type": "code",
   "execution_count": 14,
   "metadata": {},
   "outputs": [
    {
     "data": {
      "text/plain": [
       "True"
      ]
     },
     "execution_count": 14,
     "metadata": {},
     "output_type": "execute_result"
    }
   ],
   "source": [
    "sa.TDS.config.no_tqdm = True\n",
    "\n",
    "sa.TDS.run()"
   ]
  },
  {
   "cell_type": "code",
   "execution_count": 15,
   "metadata": {},
   "outputs": [
    {
     "data": {
      "text/plain": [
       "True"
      ]
     },
     "execution_count": 15,
     "metadata": {},
     "output_type": "execute_result"
    }
   ],
   "source": [
    "# Export to XLSX for Further Use\n",
    "andes.io.xlsx.write(sa, './../cases/IL200_dyn_db.xlsx',\n",
    "                    overwrite=True)"
   ]
  },
  {
   "cell_type": "code",
   "execution_count": 16,
   "metadata": {},
   "outputs": [],
   "source": [
    "genrou_off = sa.GENROU.find_idx(keys='u', values=[0], allow_all=True)[0]\n",
    "tgov1_off = sa.TGOV1NDB.find_idx(keys='syn', values=genrou_off)\n",
    "sexs_off = sa.SEXS.find_idx(keys='syn', values=genrou_off)\n",
    "\n",
    "genrou_off_uid = sa.GENROU.idx2uid(genrou_off)\n",
    "tgov1_off_uid = sa.TGOV1NDB.idx2uid(tgov1_off)\n",
    "sexs_off_uid = sa.SEXS.idx2uid(sexs_off)"
   ]
  },
  {
   "cell_type": "markdown",
   "metadata": {},
   "source": [
    "In the code block below, offline devices in GENROU, TGOV1NDB, and SEXS are deleted."
   ]
  },
  {
   "cell_type": "code",
   "execution_count": 17,
   "metadata": {},
   "outputs": [],
   "source": [
    "xls0 = pd.ExcelFile('./../cases/IL200_dyn_db.xlsx')\n",
    "\n",
    "revised_sheets = dict()\n",
    "\n",
    "for sheet_name in xls0.sheet_names:\n",
    "    if sheet_name == 'GENROU':\n",
    "        df = pd.read_excel(xls0, sheet_name=sheet_name)\n",
    "        df = df.drop(genrou_off_uid, axis=0)\n",
    "        revised_sheets[sheet_name] = df\n",
    "    elif sheet_name == 'TGOV1NDB':\n",
    "        df = pd.read_excel(xls0, sheet_name=sheet_name)\n",
    "        df = df.drop(tgov1_off_uid, axis=0)\n",
    "        revised_sheets[sheet_name] = df\n",
    "    elif sheet_name == 'SEXS':\n",
    "        df = pd.read_excel(xls0, sheet_name=sheet_name)\n",
    "        df = df.drop(sexs_off_uid, axis=0)\n",
    "        revised_sheets[sheet_name] = df\n",
    "    else:\n",
    "        revised_sheets[sheet_name] = pd.read_excel(xls0, sheet_name=sheet_name)\n",
    "\n",
    "with pd.ExcelWriter(\"./../cases/IL200_dyn_db2.xlsx\", engine=\"openpyxl\") as writer:\n",
    "    for sheet_name, df in revised_sheets.items():\n",
    "        df.to_excel(writer, sheet_name=sheet_name,\n",
    "                    index=False, freeze_panes=(1, 0))"
   ]
  },
  {
   "cell_type": "code",
   "execution_count": 18,
   "metadata": {},
   "outputs": [
    {
     "name": "stdout",
     "output_type": "stream",
     "text": [
      "Generating code for 1 models on 12 processes.\n"
     ]
    },
    {
     "name": "stderr",
     "output_type": "stream",
     "text": [
      "GENROU (vf range) out of typical lower limit.\n",
      "\n",
      "   idx     | values | limit\n",
      "-----------+--------+------\n",
      " GENROU_7  | 0.865  | 1    \n",
      " GENROU_38 | 0.977  | 1    \n",
      "\n",
      "\n"
     ]
    }
   ],
   "source": [
    "sa0 = andes.load('./../cases/IL200_dyn_db2.xlsx',\n",
    "                 setup=True, no_output=True,\n",
    "                 default_config=True)\n",
    "\n",
    "sa0.PFlow.run()\n",
    "sa0.TDS.init()\n",
    "\n",
    "sa0.EIG.run()\n",
    "sa0.EIG.report()"
   ]
  }
 ],
 "metadata": {
  "kernelspec": {
   "display_name": "amsre",
   "language": "python",
   "name": "python3"
  },
  "language_info": {
   "codemirror_mode": {
    "name": "ipython",
    "version": 3
   },
   "file_extension": ".py",
   "mimetype": "text/x-python",
   "name": "python",
   "nbconvert_exporter": "python",
   "pygments_lexer": "ipython3",
   "version": "3.12.0"
  }
 },
 "nbformat": 4,
 "nbformat_minor": 2
}
