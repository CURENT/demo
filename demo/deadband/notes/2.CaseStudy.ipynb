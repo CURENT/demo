{
 "cells": [
  {
   "cell_type": "markdown",
   "metadata": {},
   "source": [
    "# Case Study"
   ]
  },
  {
   "cell_type": "code",
   "execution_count": 1,
   "metadata": {},
   "outputs": [],
   "source": [
    "import numpy as np\n",
    "import pandas as pd\n",
    "\n",
    "import andes\n",
    "import ams"
   ]
  },
  {
   "cell_type": "code",
   "execution_count": 2,
   "metadata": {},
   "outputs": [],
   "source": [
    "%matplotlib inline"
   ]
  },
  {
   "cell_type": "code",
   "execution_count": 3,
   "metadata": {},
   "outputs": [],
   "source": [
    "andes.config_logger(stream_level=30)\n",
    "ams.config_logger(stream_level=30)"
   ]
  },
  {
   "cell_type": "code",
   "execution_count": 4,
   "metadata": {},
   "outputs": [],
   "source": [
    "sp1 = ams.load('./../cases/IL200_opf_db.xlsx',\n",
    "               setup=True, no_output=True,\n",
    "               default_config=True)\n",
    "sp2 = ams.load('./../cases/IL200_opf_db.xlsx',\n",
    "               setup=True, no_output=True,\n",
    "               default_config=True)"
   ]
  },
  {
   "cell_type": "code",
   "execution_count": 5,
   "metadata": {},
   "outputs": [
    {
     "name": "stdout",
     "output_type": "stream",
     "text": [
      "Generating code for 1 models on 12 processes.\n"
     ]
    },
    {
     "name": "stderr",
     "output_type": "stream",
     "text": [
      "Following PFlow models in addfile will be overwritten: <Bus>, <PQ>, <PV>, <Slack>, <Shunt>, <Line>, <Area>\n",
      "AMS system 0x127cc2db0 is linked to the ANDES system 0x174ada630.\n"
     ]
    },
    {
     "name": "stdout",
     "output_type": "stream",
     "text": [
      "Generating code for 1 models on 12 processes.\n"
     ]
    },
    {
     "name": "stderr",
     "output_type": "stream",
     "text": [
      "Following PFlow models in addfile will be overwritten: <Bus>, <PQ>, <PV>, <Slack>, <Shunt>, <Line>, <Area>\n",
      "AMS system 0x175d32810 is linked to the ANDES system 0x1748c5520.\n"
     ]
    }
   ],
   "source": [
    "s1 = sp1.to_andes(addfile='./../cases/IL200_dyn_db.xlsx',\n",
    "                   setup=False,\n",
    "                   no_output=True,\n",
    "                   default_config=True,)\n",
    "s2 = sp2.to_andes(addfile='./../cases/IL200_dyn_db.xlsx',\n",
    "                   setup=False,\n",
    "                   no_output=True,\n",
    "                   default_config=True,)\n",
    "for ss in [s1, s2]:\n",
    "    # add a Alter device to set load increase\n",
    "    ss.add(model='Alter',\n",
    "           param_dict=dict(t=1, model='PQ', dev='PQ_1', src='Ppf',\n",
    "                           attr='v', method='+', amount=0.2))\n",
    "    ss.add(model='Alter',\n",
    "           param_dict=dict(t=1, model='PQ', dev='PQ_2', src='Ppf',\n",
    "                           attr='v', method='+', amount=0.2))\n",
    "    ss.add(model='Alter',\n",
    "           param_dict=dict(t=1, model='PQ', dev='PQ_3', src='Ppf',\n",
    "                           attr='v', method='+', amount=0.3))\n",
    "\n",
    "    ss.setup()"
   ]
  },
  {
   "cell_type": "markdown",
   "metadata": {},
   "source": [
    "Adjust deadband settings"
   ]
  },
  {
   "cell_type": "code",
   "execution_count": 6,
   "metadata": {},
   "outputs": [
    {
     "data": {
      "text/plain": [
       "True"
      ]
     },
     "execution_count": 6,
     "metadata": {},
     "output_type": "execute_result"
    }
   ],
   "source": [
    "# --- TGOV1NDB ---\n",
    "# dbL, Lower bound of deadband, p.u.\n",
    "s1.TGOV1NDB.set(src='dbL', attr='v', idx=s1.TGOV1NDB.idx.v,\n",
    "                value=0,  # TODO: set desired value\n",
    "                )\n",
    "# dbU, Upper bound of deadband, p.u.\n",
    "s1.TGOV1NDB.set(src='dbU', attr='v', idx=s1.TGOV1NDB.idx.v,\n",
    "                value=0,  # TODO: set desired value\n",
    "                )\n",
    "\n",
    "# --- Wind ---\n",
    "# hard coded\n",
    "wt_repca1 = [f'WT_REPCA1_{i+1}' for i in range(12)]\n",
    "# Lower threshold for freq. error deadband, p.u. (Hz)\n",
    "s1.REPCA1.set(src='fdbd1', attr='v',\n",
    "              idx=wt_repca1,\n",
    "              value=0.0)  # TODO: set desired value\n",
    "# Upper threshold for freq. error deadband, p.u. (Hz)\n",
    "s1.REPCA1.set(src='fdbd2', attr='v',\n",
    "              idx=wt_repca1,\n",
    "              value=0.0)  # TODO: set desired value\n",
    "\n",
    "# --- PV ---\n",
    "# hard coded\n",
    "pv_repca1 = [f'PV_REPCA1_{i+1}' for i in range(10)]\n",
    "# Lower threshold for freq. error deadband, p.u. (Hz)\n",
    "s1.REPCA1.set(src='fdbd2', attr='v',\n",
    "              idx=pv_repca1,\n",
    "              value=0.0)  # TODO: set desired value\n",
    "# Upper threshold for freq. error deadband, p.u. (Hz)\n",
    "s1.REPCA1.set(src='fdbd2', attr='v',\n",
    "              idx=pv_repca1,\n",
    "              value=0.0)  # TODO: set desired value\n",
    "\n",
    "# --- ESD1 ---\n",
    "# frequency deviation deadband, Hz\n",
    "s1.ESD1.set(src='fdbd', attr='v',\n",
    "            idx=s1.ESD1.idx.v,\n",
    "            value=-0.01)  # TODO: set desired value\n",
    "# Gain after f deadband, pu (MW)/Hz\n",
    "s1.ESD1.set(src='ddn', attr='v',\n",
    "            idx=s1.ESD1.idx.v,\n",
    "            value=0.0)  # TODO: set desired value"
   ]
  },
  {
   "cell_type": "markdown",
   "metadata": {},
   "source": [
    "TODO: do samething for ``s2``"
   ]
  },
  {
   "cell_type": "code",
   "execution_count": 7,
   "metadata": {},
   "outputs": [
    {
     "name": "stderr",
     "output_type": "stream",
     "text": [
      "GENROU (vf range) out of typical lower limit.\n",
      "\n",
      "   idx     | values | limit\n",
      "-----------+--------+------\n",
      " GENROU_6  | 0      | 1    \n",
      " GENROU_7  | 0.865  | 1    \n",
      " GENROU_8  | 0      | 1    \n",
      " GENROU_9  | 0      | 1    \n",
      " GENROU_10 | 0      | 1    \n",
      " GENROU_11 | 0      | 1    \n",
      " GENROU_12 | 0      | 1    \n",
      " GENROU_13 | 0      | 1    \n",
      " GENROU_14 | 0      | 1    \n",
      " GENROU_22 | 0      | 1    \n",
      " GENROU_23 | 0      | 1    \n",
      " GENROU_24 | 0      | 1    \n",
      " GENROU_25 | 0      | 1    \n",
      " GENROU_26 | 0      | 1    \n",
      " GENROU_27 | 0      | 1    \n",
      " GENROU_28 | 0      | 1    \n",
      " GENROU_29 | 0      | 1    \n",
      " GENROU_30 | 0      | 1    \n",
      " GENROU_31 | 0      | 1    \n",
      " GENROU_32 | 0      | 1    \n",
      " GENROU_33 | 0      | 1    \n",
      " GENROU_34 | 0      | 1    \n",
      " GENROU_35 | 0      | 1    \n",
      " GENROU_36 | 0      | 1    \n",
      " GENROU_38 | 0.977  | 1    \n",
      " GENROU_46 | 0      | 1    \n",
      "\n",
      "\n",
      "/Users/jinningwang/work/andes/andes/core/model/model.py:790: ComplexWarning: Casting complex values to real discards the imaginary part\n",
      "  instance.v = np.array(func(*self.s_args[name]),\n",
      "/Users/jinningwang/work/andes/andes/core/model/model.py:829: ComplexWarning: Casting complex values to real discards the imaginary part\n",
      "  instance.v[:] = func(*self.s_args[name])\n",
      "GENROU (vf range) out of typical lower limit.\n",
      "\n",
      "   idx     | values | limit\n",
      "-----------+--------+------\n",
      " GENROU_6  | 0      | 1    \n",
      " GENROU_7  | 0.865  | 1    \n",
      " GENROU_8  | 0      | 1    \n",
      " GENROU_9  | 0      | 1    \n",
      " GENROU_10 | 0      | 1    \n",
      " GENROU_11 | 0      | 1    \n",
      " GENROU_12 | 0      | 1    \n",
      " GENROU_13 | 0      | 1    \n",
      " GENROU_14 | 0      | 1    \n",
      " GENROU_22 | 0      | 1    \n",
      " GENROU_23 | 0      | 1    \n",
      " GENROU_24 | 0      | 1    \n",
      " GENROU_25 | 0      | 1    \n",
      " GENROU_26 | 0      | 1    \n",
      " GENROU_27 | 0      | 1    \n",
      " GENROU_28 | 0      | 1    \n",
      " GENROU_29 | 0      | 1    \n",
      " GENROU_30 | 0      | 1    \n",
      " GENROU_31 | 0      | 1    \n",
      " GENROU_32 | 0      | 1    \n",
      " GENROU_33 | 0      | 1    \n",
      " GENROU_34 | 0      | 1    \n",
      " GENROU_35 | 0      | 1    \n",
      " GENROU_36 | 0      | 1    \n",
      " GENROU_38 | 0.977  | 1    \n",
      " GENROU_46 | 0      | 1    \n",
      "\n",
      "\n"
     ]
    }
   ],
   "source": [
    "for ss in [s1, s2]:\n",
    "    # Constant load\n",
    "    ss.PQ.config.p2p = 1\n",
    "    ss.PQ.config.q2q = 1\n",
    "    ss.PQ.config.p2z = 0\n",
    "    ss.PQ.config.q2z = 0\n",
    "\n",
    "    ss.PFlow.run()\n",
    "\n",
    "    _ = ss.TDS.init()"
   ]
  },
  {
   "cell_type": "code",
   "execution_count": 8,
   "metadata": {},
   "outputs": [
    {
     "name": "stdout",
     "output_type": "stream",
     "text": [
      "<Alter Alter_1>: set PQ.PQ_1.Ppf.v=0.27385 at t=1. Previous value was 0.07385.\n",
      "<Alter Alter_2>: set PQ.PQ_2.Ppf.v=0.21695 at t=1. Previous value was 0.01695.\n",
      "<Alter Alter_3>: set PQ.PQ_3.Ppf.v=0.37947 at t=1. Previous value was 0.07947.\n",
      "<Alter Alter_1>: set PQ.PQ_1.Ppf.v=0.27385 at t=1. Previous value was 0.07385.\n",
      "<Alter Alter_2>: set PQ.PQ_2.Ppf.v=0.21695 at t=1. Previous value was 0.01695.\n",
      "<Alter Alter_3>: set PQ.PQ_3.Ppf.v=0.37947 at t=1. Previous value was 0.07947.\n"
     ]
    }
   ],
   "source": [
    "for ss in [s1, s2]:\n",
    "    ss.TDS.config.tf = 50\n",
    "    ss.TDS.config.criteria = 0\n",
    "    ss.TDS.config.no_tqdm = True\n",
    "\n",
    "    ss.TDS.run()"
   ]
  },
  {
   "cell_type": "code",
   "execution_count": 9,
   "metadata": {},
   "outputs": [
    {
     "data": {
      "image/png": "[encoded data removed]",
      "text/plain": [
       "<Figure size 640x480 with 1 Axes>"
      ]
     },
     "metadata": {},
     "output_type": "display_data"
    }
   ],
   "source": [
    "\n",
    "fmin, fmax = 59.4, 60.01\n",
    "tmin, tmax = 0, 8\n",
    "linewidth = 1.5\n",
    "genrou_idx = 'GENROU_47'\n",
    "\n",
    "# left: short-term response, without and with thermal inertia\n",
    "_ = s1.TDS.plt.plot(\n",
    "    s1.GENROU.omega,\n",
    "    a=s1.GENROU.idx2uid(genrou_idx),\n",
    "    left=tmin, right=tmax,\n",
    "    ymin=fmin, ymax=fmax,\n",
    "    ytimes=s1.config.freq,\n",
    "    show=False, grid=True,\n",
    "    ylabel='Slack Gen. Freq. [Hz]',\n",
    ")"
   ]
  }
 ],
 "metadata": {
  "kernelspec": {
   "display_name": "amsre",
   "language": "python",
   "name": "python3"
  },
  "language_info": {
   "codemirror_mode": {
    "name": "ipython",
    "version": 3
   },
   "file_extension": ".py",
   "mimetype": "text/x-python",
   "name": "python",
   "nbconvert_exporter": "python",
   "pygments_lexer": "ipython3",
   "version": "3.12.0"
  }
 },
 "nbformat": 4,
 "nbformat_minor": 2
}
