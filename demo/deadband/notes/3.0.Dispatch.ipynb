{
 "cells": [
  {
   "cell_type": "code",
   "execution_count": 1,
   "metadata": {},
   "outputs": [],
   "source": [
    "import json\n",
    "\n",
    "import numpy as np\n",
    "import pandas as pd\n",
    "\n",
    "import andes\n",
    "import ams\n",
    "\n",
    "from andes.thirdparty.npfunc import safe_div"
   ]
  },
  {
   "cell_type": "code",
   "execution_count": 2,
   "metadata": {},
   "outputs": [],
   "source": [
    "andes.config_logger(stream_level=50)\n",
    "ams.config_logger(stream_level=50)"
   ]
  },
  {
   "cell_type": "code",
   "execution_count": 3,
   "metadata": {},
   "outputs": [],
   "source": [
    "case_path = \"./../cases\"\n",
    "res_path = \"./../results\"\n",
    "addfile = case_path + '/IL200_dyn_db2.xlsx'\n",
    "\n",
    "# --- file loading ---\n",
    "curve = pd.read_csv(case_path + '/CurveInterp.csv')"
   ]
  },
  {
   "cell_type": "code",
   "execution_count": 4,
   "metadata": {},
   "outputs": [],
   "source": [
    "sp = ams.load(case_path + '/IL200_opf2.xlsx',\n",
    "              setup=True, no_output=True,\n",
    "              default_config=True)"
   ]
  },
  {
   "cell_type": "code",
   "execution_count": 5,
   "metadata": {},
   "outputs": [],
   "source": [
    "# NOTE: 1) the maximum number of dispatch should follow: \"D * Dispatch_interval <= 3600\"\n",
    "#       2) the maximum number of AGC should follow: \"Dispatch_interval % AGC_interval == 0\"\n",
    "\n",
    "Dispatch_interval = 900  # seconds\n",
    "AGC_interval = 15  # seconds\n",
    "\n",
    "pq_idx = sp.PQ.idx.v\n",
    "p0 = sp.PQ.p0.v.copy()\n",
    "q0 = sp.PQ.q0.v.copy()\n",
    "\n",
    "stg = sp.StaticGen.get_all_idxes()\n",
    "\n",
    "stg_idxes = sp.StaticGen.find_idx(keys='gentype',\n",
    "                                  values=['W2', 'PV', 'ES'],\n",
    "                                  allow_all=True)\n",
    "\n",
    "stg_w2t, stg_pv, stg_ess = stg_idxes\n",
    "\n",
    "p0_w2t = sp.StaticGen.get(src='p0', attr='v', idx=stg_w2t)\n",
    "p0_pv = sp.StaticGen.get(src='p0', attr='v', idx=stg_pv)"
   ]
  },
  {
   "cell_type": "code",
   "execution_count": 6,
   "metadata": {},
   "outputs": [
    {
     "name": "stdout",
     "output_type": "stream",
     "text": [
      "Hour 0\n",
      "Hour 4\n",
      "Hour 8\n",
      "Hour 12\n",
      "Hour 16\n",
      "Hour 20\n"
     ]
    }
   ],
   "source": [
    "export_dict = {}\n",
    "\n",
    "for hour in range(24):\n",
    "    if hour % 4 == 0:\n",
    "        print(f\"Hour {hour}\")\n",
    "    for dispatch in range(int(3600 / Dispatch_interval)):\n",
    "        r0 = hour * 3600 + dispatch * Dispatch_interval\n",
    "        r1 = r0 + Dispatch_interval\n",
    "\n",
    "        load = curve['Load'].iloc[r0:r1].values.mean()\n",
    "        sp.PQ.set(src='p0', attr='v', idx=pq_idx,\n",
    "                  value=load*p0)\n",
    "        sp.PQ.set(src='q0', attr='v', idx=pq_idx,\n",
    "                  value=load*q0)\n",
    "\n",
    "        psum = sp.PQ.p0.v.sum()\n",
    "        solar = curve['PV'].iloc[r0:r1].values.mean()\n",
    "        wind = curve['Wind'].iloc[r0:r1].values.mean()\n",
    "\n",
    "        wind_sum = wind * p0_w2t.sum()\n",
    "        solar_sum = solar * p0_pv.sum()\n",
    "        # NOTE: discard wind and solar if they exceed the total load\n",
    "        if wind_sum + solar_sum > psum:\n",
    "            dgen = wind_sum + solar_sum - psum\n",
    "            dwind = dgen / (wind_sum + solar_sum) * wind_sum\n",
    "            dsolar = dgen / (wind_sum + solar_sum) * solar_sum\n",
    "            wind = safe_div(wind_sum - 1.05*dwind, wind_sum)\n",
    "            solar = safe_div(solar_sum - 1.05*dsolar, solar_sum)\n",
    "\n",
    "        sp.StaticGen.set(src='p0', attr='v', idx=stg_w2t,\n",
    "                         value=wind*p0_w2t)\n",
    "        sp.StaticGen.set(src='p0', attr='v', idx=stg_pv,\n",
    "                         value=solar*p0_pv)\n",
    "\n",
    "        sp.StaticGen.set(src='p0', attr='v', idx=stg_w2t,\n",
    "                         value=wind*p0_w2t)\n",
    "        sp.StaticGen.set(src='p0', attr='v', idx=stg_pv,\n",
    "                         value=solar*p0_pv)\n",
    "\n",
    "        # NOTE: preserve 1% pmax as regulation capacity\n",
    "        pmax = sp.StaticGen.get(src='pmax', attr='v', idx=stg)\n",
    "        sp.StaticGen.set(src='pmax', attr='v', idx=stg,\n",
    "                         value=0.99 * pmax)\n",
    "\n",
    "        sp.ACOPF.config.update(verbose=0, out_all=0)\n",
    "\n",
    "        sp.ACOPF.update()\n",
    "        sp.ACOPF.run()\n",
    "\n",
    "        if not sp.ACOPF.converged:\n",
    "            print(f\"Dispatch {dispatch} did not converge!\")\n",
    "\n",
    "        # Select variables to export\n",
    "        export_dict[f\"h{hour}d{dispatch}\"] = {\n",
    "            \"converged\": sp.ACOPF.converged,\n",
    "            \"load\": load,\n",
    "            \"wind\": wind,\n",
    "            \"solar\": solar,\n",
    "            \"obj\": sp.ACOPF.obj.v,\n",
    "            \"gen\": sp.ACOPF.pg.get_all_idxes(),\n",
    "            \"pg\": sp.ACOPF.pg.v.tolist(),\n",
    "            \"qg\": sp.ACOPF.qg.v.tolist(),\n",
    "            \"bus\": sp.ACOPF.vBus.get_all_idxes(),\n",
    "            \"vBus\": sp.ACOPF.vBus.v.tolist(),\n",
    "            \"aBus\": sp.ACOPF.aBus.v.tolist(),\n",
    "        }"
   ]
  },
  {
   "cell_type": "code",
   "execution_count": 7,
   "metadata": {},
   "outputs": [],
   "source": [
    "# Export to JSON file\n",
    "with open(res_path + f\"/opf.json\", \"w\") as f:\n",
    "    json.dump(export_dict, f, indent=2)"
   ]
  }
 ],
 "metadata": {
  "kernelspec": {
   "display_name": "amsre",
   "language": "python",
   "name": "python3"
  },
  "language_info": {
   "codemirror_mode": {
    "name": "ipython",
    "version": 3
   },
   "file_extension": ".py",
   "mimetype": "text/x-python",
   "name": "python",
   "nbconvert_exporter": "python",
   "pygments_lexer": "ipython3",
   "version": "3.12.0"
  }
 },
 "nbformat": 4,
 "nbformat_minor": 2
}
