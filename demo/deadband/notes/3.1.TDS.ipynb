{
 "cells": [
  {
   "cell_type": "code",
   "execution_count": 1,
   "metadata": {},
   "outputs": [],
   "source": [
    "import json\n",
    "\n",
    "import numpy as np\n",
    "import pandas as pd\n",
    "\n",
    "import andes\n",
    "import ams"
   ]
  },
  {
   "cell_type": "code",
   "execution_count": 2,
   "metadata": {},
   "outputs": [
    {
     "name": "stdout",
     "output_type": "stream",
     "text": [
      "\n",
      "    _           _         | Version 1.9.3.post32+gddc308cb\n",
      "   /_\\  _ _  __| |___ ___ | Python 3.12.0 on Darwin, 05/27/2025 10:02:03 PM\n",
      "  / _ \\| ' \\/ _` / -_|_-< | \n",
      " /_/ \\_\\_||_\\__,_\\___/__/ | This program comes with ABSOLUTELY NO WARRANTY.\n",
      "\n",
      "> Loaded config from file \"/Users/jinningwang/.andes/andes.rc\"\n",
      "Numerical code generation (rapid incremental mode) started...\n",
      "> Loaded generated Python code in \"/Users/jinningwang/.andes/pycode\".\n",
      "Generating code for 1 models on 12 processes.\n",
      "Saved generated pycode to \"/Users/jinningwang/.andes/pycode\"\n",
      "> Reloaded generated Python code of module \"pycode\".\n",
      "Generated numerical code for 1 models in 0.0917 seconds.\n"
     ]
    }
   ],
   "source": [
    "!andes prep -i"
   ]
  },
  {
   "cell_type": "code",
   "execution_count": 3,
   "metadata": {},
   "outputs": [],
   "source": [
    "andes.config_logger(stream_level=50)\n",
    "ams.config_logger(stream_level=50)"
   ]
  },
  {
   "cell_type": "code",
   "execution_count": 4,
   "metadata": {},
   "outputs": [],
   "source": [
    "case_path = \"./../cases\"\n",
    "res_path = \"./../results\"\n",
    "addfile = case_path + '/IL200_dyn_db2.xlsx'\n",
    "\n",
    "# --- file loading ---\n",
    "curve = pd.read_csv(case_path + '/CurveInterp.csv')"
   ]
  },
  {
   "cell_type": "code",
   "execution_count": 5,
   "metadata": {},
   "outputs": [
    {
     "name": "stdout",
     "output_type": "stream",
     "text": [
      "Generating code for 1 models on 12 processes.\n"
     ]
    },
    {
     "name": "stderr",
     "output_type": "stream",
     "text": [
      "/var/folders/__/n5kx_m_s0tbg6n5qd7rh51700000gn/T/ipykernel_41285/1130107227.py:9: FutureWarning: Downcasting object dtype arrays on .fillna, .ffill, .bfill is deprecated and will change in a future version. Call result.infer_objects(copy=False) instead. To opt-in to the future behavior, set `pd.set_option('future.no_silent_downcasting', True)`\n",
      "  link = sp.dyn.link.copy().fillna(False)\n"
     ]
    }
   ],
   "source": [
    "sp = ams.load(case_path + '/IL200_opf2.xlsx',\n",
    "              setup=True, no_output=True,\n",
    "              default_config=True)\n",
    "\n",
    "sa = sp.to_andes(addfile=addfile, setup=True, no_output=True,\n",
    "                 default_config=True)\n",
    "\n",
    "# new link table\n",
    "link = sp.dyn.link.copy().fillna(False)\n",
    "# existence of each type of generator\n",
    "link['has_gov'] = link['gov_idx'].fillna(\n",
    "    0, inplace=False).astype(bool).astype(int)\n",
    "link['has_dg'] = link['dg_idx'].fillna(\n",
    "    0, inplace=False).astype(bool).astype(int)\n",
    "link['has_rg'] = link['rg_idx'].fillna(\n",
    "    0, inplace=False).astype(bool).astype(int)"
   ]
  },
  {
   "cell_type": "code",
   "execution_count": 6,
   "metadata": {},
   "outputs": [],
   "source": [
    "with open(res_path + f'/opf.json', 'r') as f:\n",
    "    opf = json.load(f)"
   ]
  },
  {
   "cell_type": "code",
   "execution_count": 7,
   "metadata": {},
   "outputs": [],
   "source": [
    "# NOTE: 1) the maximum number of dispatch should follow: \"D * Dispatch_interval <= 3600\"\n",
    "#       2) the maximum number of AGC should follow: \"Dispatch_interval % AGC_interval == 0\"\n",
    "\n",
    "Dispatch_interval = 900  # seconds\n",
    "AGC_interval = 15  # seconds\n",
    "\n",
    "pq_idx = sp.PQ.idx.v\n",
    "p0 = sp.PQ.p0.v.copy()\n",
    "q0 = sp.PQ.q0.v.copy()\n",
    "\n",
    "stg = sp.StaticGen.get_all_idxes()\n",
    "\n",
    "stg_idxes = sp.StaticGen.find_idx(keys='gentype',\n",
    "                                  values=['W2', 'PV', 'ES'],\n",
    "                                  allow_all=True)\n",
    "\n",
    "stg_w2t, stg_pv, stg_ess = stg_idxes\n",
    "\n",
    "p0_w2t = sp.StaticGen.get(src='p0', attr='v', idx=stg_w2t)\n",
    "p0_pv = sp.StaticGen.get(src='p0', attr='v', idx=stg_pv)\n",
    "\n",
    "stg_slack = sp.Slack.idx.v"
   ]
  },
  {
   "cell_type": "code",
   "execution_count": 8,
   "metadata": {},
   "outputs": [],
   "source": [
    "KP = 0.2\n",
    "KI = 0.05\n",
    "ACE_integral = 0.0  # Integral of Area Control Error (ACE)\n",
    "ACE_raw = 0.0  # Raw Area Control Error (ACE)"
   ]
  },
  {
   "cell_type": "code",
   "execution_count": 9,
   "metadata": {},
   "outputs": [
    {
     "name": "stdout",
     "output_type": "stream",
     "text": [
      "Generating code for 1 models on 12 processes.\n"
     ]
    },
    {
     "name": "stderr",
     "output_type": "stream",
     "text": [
      "/Users/jinningwang/work/andes/andes/core/model/model.py:790: ComplexWarning: Casting complex values to real discards the imaginary part\n",
      "  instance.v = np.array(func(*self.s_args[name]),\n",
      "/Users/jinningwang/work/andes/andes/core/model/model.py:829: ComplexWarning: Casting complex values to real discards the imaginary part\n",
      "  instance.v[:] = func(*self.s_args[name])\n",
      "/Users/jinningwang/work/andes/andes/core/model/model.py:829: ComplexWarning: Casting complex values to real discards the imaginary part\n",
      "  instance.v[:] = func(*self.s_args[name])\n"
     ]
    },
    {
     "name": "stdout",
     "output_type": "stream",
     "text": [
      "Watchdog: Second: 100\n",
      "Watchdog: Second: 200\n",
      "Watchdog: Second: 300\n",
      "Watchdog: Second: 400\n",
      "Watchdog: Second: 500\n",
      "Watchdog: Second: 600\n",
      "Watchdog: Second: 700\n",
      "Watchdog: Second: 800\n"
     ]
    }
   ],
   "source": [
    "for hour in [22]:\n",
    "    for dispatch in [1]:\n",
    "        r0 = hour * 3600 + dispatch * Dispatch_interval\n",
    "        # --- Dispatch ---\n",
    "        opfr = opf[f\"h{hour}d{dispatch}\"]\n",
    "\n",
    "        sa = andes.load(addfile,\n",
    "                        setup=True, no_output=True,\n",
    "                        default_config=True)\n",
    "\n",
    "        syn_slack = sa.SynGen.find_idx(keys='gen', values=stg_slack)[0]\n",
    "\n",
    "        sap0 = sa.PQ.p0.v.copy()  # Copy of initial ANDES active load\n",
    "        saq0 = sa.PQ.q0.v.copy()  # Copy of initial ANDES reactive load\n",
    "\n",
    "        sa.StaticGen.set(src='p0', attr='v', idx=opfr['gen'], value=opfr['pg'])\n",
    "        sa.Bus.set(src='v0', attr='v', idx=opfr['bus'], value=opfr['vBus'])\n",
    "        sa.Bus.set(src='a0', attr='v', idx=opfr['bus'], value=opfr['aBus'])\n",
    "\n",
    "        pv_bus = sa.PV.bus.v\n",
    "        slack_bus = sa.Slack.bus.v\n",
    "        v_pv = sa.Bus.get(src='v0', attr='v', idx=pv_bus)\n",
    "        a_slack = sa.Bus.get(src='a0', attr='v', idx=slack_bus)\n",
    "\n",
    "        sa.PV.set(src='v0', attr='v', idx=sa.PV.idx.v, value=v_pv)\n",
    "        sa.Slack.set(src='a0', attr='v', idx=sa.Slack.idx.v, value=a_slack)\n",
    "\n",
    "        # --- participation factor ---\n",
    "        stg_on_uid = np.where(np.array(opfr['pg']) > 1e-4)[0]\n",
    "        stg = opfr['gen']\n",
    "        stg_on = np.array(\n",
    "            [1 if uid in stg_on_uid else 0 for uid in range(len(stg))])\n",
    "        sn = sp.StaticGen.get(src='Sn', attr='v', idx=stg)\n",
    "        bf = stg_on * sn / (stg_on * sn).sum()\n",
    "\n",
    "        # use constant power model for PQ\n",
    "        sa.PQ.config.p2p = 1\n",
    "        sa.PQ.config.q2q = 1\n",
    "        sa.PQ.config.p2z = 0\n",
    "        sa.PQ.config.q2z = 0\n",
    "        sa.PQ.pq2z = 0\n",
    "\n",
    "        sa.TDS.config.criteria = 0\n",
    "        sa.TDS.config.no_tqdm = True\n",
    "\n",
    "        sa.PQ.set(src='p0', attr='v', idx=pq_idx,\n",
    "                  value=opfr['load'] * sap0)\n",
    "        sa.PQ.set(src='q0', attr='v', idx=pq_idx,\n",
    "                  value=opfr['load'] * saq0)\n",
    "        \n",
    "        sa.StaticGen.set(src='p0', attr='v', idx=stg_w2t,\n",
    "                         value=opfr['wind'] * p0_w2t)\n",
    "        sa.StaticGen.set(src='p0', attr='v', idx=stg_pv,\n",
    "                         value=opfr['solar'] * p0_pv)\n",
    "        sa.PFlow.run()\n",
    "        _ = sa.TDS.init()\n",
    "\n",
    "        for t in range(Dispatch_interval):\n",
    "            # --- AGC Interval ---\n",
    "            # Compute AGC signals only for generators with corresponding controllers\n",
    "            for col, has_col in [('agov', 'has_gov'), ('adg', 'has_dg'), ('arg', 'has_rg')]:\n",
    "                link[col] = ACE_raw * bf * link[has_col] * link['gammap']\n",
    "            if t % AGC_interval == 0 and t > 0:\n",
    "                # set into governor, Exclude NaN values for governor index\n",
    "                agov_to_set = {gov: agov for gov, agov in zip(\n",
    "                    link['gov_idx'], link['agov']) if bool(gov)}\n",
    "                sa.TurbineGov.set(src='paux0', idx=list(\n",
    "                    agov_to_set.keys()), attr='v', value=list(agov_to_set.values()))\n",
    "\n",
    "                # set into dg, Exclude NaN values for dg index\n",
    "                adg_to_set = {dg: adg for dg, adg in zip(\n",
    "                    link['dg_idx'], link['adg']) if bool(dg)}\n",
    "                sa.DG.set(src='Pext0', idx=list(adg_to_set.keys()),\n",
    "                            attr='v', value=list(adg_to_set.values()))\n",
    "\n",
    "            # --- TDS Interval ---\n",
    "            if t > 0:  # when t>0, run TDS\n",
    "                # 1) Update loads\n",
    "                kload = curve['Load'].iloc[r0+t]\n",
    "                sa.PQ.set(src='Ppf', attr='v', idx=sa.PQ.idx.v,\n",
    "                            value=kload * sap0)\n",
    "                sa.PQ.set(src='Qpf', attr='v', idx=sa.PQ.idx.v,\n",
    "                            value=kload * saq0)\n",
    "                # ANDES wind and solar\n",
    "                wind = curve['Wind'].iloc[r0+t]\n",
    "                sa.StaticGen.set(src='p0', attr='v', idx=stg_w2t,\n",
    "                                    value=wind * p0_w2t)\n",
    "                solar = curve['PV'].iloc[r0+t]\n",
    "                sa.StaticGen.set(src='p0', attr='v', idx=stg_pv,\n",
    "                                    value=solar * p0_pv)\n",
    "\n",
    "                sa.TDS.config.tf = t\n",
    "                sa.TDS.run()\n",
    "\n",
    "                # 3) Update AGC PI controller\n",
    "                ACE_raw = -(KP * sa.ACEc.ace.v.sum() +\n",
    "                            KI * ACE_integral)\n",
    "                ACE_integral = ACE_integral + sa.ACEc.ace.v.sum()\n",
    "\n",
    "            if sa.exit_code != 0:\n",
    "                print(f'ANDES exited with {sa.exit_code} at {t}s')\n",
    "                exit()\n",
    "\n",
    "            # --- Watchdog ---\n",
    "            if t % 100 == 0 and t > 0:\n",
    "                print(f'Watchdog: Second: {t}')\n",
    "\n",
    "        # export\n",
    "        sa.TDS.plt.export_csv(res_path + f'/tds_h{hour}_d{dispatch}.csv')"
   ]
  }
 ],
 "metadata": {
  "kernelspec": {
   "display_name": "amsre",
   "language": "python",
   "name": "python3"
  },
  "language_info": {
   "codemirror_mode": {
    "name": "ipython",
    "version": 3
   },
   "file_extension": ".py",
   "mimetype": "text/x-python",
   "name": "python",
   "nbconvert_exporter": "python",
   "pygments_lexer": "ipython3",
   "version": "3.12.0"
  }
 },
 "nbformat": 4,
 "nbformat_minor": 2
}
