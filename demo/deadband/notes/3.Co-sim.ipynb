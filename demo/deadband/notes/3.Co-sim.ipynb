{
 "cells": [
  {
   "cell_type": "code",
   "execution_count": 1,
   "metadata": {},
   "outputs": [],
   "source": [
    "import os\n",
    "\n",
    "from dataclasses import dataclass\n",
    "\n",
    "import numpy as np\n",
    "import pandas as pd\n",
    "\n",
    "import andes\n",
    "import ams\n",
    "\n",
    "import cosim"
   ]
  },
  {
   "cell_type": "code",
   "execution_count": 2,
   "metadata": {},
   "outputs": [],
   "source": [
    "andes.config_logger(stream_level=50)\n",
    "ams.config_logger(stream_level=50)"
   ]
  },
  {
   "cell_type": "code",
   "execution_count": 3,
   "metadata": {},
   "outputs": [],
   "source": [
    "case_path = \"./../cases\"\n",
    "res_path = \"./../results\"\n",
    "addfile = case_path + '/IL200_dyn_db2.xlsx'\n",
    "\n",
    "# --- file loading ---\n",
    "curve = pd.read_csv(case_path + '/CurveInterp.csv')"
   ]
  },
  {
   "cell_type": "code",
   "execution_count": 4,
   "metadata": {},
   "outputs": [
    {
     "name": "stdout",
     "output_type": "stream",
     "text": [
      "Generating code for 1 models on 12 processes.\n",
      "--- RTED: 0 ---\n",
      "rows: 0 - 300\n",
      "Generating code for 1 models on 12 processes.\n"
     ]
    },
    {
     "name": "stderr",
     "output_type": "stream",
     "text": [
      "/Users/jinningwang/work/demo/demo/deadband/notes/cosim.py:111: FutureWarning: Downcasting object dtype arrays on .fillna, .ffill, .bfill is deprecated and will change in a future version. Call result.infer_objects(copy=False) instead. To opt-in to the future behavior, set `pd.set_option('future.no_silent_downcasting', True)`\n",
      "  self.link = self.sp.dyn.link.copy().fillna(False)\n",
      "/Users/jinningwang/work/andes/andes/routines/tds.py:372: RuntimeWarning: invalid value encountered in scalar divide\n",
      "  perc = round((dae.t - config.t0) / (config.tf - config.t0) * 100, 2)\n"
     ]
    },
    {
     "name": "stdout",
     "output_type": "stream",
     "text": [
      "ANDES Load: 14.76 MW,\n",
      "Load: 1222.84 MW, Gen.: 1222.84 MW Cost: 68925.86 $\n",
      "Watchdog: Second: 0\n",
      "Watchdog: Second: 100\n",
      "Watchdog: Second: 200\n",
      "--- RTED: 1 ---\n",
      "rows: 300 - 600\n",
      "Generating code for 1 models on 12 processes.\n"
     ]
    },
    {
     "name": "stderr",
     "output_type": "stream",
     "text": [
      "/Users/jinningwang/work/demo/demo/deadband/notes/cosim.py:111: FutureWarning: Downcasting object dtype arrays on .fillna, .ffill, .bfill is deprecated and will change in a future version. Call result.infer_objects(copy=False) instead. To opt-in to the future behavior, set `pd.set_option('future.no_silent_downcasting', True)`\n",
      "  self.link = self.sp.dyn.link.copy().fillna(False)\n",
      "/Users/jinningwang/work/andes/andes/routines/tds.py:372: RuntimeWarning: invalid value encountered in scalar divide\n",
      "  perc = round((dae.t - config.t0) / (config.tf - config.t0) * 100, 2)\n"
     ]
    },
    {
     "name": "stdout",
     "output_type": "stream",
     "text": [
      "ANDES Load: 14.76 MW,\n",
      "Load: 1216.85 MW, Gen.: 1216.85 MW Cost: 68465.07 $\n",
      "Watchdog: Second: 300\n"
     ]
    },
    {
     "ename": "RuntimeError",
     "evalue": "ANDES exited with 1 at 303s",
     "output_type": "error",
     "traceback": [
      "\u001b[31m---------------------------------------------------------------------------\u001b[39m",
      "\u001b[31mRuntimeError\u001b[39m                              Traceback (most recent call last)",
      "\u001b[36mCell\u001b[39m\u001b[36m \u001b[39m\u001b[32mIn[4]\u001b[39m\u001b[32m, line 19\u001b[39m\n\u001b[32m     10\u001b[39m sa = sp.to_andes(addfile=addfile,\n\u001b[32m     11\u001b[39m                  setup=\u001b[38;5;28;01mTrue\u001b[39;00m, no_output=\u001b[38;5;28;01mTrue\u001b[39;00m,\n\u001b[32m     12\u001b[39m                  default_config=\u001b[38;5;28;01mTrue\u001b[39;00m)\n\u001b[32m     14\u001b[39m cosim = cosim.CoSimulation(sp=sp, sa=sa,\n\u001b[32m     15\u001b[39m                            curve=curve_hour,\n\u001b[32m     16\u001b[39m                            addfile=addfile,\n\u001b[32m     17\u001b[39m                            res_csv=res_csv,)\n\u001b[32m---> \u001b[39m\u001b[32m19\u001b[39m \u001b[43mcosim\u001b[49m\u001b[43m.\u001b[49m\u001b[43mloop\u001b[49m\u001b[43m(\u001b[49m\u001b[43m)\u001b[49m\n",
      "\u001b[36mFile \u001b[39m\u001b[32m~/work/demo/demo/deadband/notes/cosim.py:271\u001b[39m, in \u001b[36mCoSimulation.loop\u001b[39m\u001b[34m(self)\u001b[39m\n\u001b[32m    268\u001b[39m \u001b[38;5;28mself\u001b[39m.ACE_integral = \u001b[38;5;28mself\u001b[39m.ACE_integral + \u001b[38;5;28mself\u001b[39m.sa.ACEc.ace.v.sum()\n\u001b[32m    270\u001b[39m \u001b[38;5;28;01mif\u001b[39;00m \u001b[38;5;28mself\u001b[39m.sa.exit_code != \u001b[32m0\u001b[39m:\n\u001b[32m--> \u001b[39m\u001b[32m271\u001b[39m    \u001b[38;5;28;01mraise\u001b[39;00m \u001b[38;5;167;01mRuntimeError\u001b[39;00m(\n\u001b[32m    272\u001b[39m        \u001b[33mf\u001b[39m\u001b[33m'\u001b[39m\u001b[33mANDES exited with \u001b[39m\u001b[38;5;132;01m{\u001b[39;00m\u001b[38;5;28mself\u001b[39m.sa.exit_code\u001b[38;5;132;01m}\u001b[39;00m\u001b[33m at \u001b[39m\u001b[38;5;132;01m{\u001b[39;00m\u001b[38;5;28mself\u001b[39m.t\u001b[38;5;132;01m}\u001b[39;00m\u001b[33ms\u001b[39m\u001b[33m'\u001b[39m)\n\u001b[32m    274\u001b[39m \u001b[38;5;66;03m# --- Watchdog ---\u001b[39;00m\n\u001b[32m    275\u001b[39m \u001b[38;5;28;01mif\u001b[39;00m \u001b[38;5;28mself\u001b[39m.t % \u001b[32m100\u001b[39m == \u001b[32m0\u001b[39m:\n",
      "\u001b[31mRuntimeError\u001b[39m: ANDES exited with 1 at 303s"
     ]
    }
   ],
   "source": [
    "for hour in [0]:\n",
    "    hour = 0\n",
    "    curve_hour = curve.iloc[hour * 3600:(hour+1) * 3600].reset_index(drop=True)\n",
    "\n",
    "    res_csv = os.path.join(res_path, f'case1_H{hour}.csv')\n",
    "\n",
    "    sp = ams.load(case_path + '/IL200_rted.xlsx',\n",
    "                  setup=True, no_output=True,\n",
    "                  default_config=True)\n",
    "    sa = sp.to_andes(addfile=addfile,\n",
    "                     setup=True, no_output=True,\n",
    "                     default_config=True)\n",
    "\n",
    "    cosim = cosim.CoSimulation(sp=sp, sa=sa,\n",
    "                               curve=curve_hour,\n",
    "                               addfile=addfile,\n",
    "                               res_csv=res_csv,)\n",
    "\n",
    "    cosim.loop()"
   ]
  }
 ],
 "metadata": {
  "kernelspec": {
   "display_name": "ams",
   "language": "python",
   "name": "python3"
  },
  "language_info": {
   "codemirror_mode": {
    "name": "ipython",
    "version": 3
   },
   "file_extension": ".py",
   "mimetype": "text/x-python",
   "name": "python",
   "nbconvert_exporter": "python",
   "pygments_lexer": "ipython3",
   "version": "3.12.0"
  }
 },
 "nbformat": 4,
 "nbformat_minor": 2
}
