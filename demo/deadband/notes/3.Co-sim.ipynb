{
 "cells": [
  {
   "cell_type": "code",
   "execution_count": 1,
   "metadata": {},
   "outputs": [],
   "source": [
    "import os\n",
    "\n",
    "from dataclasses import dataclass\n",
    "\n",
    "import numpy as np\n",
    "import pandas as pd\n",
    "\n",
    "import andes\n",
    "import ams\n",
    "\n",
    "import cosim"
   ]
  },
  {
   "cell_type": "code",
   "execution_count": 2,
   "metadata": {},
   "outputs": [],
   "source": [
    "andes.config_logger(stream_level=50)\n",
    "ams.config_logger(stream_level=50)"
   ]
  },
  {
   "cell_type": "code",
   "execution_count": 3,
   "metadata": {},
   "outputs": [
    {
     "name": "stdout",
     "output_type": "stream",
     "text": [
      "Generating code for 1 models on 12 processes.\n"
     ]
    }
   ],
   "source": [
    "case_path = \"./../cases\"\n",
    "res_path = \"./../results\"\n",
    "addfile = case_path + '/IL200_dyn_db2.xlsx'\n",
    "\n",
    "# --- file loading ---\n",
    "curve = pd.read_csv(case_path + '/Curve.csv')\n",
    "sp = ams.load(case_path + '/IL200_rted.xlsx',\n",
    "              setup=True, no_output=True,\n",
    "              default_config=True)\n",
    "sa = sp.to_andes(addfile=addfile,\n",
    "                 setup=True, no_output=True,\n",
    "                 default_config=True,)"
   ]
  },
  {
   "cell_type": "code",
   "execution_count": 4,
   "metadata": {},
   "outputs": [
    {
     "name": "stdout",
     "output_type": "stream",
     "text": [
      "--- Hour: 0 ---\n",
      "Generating code for 1 models on 12 processes.\n"
     ]
    },
    {
     "name": "stderr",
     "output_type": "stream",
     "text": [
      "/Users/jinningwang/work/demo/demo/deadband/notes/cosim.py:121: FutureWarning: Downcasting object dtype arrays on .fillna, .ffill, .bfill is deprecated and will change in a future version. Call result.infer_objects(copy=False) instead. To opt-in to the future behavior, set `pd.set_option('future.no_silent_downcasting', True)`\n",
      "  self.link = self.sp.dyn.link.copy().fillna(False)\n"
     ]
    },
    {
     "name": "stdout",
     "output_type": "stream",
     "text": [
      "--- RTED: 0 ---\n",
      "row_start: 0, mins_per_RTED: 5, \n",
      "Load: 1224.95 MW, Gen.: 1224.95 MW Cost: 68971.62 $\n",
      "Watchdog: Second: 0\n",
      "Watchdog: Second: 100\n",
      "Watchdog: Second: 200\n",
      "--- RTED: 1 ---\n",
      "row_start: 5, mins_per_RTED: 5, \n",
      "Load: 1215.30 MW, Gen.: 1215.30 MW Cost: 68427.00 $\n",
      "Watchdog: Second: 300\n",
      "Watchdog: Second: 400\n",
      "Watchdog: Second: 500\n",
      "--- RTED: 2 ---\n",
      "row_start: 10, mins_per_RTED: 5, \n",
      "Load: 1222.36 MW, Gen.: 1222.36 MW Cost: 68816.12 $\n",
      "Watchdog: Second: 600\n",
      "Simulation stopped for testing.\n",
      "Co-simulation completed. Results saved to ./../results/case1_H0.csv\n"
     ]
    }
   ],
   "source": [
    "for HOUR in [0]:\n",
    "    res_csv = os.path.join(res_path, f'case1_H{HOUR}.csv')\n",
    "    AGC = cosim.AGC(sp=sp, sa=sa, curve=curve,\n",
    "                    hour=HOUR,\n",
    "                    addfile=addfile,\n",
    "                    res_csv=res_csv,)\n",
    "\n",
    "    AGC.loop()"
   ]
  }
 ],
 "metadata": {
  "kernelspec": {
   "display_name": "ams",
   "language": "python",
   "name": "python3"
  },
  "language_info": {
   "codemirror_mode": {
    "name": "ipython",
    "version": 3
   },
   "file_extension": ".py",
   "mimetype": "text/x-python",
   "name": "python",
   "nbconvert_exporter": "python",
   "pygments_lexer": "ipython3",
   "version": "3.12.0"
  }
 },
 "nbformat": 4,
 "nbformat_minor": 2
}
