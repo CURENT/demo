{
 "cells": [
  {
   "cell_type": "code",
   "execution_count": 1,
   "metadata": {},
   "outputs": [],
   "source": [
    "import os\n",
    "\n",
    "from dataclasses import dataclass\n",
    "\n",
    "import numpy as np\n",
    "import pandas as pd\n",
    "\n",
    "import andes\n",
    "import ams\n",
    "\n",
    "import cosim"
   ]
  },
  {
   "cell_type": "code",
   "execution_count": 2,
   "metadata": {},
   "outputs": [],
   "source": [
    "andes.config_logger(stream_level=50)\n",
    "ams.config_logger(stream_level=50)"
   ]
  },
  {
   "cell_type": "code",
   "execution_count": 3,
   "metadata": {},
   "outputs": [],
   "source": [
    "case_path = \"./../cases\"\n",
    "res_path = \"./../results\"\n",
    "addfile = case_path + '/IL200_dyn_db2.xlsx'\n",
    "\n",
    "# --- file loading ---\n",
    "curve = pd.read_csv(case_path + '/CurveInterp.csv')"
   ]
  },
  {
   "cell_type": "code",
   "execution_count": 4,
   "metadata": {},
   "outputs": [
    {
     "name": "stdout",
     "output_type": "stream",
     "text": [
      "Generating code for 1 models on 12 processes.\n"
     ]
    }
   ],
   "source": [
    "sp = ams.load(case_path + '/IL200_rted.xlsx',\n",
    "              setup=True, no_output=True,\n",
    "              default_config=True)\n",
    "sa = sp.to_andes(addfile=addfile,\n",
    "                 setup=True, no_output=True,\n",
    "                 default_config=True)"
   ]
  },
  {
   "cell_type": "code",
   "execution_count": null,
   "metadata": {},
   "outputs": [
    {
     "name": "stdout",
     "output_type": "stream",
     "text": [
      "--- Running hour 22, dispatch 9 ---\n",
      "Load: 940.04 MW, Gen.: 940.04 MW Cost: 30814.18 $\n"
     ]
    },
    {
     "name": "stderr",
     "output_type": "stream",
     "text": [
      "/Users/jinningwang/work/demo/demo/deadband/notes/cosim.py:101: FutureWarning: Downcasting object dtype arrays on .fillna, .ffill, .bfill is deprecated and will change in a future version. Call result.infer_objects(copy=False) instead. To opt-in to the future behavior, set `pd.set_option('future.no_silent_downcasting', True)`\n",
      "  self.link = self.sp.dyn.link.copy().fillna(False)\n"
     ]
    },
    {
     "name": "stdout",
     "output_type": "stream",
     "text": [
      "Watchdog: Second: 100\n",
      "Watchdog: Second: 200\n",
      "Watchdog: Second: 300\n",
      "Watchdog: Second: 400\n",
      "Watchdog: Second: 500\n",
      "Co-simulation completed. Results saved to ./../results/case1_h22_d9.csv\n"
     ]
    }
   ],
   "source": [
    "# NOTE: 1) the maximum number of dispatch should follow: \"D * Dispatch_interval <= 3600\"\n",
    "#       2) the maximum number of AGC should follow: \"Dispatch_interval % AGC_interval == 0\"\n",
    "\n",
    "Dispatch_interval = 600  # seconds\n",
    "AGC_interval = 15  # seconds\n",
    "\n",
    "for hour in [22]:  # 0, 8, 12, 18\n",
    "    for dispatch in [9]:\n",
    "        print(f'--- Running hour {hour}, dispatch {dispatch} ---')\n",
    "        r0 = hour * 3600 + dispatch * Dispatch_interval\n",
    "        r1 = r0 + Dispatch_interval\n",
    "        curve_dispatch = curve.iloc[r0:r1].reset_index(drop=True)\n",
    "\n",
    "        res_csv = os.path.join(res_path, f'case1_h{hour}_d{dispatch}.csv')\n",
    "\n",
    "        sim = cosim.CoSimulation(sp=sp, sa=sa,\n",
    "                                 curve=curve_dispatch,\n",
    "                                 Dispatch_interval=Dispatch_interval,\n",
    "                                 AGC_interval=AGC_interval,\n",
    "                                 addfile=addfile,\n",
    "                                 res_csv=res_csv,)\n",
    "\n",
    "        sim.run()"
   ]
  }
 ],
 "metadata": {
  "kernelspec": {
   "display_name": "amsre",
   "language": "python",
   "name": "python3"
  },
  "language_info": {
   "codemirror_mode": {
    "name": "ipython",
    "version": 3
   },
   "file_extension": ".py",
   "mimetype": "text/x-python",
   "name": "python",
   "nbconvert_exporter": "python",
   "pygments_lexer": "ipython3",
   "version": "3.12.0"
  }
 },
 "nbformat": 4,
 "nbformat_minor": 2
}
