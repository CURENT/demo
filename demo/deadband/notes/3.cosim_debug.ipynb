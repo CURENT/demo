{
 "cells": [
  {
   "cell_type": "markdown",
   "metadata": {},
   "source": [
    "# Co Simulation"
   ]
  },
  {
   "cell_type": "code",
   "execution_count": 1,
   "metadata": {},
   "outputs": [],
   "source": [
    "import numpy as np\n",
    "import pandas as pd\n",
    "\n",
    "import andes\n",
    "import ams"
   ]
  },
  {
   "cell_type": "code",
   "execution_count": 2,
   "metadata": {},
   "outputs": [],
   "source": [
    "%matplotlib inline"
   ]
  },
  {
   "cell_type": "code",
   "execution_count": 3,
   "metadata": {},
   "outputs": [],
   "source": [
    "andes.config_logger(stream_level=30)\n",
    "ams.config_logger(stream_level=30)"
   ]
  },
  {
   "cell_type": "code",
   "execution_count": 4,
   "metadata": {},
   "outputs": [],
   "source": [
    "curve = pd.read_csv('./../cases/Curve.csv')"
   ]
  },
  {
   "cell_type": "code",
   "execution_count": 5,
   "metadata": {},
   "outputs": [],
   "source": [
    "sp1 = ams.load('./../cases/IL200_rted_db.xlsx',\n",
    "               setup=True, no_output=True,\n",
    "               default_config=True)"
   ]
  },
  {
   "cell_type": "code",
   "execution_count": 6,
   "metadata": {},
   "outputs": [
    {
     "name": "stderr",
     "output_type": "stream",
     "text": [
      "Building system matrices\n",
      "Parsing OModel for <RTED>\n",
      "Evaluating OModel for <RTED>\n",
      "Finalizing OModel for <RTED>\n",
      "<RTED> solved as optimal in 0.0443 seconds, converged in 13 iterations with CLARABEL.\n"
     ]
    },
    {
     "data": {
      "text/plain": [
       "True"
      ]
     },
     "execution_count": 6,
     "metadata": {},
     "output_type": "execute_result"
    }
   ],
   "source": [
    "# set Wind and Solar to be uncontrollable\n",
    "stg_wind, stg_pv = sp1.StaticGen.find_idx(keys='genfuel',\n",
    "                                          values=['wind', 'solar'], allow_all=True)\n",
    "sp1.StaticGen.set(src='ctrl', attr='v', idx=stg_wind, value=0.0)\n",
    "sp1.StaticGen.set(src='ctrl', attr='v', idx=stg_pv, value=0.0)\n",
    "\n",
    "# # set load levels\n",
    "p0 = sp1.PQ.get(src='p0', attr='v', idx=sp1.PQ.idx.v).copy()\n",
    "sp1.PQ.set(src='p0', attr='v', idx=sp1.PQ.idx.v,\n",
    "           value=curve['Load'].values[0:5].mean() * p0,\n",
    "        #    value=0.85 * p0,\n",
    "           )\n",
    "\n",
    "# set wind power\n",
    "p0_wind = sp1.StaticGen.get(src='p0', attr='v', idx=stg_wind).copy()\n",
    "sp1.StaticGen.set(src='p0', attr='v', idx=stg_wind,\n",
    "                  value=curve['Wind'].values[0:5].mean() * p0_wind)\n",
    "\n",
    "# set solar power\n",
    "p0_pv = sp1.StaticGen.get(src='p0', attr='v', idx=stg_pv).copy()\n",
    "sp1.StaticGen.set(src='p0', attr='v', idx=stg_pv,\n",
    "                  value=curve['PV'].values[0:5].mean() * p0_pv)\n",
    "\n",
    "stg = sp1.StaticGen.get_all_idxes()\n",
    "# pg0 <- p0, relax RTED ramping constraints\n",
    "sp1.StaticGen.set(src='pg0', attr='v', idx=stg,\n",
    "                  value=sp1.StaticGen.get(src='p0', attr='v', idx=stg))\n",
    "# sacle down StaticGen.pmin\n",
    "sp1.StaticGen.set(src='pmin', attr='v', idx=stg, value=0)\n",
    "\n",
    "sp1.RTED.run(solver='CLARABEL')"
   ]
  },
  {
   "cell_type": "code",
   "execution_count": 7,
   "metadata": {},
   "outputs": [
    {
     "name": "stderr",
     "output_type": "stream",
     "text": [
      "Parsing OModel for <ACOPF>\n",
      "Evaluating OModel for <ACOPF>\n",
      "Finalizing OModel for <ACOPF>\n",
      "<ACOPF> solved in 0.4143 seconds, converged in 19 iterations with PYPOWER-PIPS.\n",
      "<RTED> converted to AC.\n"
     ]
    },
    {
     "data": {
      "text/plain": [
       "True"
      ]
     },
     "execution_count": 7,
     "metadata": {},
     "output_type": "execute_result"
    }
   ],
   "source": [
    "sp1.RTED.dc2ac()"
   ]
  },
  {
   "cell_type": "code",
   "execution_count": 8,
   "metadata": {},
   "outputs": [
    {
     "name": "stdout",
     "output_type": "stream",
     "text": [
      "Generating code for 1 models on 12 processes.\n"
     ]
    },
    {
     "name": "stderr",
     "output_type": "stream",
     "text": [
      "Following PFlow models in addfile will be overwritten: <Bus>, <PQ>, <PV>, <Slack>, <Shunt>, <Line>, <Area>\n",
      "AMS system 0x3397bc200 is linked to the ANDES system 0x339a3e7e0.\n"
     ]
    },
    {
     "data": {
      "text/plain": [
       "True"
      ]
     },
     "execution_count": 8,
     "metadata": {},
     "output_type": "execute_result"
    }
   ],
   "source": [
    "s1 = sp1.to_andes(addfile='./../cases/IL200_dyn_db.xlsx',\n",
    "                  setup=False,\n",
    "                  no_output=True,\n",
    "                  default_config=True,)\n",
    "\n",
    "# add a Alter device to set load increase\n",
    "s1.add(model='Alter',\n",
    "        param_dict=dict(t=1, model='PQ', dev='PQ_1', src='Ppf',\n",
    "                        attr='v', method='+', amount=0.1))\n",
    "s1.add(model='Alter',\n",
    "        param_dict=dict(t=1, model='PQ', dev='PQ_2', src='Ppf',\n",
    "                        attr='v', method='+', amount=0.1))\n",
    "s1.add(model='Alter',\n",
    "        param_dict=dict(t=1, model='PQ', dev='PQ_3', src='Ppf',\n",
    "                        attr='v', method='+', amount=0.1))\n",
    "\n",
    "# bias is manually measured, in unit MW/0.1Hz\n",
    "slack_bus = s1.Slack.bus.v[0]\n",
    "s1.add('ACEc', param_dict=dict(bus=slack_bus,\n",
    "                               bias=-45))\n",
    "\n",
    "s1.setup()\n",
    "\n",
    "vmax0 = s1.TGOV1NDB.get(src='VMAX', attr='v', idx=s1.TGOV1NDB.idx.v)\n",
    "s1.TGOV1NDB.set(src='VMAX', attr='v', idx=s1.TGOV1NDB.idx.v,\n",
    "                value=10 * vmax0)"
   ]
  },
  {
   "cell_type": "code",
   "execution_count": 9,
   "metadata": {},
   "outputs": [
    {
     "name": "stderr",
     "output_type": "stream",
     "text": [
      "Send <vBus> to Bus.v0\n",
      "Send <ug> to StaticGen.u\n",
      "Send <pg> to StaticGen.p0\n"
     ]
    },
    {
     "data": {
      "text/plain": [
       "True"
      ]
     },
     "execution_count": 9,
     "metadata": {},
     "output_type": "execute_result"
    }
   ],
   "source": [
    "sp1.dyn.send(adsys=s1, routine='RTED')"
   ]
  },
  {
   "cell_type": "code",
   "execution_count": 10,
   "metadata": {},
   "outputs": [
    {
     "data": {
      "text/plain": [
       "True"
      ]
     },
     "execution_count": 10,
     "metadata": {},
     "output_type": "execute_result"
    }
   ],
   "source": [
    "# Constant load\n",
    "s1.PQ.config.p2p = 1\n",
    "s1.PQ.config.q2q = 1\n",
    "s1.PQ.config.p2z = 0\n",
    "s1.PQ.config.q2z = 0\n",
    "\n",
    "s1.PFlow.run()"
   ]
  },
  {
   "cell_type": "code",
   "execution_count": 11,
   "metadata": {},
   "outputs": [
    {
     "name": "stderr",
     "output_type": "stream",
     "text": [
      "/Users/jinningwang/work/andes/andes/core/model/model.py:790: ComplexWarning: Casting complex values to real discards the imaginary part\n",
      "  instance.v = np.array(func(*self.s_args[name]),\n",
      "/Users/jinningwang/work/andes/andes/core/model/model.py:829: ComplexWarning: Casting complex values to real discards the imaginary part\n",
      "  instance.v[:] = func(*self.s_args[name])\n"
     ]
    }
   ],
   "source": [
    "s1.TDS.config.criteria = 0\n",
    "s1.TDS.config.no_tqdm = 1\n",
    "_ = s1.TDS.init()"
   ]
  },
  {
   "cell_type": "code",
   "execution_count": 12,
   "metadata": {},
   "outputs": [
    {
     "name": "stdout",
     "output_type": "stream",
     "text": [
      "<Alter Alter_1>: set PQ.PQ_1.Ppf.v=0.17385 at t=1. Previous value was 0.07385.\n",
      "<Alter Alter_2>: set PQ.PQ_2.Ppf.v=0.11695 at t=1. Previous value was 0.01695.\n",
      "<Alter Alter_3>: set PQ.PQ_3.Ppf.v=0.17947 at t=1. Previous value was 0.07947.\n"
     ]
    },
    {
     "data": {
      "text/plain": [
       "True"
      ]
     },
     "execution_count": 12,
     "metadata": {},
     "output_type": "execute_result"
    }
   ],
   "source": [
    "s1.TDS.run()"
   ]
  },
  {
   "cell_type": "code",
   "execution_count": 15,
   "metadata": {},
   "outputs": [
    {
     "data": {
      "text/plain": [
       "array([1.])"
      ]
     },
     "execution_count": 15,
     "metadata": {},
     "output_type": "execute_result"
    }
   ],
   "source": [
    "s1.ACEc.bias.pu_coeff"
   ]
  },
  {
   "cell_type": "code",
   "execution_count": 13,
   "metadata": {},
   "outputs": [
    {
     "data": {
      "text/plain": [
       "np.float64(43.715454443773346)"
      ]
     },
     "execution_count": 13,
     "metadata": {},
     "output_type": "execute_result"
    }
   ],
   "source": [
    "omega = s1.GENROU.omega.v[s1.GENROU.idx2uid('GENROU_47')]\n",
    "bias = - 0.3 * s1.config.mva / (10 * s1.config.freq * (omega - 1))\n",
    "bias"
   ]
  },
  {
   "cell_type": "code",
   "execution_count": null,
   "metadata": {},
   "outputs": [],
   "source": [
    "\n",
    "fmin, fmax = 59.4, 60.01\n",
    "tmin, tmax = 0, 8\n",
    "linewidth = 1.5\n",
    "genrou_idx = 'GENROU_47'\n",
    "\n",
    "# left: short-term response, without and with thermal inertia\n",
    "_ = s1.TDS.plt.plot(\n",
    "    s1.GENROU.omega,\n",
    "    a=s1.GENROU.idx2uid(genrou_idx),\n",
    "    left=tmin, right=tmax,\n",
    "    ymin=fmin, ymax=fmax,\n",
    "    ytimes=s1.config.freq,\n",
    "    show=False, grid=True,\n",
    "    ylabel='Slack Gen. Freq. [Hz]',\n",
    ")"
   ]
  }
 ],
 "metadata": {
  "kernelspec": {
   "display_name": "ams",
   "language": "python",
   "name": "python3"
  },
  "language_info": {
   "codemirror_mode": {
    "name": "ipython",
    "version": 3
   },
   "file_extension": ".py",
   "mimetype": "text/x-python",
   "name": "python",
   "nbconvert_exporter": "python",
   "pygments_lexer": "ipython3",
   "version": "3.12.0"
  }
 },
 "nbformat": 4,
 "nbformat_minor": 2
}
