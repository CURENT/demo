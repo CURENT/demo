{
 "cells": [
  {
   "cell_type": "code",
   "execution_count": 1,
   "metadata": {},
   "outputs": [],
   "source": [
    "import os\n",
    "\n",
    "from dataclasses import dataclass\n",
    "\n",
    "import numpy as np\n",
    "import pandas as pd\n",
    "\n",
    "import andes\n",
    "import ams\n",
    "\n",
    "import cosim"
   ]
  },
  {
   "cell_type": "code",
   "execution_count": 2,
   "metadata": {},
   "outputs": [],
   "source": [
    "andes.config_logger(stream_level=50)\n",
    "ams.config_logger(stream_level=50)"
   ]
  },
  {
   "cell_type": "code",
   "execution_count": 3,
   "metadata": {},
   "outputs": [
    {
     "name": "stdout",
     "output_type": "stream",
     "text": [
      "Generating code for 1 models on 12 processes.\n"
     ]
    }
   ],
   "source": [
    "case_path = \"./../cases\"\n",
    "res_path = \"./../results\"\n",
    "res_csv = os.path.join(res_path, 'case1.csv')\n",
    "\n",
    "addfile = case_path + '/IL200_dyn_db.xlsx'\n",
    "\n",
    "# --- file loading ---\n",
    "curve = pd.read_csv(case_path + '/Curve.csv')\n",
    "sp = ams.load(case_path + '/IL200_rted.xlsx',\n",
    "              setup=True, no_output=True,\n",
    "              default_config=True)\n",
    "sa = sp.to_andes(addfile=addfile,\n",
    "                 setup=True, no_output=True,\n",
    "                 default_config=True,)\n",
    "\n",
    "AGC = cosim.AGC(sp=sp, sa=sa, curve=curve,\n",
    "                addfile=addfile,\n",
    "                res_csv=res_csv,)"
   ]
  },
  {
   "cell_type": "code",
   "execution_count": 4,
   "metadata": {},
   "outputs": [
    {
     "name": "stdout",
     "output_type": "stream",
     "text": [
      "--- Hour: 0 ---\n",
      "Generating code for 1 models on 12 processes.\n"
     ]
    },
    {
     "name": "stderr",
     "output_type": "stream",
     "text": [
      "/Users/jinningwang/work/andes/andes/core/model/model.py:790: ComplexWarning: Casting complex values to real discards the imaginary part\n",
      "  instance.v = np.array(func(*self.s_args[name]),\n",
      "/Users/jinningwang/work/andes/andes/core/model/model.py:829: ComplexWarning: Casting complex values to real discards the imaginary part\n",
      "  instance.v[:] = func(*self.s_args[name])\n"
     ]
    },
    {
     "name": "stdout",
     "output_type": "stream",
     "text": [
      "--- RTED: 0 ---\n",
      "Watchdog: Second: 0\n",
      "Watchdog: Second: 100\n",
      "Watchdog: Second: 200\n",
      "--- RTED: 1 ---\n",
      "Watchdog: Second: 300\n",
      "Watchdog: Second: 400\n",
      "Simulation stopped for testing.\n",
      "Co-simulation completed. Results saved to ./../results/case1.csv\n"
     ]
    }
   ],
   "source": [
    "AGC.loop()"
   ]
  }
 ],
 "metadata": {
  "kernelspec": {
   "display_name": "amsre",
   "language": "python",
   "name": "python3"
  },
  "language_info": {
   "codemirror_mode": {
    "name": "ipython",
    "version": 3
   },
   "file_extension": ".py",
   "mimetype": "text/x-python",
   "name": "python",
   "nbconvert_exporter": "python",
   "pygments_lexer": "ipython3",
   "version": "3.12.0"
  }
 },
 "nbformat": 4,
 "nbformat_minor": 2
}
