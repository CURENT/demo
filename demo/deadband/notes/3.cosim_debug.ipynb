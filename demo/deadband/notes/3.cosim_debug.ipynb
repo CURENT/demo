{
 "cells": [
  {
   "cell_type": "code",
   "execution_count": 1,
   "metadata": {},
   "outputs": [],
   "source": [
    "import os\n",
    "\n",
    "from dataclasses import dataclass\n",
    "\n",
    "import numpy as np\n",
    "import pandas as pd\n",
    "\n",
    "import andes\n",
    "import ams"
   ]
  },
  {
   "cell_type": "code",
   "execution_count": 2,
   "metadata": {},
   "outputs": [],
   "source": [
    "andes.config_logger(stream_level=50)\n",
    "ams.config_logger(stream_level=50)"
   ]
  },
  {
   "cell_type": "code",
   "execution_count": 3,
   "metadata": {},
   "outputs": [
    {
     "name": "stdout",
     "output_type": "stream",
     "text": [
      "Generating code for 1 models on 12 processes.\n"
     ]
    }
   ],
   "source": [
    "case_path = \"./../cases\"\n",
    "res_path = \"./../results\"\n",
    "res_csv = os.path.join(res_path, 'case1.csv')\n",
    "\n",
    "# --- file loading ---\n",
    "curve = pd.read_csv(case_path + '/Curve.csv')\n",
    "sp = ams.load(case_path + '/IL200_rted.xlsx',\n",
    "              setup=True, no_output=True,\n",
    "              default_config=True)\n",
    "sa = sp.to_andes(addfile=case_path + '/IL200_dyn_db.xlsx',\n",
    "                  setup=True, no_output=True,\n",
    "                  default_config=True,)"
   ]
  },
  {
   "cell_type": "code",
   "execution_count": 4,
   "metadata": {},
   "outputs": [],
   "source": [
    "# turn off ACOPF messaging\n",
    "sp.ACOPF.config.update(verbose=0, out_all=0)\n",
    "\n",
    "# set Wind and Solar to be uncontrollable, so their output\n",
    "# power in RTED is fixed\n",
    "stg_wind, stg_pv = sp.StaticGen.find_idx(keys='genfuel',\n",
    "                                         values=['wind', 'solar'],\n",
    "                                         allow_all=True)\n",
    "sp.StaticGen.set(src='ctrl', attr='v', idx=stg_wind, value=0)\n",
    "sp.StaticGen.set(src='ctrl', attr='v', idx=stg_pv, value=0)\n",
    "\n",
    "# relax StaticGen.pmin\n",
    "stg = sp.StaticGen.get_all_idxes()\n",
    "sp.StaticGen.set(src='pmin', attr='v', idx=stg, value=0)\n",
    "\n",
    "stg_slack = sp.Slack.idx.v\n",
    "syn_slack = sa.SynGen.find_idx(keys='gen', values=stg_slack)[0]\n",
    "\n",
    "# --- AGC Controller ---\n",
    "@dataclass\n",
    "class AGC:\n",
    "   total_hour: int = 1  # total hours to simulate, 24 for a full day\n",
    "   total_sec: int = 301  # total seconds in one hour to simulate, 3600 for a full hour\n",
    "   RTED_interval: int = 300\n",
    "   AGC_interval: int = 4  # AGC interval in seconds\n",
    "   id_hour: int = -1  # Hour counter\n",
    "   id_rted: int = -1  # RTED interval counter\n",
    "   id_agc: int = -1  # AGC interval counter\n",
    "   kp: float = 0.1  # Proportional gain for AGC\n",
    "   ki: float = 0.05  # Integral gain for AGC\n",
    "   ACE_integral: float = 0.0  # Integral of Area Control Error (ACE)\n",
    "   ACE_raw: float = 0.0  # Raw Area Control Error (ACE)\n",
    "\n",
    "AGC = AGC()\n",
    "\n",
    "# --- Output ---\n",
    "cols = ['time', 'freq']\n",
    "out = pd.DataFrame(\n",
    "    -1.0,\n",
    "    index=np.arange(AGC.total_hour * AGC.total_sec),\n",
    "    columns=cols,\n",
    "    dtype=float\n",
    ")"
   ]
  },
  {
   "cell_type": "code",
   "execution_count": null,
   "metadata": {},
   "outputs": [
    {
     "name": "stdout",
     "output_type": "stream",
     "text": [
      "Generating code for 1 models on 12 processes.\n"
     ]
    },
    {
     "name": "stderr",
     "output_type": "stream",
     "text": [
      "/Users/jinningwang/work/andes/andes/core/model/model.py:790: ComplexWarning: Casting complex values to real discards the imaginary part\n",
      "  instance.v = np.array(func(*self.s_args[name]),\n",
      "/Users/jinningwang/work/andes/andes/core/model/model.py:829: ComplexWarning: Casting complex values to real discards the imaginary part\n",
      "  instance.v[:] = func(*self.s_args[name])\n"
     ]
    }
   ],
   "source": [
    "for HR in range(AGC.total_hour):\n",
    "   # -- New Hour --\n",
    "   AGC.id_rted = -1  # reset RTED counter\n",
    "   # for each hour, reload the ANDES case\n",
    "   sa = sp.to_andes(addfile=case_path + '/IL200_dyn_db.xlsx',\n",
    "                    setup=True, no_output=True,\n",
    "                    default_config=True,)\n",
    "   # 1) ANDES settings\n",
    "   # use constant power model for PQ\n",
    "   sa.PQ.config.p2p = 1\n",
    "   sa.PQ.config.q2q = 1\n",
    "   sa.PQ.config.p2z = 0\n",
    "   sa.PQ.config.q2z = 0\n",
    "   sa.PQ.pq2z = 0\n",
    "\n",
    "   sa.TDS.config.no_tqdm = True  # turn off ANDES progress bar\n",
    "   sa.TDS.config.criteria = 0  # turn off ANDES criteria check\n",
    "   sa.TDS.config.save_every = 0  # turn off ANDES save every time step\n",
    "\n",
    "   # TODO: init the TDS\n",
    "   sa.PFlow.run()  # run power flow to initialize the system\n",
    "   _ = sa.TDS.init()  # initialize the time domain simulation\n",
    "\n",
    "   sa.TDS.run()"
   ]
  },
  {
   "cell_type": "code",
   "execution_count": null,
   "metadata": {},
   "outputs": [
    {
     "name": "stdout",
     "output_type": "stream",
     "text": [
      "Generating code for 1 models on 12 processes.\n",
      "Generating code for 1 models on 12 processes.\n"
     ]
    },
    {
     "name": "stderr",
     "output_type": "stream",
     "text": [
      "/Users/jinningwang/work/andes/andes/core/model/model.py:790: ComplexWarning: Casting complex values to real discards the imaginary part\n",
      "  instance.v = np.array(func(*self.s_args[name]),\n",
      "/Users/jinningwang/work/andes/andes/core/model/model.py:829: ComplexWarning: Casting complex values to real discards the imaginary part\n",
      "  instance.v[:] = func(*self.s_args[name])\n"
     ]
    },
    {
     "name": "stdout",
     "output_type": "stream",
     "text": [
      "Hour: 0, Second: 200, RTED ID: 0, AGC ID: 49\n"
     ]
    }
   ],
   "source": [
    "for HR in range(AGC.total_hour):\n",
    "   # -- New Hour --\n",
    "   AGC.id_rted = -1  # reset RTED counter\n",
    "   # for each hour, reload the ANDES case\n",
    "   sa = sp.to_andes(addfile=case_path + '/IL200_dyn_db.xlsx',\n",
    "                    setup=True, no_output=True,\n",
    "                    default_config=True,)\n",
    "   # 1) ANDES settings\n",
    "   # use constant power model for PQ\n",
    "   sa.PQ.config.p2p = 1\n",
    "   sa.PQ.config.q2q = 1\n",
    "   sa.PQ.config.p2z = 0\n",
    "   sa.PQ.config.q2z = 0\n",
    "   sa.PQ.pq2z = 0\n",
    "\n",
    "   sa.TDS.config.no_tqdm = True  # turn off ANDES progress bar\n",
    "   sa.TDS.config.criteria = 0  # turn off ANDES criteria check\n",
    "   sa.TDS.config.save_every = 0  # turn off ANDES save every time step\n",
    "\n",
    "   # TODO: init the TDS\n",
    "   sa.PFlow.run()  # run power flow to initialize the system\n",
    "   _ = sa.TDS.init()  # initialize the time domain simulation\n",
    "\n",
    "   if not sa.TDS.initialized:\n",
    "      exit(f'ANDES TDS init failed at Hour: {HR}')\n",
    "\n",
    "   for SEC in range(AGC.total_sec):\n",
    "      # --- Wathdog ---\n",
    "      if (SEC % 200 == 0) and (SEC > 0):\n",
    "         print(f'Hour: {HR}, Second: {SEC}, '\n",
    "               f'RTED ID: {AGC.id_rted}, AGC ID: {AGC.id_agc}')\n",
    "\n",
    "      # --- RTED ---\n",
    "      if SEC % AGC.RTED_interval == 0:\n",
    "         AGC.id_rted += 1  # increment RTED counter\n",
    "         AGC.id_agc = -1  # reset AGC counter for new RTED interval\n",
    "\n",
    "         # run RTED\n",
    "         sp.RTED.run(solver='CLARABEL')\n",
    "         sp.RTED.dc2ac()\n",
    "\n",
    "         # send RTED results to ANDES\n",
    "         sp.dyn.send(adsys=sa, routine='RTED')\n",
    "\n",
    "      # --- AGC ---\n",
    "      if SEC % AGC.AGC_interval == 0:\n",
    "         AGC.id_agc += 1\n",
    "         # TODO: implement AGC logic\n",
    "\n",
    "      # --- TDS ---\n",
    "      sa.TDS.run()\n",
    "\n",
    "      # --- Output ---\n",
    "      current_time = HR * AGC.total_sec + SEC\n",
    "      out.loc[current_time, 'time'] = HR * AGC.total_sec + SEC\n",
    "      out.loc[current_time, 'freq'] = sa.SynGen.get(\n",
    "          src='omega', attr='v', idx=syn_slack) * sa.config.freq  # freq in Hz\n",
    "\n",
    "      if sa.exit_code != 0:\n",
    "         exit(f'ANDES TDS exited with code {sa.exit_code} at '\n",
    "              f'Hour: {HR}, Second: {SEC}')"
   ]
  }
 ],
 "metadata": {
  "kernelspec": {
   "display_name": "amsre",
   "language": "python",
   "name": "python3"
  },
  "language_info": {
   "codemirror_mode": {
    "name": "ipython",
    "version": 3
   },
   "file_extension": ".py",
   "mimetype": "text/x-python",
   "name": "python",
   "nbconvert_exporter": "python",
   "pygments_lexer": "ipython3",
   "version": "3.12.0"
  }
 },
 "nbformat": 4,
 "nbformat_minor": 2
}
