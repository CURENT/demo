{
 "cells": [
  {
   "cell_type": "code",
   "execution_count": null,
   "metadata": {},
   "outputs": [],
   "source": [
    "import os\n",
    "\n",
    "from dataclasses import dataclass\n",
    "\n",
    "import numpy as np\n",
    "import pandas as pd\n",
    "\n",
    "import andes\n",
    "import ams\n",
    "\n",
    "import cosim"
   ]
  },
  {
   "cell_type": "code",
   "execution_count": null,
   "metadata": {},
   "outputs": [],
   "source": [
    "andes.config_logger(stream_level=50)\n",
    "ams.config_logger(stream_level=50)"
   ]
  },
  {
   "cell_type": "code",
   "execution_count": null,
   "metadata": {},
   "outputs": [],
   "source": [
    "case_path = \"./../cases\"\n",
    "res_path = \"./../results\"\n",
    "addfile = case_path + '/IL200_dyn_db.xlsx'\n",
    "\n",
    "# --- file loading ---\n",
    "curve = pd.read_csv(case_path + '/Curve.csv')\n",
    "sp = ams.load(case_path + '/IL200_rted.xlsx',\n",
    "              setup=True, no_output=True,\n",
    "              default_config=True)\n",
    "sa = sp.to_andes(addfile=addfile,\n",
    "                 setup=True, no_output=True,\n",
    "                 default_config=True,)"
   ]
  },
  {
   "cell_type": "code",
   "execution_count": null,
   "metadata": {},
   "outputs": [],
   "source": [
    "for HOUR in [2]:\n",
    "    res_csv = os.path.join(res_path, f'case1_H{HOUR}.csv')\n",
    "    AGC = cosim.AGC(sp=sp, sa=sa, curve=curve,\n",
    "                    hour=HOUR,\n",
    "                    addfile=addfile,\n",
    "                    res_csv=res_csv,)\n",
    "\n",
    "    AGC.loop()"
   ]
  }
 ],
 "metadata": {
  "kernelspec": {
   "display_name": "amsre",
   "language": "python",
   "name": "python3"
  },
  "language_info": {
   "codemirror_mode": {
    "name": "ipython",
    "version": 3
   },
   "file_extension": ".py",
   "mimetype": "text/x-python",
   "name": "python",
   "nbconvert_exporter": "python",
   "pygments_lexer": "ipython3",
   "version": "3.12.0"
  }
 },
 "nbformat": 4,
 "nbformat_minor": 2
}
