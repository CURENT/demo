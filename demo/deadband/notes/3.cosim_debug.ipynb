{
 "cells": [
  {
   "cell_type": "markdown",
   "metadata": {},
   "source": [
    "# Co Simulation"
   ]
  },
  {
   "cell_type": "code",
   "execution_count": 1,
   "metadata": {},
   "outputs": [],
   "source": [
    "import numpy as np\n",
    "import pandas as pd\n",
    "\n",
    "import andes\n",
    "import ams"
   ]
  },
  {
   "cell_type": "code",
   "execution_count": 2,
   "metadata": {},
   "outputs": [],
   "source": [
    "%matplotlib inline"
   ]
  },
  {
   "cell_type": "code",
   "execution_count": 3,
   "metadata": {},
   "outputs": [],
   "source": [
    "andes.config_logger(stream_level=30)\n",
    "ams.config_logger(stream_level=30)"
   ]
  },
  {
   "cell_type": "code",
   "execution_count": 4,
   "metadata": {},
   "outputs": [],
   "source": [
    "curve = pd.read_csv('./../cases/Curve.csv')"
   ]
  },
  {
   "cell_type": "code",
   "execution_count": null,
   "metadata": {},
   "outputs": [
    {
     "name": "stdout",
     "output_type": "stream",
     "text": [
      "Generating code for 1 models on 12 processes.\n"
     ]
    },
    {
     "name": "stderr",
     "output_type": "stream",
     "text": [
      "Following PFlow models in addfile will be overwritten: <Bus>, <PQ>, <PV>, <Slack>, <Shunt>, <Line>, <Area>\n",
      "AMS system 0x136a81f40 is linked to the ANDES system 0x33c2ff9e0.\n"
     ]
    }
   ],
   "source": [
    "sp = ams.load('./../cases/IL200_rted.xlsx',\n",
    "              setup=True, no_output=True,\n",
    "              default_config=True)\n",
    "\n",
    "sa = sp.to_andes(addfile='./../cases/IL200_dyn_db.xlsx',\n",
    "                 setup=False,\n",
    "                 no_output=True,\n",
    "                 default_config=True,)"
   ]
  },
  {
   "cell_type": "code",
   "execution_count": null,
   "metadata": {},
   "outputs": [],
   "source": [
    "# set Wind and Solar to be uncontrollable\n",
    "stg_wind, stg_pv = sp.StaticGen.find_idx(keys='genfuel',\n",
    "                                         values=['wind', 'solar'], allow_all=True)\n",
    "sp.StaticGen.set(src='ctrl', attr='v', idx=stg_wind, value=0)\n",
    "sp.StaticGen.set(src='ctrl', attr='v', idx=stg_pv, value=0)\n",
    "\n",
    "# set load levels\n",
    "p0 = sp.PQ.get(src='p0', attr='v', idx=sp.PQ.idx.v).copy()\n",
    "sp.PQ.set(src='p0', attr='v', idx=sp.PQ.idx.v,\n",
    "          value=curve['Load'].values[0:5].mean() * p0,\n",
    "          #    value=0.85 * p0,\n",
    "          )\n",
    "\n",
    "# set wind power\n",
    "p0_wind = sp.StaticGen.get(src='p0', attr='v', idx=stg_wind).copy()\n",
    "sp.StaticGen.set(src='p0', attr='v', idx=stg_wind,\n",
    "                 value=curve['Wind'].values[0:5].mean() * p0_wind)\n",
    "\n",
    "# set solar power\n",
    "p0_pv = sp.StaticGen.get(src='p0', attr='v', idx=stg_pv).copy()\n",
    "sp.StaticGen.set(src='p0', attr='v', idx=stg_pv,\n",
    "                 value=curve['PV'].values[0:5].mean() * p0_pv)\n",
    "\n",
    "stg = sp.StaticGen.get_all_idxes()\n",
    "# pg0 <- p0, relax RTED ramping constraints\n",
    "sp.StaticGen.set(src='pg0', attr='v', idx=stg,\n",
    "                 value=sp.StaticGen.get(src='p0', attr='v', idx=stg))\n",
    "# relax StaticGen.pmin\n",
    "sp.StaticGen.set(src='pmin', attr='v', idx=stg, value=0)\n",
    "\n",
    "sp.RTED.run(solver='CLARABEL')"
   ]
  },
  {
   "cell_type": "code",
   "execution_count": null,
   "metadata": {},
   "outputs": [],
   "source": [
    "sp.RTED.dc2ac()"
   ]
  },
  {
   "cell_type": "code",
   "execution_count": null,
   "metadata": {},
   "outputs": [],
   "source": [
    "sp.dyn.send(adsys=sa, routine='RTED')"
   ]
  },
  {
   "cell_type": "code",
   "execution_count": null,
   "metadata": {},
   "outputs": [],
   "source": [
    "# Constant load\n",
    "sa.PQ.config.p2p = 1\n",
    "sa.PQ.config.q2q = 1\n",
    "sa.PQ.config.p2z = 0\n",
    "sa.PQ.config.q2z = 0\n",
    "\n",
    "sa.PFlow.run()"
   ]
  },
  {
   "cell_type": "code",
   "execution_count": null,
   "metadata": {},
   "outputs": [],
   "source": [
    "sa.TDS.config.criteria = 0\n",
    "sa.TDS.config.no_tqdm = 1\n",
    "_ = sa.TDS.init()"
   ]
  },
  {
   "cell_type": "code",
   "execution_count": null,
   "metadata": {},
   "outputs": [],
   "source": [
    "sa.TDS.run()"
   ]
  },
  {
   "cell_type": "code",
   "execution_count": null,
   "metadata": {},
   "outputs": [],
   "source": [
    "sa.ACEc.bias.pu_coeff"
   ]
  },
  {
   "cell_type": "code",
   "execution_count": null,
   "metadata": {},
   "outputs": [],
   "source": [
    "omega = sa.GENROU.omega.v[sa.GENROU.idx2uid('GENROU_47')]\n",
    "bias = - 0.3 * sa.config.mva / (10 * sa.config.freq * (omega - 1))\n",
    "bias"
   ]
  },
  {
   "cell_type": "code",
   "execution_count": null,
   "metadata": {},
   "outputs": [],
   "source": [
    "\n",
    "fmin, fmax = 59.4, 60.01\n",
    "tmin, tmax = 0, 8\n",
    "linewidth = 1.5\n",
    "genrou_idx = 'GENROU_47'\n",
    "\n",
    "# left: short-term response, without and with thermal inertia\n",
    "_ = sa.TDS.plt.plot(\n",
    "    sa.GENROU.omega,\n",
    "    a=sa.GENROU.idx2uid(genrou_idx),\n",
    "    left=tmin, right=tmax,\n",
    "    ymin=fmin, ymax=fmax,\n",
    "    ytimes=sa.config.freq,\n",
    "    show=False, grid=True,\n",
    "    ylabel='Slack Gen. Freq. [Hz]',\n",
    ")"
   ]
  }
 ],
 "metadata": {
  "kernelspec": {
   "display_name": "amsre",
   "language": "python",
   "name": "python3"
  },
  "language_info": {
   "codemirror_mode": {
    "name": "ipython",
    "version": 3
   },
   "file_extension": ".py",
   "mimetype": "text/x-python",
   "name": "python",
   "nbconvert_exporter": "python",
   "pygments_lexer": "ipython3",
   "version": "3.12.0"
  }
 },
 "nbformat": 4,
 "nbformat_minor": 2
}
