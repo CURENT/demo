{
 "cells": [
  {
   "cell_type": "markdown",
   "metadata": {},
   "source": [
    "# Frequency Regulation Study"
   ]
  },
  {
   "cell_type": "code",
   "execution_count": 1,
   "metadata": {},
   "outputs": [],
   "source": [
    "import ams"
   ]
  },
  {
   "cell_type": "code",
   "execution_count": 2,
   "metadata": {},
   "outputs": [],
   "source": [
    "%matplotlib inline"
   ]
  },
  {
   "cell_type": "code",
   "execution_count": 3,
   "metadata": {},
   "outputs": [],
   "source": [
    "ams.config_logger(stream_level=20)"
   ]
  },
  {
   "cell_type": "markdown",
   "metadata": {},
   "source": [
    "## Real-time economic dispatch"
   ]
  },
  {
   "cell_type": "code",
   "execution_count": 4,
   "metadata": {},
   "outputs": [
    {
     "name": "stderr",
     "output_type": "stream",
     "text": [
      "Working directory: \"/Users/jinningwang/work/demo/demo/freq_regulation\"\n",
      "Parsing input file \"./ieee39_econ.xlsx\"...\n",
      "Input file parsed in 0.0362 seconds.\n",
      "System set up in 0.0023 seconds.\n"
     ]
    }
   ],
   "source": [
    "sp = ams.load('./ieee39_econ.xlsx',\n",
    "              setup=True,\n",
    "              no_output=True,\n",
    "              default_config=True)"
   ]
  },
  {
   "cell_type": "code",
   "execution_count": 5,
   "metadata": {},
   "outputs": [
    {
     "name": "stderr",
     "output_type": "stream",
     "text": [
      "Building system matrices\n",
      "Parsing OModel for <RTED>\n",
      "Evaluating OModel for <RTED>\n",
      "Finalizing OModel for <RTED>\n",
      "<RTED> initialized in 0.0413 seconds.\n",
      "<RTED> solved as optimal in 0.0167 seconds, converged in 10 iterations with CLARABEL.\n"
     ]
    },
    {
     "data": {
      "text/plain": [
       "True"
      ]
     },
     "execution_count": 5,
     "metadata": {},
     "output_type": "execute_result"
    }
   ],
   "source": [
    "sp.RTED.run(solver='CLARABEL')"
   ]
  },
  {
   "cell_type": "code",
   "execution_count": 6,
   "metadata": {},
   "outputs": [
    {
     "name": "stderr",
     "output_type": "stream",
     "text": [
      "Parsing OModel for <ACOPF>\n",
      "Evaluating OModel for <ACOPF>\n",
      "Finalizing OModel for <ACOPF>\n",
      "<ACOPF> initialized in 0.0044 seconds.\n",
      "<ACOPF> solved in 0.3190 seconds, converged in 23 iterations with PYPOWER-PIPS.\n",
      "Parsing OModel for <RTED>\n",
      "<RTED> converted to AC.\n"
     ]
    },
    {
     "data": {
      "text/plain": [
       "True"
      ]
     },
     "execution_count": 6,
     "metadata": {},
     "output_type": "execute_result"
    }
   ],
   "source": [
    "sp.RTED.dc2ac()"
   ]
  },
  {
   "cell_type": "markdown",
   "metadata": {},
   "source": [
    "## Generator Trip Transient Simulation"
   ]
  },
  {
   "cell_type": "code",
   "execution_count": 7,
   "metadata": {},
   "outputs": [
    {
     "name": "stderr",
     "output_type": "stream",
     "text": [
      "> Reloaded generated Python code of module \"pycode\".\n",
      "Parsing additional file \"./ieee39_dyn.xlsx\"...\n",
      "Following PFlow models in addfile will be overwritten: <Bus>, <PQ>, <PV>, <Slack>, <Shunt>, <Line>, <Area>\n",
      "Addfile parsed in 0.0670 seconds.\n",
      "System converted to ANDES in 0.1066 seconds.\n",
      "AMS system 0x10d96bf40 is linked to the ANDES system 0x1446da830.\n",
      "System internal structure set up in 0.0187 seconds.\n"
     ]
    }
   ],
   "source": [
    "sa = sp.to_andes(setup=True,\n",
    "                 addfile='./ieee39_dyn.xlsx',\n",
    "                 no_output=True,\n",
    "                 default_config=True,\n",
    "                 verify=False)"
   ]
  },
  {
   "cell_type": "code",
   "execution_count": 8,
   "metadata": {},
   "outputs": [
    {
     "name": "stderr",
     "output_type": "stream",
     "text": [
      "Send <RTED> results to ANDES <0x1446da830>...\n",
      "*Send <vBus> to StaticGen.v0\n",
      "Send <vBus> to Bus.v0\n",
      "Send <ug> to StaticGen.u\n",
      "Send <pg> to StaticGen.p0\n"
     ]
    },
    {
     "data": {
      "text/plain": [
       "True"
      ]
     },
     "execution_count": 8,
     "metadata": {},
     "output_type": "execute_result"
    }
   ],
   "source": [
    "sp.dyn.send(routine='RTED')"
   ]
  },
  {
   "cell_type": "code",
   "execution_count": 9,
   "metadata": {},
   "outputs": [
    {
     "name": "stderr",
     "output_type": "stream",
     "text": [
      "-> System connectivity check results:\n",
      "  No islanded bus detected.\n",
      "  System is interconnected.\n",
      "  Each island has a slack bus correctly defined and enabled.\n",
      "\n",
      "-> Power flow calculation\n",
      "           Numba: Off\n",
      "   Sparse solver: KLU\n",
      " Solution method: NR method\n",
      "Power flow initialized in 0.0092 seconds.\n",
      "0: |F(x)| = 3.30837325\n",
      "1: |F(x)| = 0.143705758\n",
      "2: |F(x)| = 0.0004713260361\n",
      "3: |F(x)| = 6.174227463e-09\n",
      "Converged in 4 iterations in 0.0059 seconds.\n"
     ]
    },
    {
     "data": {
      "text/plain": [
       "True"
      ]
     },
     "execution_count": 9,
     "metadata": {},
     "output_type": "execute_result"
    }
   ],
   "source": [
    "sa.PQ.config.p2p = 1\n",
    "sa.PQ.config.q2q = 1\n",
    "sa.PQ.config.p2z = 0\n",
    "sa.PQ.config.q2z = 0\n",
    "sa.PQ.pq2z = 0\n",
    "\n",
    "sa.PFlow.run()"
   ]
  },
  {
   "cell_type": "code",
   "execution_count": 10,
   "metadata": {},
   "outputs": [
    {
     "name": "stderr",
     "output_type": "stream",
     "text": [
      "GENROU (xl <= xd2) out of typical upper limit.\n",
      "\n",
      "   idx     | values | limit\n",
      "-----------+--------+------\n",
      " GENROU_1  | 0.014  | 0.001\n",
      " GENROU_3  | 0.018  | 0.003\n",
      " GENROU_4  | 0.013  | 0.001\n",
      " GENROU_5  | 0.014  | 0.001\n",
      " GENROU_7  | 0.015  | 0.002\n",
      " GENROU_8  | 0.015  | 0.006\n",
      " GENROU_9  | 0.009  | 0.001\n",
      " GENROU_10 | 0.013  | 0.000\n",
      "\n",
      "\n",
      "Initialization for dynamics completed in 0.0226 seconds.\n",
      "Initialization was successful.\n"
     ]
    }
   ],
   "source": [
    "_ = sa.TDS.init()"
   ]
  },
  {
   "cell_type": "code",
   "execution_count": 11,
   "metadata": {},
   "outputs": [],
   "source": [
    "syg_tripped = sa.Toggler.dev.v[0]\n",
    "p_gap = sa.GENROU.Pe.v[sa.GENROU.idx2uid(syg_tripped)]"
   ]
  },
  {
   "cell_type": "code",
   "execution_count": 12,
   "metadata": {},
   "outputs": [
    {
     "name": "stderr",
     "output_type": "stream",
     "text": [
      "\n",
      "-> Time Domain Simulation Summary:\n",
      "Sparse Solver: KLU\n",
      "Simulation time: 0.0-50 s.\n",
      "Fixed step size: h=33.33 ms. Shrink if not converged.\n"
     ]
    },
    {
     "data": {
      "application/vnd.jupyter.widget-view+json": {
       "model_id": "98640060fd2140d2ba5da622cb5665df",
       "version_major": 2,
       "version_minor": 0
      },
      "text/plain": [
       "  0%|          | 0/100 [00:00<?, ?%/s]"
      ]
     },
     "metadata": {},
     "output_type": "display_data"
    },
    {
     "name": "stdout",
     "output_type": "stream",
     "text": [
      "<Toggle Toggler_1>: GENROU.GENROU_3 status changed to 0 at t=1.0 sec.\n"
     ]
    },
    {
     "name": "stderr",
     "output_type": "stream",
     "text": [
      "Simulation to t=50.00 sec completed in 1.4880 seconds.\n"
     ]
    },
    {
     "data": {
      "text/plain": [
       "True"
      ]
     },
     "execution_count": 12,
     "metadata": {},
     "output_type": "execute_result"
    }
   ],
   "source": [
    "sa.TDS.config.tf = 50\n",
    "sa.TDS.config.criteria = 0\n",
    "sa.TDS.run()"
   ]
  },
  {
   "cell_type": "code",
   "execution_count": 13,
   "metadata": {},
   "outputs": [
    {
     "data": {
      "image/png": "[encoded data removed]",
      "text/plain": [
       "<Figure size 640x480 with 1 Axes>"
      ]
     },
     "metadata": {},
     "output_type": "display_data"
    },
    {
     "data": {
      "text/plain": [
       "(<Figure size 640x480 with 1 Axes>,\n",
       " <Axes: xlabel='Time [s]', ylabel='COI Frequency [Hz]'>)"
      ]
     },
     "execution_count": 13,
     "metadata": {},
     "output_type": "execute_result"
    }
   ],
   "source": [
    "sa.TDS.plt.plot(sa.COI.omega,\n",
    "                ytimes=sa.config.freq,\n",
    "                latex=False,\n",
    "                grid=True,\n",
    "                legend=False,\n",
    "                ylabel='COI Frequency [Hz]')"
   ]
  },
  {
   "cell_type": "markdown",
   "metadata": {},
   "source": [
    "# Post Contingency Calculation"
   ]
  },
  {
   "cell_type": "code",
   "execution_count": null,
   "metadata": {},
   "outputs": [
    {
     "name": "stdout",
     "output_type": "stream",
     "text": [
      "Generator being tripped: GENROU_3\n",
      "Tripped power: 607.93 MW\n",
      "Estimated power gap: 617.70 MW\n"
     ]
    }
   ],
   "source": [
    "print(f'Generator being tripped: {syg_tripped}')\n",
    "print(f'Tripped power: {sa.config.mva * p_gap:.2f} MW')\n",
    "\n",
    "bias = sa.ACEc.bias.v[0]\n",
    "f_dev =  1 - sa.COI.omega.v\n",
    "p_est = bias * 10 * sa.config.freq * f_dev\n",
    "print(f'Estimated power gap: {p_est[0]:.2f} MW')"
   ]
  }
 ],
 "metadata": {
  "kernelspec": {
   "display_name": "ams",
   "language": "python",
   "name": "python3"
  },
  "language_info": {
   "codemirror_mode": {
    "name": "ipython",
    "version": 3
   },
   "file_extension": ".py",
   "mimetype": "text/x-python",
   "name": "python",
   "nbconvert_exporter": "python",
   "pygments_lexer": "ipython3",
   "version": "3.10.0"
  }
 },
 "nbformat": 4,
 "nbformat_minor": 2
}
