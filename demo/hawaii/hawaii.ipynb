{
 "cells": [
  {
   "cell_type": "code",
   "execution_count": 1,
   "id": "e13856c6",
   "metadata": {},
   "outputs": [],
   "source": [
    "import andes"
   ]
  },
  {
   "cell_type": "code",
   "execution_count": 2,
   "id": "1f30bfbb",
   "metadata": {},
   "outputs": [
    {
     "name": "stdout",
     "output_type": "stream",
     "text": [
      "Python  3.12.0\n",
      "andes   1.9.3.post21.dev0+g37040896\n",
      "numpy   2.2.5\n",
      "kvxopt  1.3.2.1\n",
      "sympy   1.14.0\n",
      "scipy   1.13.1\n",
      "pandas  2.2.3\n",
      "numba   0.61.2\n"
     ]
    }
   ],
   "source": [
    "!andes misc --version"
   ]
  },
  {
   "cell_type": "code",
   "execution_count": 3,
   "id": "05557f76",
   "metadata": {},
   "outputs": [
    {
     "name": "stdout",
     "output_type": "stream",
     "text": [
      "Generating code for 1 models on 12 processes.\n"
     ]
    },
    {
     "name": "stderr",
     "output_type": "stream",
     "text": [
      "Error: <REPCA1> cannot retrieve <bus1> from <ACLine> using <line>:\n",
      "  KeyError('Group <ACLine> does not contain device with idx=False')\n",
      "Error: <REPCA1> cannot retrieve <bus2> from <ACLine> using <line>:\n",
      "  KeyError('Group <ACLine> does not contain device with idx=False')\n",
      "Error: <REPCA1> cannot retrieve <r> from <ACLine> using <line>:\n",
      "  KeyError('Group <ACLine> does not contain device with idx=False')\n",
      "Error: <REPCA1> cannot retrieve <x> from <ACLine> using <line>:\n",
      "  KeyError('Group <ACLine> does not contain device with idx=False')\n"
     ]
    }
   ],
   "source": [
    "ss = andes.load(\"./Hawaii40_20231026.RAW\",\n",
    "                addfile=\"./Hawaii40_20231026.dyr\",\n",
    "                setup=False,\n",
    "                no_output=True,)"
   ]
  },
  {
   "cell_type": "markdown",
   "id": "634b4f49",
   "metadata": {},
   "source": [
    "Manually set ``REPCA1.line``"
   ]
  },
  {
   "cell_type": "code",
   "execution_count": 4,
   "id": "ed041755",
   "metadata": {},
   "outputs": [],
   "source": [
    "idx = ss.REPCA1.idx.v\n",
    "ree = ss.REPCA1.get(src='ree', attr='v', idx=idx)\n",
    "reg = ss.REECA1.get(src='reg', attr='v', idx=ree)\n",
    "bus = ss.REGCA1.get(src='bus', attr='v', idx=reg)\n",
    "line1 = ss.Line.find_idx(keys='bus1', values=bus, allow_none=True, default=None)\n",
    "line2 = ss.Line.find_idx(keys='bus2', values=bus, allow_none=True, default=None)\n",
    "line = []\n",
    "for l1, l2 in zip(line1, line2):\n",
    "    if l1 is not None:\n",
    "        line.append(l1)\n",
    "    elif l2 is not None:\n",
    "        line.append(l2)\n",
    "    else:\n",
    "        line.append(None)\n",
    "\n",
    "ss.REPCA1.alter(src='line', attr='v', idx=idx, value=line)"
   ]
  },
  {
   "cell_type": "code",
   "execution_count": 5,
   "id": "4e1211d5",
   "metadata": {},
   "outputs": [],
   "source": [
    "ss.setup()\n",
    "\n",
    "reg = ss.REECA1.get(src='reg', attr='v', idx=ss.REECA1.idx.v)\n",
    "gen = ss.REGCA1.get(src='gen', attr='v', idx=reg)\n",
    "vgen = ss.StaticGen.get(src='v0', attr='v', idx=gen)\n",
    "\n",
    "ss.REECA1.alter(src='Vref1', attr='vin', idx=ss.REECA1.idx.v,\n",
    "                value=vgen)\n",
    "\n",
    "ss.REGCA1.alter(src='Iqrmax', attr='vin', idx=ss.REGCA1.idx.v,\n",
    "                value=1)\n",
    "ss.REGCA1.alter(src='Iqrmin', attr='vin', idx=ss.REGCA1.idx.v,\n",
    "                value=-1)\n",
    "\n",
    "ss.REECA1.alter(src='VMIN', attr='vin', idx=ss.REECA1.idx.v,\n",
    "                value=-999)\n",
    "ss.REECA1.alter(src='VMAX', attr='vin', idx=ss.REECA1.idx.v,\n",
    "                value=999)\n",
    "ss.REECA1.alter(src='QMin', attr='vin', idx=ss.REECA1.idx.v,\n",
    "                value=-999)\n",
    "ss.REECA1.alter(src='QMax', attr='vin', idx=ss.REECA1.idx.v,\n",
    "                value=999)\n",
    "\n",
    "ss.REECA1.alter(src='PMAX', attr='vin', idx=ss.REECA1.idx.v,\n",
    "                value=999)\n",
    "ss.REECA1.alter(src='Imax', attr='vin', idx=ss.REECA1.idx.v,\n",
    "                value=999)\n",
    "\n",
    "ss.REECA1.alter(src='Iql1', attr='vin', idx=ss.REECA1.idx.v,\n",
    "                value=-999)\n",
    "ss.REECA1.alter(src='Iqh1', attr='vin', idx=ss.REECA1.idx.v,\n",
    "                value=999)"
   ]
  },
  {
   "cell_type": "code",
   "execution_count": 6,
   "id": "3231f86b",
   "metadata": {},
   "outputs": [
    {
     "name": "stderr",
     "output_type": "stream",
     "text": [
      "  Multiple slack generators are defined/enabled for 1 island(s).\n"
     ]
    },
    {
     "data": {
      "text/plain": [
       "True"
      ]
     },
     "execution_count": 6,
     "metadata": {},
     "output_type": "execute_result"
    }
   ],
   "source": [
    "ss.PFlow.run()"
   ]
  },
  {
   "cell_type": "code",
   "execution_count": 7,
   "id": "9c801508",
   "metadata": {},
   "outputs": [
    {
     "name": "stderr",
     "output_type": "stream",
     "text": [
      "GENROU (vf range) out of typical upper limit.\n",
      "\n",
      "   idx    | values | limit\n",
      "----------+--------+------\n",
      " GENROU_1 | 21.304 | 5    \n",
      " GENROU_2 | 21.304 | 5    \n",
      " GENROU_3 | 21.304 | 5    \n",
      " GENROU_4 | 21.304 | 5    \n",
      "\n",
      "\n",
      "/Users/jinningwang/.andes/pycode/REECA1.py:225: RuntimeWarning: invalid value encountered in divide\n",
      "  return (-Iq1 + Iq2)/(-Vq1 + Vq2)\n",
      "/Users/jinningwang/.andes/pycode/REECA1.py:229: RuntimeWarning: invalid value encountered in divide\n",
      "  return (-Iq2 + Iq3)/(-Vq2 + Vq3)\n",
      "/Users/jinningwang/.andes/pycode/REECA1.py:233: RuntimeWarning: invalid value encountered in divide\n",
      "  return (-Iq3 + Iq4)/(-Vq3 + Vq4)\n",
      "/Users/jinningwang/.andes/pycode/REECA1.py:241: RuntimeWarning: invalid value encountered in divide\n",
      "  return (-Ip1 + Ip2)/(-Vp1 + Vp2)\n",
      "/Users/jinningwang/.andes/pycode/REECA1.py:245: RuntimeWarning: invalid value encountered in divide\n",
      "  return (-Ip2 + Ip3)/(-Vp2 + Vp3)\n",
      "/Users/jinningwang/.andes/pycode/REECA1.py:249: RuntimeWarning: invalid value encountered in divide\n",
      "  return (-Ip3 + Ip4)/(-Vp3 + Vp4)\n",
      "REECA1.IqHL_lim: *not adjusted* limit <Iqmin>\n",
      "\n",
      "   Idx    | Input  | Old Limit\n",
      "----------+--------+----------\n",
      " REECA1_1 | -0.051 | 0        \n",
      " REECA1_2 | -0.051 | 0        \n",
      " REECA1_5 | -0.074 | 0        \n",
      " REECA1_6 | -0.074 | 0        \n",
      " REECA1_7 | -0.051 | 0        \n",
      " REECA1_8 | -0.051 | 0        \n",
      "\n",
      "\n",
      "REECA1.dbV_db out of limits <dbd1>\n",
      "\n",
      "   idx    | Flag | Input Value | Limit\n",
      "----------+------+-------------+------\n",
      " REECA1_1 | zl   | -1          | 0    \n",
      " REECA1_2 | zl   | -1          | 0    \n",
      " REECA1_3 | zl   | -1          | 0    \n",
      " REECA1_4 | zl   | -1          | 0    \n",
      " REECA1_5 | zl   | -1          | 0    \n",
      " REECA1_6 | zl   | -1          | 0    \n",
      " REECA1_7 | zl   | -1          | 0    \n",
      " REECA1_8 | zl   | -1          | 0    \n",
      " REECA1_9 | zl   | -1.000      | 0    \n",
      "\n",
      "\n",
      "REECA1.IqHL_lim out of limits <Iqmin>\n",
      "\n",
      "   idx    | Flag | Input Value | Limit\n",
      "----------+------+-------------+------\n",
      " REECA1_1 | zl   | -0.051      | 0    \n",
      " REECA1_2 | zl   | -0.051      | 0    \n",
      " REECA1_5 | zl   | -0.074      | 0    \n",
      " REECA1_6 | zl   | -0.074      | 0    \n",
      " REECA1_7 | zl   | -0.051      | 0    \n",
      " REECA1_8 | zl   | -0.051      | 0    \n",
      "\n",
      "\n",
      "Suspect initialization issue! Simulation may crash!\n",
      "\n",
      "      Name       | Var. Value | Eqn. Mismatch\n",
      "-----------------+------------+--------------\n",
      " vas ESST1A 33   | 1.502      | -9397.301    \n",
      " vas ESST1A 35   | 1.714      | -9376.301    \n",
      " vol_y ESST1A 33 | 1.502      | -5.659       \n",
      " vol_y ESST1A 35 | 1.714      | -6.465       \n",
      " Iqcmd REGCA1 1  | 0.051      | -0.102       \n",
      " Iqcmd REGCA1 5  | 0.074      | -0.149       \n",
      " Iqcmd REGCA1 7  | 0.051      | -0.103       \n",
      " Iqmax REECA1 3  | 0.039      | -0.039       \n",
      " Iqmax REECA1 4  | 0.039      | -0.039       \n",
      " Iqmax REECA1 9  | 0.215      | -0.215       \n",
      "\n",
      "\n",
      "Initialization failed!!\n",
      "If you are developing a new model, check the initialization with\n",
      "   andes -v 10 run -r tds --init ./Hawaii40_20231026.RAW\n",
      "Otherwise, check the variables that are initialized out of limits.\n"
     ]
    }
   ],
   "source": [
    "# ss.REGCA1.config.adjust_lower = 1\n",
    "# ss.REECA1.config.adjust_lower = 1\n",
    "# ss.REPCA1.config.adjust_lower = 1\n",
    "\n",
    "_ = ss.TDS.init()"
   ]
  },
  {
   "cell_type": "markdown",
   "id": "7fba3668",
   "metadata": {},
   "source": [
    "TDS initialization failed"
   ]
  },
  {
   "cell_type": "code",
   "execution_count": 8,
   "id": "015b6139",
   "metadata": {},
   "outputs": [
    {
     "data": {
      "text/plain": [
       "True"
      ]
     },
     "execution_count": 8,
     "metadata": {},
     "output_type": "execute_result"
    }
   ],
   "source": [
    "andes.io.xlsx.write(ss, \"./Hawaii40.xlsx\", overwrite=True)"
   ]
  }
 ],
 "metadata": {
  "kernelspec": {
   "display_name": "ams",
   "language": "python",
   "name": "python3"
  },
  "language_info": {
   "codemirror_mode": {
    "name": "ipython",
    "version": 3
   },
   "file_extension": ".py",
   "mimetype": "text/x-python",
   "name": "python",
   "nbconvert_exporter": "python",
   "pygments_lexer": "ipython3",
   "version": "3.12.0"
  }
 },
 "nbformat": 4,
 "nbformat_minor": 5
}
