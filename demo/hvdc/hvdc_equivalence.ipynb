{
 "cells": [
  {
   "cell_type": "markdown",
   "metadata": {},
   "source": [
    "# HVDC Equivalence\n",
    "\n",
    "This notebook shows how to equivalent a HVDC line using pertubation file."
   ]
  },
  {
   "cell_type": "code",
   "execution_count": 1,
   "metadata": {},
   "outputs": [],
   "source": [
    "import andes\n",
    "\n",
    "import matplotlib.pyplot as plt"
   ]
  },
  {
   "cell_type": "code",
   "execution_count": 2,
   "metadata": {},
   "outputs": [],
   "source": [
    "%matplotlib inline"
   ]
  },
  {
   "cell_type": "code",
   "execution_count": 3,
   "metadata": {},
   "outputs": [
    {
     "data": {
      "text/plain": [
       "'1.9.1.post114.dev0+g4fc9a29d'"
      ]
     },
     "execution_count": 3,
     "metadata": {},
     "output_type": "execute_result"
    }
   ],
   "source": [
    "andes.__version__"
   ]
  },
  {
   "cell_type": "code",
   "execution_count": 4,
   "metadata": {},
   "outputs": [],
   "source": [
    "andes.config_logger(stream_level=20)"
   ]
  },
  {
   "cell_type": "markdown",
   "metadata": {},
   "source": [
    "Load the case, but don't set it up as we need add some devices."
   ]
  },
  {
   "cell_type": "code",
   "execution_count": 5,
   "metadata": {},
   "outputs": [
    {
     "name": "stderr",
     "output_type": "stream",
     "text": [
      "Working directory: \"/Users/jinningwang/work/demo/demo/hvdc\"\n",
      "> Loaded generated Python code in \"/Users/jinningwang/.andes/pycode\".\n",
      "Generated code for <PQ> is stale.\n",
      "Numerical code generation (rapid incremental mode) started...\n"
     ]
    },
    {
     "name": "stdout",
     "output_type": "stream",
     "text": [
      "Generating code for 1 models on 12 processes.\n"
     ]
    },
    {
     "name": "stderr",
     "output_type": "stream",
     "text": [
      "Saved generated pycode to \"/Users/jinningwang/.andes/pycode\"\n",
      "> Reloaded generated Python code of module \"pycode\".\n",
      "Generated numerical code for 1 models in 0.1009 seconds.\n",
      "Parsing input file \"./ieee14_hvdc.xlsx\"...\n",
      "Input file parsed in 0.1898 seconds.\n"
     ]
    }
   ],
   "source": [
    "ss = andes.load('./ieee14_hvdc.xlsx',\n",
    "                setup=False,\n",
    "                no_output=True,\n",
    "                default_config=True,\n",
    "                pert='./pert.py')"
   ]
  },
  {
   "cell_type": "markdown",
   "metadata": {},
   "source": [
    "Inspect transmission lines"
   ]
  },
  {
   "cell_type": "code",
   "execution_count": 6,
   "metadata": {},
   "outputs": [
    {
     "data": {
      "text/html": [
       "<div>\n",
       "<style scoped>\n",
       "    .dataframe tbody tr th:only-of-type {\n",
       "        vertical-align: middle;\n",
       "    }\n",
       "\n",
       "    .dataframe tbody tr th {\n",
       "        vertical-align: top;\n",
       "    }\n",
       "\n",
       "    .dataframe thead th {\n",
       "        text-align: right;\n",
       "    }\n",
       "</style>\n",
       "<table border=\"1\" class=\"dataframe\">\n",
       "  <thead>\n",
       "    <tr style=\"text-align: right;\">\n",
       "      <th></th>\n",
       "      <th>idx</th>\n",
       "      <th>u</th>\n",
       "      <th>name</th>\n",
       "      <th>bus1</th>\n",
       "      <th>bus2</th>\n",
       "      <th>Sn</th>\n",
       "      <th>fn</th>\n",
       "      <th>Vn1</th>\n",
       "      <th>Vn2</th>\n",
       "      <th>r</th>\n",
       "      <th>...</th>\n",
       "      <th>g2</th>\n",
       "      <th>trans</th>\n",
       "      <th>tap</th>\n",
       "      <th>phi</th>\n",
       "      <th>rate_a</th>\n",
       "      <th>rate_b</th>\n",
       "      <th>rate_c</th>\n",
       "      <th>owner</th>\n",
       "      <th>xcoord</th>\n",
       "      <th>ycoord</th>\n",
       "    </tr>\n",
       "    <tr>\n",
       "      <th>uid</th>\n",
       "      <th></th>\n",
       "      <th></th>\n",
       "      <th></th>\n",
       "      <th></th>\n",
       "      <th></th>\n",
       "      <th></th>\n",
       "      <th></th>\n",
       "      <th></th>\n",
       "      <th></th>\n",
       "      <th></th>\n",
       "      <th></th>\n",
       "      <th></th>\n",
       "      <th></th>\n",
       "      <th></th>\n",
       "      <th></th>\n",
       "      <th></th>\n",
       "      <th></th>\n",
       "      <th></th>\n",
       "      <th></th>\n",
       "      <th></th>\n",
       "      <th></th>\n",
       "    </tr>\n",
       "  </thead>\n",
       "  <tbody>\n",
       "    <tr>\n",
       "      <th>0</th>\n",
       "      <td>Line_1</td>\n",
       "      <td>1</td>\n",
       "      <td>Line_1</td>\n",
       "      <td>1</td>\n",
       "      <td>2</td>\n",
       "      <td>100</td>\n",
       "      <td>60</td>\n",
       "      <td>69</td>\n",
       "      <td>69</td>\n",
       "      <td>0.01938</td>\n",
       "      <td>...</td>\n",
       "      <td>0</td>\n",
       "      <td>0</td>\n",
       "      <td>1.00000</td>\n",
       "      <td>0</td>\n",
       "      <td>0.0</td>\n",
       "      <td>0.0</td>\n",
       "      <td>0.0</td>\n",
       "      <td>None</td>\n",
       "      <td>None</td>\n",
       "      <td>None</td>\n",
       "    </tr>\n",
       "    <tr>\n",
       "      <th>1</th>\n",
       "      <td>Line_2</td>\n",
       "      <td>1</td>\n",
       "      <td>Line_2</td>\n",
       "      <td>1</td>\n",
       "      <td>5</td>\n",
       "      <td>100</td>\n",
       "      <td>60</td>\n",
       "      <td>69</td>\n",
       "      <td>69</td>\n",
       "      <td>0.05403</td>\n",
       "      <td>...</td>\n",
       "      <td>0</td>\n",
       "      <td>0</td>\n",
       "      <td>1.00000</td>\n",
       "      <td>0</td>\n",
       "      <td>0.0</td>\n",
       "      <td>0.0</td>\n",
       "      <td>0.0</td>\n",
       "      <td>None</td>\n",
       "      <td>None</td>\n",
       "      <td>None</td>\n",
       "    </tr>\n",
       "    <tr>\n",
       "      <th>2</th>\n",
       "      <td>Line_3</td>\n",
       "      <td>1</td>\n",
       "      <td>Line_3</td>\n",
       "      <td>2</td>\n",
       "      <td>3</td>\n",
       "      <td>100</td>\n",
       "      <td>60</td>\n",
       "      <td>69</td>\n",
       "      <td>69</td>\n",
       "      <td>0.04699</td>\n",
       "      <td>...</td>\n",
       "      <td>0</td>\n",
       "      <td>0</td>\n",
       "      <td>1.00000</td>\n",
       "      <td>0</td>\n",
       "      <td>0.0</td>\n",
       "      <td>0.0</td>\n",
       "      <td>0.0</td>\n",
       "      <td>None</td>\n",
       "      <td>None</td>\n",
       "      <td>None</td>\n",
       "    </tr>\n",
       "    <tr>\n",
       "      <th>3</th>\n",
       "      <td>Line_4</td>\n",
       "      <td>1</td>\n",
       "      <td>Line_4</td>\n",
       "      <td>2</td>\n",
       "      <td>4</td>\n",
       "      <td>100</td>\n",
       "      <td>60</td>\n",
       "      <td>69</td>\n",
       "      <td>69</td>\n",
       "      <td>0.05811</td>\n",
       "      <td>...</td>\n",
       "      <td>0</td>\n",
       "      <td>0</td>\n",
       "      <td>1.00000</td>\n",
       "      <td>0</td>\n",
       "      <td>0.0</td>\n",
       "      <td>0.0</td>\n",
       "      <td>0.0</td>\n",
       "      <td>None</td>\n",
       "      <td>None</td>\n",
       "      <td>None</td>\n",
       "    </tr>\n",
       "    <tr>\n",
       "      <th>4</th>\n",
       "      <td>Line_5</td>\n",
       "      <td>1</td>\n",
       "      <td>Line_5</td>\n",
       "      <td>2</td>\n",
       "      <td>5</td>\n",
       "      <td>100</td>\n",
       "      <td>60</td>\n",
       "      <td>69</td>\n",
       "      <td>69</td>\n",
       "      <td>0.05695</td>\n",
       "      <td>...</td>\n",
       "      <td>0</td>\n",
       "      <td>0</td>\n",
       "      <td>1.00000</td>\n",
       "      <td>0</td>\n",
       "      <td>0.0</td>\n",
       "      <td>0.0</td>\n",
       "      <td>0.0</td>\n",
       "      <td>None</td>\n",
       "      <td>None</td>\n",
       "      <td>None</td>\n",
       "    </tr>\n",
       "    <tr>\n",
       "      <th>5</th>\n",
       "      <td>Line_6</td>\n",
       "      <td>1</td>\n",
       "      <td>Line_6</td>\n",
       "      <td>3</td>\n",
       "      <td>4</td>\n",
       "      <td>100</td>\n",
       "      <td>60</td>\n",
       "      <td>69</td>\n",
       "      <td>69</td>\n",
       "      <td>0.06701</td>\n",
       "      <td>...</td>\n",
       "      <td>0</td>\n",
       "      <td>0</td>\n",
       "      <td>1.00000</td>\n",
       "      <td>0</td>\n",
       "      <td>0.0</td>\n",
       "      <td>0.0</td>\n",
       "      <td>0.0</td>\n",
       "      <td>None</td>\n",
       "      <td>None</td>\n",
       "      <td>None</td>\n",
       "    </tr>\n",
       "    <tr>\n",
       "      <th>6</th>\n",
       "      <td>Line_7</td>\n",
       "      <td>1</td>\n",
       "      <td>Line_7</td>\n",
       "      <td>4</td>\n",
       "      <td>5</td>\n",
       "      <td>100</td>\n",
       "      <td>60</td>\n",
       "      <td>69</td>\n",
       "      <td>69</td>\n",
       "      <td>0.01335</td>\n",
       "      <td>...</td>\n",
       "      <td>0</td>\n",
       "      <td>0</td>\n",
       "      <td>1.00000</td>\n",
       "      <td>0</td>\n",
       "      <td>0.0</td>\n",
       "      <td>0.0</td>\n",
       "      <td>0.0</td>\n",
       "      <td>None</td>\n",
       "      <td>None</td>\n",
       "      <td>None</td>\n",
       "    </tr>\n",
       "    <tr>\n",
       "      <th>7</th>\n",
       "      <td>Line_8</td>\n",
       "      <td>1</td>\n",
       "      <td>Line_8</td>\n",
       "      <td>6</td>\n",
       "      <td>11</td>\n",
       "      <td>100</td>\n",
       "      <td>60</td>\n",
       "      <td>138</td>\n",
       "      <td>138</td>\n",
       "      <td>0.09498</td>\n",
       "      <td>...</td>\n",
       "      <td>0</td>\n",
       "      <td>0</td>\n",
       "      <td>1.00000</td>\n",
       "      <td>0</td>\n",
       "      <td>0.0</td>\n",
       "      <td>0.0</td>\n",
       "      <td>0.0</td>\n",
       "      <td>None</td>\n",
       "      <td>None</td>\n",
       "      <td>None</td>\n",
       "    </tr>\n",
       "    <tr>\n",
       "      <th>8</th>\n",
       "      <td>Line_9</td>\n",
       "      <td>1</td>\n",
       "      <td>Line_9</td>\n",
       "      <td>6</td>\n",
       "      <td>12</td>\n",
       "      <td>100</td>\n",
       "      <td>60</td>\n",
       "      <td>138</td>\n",
       "      <td>138</td>\n",
       "      <td>0.12291</td>\n",
       "      <td>...</td>\n",
       "      <td>0</td>\n",
       "      <td>0</td>\n",
       "      <td>1.00000</td>\n",
       "      <td>0</td>\n",
       "      <td>0.0</td>\n",
       "      <td>0.0</td>\n",
       "      <td>0.0</td>\n",
       "      <td>None</td>\n",
       "      <td>None</td>\n",
       "      <td>None</td>\n",
       "    </tr>\n",
       "    <tr>\n",
       "      <th>9</th>\n",
       "      <td>Line_10</td>\n",
       "      <td>1</td>\n",
       "      <td>Line_10</td>\n",
       "      <td>6</td>\n",
       "      <td>13</td>\n",
       "      <td>100</td>\n",
       "      <td>60</td>\n",
       "      <td>138</td>\n",
       "      <td>138</td>\n",
       "      <td>0.06615</td>\n",
       "      <td>...</td>\n",
       "      <td>0</td>\n",
       "      <td>0</td>\n",
       "      <td>1.00000</td>\n",
       "      <td>0</td>\n",
       "      <td>0.0</td>\n",
       "      <td>0.0</td>\n",
       "      <td>0.0</td>\n",
       "      <td>None</td>\n",
       "      <td>None</td>\n",
       "      <td>None</td>\n",
       "    </tr>\n",
       "    <tr>\n",
       "      <th>10</th>\n",
       "      <td>Line_11</td>\n",
       "      <td>1</td>\n",
       "      <td>Line_11</td>\n",
       "      <td>7</td>\n",
       "      <td>9</td>\n",
       "      <td>100</td>\n",
       "      <td>60</td>\n",
       "      <td>138</td>\n",
       "      <td>138</td>\n",
       "      <td>0.00000</td>\n",
       "      <td>...</td>\n",
       "      <td>0</td>\n",
       "      <td>0</td>\n",
       "      <td>1.00000</td>\n",
       "      <td>0</td>\n",
       "      <td>0.0</td>\n",
       "      <td>0.0</td>\n",
       "      <td>0.0</td>\n",
       "      <td>None</td>\n",
       "      <td>None</td>\n",
       "      <td>None</td>\n",
       "    </tr>\n",
       "    <tr>\n",
       "      <th>11</th>\n",
       "      <td>Line_12</td>\n",
       "      <td>1</td>\n",
       "      <td>Line_12</td>\n",
       "      <td>9</td>\n",
       "      <td>10</td>\n",
       "      <td>100</td>\n",
       "      <td>60</td>\n",
       "      <td>138</td>\n",
       "      <td>138</td>\n",
       "      <td>0.03181</td>\n",
       "      <td>...</td>\n",
       "      <td>0</td>\n",
       "      <td>0</td>\n",
       "      <td>1.00000</td>\n",
       "      <td>0</td>\n",
       "      <td>0.0</td>\n",
       "      <td>0.0</td>\n",
       "      <td>0.0</td>\n",
       "      <td>None</td>\n",
       "      <td>None</td>\n",
       "      <td>None</td>\n",
       "    </tr>\n",
       "    <tr>\n",
       "      <th>12</th>\n",
       "      <td>Line_13</td>\n",
       "      <td>1</td>\n",
       "      <td>Line_13</td>\n",
       "      <td>9</td>\n",
       "      <td>14</td>\n",
       "      <td>100</td>\n",
       "      <td>60</td>\n",
       "      <td>138</td>\n",
       "      <td>138</td>\n",
       "      <td>0.12711</td>\n",
       "      <td>...</td>\n",
       "      <td>0</td>\n",
       "      <td>0</td>\n",
       "      <td>1.00000</td>\n",
       "      <td>0</td>\n",
       "      <td>0.0</td>\n",
       "      <td>0.0</td>\n",
       "      <td>0.0</td>\n",
       "      <td>None</td>\n",
       "      <td>None</td>\n",
       "      <td>None</td>\n",
       "    </tr>\n",
       "    <tr>\n",
       "      <th>13</th>\n",
       "      <td>Line_14</td>\n",
       "      <td>1</td>\n",
       "      <td>Line_14</td>\n",
       "      <td>10</td>\n",
       "      <td>11</td>\n",
       "      <td>100</td>\n",
       "      <td>60</td>\n",
       "      <td>138</td>\n",
       "      <td>138</td>\n",
       "      <td>0.08205</td>\n",
       "      <td>...</td>\n",
       "      <td>0</td>\n",
       "      <td>0</td>\n",
       "      <td>1.00000</td>\n",
       "      <td>0</td>\n",
       "      <td>0.0</td>\n",
       "      <td>0.0</td>\n",
       "      <td>0.0</td>\n",
       "      <td>None</td>\n",
       "      <td>None</td>\n",
       "      <td>None</td>\n",
       "    </tr>\n",
       "    <tr>\n",
       "      <th>14</th>\n",
       "      <td>Line_15</td>\n",
       "      <td>1</td>\n",
       "      <td>Line_15</td>\n",
       "      <td>12</td>\n",
       "      <td>13</td>\n",
       "      <td>100</td>\n",
       "      <td>60</td>\n",
       "      <td>138</td>\n",
       "      <td>138</td>\n",
       "      <td>0.22092</td>\n",
       "      <td>...</td>\n",
       "      <td>0</td>\n",
       "      <td>0</td>\n",
       "      <td>1.00000</td>\n",
       "      <td>0</td>\n",
       "      <td>0.0</td>\n",
       "      <td>0.0</td>\n",
       "      <td>0.0</td>\n",
       "      <td>None</td>\n",
       "      <td>None</td>\n",
       "      <td>None</td>\n",
       "    </tr>\n",
       "    <tr>\n",
       "      <th>15</th>\n",
       "      <td>Line_16</td>\n",
       "      <td>1</td>\n",
       "      <td>Line_16</td>\n",
       "      <td>13</td>\n",
       "      <td>14</td>\n",
       "      <td>100</td>\n",
       "      <td>60</td>\n",
       "      <td>138</td>\n",
       "      <td>138</td>\n",
       "      <td>0.17093</td>\n",
       "      <td>...</td>\n",
       "      <td>0</td>\n",
       "      <td>0</td>\n",
       "      <td>1.00000</td>\n",
       "      <td>0</td>\n",
       "      <td>0.0</td>\n",
       "      <td>0.0</td>\n",
       "      <td>0.0</td>\n",
       "      <td>None</td>\n",
       "      <td>None</td>\n",
       "      <td>None</td>\n",
       "    </tr>\n",
       "    <tr>\n",
       "      <th>16</th>\n",
       "      <td>Line_17</td>\n",
       "      <td>1</td>\n",
       "      <td>Line_17</td>\n",
       "      <td>4</td>\n",
       "      <td>7</td>\n",
       "      <td>100</td>\n",
       "      <td>60</td>\n",
       "      <td>69</td>\n",
       "      <td>138</td>\n",
       "      <td>0.00000</td>\n",
       "      <td>...</td>\n",
       "      <td>0</td>\n",
       "      <td>1</td>\n",
       "      <td>0.99677</td>\n",
       "      <td>0</td>\n",
       "      <td>0.0</td>\n",
       "      <td>0.0</td>\n",
       "      <td>0.0</td>\n",
       "      <td>None</td>\n",
       "      <td>None</td>\n",
       "      <td>None</td>\n",
       "    </tr>\n",
       "    <tr>\n",
       "      <th>17</th>\n",
       "      <td>Line_18</td>\n",
       "      <td>1</td>\n",
       "      <td>Line_18</td>\n",
       "      <td>4</td>\n",
       "      <td>9</td>\n",
       "      <td>100</td>\n",
       "      <td>60</td>\n",
       "      <td>69</td>\n",
       "      <td>138</td>\n",
       "      <td>0.00000</td>\n",
       "      <td>...</td>\n",
       "      <td>0</td>\n",
       "      <td>1</td>\n",
       "      <td>0.99677</td>\n",
       "      <td>0</td>\n",
       "      <td>0.0</td>\n",
       "      <td>0.0</td>\n",
       "      <td>0.0</td>\n",
       "      <td>None</td>\n",
       "      <td>None</td>\n",
       "      <td>None</td>\n",
       "    </tr>\n",
       "    <tr>\n",
       "      <th>18</th>\n",
       "      <td>Line_19</td>\n",
       "      <td>1</td>\n",
       "      <td>Line_19</td>\n",
       "      <td>6</td>\n",
       "      <td>5</td>\n",
       "      <td>100</td>\n",
       "      <td>60</td>\n",
       "      <td>138</td>\n",
       "      <td>69</td>\n",
       "      <td>0.00000</td>\n",
       "      <td>...</td>\n",
       "      <td>0</td>\n",
       "      <td>1</td>\n",
       "      <td>0.99677</td>\n",
       "      <td>0</td>\n",
       "      <td>0.0</td>\n",
       "      <td>0.0</td>\n",
       "      <td>0.0</td>\n",
       "      <td>None</td>\n",
       "      <td>None</td>\n",
       "      <td>None</td>\n",
       "    </tr>\n",
       "    <tr>\n",
       "      <th>19</th>\n",
       "      <td>Line_20</td>\n",
       "      <td>1</td>\n",
       "      <td>Line_20</td>\n",
       "      <td>8</td>\n",
       "      <td>7</td>\n",
       "      <td>100</td>\n",
       "      <td>60</td>\n",
       "      <td>69</td>\n",
       "      <td>138</td>\n",
       "      <td>0.00000</td>\n",
       "      <td>...</td>\n",
       "      <td>0</td>\n",
       "      <td>1</td>\n",
       "      <td>0.99677</td>\n",
       "      <td>0</td>\n",
       "      <td>0.0</td>\n",
       "      <td>0.0</td>\n",
       "      <td>0.0</td>\n",
       "      <td>None</td>\n",
       "      <td>None</td>\n",
       "      <td>None</td>\n",
       "    </tr>\n",
       "  </tbody>\n",
       "</table>\n",
       "<p>20 rows × 26 columns</p>\n",
       "</div>"
      ],
      "text/plain": [
       "         idx  u     name  bus1  bus2   Sn  fn  Vn1  Vn2        r  ...  g2  \\\n",
       "uid                                                               ...       \n",
       "0     Line_1  1   Line_1     1     2  100  60   69   69  0.01938  ...   0   \n",
       "1     Line_2  1   Line_2     1     5  100  60   69   69  0.05403  ...   0   \n",
       "2     Line_3  1   Line_3     2     3  100  60   69   69  0.04699  ...   0   \n",
       "3     Line_4  1   Line_4     2     4  100  60   69   69  0.05811  ...   0   \n",
       "4     Line_5  1   Line_5     2     5  100  60   69   69  0.05695  ...   0   \n",
       "5     Line_6  1   Line_6     3     4  100  60   69   69  0.06701  ...   0   \n",
       "6     Line_7  1   Line_7     4     5  100  60   69   69  0.01335  ...   0   \n",
       "7     Line_8  1   Line_8     6    11  100  60  138  138  0.09498  ...   0   \n",
       "8     Line_9  1   Line_9     6    12  100  60  138  138  0.12291  ...   0   \n",
       "9    Line_10  1  Line_10     6    13  100  60  138  138  0.06615  ...   0   \n",
       "10   Line_11  1  Line_11     7     9  100  60  138  138  0.00000  ...   0   \n",
       "11   Line_12  1  Line_12     9    10  100  60  138  138  0.03181  ...   0   \n",
       "12   Line_13  1  Line_13     9    14  100  60  138  138  0.12711  ...   0   \n",
       "13   Line_14  1  Line_14    10    11  100  60  138  138  0.08205  ...   0   \n",
       "14   Line_15  1  Line_15    12    13  100  60  138  138  0.22092  ...   0   \n",
       "15   Line_16  1  Line_16    13    14  100  60  138  138  0.17093  ...   0   \n",
       "16   Line_17  1  Line_17     4     7  100  60   69  138  0.00000  ...   0   \n",
       "17   Line_18  1  Line_18     4     9  100  60   69  138  0.00000  ...   0   \n",
       "18   Line_19  1  Line_19     6     5  100  60  138   69  0.00000  ...   0   \n",
       "19   Line_20  1  Line_20     8     7  100  60   69  138  0.00000  ...   0   \n",
       "\n",
       "     trans      tap  phi  rate_a  rate_b  rate_c  owner  xcoord  ycoord  \n",
       "uid                                                                      \n",
       "0        0  1.00000    0     0.0     0.0     0.0   None    None    None  \n",
       "1        0  1.00000    0     0.0     0.0     0.0   None    None    None  \n",
       "2        0  1.00000    0     0.0     0.0     0.0   None    None    None  \n",
       "3        0  1.00000    0     0.0     0.0     0.0   None    None    None  \n",
       "4        0  1.00000    0     0.0     0.0     0.0   None    None    None  \n",
       "5        0  1.00000    0     0.0     0.0     0.0   None    None    None  \n",
       "6        0  1.00000    0     0.0     0.0     0.0   None    None    None  \n",
       "7        0  1.00000    0     0.0     0.0     0.0   None    None    None  \n",
       "8        0  1.00000    0     0.0     0.0     0.0   None    None    None  \n",
       "9        0  1.00000    0     0.0     0.0     0.0   None    None    None  \n",
       "10       0  1.00000    0     0.0     0.0     0.0   None    None    None  \n",
       "11       0  1.00000    0     0.0     0.0     0.0   None    None    None  \n",
       "12       0  1.00000    0     0.0     0.0     0.0   None    None    None  \n",
       "13       0  1.00000    0     0.0     0.0     0.0   None    None    None  \n",
       "14       0  1.00000    0     0.0     0.0     0.0   None    None    None  \n",
       "15       0  1.00000    0     0.0     0.0     0.0   None    None    None  \n",
       "16       1  0.99677    0     0.0     0.0     0.0   None    None    None  \n",
       "17       1  0.99677    0     0.0     0.0     0.0   None    None    None  \n",
       "18       1  0.99677    0     0.0     0.0     0.0   None    None    None  \n",
       "19       1  0.99677    0     0.0     0.0     0.0   None    None    None  \n",
       "\n",
       "[20 rows x 26 columns]"
      ]
     },
     "execution_count": 6,
     "metadata": {},
     "output_type": "execute_result"
    }
   ],
   "source": [
    "ss.Line.as_df()"
   ]
  },
  {
   "cell_type": "markdown",
   "metadata": {},
   "source": [
    "After inspection, `Line_13` does not connect to a generator bus, we can replace it with a HVDC equivalent.\n",
    "\n",
    "The overall idea is to equivalent the sending end as a load (`PQ`) and equivalend the receiving end as a PV generator (`PV`).\n",
    "Then we can manipulate the setting parameters to mimic the HVDC line.\n",
    "\n",
    "First, let's turn the line off."
   ]
  },
  {
   "cell_type": "code",
   "execution_count": 7,
   "metadata": {},
   "outputs": [
    {
     "data": {
      "text/plain": [
       "True"
      ]
     },
     "execution_count": 7,
     "metadata": {},
     "output_type": "execute_result"
    }
   ],
   "source": [
    "ss.Line.set(src='u', attr='v', idx='Line_13', value=0)"
   ]
  },
  {
   "cell_type": "markdown",
   "metadata": {},
   "source": [
    "Equivalent the sending end as a load."
   ]
  },
  {
   "cell_type": "code",
   "execution_count": 8,
   "metadata": {},
   "outputs": [
    {
     "data": {
      "text/plain": [
       "'CONS'"
      ]
     },
     "execution_count": 8,
     "metadata": {},
     "output_type": "execute_result"
    }
   ],
   "source": [
    "ss.add(model='PQ',\n",
    "       param_dict=dict(idx='CONS', u=1, bus=9,\n",
    "                       p0=0, q0=0, Vn=138))"
   ]
  },
  {
   "cell_type": "markdown",
   "metadata": {},
   "source": [
    "Equivalent the receiving end as a generator."
   ]
  },
  {
   "cell_type": "code",
   "execution_count": 9,
   "metadata": {},
   "outputs": [
    {
     "data": {
      "text/plain": [
       "'CONR'"
      ]
     },
     "execution_count": 9,
     "metadata": {},
     "output_type": "execute_result"
    }
   ],
   "source": [
    "ss.add(model='PV',\n",
    "       param_dict=dict(idx='CONR', u=1, Sn=ss.config.mva, bus=14,\n",
    "                       p0=0, q0=0, Vn=138, v0=0.99063,\n",
    "                       pmax=999, pmin=-999, qmax=999, qmin=-999,\n",
    "                       ra=0, xs=0.1))"
   ]
  },
  {
   "cell_type": "code",
   "execution_count": 10,
   "metadata": {},
   "outputs": [
    {
     "data": {
      "text/plain": [
       "'CONR'"
      ]
     },
     "execution_count": 10,
     "metadata": {},
     "output_type": "execute_result"
    }
   ],
   "source": [
    "ss.add(model='GENCLS',\n",
    "       param_dict=dict(idx='CONR', u=1, Sn=ss.config.mva, fn=ss.config.freq,\n",
    "                       bus=14, gen='CONR', Vn=138,\n",
    "                       M=0, D=0, ra=0, xl=0, xd1=0,\n",
    "                       kp=0, kw=0))"
   ]
  },
  {
   "cell_type": "markdown",
   "metadata": {},
   "source": [
    "Last, let's add a generator trip to observe the system dynamics."
   ]
  },
  {
   "cell_type": "code",
   "execution_count": 11,
   "metadata": {},
   "outputs": [
    {
     "data": {
      "text/plain": [
       "'Toggle_1'"
      ]
     },
     "execution_count": 11,
     "metadata": {},
     "output_type": "execute_result"
    }
   ],
   "source": [
    "ss.add(model='Toggle',\n",
    "       param_dict=dict(u=1, model='SynGen',\n",
    "                       dev='GENROU_3', t=1))"
   ]
  },
  {
   "cell_type": "code",
   "execution_count": 12,
   "metadata": {},
   "outputs": [
    {
     "name": "stderr",
     "output_type": "stream",
     "text": [
      "System internal structure set up in 0.0214 seconds.\n"
     ]
    },
    {
     "data": {
      "text/plain": [
       "True"
      ]
     },
     "execution_count": 12,
     "metadata": {},
     "output_type": "execute_result"
    }
   ],
   "source": [
    "ss.setup()"
   ]
  },
  {
   "cell_type": "code",
   "execution_count": 13,
   "metadata": {},
   "outputs": [],
   "source": [
    "# use constant power model for PQ, we need to change the power by setting PQ.Ppf\n",
    "# and it is only effective in constant power mode\n",
    "\n",
    "ss.PQ.config.p2p = 1\n",
    "ss.PQ.config.q2q = 1\n",
    "ss.PQ.config.p2z = 0\n",
    "ss.PQ.config.q2z = 0\n",
    "\n",
    "# turn off under-voltage PQ-to-Z conversion\n",
    "ss.PQ.pq2z = 0"
   ]
  },
  {
   "cell_type": "code",
   "execution_count": 14,
   "metadata": {},
   "outputs": [
    {
     "name": "stderr",
     "output_type": "stream",
     "text": [
      "-> System connectivity check results:\n",
      "  No islanded bus detected.\n",
      "  System is interconnected.\n",
      "  Each island has a slack bus correctly defined and enabled.\n",
      "\n",
      "-> Power flow calculation\n",
      "           Numba: Off\n",
      "   Sparse solver: KLU\n",
      " Solution method: NR method\n",
      "Power flow initialized in 0.0028 seconds.\n",
      "0: |F(x)| = 0.5605182134\n",
      "1: |F(x)| = 0.00823025234\n",
      "2: |F(x)| = 7.999336878e-06\n",
      "3: |F(x)| = 1.807974603e-11\n",
      "Converged in 4 iterations in 0.0028 seconds.\n"
     ]
    },
    {
     "data": {
      "text/plain": [
       "True"
      ]
     },
     "execution_count": 14,
     "metadata": {},
     "output_type": "execute_result"
    }
   ],
   "source": [
    "ss.PFlow.run()"
   ]
  },
  {
   "cell_type": "markdown",
   "metadata": {},
   "source": [
    "Then, init the TDS."
   ]
  },
  {
   "cell_type": "code",
   "execution_count": 15,
   "metadata": {},
   "outputs": [
    {
     "name": "stderr",
     "output_type": "stream",
     "text": [
      "Perturbation file \"./pert.py\" loaded.\n",
      "GENCLS (vf range) out of typical lower limit.\n",
      "\n",
      " idx  | values | limit\n",
      "------+--------+------\n",
      " CONR | 0.991  | 1    \n",
      "\n",
      "\n",
      "Initialization for dynamics completed in 0.0232 seconds.\n",
      "Initialization was successful.\n"
     ]
    }
   ],
   "source": [
    "_ = ss.TDS.init()"
   ]
  },
  {
   "cell_type": "markdown",
   "metadata": {},
   "source": [
    "Then, we can run the simulation with pertubation.\n",
    "\n",
    "More details can be found at https://docs.andes.app/en/latest/getting_started/formats/disturbance.html#perturbation-file"
   ]
  },
  {
   "cell_type": "code",
   "execution_count": 16,
   "metadata": {},
   "outputs": [
    {
     "name": "stderr",
     "output_type": "stream",
     "text": [
      "\n",
      "-> Time Domain Simulation Summary:\n",
      "Sparse Solver: KLU\n",
      "Simulation time: 0.0-20.0 s.\n",
      "Fixed step size: h=33.33 ms. Shrink if not converged.\n"
     ]
    },
    {
     "data": {
      "application/vnd.jupyter.widget-view+json": {
       "model_id": "ef9da52ba84840b9a05bf38b71f1f9f2",
       "version_major": 2,
       "version_minor": 0
      },
      "text/plain": [
       "  0%|          | 0/100 [00:00<?, ?%/s]"
      ]
     },
     "metadata": {},
     "output_type": "display_data"
    },
    {
     "name": "stdout",
     "output_type": "stream",
     "text": [
      "<Toggle Toggle_1>: SynGen.GENROU_3 status changed to 0 at t=1.0 sec.\n"
     ]
    },
    {
     "name": "stderr",
     "output_type": "stream",
     "text": [
      "Simulation to t=20.00 sec completed in 0.9752 seconds.\n"
     ]
    },
    {
     "data": {
      "text/plain": [
       "True"
      ]
     },
     "execution_count": 16,
     "metadata": {},
     "output_type": "execute_result"
    }
   ],
   "source": [
    "ss.TDS.config.criteria = 0  # turn off the criteria check for testing purpose\n",
    "ss.TDS.run()"
   ]
  },
  {
   "cell_type": "code",
   "execution_count": 17,
   "metadata": {},
   "outputs": [
    {
     "data": {
      "image/png": "[encoded data removed]",
      "text/plain": [
       "<Figure size 640x480 with 1 Axes>"
      ]
     },
     "metadata": {},
     "output_type": "display_data"
    },
    {
     "data": {
      "image/png": "[encoded data removed]",
      "text/plain": [
       "<Figure size 640x480 with 1 Axes>"
      ]
     },
     "metadata": {},
     "output_type": "display_data"
    },
    {
     "data": {
      "text/plain": [
       "(<Figure size 640x480 with 1 Axes>, <Axes: xlabel='Time [s]'>)"
      ]
     },
     "execution_count": 17,
     "metadata": {},
     "output_type": "execute_result"
    }
   ],
   "source": [
    "plt.style.use('default')\n",
    "ss.TDS.plt.plot(ss.GENROU.omega,\n",
    "                latex=False,\n",
    "                ytimes=ss.config.freq,\n",
    "                grid=True)\n",
    "ss.TDS.plt.plot(ss.Bus.v,\n",
    "                latex=False,\n",
    "                ytimes=ss.config.freq,\n",
    "                grid=True)"
   ]
  }
 ],
 "metadata": {
  "kernelspec": {
   "display_name": "ams",
   "language": "python",
   "name": "python3"
  },
  "language_info": {
   "codemirror_mode": {
    "name": "ipython",
    "version": 3
   },
   "file_extension": ".py",
   "mimetype": "text/x-python",
   "name": "python",
   "nbconvert_exporter": "python",
   "pygments_lexer": "ipython3",
   "version": "3.10.0"
  }
 },
 "nbformat": 4,
 "nbformat_minor": 2
}
