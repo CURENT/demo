{
 "cells": [
  {
   "cell_type": "markdown",
   "id": "188a5944",
   "metadata": {},
   "source": [
    "# Logging Behavior for Parameter Property Violations\n",
    "\n",
    "In this notebook, we will examine the logging behavior when a parameter's value violates its defined property.\n",
    "\n",
    "Summary:\n",
    "- Property violation and auto correction is triggered ONLY in file loading stage, for PSS/E and JSON files.\n",
    "- Property violation and auto correction is not triggered for XLSX file."
   ]
  },
  {
   "cell_type": "code",
   "execution_count": 1,
   "id": "6d38a54e",
   "metadata": {},
   "outputs": [],
   "source": [
    "import andes"
   ]
  },
  {
   "cell_type": "code",
   "execution_count": 2,
   "id": "3435d505",
   "metadata": {},
   "outputs": [
    {
     "name": "stdout",
     "output_type": "stream",
     "text": [
      "Python  3.12.0\n",
      "andes   1.9.3.post7+g967a6b80\n",
      "numpy   2.2.5\n",
      "kvxopt  1.3.2.1\n",
      "sympy   1.14.0\n",
      "scipy   1.13.1\n",
      "pandas  2.2.3\n",
      "numba   0.61.2\n"
     ]
    }
   ],
   "source": [
    "!andes misc --version"
   ]
  },
  {
   "cell_type": "code",
   "execution_count": 3,
   "id": "79e89b05",
   "metadata": {},
   "outputs": [],
   "source": [
    "andes.config_logger(20)"
   ]
  },
  {
   "cell_type": "code",
   "execution_count": 4,
   "id": "b38a3f8b",
   "metadata": {},
   "outputs": [
    {
     "name": "stderr",
     "output_type": "stream",
     "text": [
      "Working directory: \"/Users/jinningwang/work/demo/demo/logging\"\n",
      "> Loaded config from file \"/Users/jinningwang/.andes/andes.rc\"\n",
      "> Loaded generated Python code in \"/Users/jinningwang/.andes/pycode\".\n",
      "Generated code for <PQ> is stale.\n",
      "Numerical code generation (rapid incremental mode) started...\n"
     ]
    },
    {
     "name": "stdout",
     "output_type": "stream",
     "text": [
      "Generating code for 1 models on 12 processes.\n"
     ]
    },
    {
     "name": "stderr",
     "output_type": "stream",
     "text": [
      "Saved generated pycode to \"/Users/jinningwang/.andes/pycode\"\n",
      "> Reloaded generated Python code of module \"pycode\".\n",
      "Generated numerical code for 1 models in 0.1791 seconds.\n",
      "Parsing input file \"./Texas2k_demo.raw\"...\n",
      "  TEXAS2K_SERIES24_CASE5_2024HIGHRENEWABLES\n",
      "  THIS IS A SYNTHETIC POWER SYSTEM MODEL THAT DOES NOT REPRESE\n",
      "Input file parsed in 0.5206 seconds.\n",
      "Parsing additional file \"./Texas2k_demo.dyr\"...\n",
      "Non-zero parameter GENROU.M corrected to 6\n",
      "Addfile parsed in 0.1436 seconds.\n",
      "System internal structure set up in 0.0515 seconds.\n"
     ]
    }
   ],
   "source": [
    "s1 = andes.load(\n",
    "    \"./Texas2k_demo.raw\",\n",
    "    addfile=\"./Texas2k_demo.dyr\",\n",
    "    setup=True,\n",
    "    no_output=True,\n",
    ")"
   ]
  },
  {
   "cell_type": "markdown",
   "id": "b6c59fa2",
   "metadata": {},
   "source": [
    "In the exported JSON and XLSX files, GENROU.M is manually set to 0."
   ]
  },
  {
   "cell_type": "code",
   "execution_count": 5,
   "id": "7afb5e52",
   "metadata": {},
   "outputs": [],
   "source": [
    "# andes.io.json.write(s1, \"./Texas2k_export.json\", overwrite=True)\n",
    "# andes.io.xlsx.write(s1, \"./Texas2k_export.xlsx\", overwrite=True)"
   ]
  },
  {
   "cell_type": "code",
   "execution_count": 6,
   "id": "72765bd1",
   "metadata": {},
   "outputs": [
    {
     "name": "stderr",
     "output_type": "stream",
     "text": [
      "Working directory: \"/Users/jinningwang/work/demo/demo/logging\"\n",
      "> Loaded config from file \"/Users/jinningwang/.andes/andes.rc\"\n",
      "> Reloaded generated Python code of module \"pycode\".\n",
      "Generated code for <PQ> is stale.\n",
      "Numerical code generation (rapid incremental mode) started...\n"
     ]
    },
    {
     "name": "stdout",
     "output_type": "stream",
     "text": [
      "Generating code for 1 models on 12 processes.\n"
     ]
    },
    {
     "name": "stderr",
     "output_type": "stream",
     "text": [
      "Saved generated pycode to \"/Users/jinningwang/.andes/pycode\"\n",
      "> Reloaded generated Python code of module \"pycode\".\n",
      "Generated numerical code for 1 models in 0.0842 seconds.\n",
      "Parsing input file \"./Texas2k_export.xlsx\"...\n",
      "Input file parsed in 0.6467 seconds.\n"
     ]
    }
   ],
   "source": [
    "s2 = andes.load(\"./Texas2k_export.xlsx\",\n",
    "                setup=False,)"
   ]
  },
  {
   "cell_type": "code",
   "execution_count": 7,
   "id": "148c0438",
   "metadata": {},
   "outputs": [
    {
     "data": {
      "text/plain": [
       "[0]"
      ]
     },
     "execution_count": 7,
     "metadata": {},
     "output_type": "execute_result"
    }
   ],
   "source": [
    "s2.GENROU.M.v"
   ]
  },
  {
   "cell_type": "code",
   "execution_count": 8,
   "id": "214e619f",
   "metadata": {},
   "outputs": [
    {
     "name": "stderr",
     "output_type": "stream",
     "text": [
      "System internal structure set up in 0.0506 seconds.\n"
     ]
    },
    {
     "data": {
      "text/plain": [
       "True"
      ]
     },
     "execution_count": 8,
     "metadata": {},
     "output_type": "execute_result"
    }
   ],
   "source": [
    "s2.add(model='GENROU', param_dict=dict(idx='GENROU_2025', bus=1004, gen=1,\n",
    "                                       M=0, D=0))\n",
    "s2.setup()"
   ]
  },
  {
   "cell_type": "code",
   "execution_count": 9,
   "id": "0834ead8",
   "metadata": {},
   "outputs": [
    {
     "data": {
      "text/plain": [
       "array([0., 0.])"
      ]
     },
     "execution_count": 9,
     "metadata": {},
     "output_type": "execute_result"
    }
   ],
   "source": [
    "s2.GENROU.M.v"
   ]
  },
  {
   "cell_type": "code",
   "execution_count": 10,
   "id": "e9af1315",
   "metadata": {},
   "outputs": [
    {
     "name": "stderr",
     "output_type": "stream",
     "text": [
      "Working directory: \"/Users/jinningwang/work/demo/demo/logging\"\n",
      "> Loaded config from file \"/Users/jinningwang/.andes/andes.rc\"\n",
      "> Reloaded generated Python code of module \"pycode\".\n",
      "Generated code for <PQ> is stale.\n",
      "Numerical code generation (rapid incremental mode) started...\n"
     ]
    },
    {
     "name": "stdout",
     "output_type": "stream",
     "text": [
      "Generating code for 1 models on 12 processes.\n"
     ]
    },
    {
     "name": "stderr",
     "output_type": "stream",
     "text": [
      "Saved generated pycode to \"/Users/jinningwang/.andes/pycode\"\n",
      "> Reloaded generated Python code of module \"pycode\".\n",
      "Generated numerical code for 1 models in 0.2156 seconds.\n",
      "Parsing input file \"./Texas2k_export.json\"...\n",
      "Non-zero parameter GENROU.M corrected to 6\n",
      "Input file parsed in 0.0902 seconds.\n"
     ]
    }
   ],
   "source": [
    "s3 = andes.load(\"./Texas2k_export.json\",\n",
    "                setup=False,)"
   ]
  },
  {
   "cell_type": "code",
   "execution_count": 11,
   "id": "4cdade8b",
   "metadata": {},
   "outputs": [
    {
     "data": {
      "text/plain": [
       "[6]"
      ]
     },
     "execution_count": 11,
     "metadata": {},
     "output_type": "execute_result"
    }
   ],
   "source": [
    "s3.GENROU.M.v"
   ]
  },
  {
   "cell_type": "code",
   "execution_count": 12,
   "id": "85a3832c",
   "metadata": {},
   "outputs": [
    {
     "name": "stderr",
     "output_type": "stream",
     "text": [
      "System internal structure set up in 0.0543 seconds.\n"
     ]
    },
    {
     "data": {
      "text/plain": [
       "True"
      ]
     },
     "execution_count": 12,
     "metadata": {},
     "output_type": "execute_result"
    }
   ],
   "source": [
    "s3.add(model='GENROU', param_dict=dict(idx='GENROU_2025', bus=1004, gen=1,\n",
    "                                       M=0, D=0))\n",
    "s3.setup()"
   ]
  },
  {
   "cell_type": "code",
   "execution_count": 13,
   "id": "70165c78",
   "metadata": {},
   "outputs": [
    {
     "data": {
      "text/plain": [
       "array([0.5292, 0.    ])"
      ]
     },
     "execution_count": 13,
     "metadata": {},
     "output_type": "execute_result"
    }
   ],
   "source": [
    "s3.GENROU.M.v"
   ]
  }
 ],
 "metadata": {
  "kernelspec": {
   "display_name": "ams",
   "language": "python",
   "name": "python3"
  },
  "language_info": {
   "codemirror_mode": {
    "name": "ipython",
    "version": 3
   },
   "file_extension": ".py",
   "mimetype": "text/x-python",
   "name": "python",
   "nbconvert_exporter": "python",
   "pygments_lexer": "ipython3",
   "version": "3.12.0"
  }
 },
 "nbformat": 4,
 "nbformat_minor": 5
}
