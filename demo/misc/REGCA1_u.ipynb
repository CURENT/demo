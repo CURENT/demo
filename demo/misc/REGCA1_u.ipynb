{
 "cells": [
  {
   "cell_type": "markdown",
   "id": "76375e4f",
   "metadata": {},
   "source": [
    "# "
   ]
  },
  {
   "cell_type": "markdown",
   "id": "d3858750",
   "metadata": {},
   "source": [
    "# Ineffectiveness of ``REGCA1.u``"
   ]
  },
  {
   "cell_type": "code",
   "execution_count": 1,
   "id": "9d4450e6",
   "metadata": {},
   "outputs": [],
   "source": [
    "import andes"
   ]
  },
  {
   "cell_type": "code",
   "execution_count": 2,
   "id": "65b5213f",
   "metadata": {},
   "outputs": [],
   "source": [
    "%matplotlib inline"
   ]
  },
  {
   "cell_type": "code",
   "execution_count": 3,
   "id": "164c96ee",
   "metadata": {},
   "outputs": [
    {
     "name": "stdout",
     "output_type": "stream",
     "text": [
      "Python  3.12.0\n",
      "andes   1.9.3.post7+g967a6b80\n",
      "numpy   2.2.5\n",
      "kvxopt  1.3.2.1\n",
      "sympy   1.14.0\n",
      "scipy   1.13.1\n",
      "pandas  2.2.3\n",
      "numba   0.61.2\n"
     ]
    }
   ],
   "source": [
    "!andes misc --version"
   ]
  },
  {
   "cell_type": "code",
   "execution_count": 4,
   "id": "7bcb235a",
   "metadata": {},
   "outputs": [],
   "source": [
    "andes.config_logger(20)"
   ]
  },
  {
   "cell_type": "code",
   "execution_count": 5,
   "id": "68da1fc3",
   "metadata": {},
   "outputs": [
    {
     "name": "stderr",
     "output_type": "stream",
     "text": [
      "Working directory: \"/Users/jinningwang/work/demo/demo/misc\"\n",
      "> Loaded config from file \"/Users/jinningwang/.andes/andes.rc\"\n",
      "> Loaded generated Python code in \"/Users/jinningwang/.andes/pycode\".\n",
      "Generated code for <PQ> is stale.\n",
      "Numerical code generation (rapid incremental mode) started...\n"
     ]
    },
    {
     "name": "stdout",
     "output_type": "stream",
     "text": [
      "Generating code for 1 models on 12 processes.\n"
     ]
    },
    {
     "name": "stderr",
     "output_type": "stream",
     "text": [
      "Saved generated pycode to \"/Users/jinningwang/.andes/pycode\"\n",
      "> Reloaded generated Python code of module \"pycode\".\n",
      "Generated numerical code for 1 models in 0.1868 seconds.\n",
      "Parsing input file \"/Users/jinningwang/work/andes/andes/cases/kundur/kundur_wtds.xlsx\"...\n",
      "REGCA1: unused data {'Iqmax': 999, 'Iqmin': -999}\n",
      "WTDS: unused data {'fn': 60}\n",
      "Input file parsed in 0.2100 seconds.\n",
      "System internal structure set up in 0.0142 seconds.\n"
     ]
    }
   ],
   "source": [
    "ss = andes.load(andes.get_case(\"kundur/kundur_wtds.xlsx\"),\n",
    "                setup=True, no_output=True)"
   ]
  },
  {
   "cell_type": "code",
   "execution_count": 6,
   "id": "c017fcc7",
   "metadata": {},
   "outputs": [
    {
     "data": {
      "text/html": [
       "<div>\n",
       "<style scoped>\n",
       "    .dataframe tbody tr th:only-of-type {\n",
       "        vertical-align: middle;\n",
       "    }\n",
       "\n",
       "    .dataframe tbody tr th {\n",
       "        vertical-align: top;\n",
       "    }\n",
       "\n",
       "    .dataframe thead th {\n",
       "        text-align: right;\n",
       "    }\n",
       "</style>\n",
       "<table border=\"1\" class=\"dataframe\">\n",
       "  <thead>\n",
       "    <tr style=\"text-align: right;\">\n",
       "      <th></th>\n",
       "      <th>u</th>\n",
       "      <th>name</th>\n",
       "      <th>idx</th>\n",
       "    </tr>\n",
       "  </thead>\n",
       "  <tbody>\n",
       "    <tr>\n",
       "      <th>0</th>\n",
       "      <td>1.0</td>\n",
       "      <td>REPCA1_1</td>\n",
       "      <td>1</td>\n",
       "    </tr>\n",
       "  </tbody>\n",
       "</table>\n",
       "</div>"
      ],
      "text/plain": [
       "     u      name  idx\n",
       "0  1.0  REPCA1_1    1"
      ]
     },
     "execution_count": 6,
     "metadata": {},
     "output_type": "execute_result"
    }
   ],
   "source": [
    "ss.RenPlant.as_df()"
   ]
  },
  {
   "cell_type": "code",
   "execution_count": 7,
   "id": "edca9955",
   "metadata": {},
   "outputs": [
    {
     "name": "stderr",
     "output_type": "stream",
     "text": [
      "-> System connectivity check results:\n",
      "  No islanded bus detected.\n",
      "  System is interconnected.\n",
      "  Each island has a slack bus correctly defined and enabled.\n",
      "\n",
      "-> Power flow calculation\n",
      "           Numba: On\n",
      "   Sparse solver: KLU\n",
      " Solution method: NR method\n",
      "Numba compilation initiated with caching.\n",
      "Power flow initialized in 0.1110 seconds.\n",
      "Numba compilation for power flow finished in 0.1007 seconds.\n",
      "0: |F(x)| = 14.9282832\n",
      "1: |F(x)| = 3.608627841\n",
      "2: |F(x)| = 0.1701107882\n",
      "3: |F(x)| = 0.002038626956\n",
      "4: |F(x)| = 3.745104024e-07\n",
      "Converged in 5 iterations in 0.0024 seconds.\n"
     ]
    },
    {
     "data": {
      "text/plain": [
       "True"
      ]
     },
     "execution_count": 7,
     "metadata": {},
     "output_type": "execute_result"
    }
   ],
   "source": [
    "ss.PFlow.run()"
   ]
  },
  {
   "cell_type": "code",
   "execution_count": 8,
   "id": "61cc018d",
   "metadata": {},
   "outputs": [
    {
     "name": "stderr",
     "output_type": "stream",
     "text": [
      "Numba compilation initiated with caching.\n",
      "WTTQA1.PI_aw: adjusted limit <Temax>\n",
      "\n",
      "Idx | Input | Old Limit\n",
      "----+-------+----------\n",
      " 1  | 7     | 1.200    \n",
      "\n",
      "\n",
      "Initialization for dynamics completed in 0.2379 seconds.\n",
      "Initialization was successful.\n"
     ]
    }
   ],
   "source": [
    "_ = ss.TDS.init()"
   ]
  },
  {
   "cell_type": "code",
   "execution_count": 9,
   "id": "71a7ce70",
   "metadata": {},
   "outputs": [
    {
     "name": "stderr",
     "output_type": "stream",
     "text": [
      "\n",
      "-> Time Domain Simulation Summary:\n",
      "Sparse Solver: KLU\n",
      "Simulation time: 0.0-10 s.\n",
      "Fixed step size: h=33.33 ms. Shrink if not converged.\n"
     ]
    },
    {
     "name": "stdout",
     "output_type": "stream",
     "text": [
      "<Toggle 1>: Line.Line_8 status changed to 0 at t=2.0 sec.\n",
      "<Toggle 2>: Line.Line_8 status changed to 1 at t=2.1 sec.\n"
     ]
    },
    {
     "name": "stderr",
     "output_type": "stream",
     "text": [
      "Simulation to t=10.00 sec completed in 0.7478 seconds.\n",
      "Simulation to t=50.00 sec completed in 2.5167 seconds.\n"
     ]
    },
    {
     "data": {
      "text/plain": [
       "True"
      ]
     },
     "execution_count": 9,
     "metadata": {},
     "output_type": "execute_result"
    }
   ],
   "source": [
    "ss.TDS.config.no_tqdm = 1\n",
    "\n",
    "ss.TDS.config.tf = 10\n",
    "ss.TDS.run()\n",
    "\n",
    "ss.REGCA1.set(src='u', attr='v', idx=1, value=0)\n",
    "\n",
    "ss.TDS.config.tf = 50\n",
    "ss.TDS.run()"
   ]
  },
  {
   "cell_type": "code",
   "execution_count": 10,
   "id": "c8f1ad18",
   "metadata": {},
   "outputs": [
    {
     "data": {
      "image/png": "[encoded data removed]",
      "text/plain": [
       "<Figure size 640x480 with 1 Axes>"
      ]
     },
     "metadata": {},
     "output_type": "display_data"
    }
   ],
   "source": [
    "_ = ss.TDS.plt.plot([ss.REGCA1.Ipout,\n",
    "                     ss.REECA1.Ipcmd,\n",
    "                     ss.WTDS.Pm,\n",
    "                     ss.REPCA1.Pext,\n",
    "                     ss.REPCA1.Qext])"
   ]
  },
  {
   "cell_type": "markdown",
   "id": "6f68ac3b",
   "metadata": {},
   "source": [
    "After tripping the REGCA1 by setting ``REGCA1.u = 0`` at 10s, the tripped ``REGCA1`` and attached ``REECA1``, ``WTDS``, and ``REPCA1`` seems still online."
   ]
  }
 ],
 "metadata": {
  "kernelspec": {
   "display_name": "ams",
   "language": "python",
   "name": "python3"
  },
  "language_info": {
   "codemirror_mode": {
    "name": "ipython",
    "version": 3
   },
   "file_extension": ".py",
   "mimetype": "text/x-python",
   "name": "python",
   "nbconvert_exporter": "python",
   "pygments_lexer": "ipython3",
   "version": "3.12.0"
  }
 },
 "nbformat": 4,
 "nbformat_minor": 5
}
