{
 "cells": [
  {
   "cell_type": "markdown",
   "metadata": {},
   "source": [
    "# WTDTA1 Debug\n",
    "\n",
    "Check WTDTA1 modeling.\n",
    "\n",
    "References:\n",
    "- [ANDES Doc - WTDTA1](https://docs.andes.app/en/v1.9.3/groupdoc/RenGovernor.html#wtdta1)\n",
    "- [ANDES Implementation - WTDTA1, as of v1.9.3](https://github.com/CURENT/andes/blob/0c9b483434d672c11ad45c85a1588c596eb23541/andes/models/renewable/regca1.py)\n",
    "- [PowerWorld - WTDTA1](https://www.powerworld.com/WebHelp/Content/TransientModels_HTML/Governor%20WTDTA1.htm)"
   ]
  },
  {
   "cell_type": "code",
   "execution_count": 1,
   "metadata": {},
   "outputs": [],
   "source": [
    "import os\n",
    "\n",
    "import numpy as np\n",
    "\n",
    "import matplotlib.pyplot as plt\n",
    "\n",
    "import andes"
   ]
  },
  {
   "cell_type": "code",
   "execution_count": 2,
   "metadata": {},
   "outputs": [
    {
     "name": "stdout",
     "output_type": "stream",
     "text": [
      "Python  3.12.0\n",
      "andes   1.9.3.post7+g967a6b80\n",
      "numpy   2.0.2\n",
      "kvxopt  1.3.2.1\n",
      "sympy   1.13.3\n",
      "scipy   1.13.1\n",
      "pandas  2.2.2\n",
      "numba   0.60.0\n"
     ]
    }
   ],
   "source": [
    "!andes misc --version"
   ]
  },
  {
   "cell_type": "code",
   "execution_count": 3,
   "metadata": {},
   "outputs": [],
   "source": [
    "%matplotlib inline"
   ]
  },
  {
   "cell_type": "code",
   "execution_count": 4,
   "metadata": {},
   "outputs": [],
   "source": [
    "andes.config_logger(20)"
   ]
  },
  {
   "cell_type": "markdown",
   "metadata": {},
   "source": [
    "We load the same case file into three systems, `s0`, `s1` and `s2`, for comparison.\n",
    "\n",
    "Case0 `s0` is used as the base case.\n",
    "\n",
    "In case1 `s1`, we add a partial **WT2G** composed of:\n",
    "\n",
    "1. **Electrical control chain**: `REPCA1 (RenPlant)` -> `REECA1 (RenExciter)` -> `REGCA1 (RenGen)`\n",
    "2. **Mechanical chain**: `WTPTA1 (RenPitch)` -> `WTARA1 (RenAerodynamic)` -> `WTDTA1 (RenGovernor)` -> `REECA1 (RenExciter)`\n",
    "\n",
    "where WTPTA1 and WTARA1 are skipped for now.\n",
    "\n",
    "In case2 `s2`, we add a **simplified WT2G model**, omitting pitch and aerodynamic detail:\n",
    "\n",
    "1. `REPCA1` → `REECA1` → `REGCA1`\n",
    "2. `WTDS (RenGovernor)` → `REECA1`\n",
    "\n",
    "In this context, arrows (`→`) indicate signal flow."
   ]
  },
  {
   "cell_type": "code",
   "execution_count": 5,
   "metadata": {},
   "outputs": [
    {
     "name": "stderr",
     "output_type": "stream",
     "text": [
      "Working directory: \"/Users/jinningwang/work/demo/demo\"\n",
      "> Loaded generated Python code in \"/Users/jinningwang/.andes/pycode\".\n",
      "Parsing input file \"/Users/jinningwang/work/andes/andes/cases/ieee14/ieee14_gentrip.xlsx\"...\n",
      "Input file parsed in 0.2768 seconds.\n",
      "Working directory: \"/Users/jinningwang/work/demo/demo\"\n",
      "> Reloaded generated Python code of module \"pycode\".\n",
      "Parsing input file \"/Users/jinningwang/work/andes/andes/cases/ieee14/ieee14_gentrip.xlsx\"...\n",
      "Input file parsed in 0.0225 seconds.\n",
      "Working directory: \"/Users/jinningwang/work/demo/demo\"\n",
      "> Reloaded generated Python code of module \"pycode\".\n",
      "Parsing input file \"/Users/jinningwang/work/andes/andes/cases/ieee14/ieee14_gentrip.xlsx\"...\n",
      "Input file parsed in 0.0232 seconds.\n"
     ]
    }
   ],
   "source": [
    "s0 = andes.load(andes.get_case('ieee14/ieee14_gentrip.xlsx'),\n",
    "                setup=False,\n",
    "                no_output=True,\n",
    "                default_config=True)\n",
    "s1 = andes.load(andes.get_case('ieee14/ieee14_gentrip.xlsx'),\n",
    "                setup=False,\n",
    "                no_output=True,\n",
    "                default_config=True)\n",
    "s2 = andes.load(andes.get_case('ieee14/ieee14_gentrip.xlsx'),\n",
    "                setup=False,\n",
    "                no_output=True,\n",
    "                default_config=True)\n",
    "\n",
    "for ss in [s0, s1, s2]:\n",
    "    # Set SynGen with different Sn for debugging purpose\n",
    "    syg = s1.SynGen.get_all_idxes()\n",
    "    ss.SynGen.alter(src='Sn', idx=syg, value=100 *\n",
    "                    np.array(range(1, len(syg)+1)))\n",
    "\n",
    "    # Turn off TGOV1 lower limit for debugging purpose\n",
    "    tg = s1.TurbineGov.get_all_idxes()\n",
    "    ss.TurbineGov.alter(src='VMIN', idx=tg, value=0.0)"
   ]
  },
  {
   "cell_type": "markdown",
   "metadata": {},
   "source": [
    "Replace ``GENROU_3`` with wind generation."
   ]
  },
  {
   "cell_type": "code",
   "execution_count": 6,
   "metadata": {},
   "outputs": [
    {
     "data": {
      "text/plain": [
       "'WTDS_1'"
      ]
     },
     "execution_count": 6,
     "metadata": {},
     "output_type": "execute_result"
    }
   ],
   "source": [
    "stg_idx = 3\n",
    "syg_idx = s1.SynGen.find_idx(keys='gen', values=[stg_idx])[0]\n",
    "\n",
    "# common models\n",
    "for ss in [s1, s2]:\n",
    "    # Turn off the corresponding SynGen\n",
    "    ss.SynGen.alter(src='u', value=0, idx=syg_idx)\n",
    "\n",
    "    # Add REGCA1\n",
    "    ss.add(model='REGCA1',\n",
    "           param_dict=dict(u=1, idx='REGCA1_1',\n",
    "                           gen=stg_idx,\n",
    "                           bus=ss.SynGen.get(src='bus', idx=syg_idx),\n",
    "                           Sn=ss.SynGen.get(src='Sn', idx=syg_idx),\n",
    "                           gammap=ss.SynGen.get(src='gammap', idx=syg_idx),\n",
    "                           gammaq=ss.SynGen.get(src='gammaq', idx=syg_idx)))\n",
    "\n",
    "    # Add REECA1\n",
    "    ss.add(model='REECA1',\n",
    "           param_dict=dict(u=1, idx='REECA1_1',\n",
    "                           reg='REGCA1_1',\n",
    "                           PFFLAG=0, VFLAG=0, QFLAG=0, PFLAG=0, PQFLAG=0,\n",
    "                           Vdip=0.8, Vup=1.2, Trv=0.02, dbd1=-0.1, dbd2=0.1,\n",
    "                           Kqv=20, Thld=-2, Thld2=1, Vref1=1, Imax=10,\n",
    "                           Kqp=1, Kqi=0, Kvp=1, Kvi=0))\n",
    "\n",
    "    # Add REPCA1\n",
    "    # manually assign mandatory param `line`\n",
    "    ree = 'REECA1_1'\n",
    "    reg = ss.REECA1.get(src='reg', attr='v', idx=[ree])\n",
    "    bus = ss.REGCA1.get(src='bus', attr='v', idx=[reg])\n",
    "    line1 = ss.Line.find_idx(keys='bus1', values=bus,\n",
    "                             allow_none=True, default=None)\n",
    "    line2 = ss.Line.find_idx(keys='bus2', values=bus,\n",
    "                             allow_none=True, default=None)\n",
    "    line = []\n",
    "    for l1, l2 in zip(line1, line2):\n",
    "       if l1 is not None:\n",
    "           line.append(l1)\n",
    "       elif l2 is not None:\n",
    "           line.append(l2)\n",
    "       else:\n",
    "           line.append(None)\n",
    "\n",
    "    ss.add(model='REPCA1',\n",
    "           param_dict=dict(u=1, idx='REPCA1_1',\n",
    "                           ree='REECA1_1', line=line[0],\n",
    "                           VCFlag=0, RefFlag=0, Fflag=0, PLflag=0))\n",
    "\n",
    "# for case1, add WTDTA1\n",
    "s1.add(model='WTDTA1',\n",
    "       param_dict=dict(u=1, idx='WTDTA1_1', ree='REECA1_1',\n",
    "                       DAMP=0, H=3, Htfrac=0.5, Dshaft=1))\n",
    "\n",
    "# for case2, add WTDS\n",
    "s2.add(model='WTDS',\n",
    "       param_dict=dict(u=1, idx='WTDS_1', ree='REECA1_1',\n",
    "                       H=3, D=0, w0=1))"
   ]
  },
  {
   "cell_type": "markdown",
   "metadata": {},
   "source": [
    "Set them up"
   ]
  },
  {
   "cell_type": "code",
   "execution_count": 7,
   "metadata": {},
   "outputs": [
    {
     "name": "stderr",
     "output_type": "stream",
     "text": [
      "System internal structure set up in 0.0153 seconds.\n",
      "System internal structure set up in 0.0143 seconds.\n",
      "System internal structure set up in 0.0135 seconds.\n"
     ]
    }
   ],
   "source": [
    "for ss in [s0, s1, s2]:\n",
    "    ss.setup()"
   ]
  },
  {
   "cell_type": "code",
   "execution_count": 8,
   "metadata": {},
   "outputs": [
    {
     "data": {
      "text/html": [
       "<div>\n",
       "<style scoped>\n",
       "    .dataframe tbody tr th:only-of-type {\n",
       "        vertical-align: middle;\n",
       "    }\n",
       "\n",
       "    .dataframe tbody tr th {\n",
       "        vertical-align: top;\n",
       "    }\n",
       "\n",
       "    .dataframe thead th {\n",
       "        text-align: right;\n",
       "    }\n",
       "</style>\n",
       "<table border=\"1\" class=\"dataframe\">\n",
       "  <thead>\n",
       "    <tr style=\"text-align: right;\">\n",
       "      <th></th>\n",
       "      <th>idx</th>\n",
       "      <th>u</th>\n",
       "      <th>name</th>\n",
       "      <th>ree</th>\n",
       "      <th>H</th>\n",
       "      <th>DAMP</th>\n",
       "      <th>Htfrac</th>\n",
       "      <th>Freq1</th>\n",
       "      <th>Dshaft</th>\n",
       "      <th>w0</th>\n",
       "    </tr>\n",
       "    <tr>\n",
       "      <th>uid</th>\n",
       "      <th></th>\n",
       "      <th></th>\n",
       "      <th></th>\n",
       "      <th></th>\n",
       "      <th></th>\n",
       "      <th></th>\n",
       "      <th></th>\n",
       "      <th></th>\n",
       "      <th></th>\n",
       "      <th></th>\n",
       "    </tr>\n",
       "  </thead>\n",
       "  <tbody>\n",
       "    <tr>\n",
       "      <th>0</th>\n",
       "      <td>WTDTA1_1</td>\n",
       "      <td>1.0</td>\n",
       "      <td>WTDTA1_1</td>\n",
       "      <td>REECA1_1</td>\n",
       "      <td>9.0</td>\n",
       "      <td>0.0</td>\n",
       "      <td>1.5</td>\n",
       "      <td>1.0</td>\n",
       "      <td>3.0</td>\n",
       "      <td>1.0</td>\n",
       "    </tr>\n",
       "  </tbody>\n",
       "</table>\n",
       "</div>"
      ],
      "text/plain": [
       "          idx    u      name       ree    H  DAMP  Htfrac  Freq1  Dshaft   w0\n",
       "uid                                                                          \n",
       "0    WTDTA1_1  1.0  WTDTA1_1  REECA1_1  9.0   0.0     1.5    1.0     3.0  1.0"
      ]
     },
     "execution_count": 8,
     "metadata": {},
     "output_type": "execute_result"
    }
   ],
   "source": [
    "s1.WTDTA1.as_df()"
   ]
  },
  {
   "cell_type": "markdown",
   "metadata": {},
   "source": [
    "In case1, Htfrac is 1.5 after per unit conversion, but it should be a fraction of the total inertia, in the range [0, 1]"
   ]
  },
  {
   "cell_type": "markdown",
   "metadata": {},
   "source": [
    "Run PFlow"
   ]
  },
  {
   "cell_type": "code",
   "execution_count": 9,
   "metadata": {},
   "outputs": [
    {
     "name": "stderr",
     "output_type": "stream",
     "text": [
      "-> System connectivity check results:\n",
      "  No islanded bus detected.\n",
      "  System is interconnected.\n",
      "  Each island has a slack bus correctly defined and enabled.\n",
      "\n",
      "-> Power flow calculation\n",
      "           Numba: Off\n",
      "   Sparse solver: KLU\n",
      " Solution method: NR method\n",
      "Power flow initialized in 0.0086 seconds.\n",
      "0: |F(x)| = 0.5605182134\n",
      "1: |F(x)| = 0.006202200332\n",
      "2: |F(x)| = 5.819382825e-06\n",
      "3: |F(x)| = 6.964193111e-12\n",
      "Converged in 4 iterations in 0.0029 seconds.\n",
      "-> System connectivity check results:\n",
      "  No islanded bus detected.\n",
      "  System is interconnected.\n",
      "  Each island has a slack bus correctly defined and enabled.\n",
      "\n",
      "-> Power flow calculation\n",
      "           Numba: Off\n",
      "   Sparse solver: KLU\n",
      " Solution method: NR method\n",
      "Power flow initialized in 0.0044 seconds.\n",
      "0: |F(x)| = 0.5605182134\n",
      "1: |F(x)| = 0.006202200332\n",
      "2: |F(x)| = 5.819382825e-06\n",
      "3: |F(x)| = 6.964193111e-12\n",
      "Converged in 4 iterations in 0.0025 seconds.\n",
      "-> System connectivity check results:\n",
      "  No islanded bus detected.\n",
      "  System is interconnected.\n",
      "  Each island has a slack bus correctly defined and enabled.\n",
      "\n",
      "-> Power flow calculation\n",
      "           Numba: Off\n",
      "   Sparse solver: KLU\n",
      " Solution method: NR method\n",
      "Power flow initialized in 0.0019 seconds.\n",
      "0: |F(x)| = 0.5605182134\n",
      "1: |F(x)| = 0.006202200332\n",
      "2: |F(x)| = 5.819382825e-06\n",
      "3: |F(x)| = 6.964193111e-12\n",
      "Converged in 4 iterations in 0.0023 seconds.\n"
     ]
    }
   ],
   "source": [
    "for ss in [s0, s1, s2]:\n",
    "    ss.PQ.config.p2p = 1\n",
    "    ss.PQ.config.q2q = 1\n",
    "    ss.PQ.config.p2z = 0\n",
    "    ss.PQ.config.q2z = 0\n",
    "\n",
    "    ss.PFlow.run()"
   ]
  },
  {
   "cell_type": "markdown",
   "metadata": {},
   "source": [
    "Init TDS"
   ]
  },
  {
   "cell_type": "code",
   "execution_count": 10,
   "metadata": {},
   "outputs": [
    {
     "data": {
      "text/html": [
       "<div>\n",
       "<style scoped>\n",
       "    .dataframe tbody tr th:only-of-type {\n",
       "        vertical-align: middle;\n",
       "    }\n",
       "\n",
       "    .dataframe tbody tr th {\n",
       "        vertical-align: top;\n",
       "    }\n",
       "\n",
       "    .dataframe thead th {\n",
       "        text-align: right;\n",
       "    }\n",
       "</style>\n",
       "<table border=\"1\" class=\"dataframe\">\n",
       "  <thead>\n",
       "    <tr style=\"text-align: right;\">\n",
       "      <th></th>\n",
       "      <th>idx</th>\n",
       "      <th>u</th>\n",
       "      <th>name</th>\n",
       "      <th>syn</th>\n",
       "      <th>Tn</th>\n",
       "      <th>wref0</th>\n",
       "      <th>R</th>\n",
       "      <th>VMAX</th>\n",
       "      <th>VMIN</th>\n",
       "      <th>T1</th>\n",
       "      <th>T2</th>\n",
       "      <th>T3</th>\n",
       "      <th>Dt</th>\n",
       "    </tr>\n",
       "    <tr>\n",
       "      <th>uid</th>\n",
       "      <th></th>\n",
       "      <th></th>\n",
       "      <th></th>\n",
       "      <th></th>\n",
       "      <th></th>\n",
       "      <th></th>\n",
       "      <th></th>\n",
       "      <th></th>\n",
       "      <th></th>\n",
       "      <th></th>\n",
       "      <th></th>\n",
       "      <th></th>\n",
       "      <th></th>\n",
       "    </tr>\n",
       "  </thead>\n",
       "  <tbody>\n",
       "    <tr>\n",
       "      <th>0</th>\n",
       "      <td>TGOV1_1</td>\n",
       "      <td>1.0</td>\n",
       "      <td>TGOV1_1</td>\n",
       "      <td>GENROU_1</td>\n",
       "      <td>0.0</td>\n",
       "      <td>1.0</td>\n",
       "      <td>0.050000</td>\n",
       "      <td>1.05</td>\n",
       "      <td>0.0</td>\n",
       "      <td>0.05</td>\n",
       "      <td>1.0</td>\n",
       "      <td>2.1</td>\n",
       "      <td>0.0</td>\n",
       "    </tr>\n",
       "    <tr>\n",
       "      <th>1</th>\n",
       "      <td>TGOV1_2</td>\n",
       "      <td>1.0</td>\n",
       "      <td>TGOV1_2</td>\n",
       "      <td>GENROU_2</td>\n",
       "      <td>0.0</td>\n",
       "      <td>1.0</td>\n",
       "      <td>0.025000</td>\n",
       "      <td>2.40</td>\n",
       "      <td>0.0</td>\n",
       "      <td>0.10</td>\n",
       "      <td>1.0</td>\n",
       "      <td>2.1</td>\n",
       "      <td>0.0</td>\n",
       "    </tr>\n",
       "    <tr>\n",
       "      <th>2</th>\n",
       "      <td>TGOV1_3</td>\n",
       "      <td>1.0</td>\n",
       "      <td>TGOV1_3</td>\n",
       "      <td>GENROU_3</td>\n",
       "      <td>0.0</td>\n",
       "      <td>1.0</td>\n",
       "      <td>0.016667</td>\n",
       "      <td>3.60</td>\n",
       "      <td>0.0</td>\n",
       "      <td>0.10</td>\n",
       "      <td>1.0</td>\n",
       "      <td>2.1</td>\n",
       "      <td>0.0</td>\n",
       "    </tr>\n",
       "    <tr>\n",
       "      <th>3</th>\n",
       "      <td>TGOV1_4</td>\n",
       "      <td>1.0</td>\n",
       "      <td>TGOV1_4</td>\n",
       "      <td>GENROU_4</td>\n",
       "      <td>0.0</td>\n",
       "      <td>1.0</td>\n",
       "      <td>0.012500</td>\n",
       "      <td>4.20</td>\n",
       "      <td>0.0</td>\n",
       "      <td>0.05</td>\n",
       "      <td>1.0</td>\n",
       "      <td>2.1</td>\n",
       "      <td>0.0</td>\n",
       "    </tr>\n",
       "    <tr>\n",
       "      <th>4</th>\n",
       "      <td>TGOV1_5</td>\n",
       "      <td>1.0</td>\n",
       "      <td>TGOV1_5</td>\n",
       "      <td>GENROU_5</td>\n",
       "      <td>0.0</td>\n",
       "      <td>1.0</td>\n",
       "      <td>0.010000</td>\n",
       "      <td>5.25</td>\n",
       "      <td>0.0</td>\n",
       "      <td>0.05</td>\n",
       "      <td>1.0</td>\n",
       "      <td>2.1</td>\n",
       "      <td>0.0</td>\n",
       "    </tr>\n",
       "  </tbody>\n",
       "</table>\n",
       "</div>"
      ],
      "text/plain": [
       "         idx    u     name       syn   Tn  wref0         R  VMAX  VMIN    T1  \\\n",
       "uid                                                                            \n",
       "0    TGOV1_1  1.0  TGOV1_1  GENROU_1  0.0    1.0  0.050000  1.05   0.0  0.05   \n",
       "1    TGOV1_2  1.0  TGOV1_2  GENROU_2  0.0    1.0  0.025000  2.40   0.0  0.10   \n",
       "2    TGOV1_3  1.0  TGOV1_3  GENROU_3  0.0    1.0  0.016667  3.60   0.0  0.10   \n",
       "3    TGOV1_4  1.0  TGOV1_4  GENROU_4  0.0    1.0  0.012500  4.20   0.0  0.05   \n",
       "4    TGOV1_5  1.0  TGOV1_5  GENROU_5  0.0    1.0  0.010000  5.25   0.0  0.05   \n",
       "\n",
       "      T2   T3   Dt  \n",
       "uid                 \n",
       "0    1.0  2.1  0.0  \n",
       "1    1.0  2.1  0.0  \n",
       "2    1.0  2.1  0.0  \n",
       "3    1.0  2.1  0.0  \n",
       "4    1.0  2.1  0.0  "
      ]
     },
     "execution_count": 10,
     "metadata": {},
     "output_type": "execute_result"
    }
   ],
   "source": [
    "s1.TGOV1.as_df()"
   ]
  },
  {
   "cell_type": "code",
   "execution_count": 11,
   "metadata": {},
   "outputs": [
    {
     "name": "stderr",
     "output_type": "stream",
     "text": [
      "Initialization for dynamics completed in 0.0173 seconds.\n",
      "Initialization was successful.\n",
      "GENROU (vf range) out of typical lower limit.\n",
      "\n",
      "   idx    | values | limit\n",
      "----------+--------+------\n",
      " GENROU_3 | 0      | 1    \n",
      "\n",
      "\n",
      "Initialization for dynamics completed in 0.0262 seconds.\n",
      "Initialization was successful.\n",
      "GENROU (vf range) out of typical lower limit.\n",
      "\n",
      "   idx    | values | limit\n",
      "----------+--------+------\n",
      " GENROU_3 | 0      | 1    \n",
      "\n",
      "\n",
      "Initialization for dynamics completed in 0.0265 seconds.\n",
      "Initialization was successful.\n"
     ]
    }
   ],
   "source": [
    "for ss in [s0, s1, s2]:\n",
    "    _ = ss.TDS.init()"
   ]
  },
  {
   "cell_type": "markdown",
   "metadata": {},
   "source": [
    "Run EIG"
   ]
  },
  {
   "cell_type": "code",
   "execution_count": 12,
   "metadata": {},
   "outputs": [
    {
     "name": "stderr",
     "output_type": "stream",
     "text": [
      "\n",
      "-> Eigenvalue Analysis:\n",
      "4 states are associated with zero time constants. \n",
      "  Positive       0\n",
      "  Zeros          1\n",
      "  Negative      62\n",
      "Eigenvalue analysis finished in 0.0031 seconds.\n",
      "Report saved to \"case0_eig.txt\".\n",
      "\n",
      "-> Eigenvalue Analysis:\n",
      "4 states are associated with zero time constants. \n",
      "  Positive       3\n",
      "  Zeros          8\n",
      "  Negative      79\n",
      "Eigenvalue analysis finished in 0.0045 seconds.\n",
      "Report saved to \"case1_eig.txt\".\n",
      "\n",
      "-> Eigenvalue Analysis:\n",
      "4 states are associated with zero time constants. \n",
      "Singular matrix. Case is not solvable\n",
      "  Positive       0\n",
      "  Zeros          7\n",
      "  Negative      81\n",
      "Eigenvalue analysis finished in 0.0073 seconds.\n",
      "Report saved to \"case2_eig.txt\".\n"
     ]
    }
   ],
   "source": [
    "# NOTE: manually set the file name otherwise they\n",
    "# will be overwritten as their file names are the same\n",
    "s0.files.eig = 'case0_eig.txt'\n",
    "s1.files.eig = 'case1_eig.txt'\n",
    "s2.files.eig = 'case2_eig.txt'\n",
    "\n",
    "_ = s0.EIG.run()\n",
    "s0.EIG.report()\n",
    "\n",
    "_ = s1.EIG.run()\n",
    "s1.EIG.report()\n",
    "\n",
    "_ = s2.EIG.run()\n",
    "s2.EIG.report()"
   ]
  },
  {
   "cell_type": "markdown",
   "metadata": {},
   "source": [
    "Run TDS"
   ]
  },
  {
   "cell_type": "code",
   "execution_count": 13,
   "metadata": {},
   "outputs": [
    {
     "name": "stderr",
     "output_type": "stream",
     "text": [
      "\n",
      "-> Time Domain Simulation Summary:\n",
      "Sparse Solver: KLU\n",
      "Simulation time: 0.0-80 s.\n",
      "Fixed step size: h=33.33 ms. Shrink if not converged.\n"
     ]
    },
    {
     "name": "stdout",
     "output_type": "stream",
     "text": [
      "<Toggle Toggler_1>: GENROU.GENROU_2 status changed to 0 at t=1.0 sec.\n"
     ]
    },
    {
     "name": "stderr",
     "output_type": "stream",
     "text": [
      "Simulation to t=80.00 sec completed in 2.8023 seconds.\n",
      "\n",
      "-> Time Domain Simulation Summary:\n",
      "Sparse Solver: KLU\n",
      "Simulation time: 0.0-80 s.\n",
      "Fixed step size: h=33.33 ms. Shrink if not converged.\n"
     ]
    },
    {
     "name": "stdout",
     "output_type": "stream",
     "text": [
      "<Toggle Toggler_1>: GENROU.GENROU_2 status changed to 0 at t=1.0 sec.\n"
     ]
    },
    {
     "name": "stderr",
     "output_type": "stream",
     "text": [
      "Simulation to t=80.00 sec completed in 7.2633 seconds.\n",
      "\n",
      "-> Time Domain Simulation Summary:\n",
      "Sparse Solver: KLU\n",
      "Simulation time: 0.0-80 s.\n",
      "Fixed step size: h=33.33 ms. Shrink if not converged.\n"
     ]
    },
    {
     "name": "stdout",
     "output_type": "stream",
     "text": [
      "<Toggle Toggler_1>: GENROU.GENROU_2 status changed to 0 at t=1.0 sec.\n"
     ]
    },
    {
     "name": "stderr",
     "output_type": "stream",
     "text": [
      "Simulation to t=80.00 sec completed in 7.1923 seconds.\n"
     ]
    }
   ],
   "source": [
    "for ss in [s0, s1, s2]:\n",
    "    ss.TDS.config.criteria = 0\n",
    "    ss.TDS.config.no_tqdm = 1\n",
    "    ss.TDS.config.tf = 80\n",
    "\n",
    "    ss.TDS.run()"
   ]
  },
  {
   "cell_type": "code",
   "execution_count": 14,
   "metadata": {},
   "outputs": [
    {
     "data": {
      "image/png": "[encoded data removed]",
      "text/plain": [
       "<Figure size 1500x500 with 3 Axes>"
      ]
     },
     "metadata": {},
     "output_type": "display_data"
    }
   ],
   "source": [
    "plt.style.use('default')\n",
    "\n",
    "fig, ax = plt.subplots(1, 3, figsize=(15, 5))\n",
    "plt.subplots_adjust(wspace=0.3)\n",
    "\n",
    "ymin, ymax = 59.8, 60.02\n",
    "\n",
    "_ = s0.TDS.plt.plot(s0.GENROU.omega,\n",
    "                    ytimes=s0.config.freq,\n",
    "                    ymin=ymin, ymax=ymax,\n",
    "                    grid=True, show=False,\n",
    "                    legend=False,\n",
    "                    ylabel='Gen. Freq. [Hz]',\n",
    "                    title='Case0',\n",
    "                    fig=fig, ax=ax[0],)\n",
    "\n",
    "_ = s1.TDS.plt.plot(s1.GENROU.omega,\n",
    "                    ytimes=s1.config.freq,\n",
    "                    ymin=ymin, ymax=ymax,\n",
    "                    grid=True, show=False,\n",
    "                    legend=False,\n",
    "                    ylabel='Gen. Freq. [Hz]',\n",
    "                    title='Case1: WTDTA1',\n",
    "                    fig=fig, ax=ax[1],)\n",
    "\n",
    "_ = s2.TDS.plt.plot(s2.GENROU.omega,\n",
    "                    ytimes=s2.config.freq,\n",
    "                    ymin=ymin, ymax=ymax,\n",
    "                    grid=True, show=False,\n",
    "                    legend=False,\n",
    "                    ylabel='Gen. Freq. [Hz]',\n",
    "                    title='Case2: WTDS',\n",
    "                    fig=fig, ax=ax[2],)"
   ]
  },
  {
   "cell_type": "markdown",
   "metadata": {},
   "source": [
    "Clean up the EIG report"
   ]
  },
  {
   "cell_type": "code",
   "execution_count": 15,
   "metadata": {},
   "outputs": [],
   "source": [
    "os.remove(s0.files.eig)\n",
    "os.remove(s1.files.eig)\n",
    "os.remove(s2.files.eig)"
   ]
  }
 ],
 "metadata": {
  "kernelspec": {
   "display_name": "amsre",
   "language": "python",
   "name": "python3"
  },
  "language_info": {
   "codemirror_mode": {
    "name": "ipython",
    "version": 3
   },
   "file_extension": ".py",
   "mimetype": "text/x-python",
   "name": "python",
   "nbconvert_exporter": "python",
   "pygments_lexer": "ipython3",
   "version": "3.12.0"
  }
 },
 "nbformat": 4,
 "nbformat_minor": 2
}
