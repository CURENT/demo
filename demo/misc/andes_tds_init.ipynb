{
 "cells": [
  {
   "cell_type": "markdown",
   "metadata": {},
   "source": [
    "# ANDES TDS Initialization Error - Discussion #386\n",
    "\n",
    "Details on an ANDES discussion, https://github.com/CURENT/andes/discussions/386"
   ]
  },
  {
   "cell_type": "markdown",
   "metadata": {},
   "source": [
    "## Packages version"
   ]
  },
  {
   "cell_type": "code",
   "execution_count": 1,
   "metadata": {},
   "outputs": [],
   "source": [
    "import andes"
   ]
  },
  {
   "cell_type": "code",
   "execution_count": 2,
   "metadata": {},
   "outputs": [],
   "source": [
    "%matplotlib inline"
   ]
  },
  {
   "cell_type": "code",
   "execution_count": 3,
   "metadata": {},
   "outputs": [
    {
     "name": "stdout",
     "output_type": "stream",
     "text": [
      "1.9.2.post132+g2633c300\n"
     ]
    }
   ],
   "source": [
    "print(andes.__version__)"
   ]
  },
  {
   "cell_type": "code",
   "execution_count": 4,
   "metadata": {},
   "outputs": [],
   "source": [
    "andes.config_logger(stream_level=50)"
   ]
  },
  {
   "cell_type": "markdown",
   "metadata": {},
   "source": [
    "## Load case"
   ]
  },
  {
   "cell_type": "code",
   "execution_count": 5,
   "metadata": {},
   "outputs": [],
   "source": [
    "case0 = andes.get_case('ieee14/ieee14_full.xlsx')\n",
    "\n",
    "case1 = './ieee14_1.00_Line_12_0.80_1.00_1.30.xlsx'\n",
    "\n",
    "case2 = './ieee14_1.00_Line_12_0.90_1.00_1.30.xlsx'\n",
    "\n",
    "case3 = './ieee14_1.00_Line_12_0.95_1.00_1.30.xlsx'"
   ]
  },
  {
   "cell_type": "code",
   "execution_count": 6,
   "metadata": {},
   "outputs": [],
   "source": [
    "ss0 = andes.load(case0,\n",
    "                 default_config=True,\n",
    "                 no_output=True)\n",
    "\n",
    "ss1 = andes.load(case1,\n",
    "                 default_config=True,\n",
    "                 no_output=True)\n",
    "\n",
    "ss2 = andes.load(case2,\n",
    "                 default_config=True,\n",
    "                 no_output=True)\n",
    "\n",
    "ss3 = andes.load(case3,\n",
    "                 default_config=True,\n",
    "                 no_output=True)\n"
   ]
  },
  {
   "cell_type": "code",
   "execution_count": 7,
   "metadata": {},
   "outputs": [],
   "source": [
    "andes.config_logger(stream_level=20)"
   ]
  },
  {
   "cell_type": "markdown",
   "metadata": {},
   "source": [
    "Case0 is the base case in ANDES source repository.\n",
    "\n",
    "Case1-3 is the revised case.\n",
    "\n",
    "Case1 runs well, Case2 TDS initialization failed, and Case3 power flow failed.\n",
    "\n",
    "These errors are common when revising the case and are usually caused by inappropriate parameters.\n",
    "\n",
    "In below, we will show how to recognize the reasons and fix the errors.\n"
   ]
  },
  {
   "cell_type": "markdown",
   "metadata": {},
   "source": [
    "## Case0"
   ]
  },
  {
   "cell_type": "code",
   "execution_count": 8,
   "metadata": {},
   "outputs": [
    {
     "name": "stderr",
     "output_type": "stream",
     "text": [
      "-> System connectivity check results:\n",
      "  No islanded bus detected.\n",
      "  System is interconnected.\n",
      "  Each island has a slack bus correctly defined and enabled.\n",
      "\n",
      "-> Power flow calculation\n",
      "           Numba: Off\n",
      "   Sparse solver: KLU\n",
      " Solution method: NR method\n",
      "Power flow initialized in 0.0027 seconds.\n",
      "0: |F(x)| = 0.5605182134\n",
      "1: |F(x)| = 0.006202200332\n",
      "2: |F(x)| = 5.819382825e-06\n",
      "3: |F(x)| = 6.964193111e-12\n",
      "Converged in 4 iterations in 0.0026 seconds.\n"
     ]
    },
    {
     "data": {
      "text/plain": [
       "True"
      ]
     },
     "execution_count": 8,
     "metadata": {},
     "output_type": "execute_result"
    }
   ],
   "source": [
    "ss0.PFlow.run()"
   ]
  },
  {
   "cell_type": "code",
   "execution_count": 9,
   "metadata": {},
   "outputs": [
    {
     "name": "stderr",
     "output_type": "stream",
     "text": [
      "Initialization for dynamics completed in 0.0183 seconds.\n",
      "Initialization was successful.\n"
     ]
    }
   ],
   "source": [
    "ss0i = ss0.TDS.init()"
   ]
  },
  {
   "cell_type": "code",
   "execution_count": 10,
   "metadata": {},
   "outputs": [
    {
     "name": "stderr",
     "output_type": "stream",
     "text": [
      "\n",
      "-> Time Domain Simulation Summary:\n",
      "Sparse Solver: KLU\n",
      "Simulation time: 0.0-20.0 s.\n",
      "Fixed step size: h=33.33 ms. Shrink if not converged.\n"
     ]
    },
    {
     "data": {
      "application/vnd.jupyter.widget-view+json": {
       "model_id": "78477b2fb667437da1051ee85652fd51",
       "version_major": 2,
       "version_minor": 0
      },
      "text/plain": [
       "  0%|          | 0/100 [00:00<?, ?%/s]"
      ]
     },
     "metadata": {},
     "output_type": "display_data"
    },
    {
     "name": "stderr",
     "output_type": "stream",
     "text": [
      "Simulation to t=20.00 sec completed in 0.2771 seconds.\n"
     ]
    },
    {
     "data": {
      "text/plain": [
       "True"
      ]
     },
     "execution_count": 10,
     "metadata": {},
     "output_type": "execute_result"
    }
   ],
   "source": [
    "ss0.TDS.run()"
   ]
  },
  {
   "cell_type": "code",
   "execution_count": 11,
   "metadata": {},
   "outputs": [
    {
     "data": {
      "image/png": "[encoded data removed]",
      "text/plain": [
       "<Figure size 640x480 with 1 Axes>"
      ]
     },
     "metadata": {},
     "output_type": "display_data"
    },
    {
     "data": {
      "text/plain": [
       "(<Figure size 640x480 with 1 Axes>, <Axes: xlabel='Time [s]'>)"
      ]
     },
     "execution_count": 11,
     "metadata": {},
     "output_type": "execute_result"
    }
   ],
   "source": [
    "ss0.TDS.plt.plot(ss0.GENROU.omega,\n",
    "                 latex=False)"
   ]
  },
  {
   "cell_type": "markdown",
   "metadata": {},
   "source": [
    "Base case is okay."
   ]
  },
  {
   "cell_type": "markdown",
   "metadata": {},
   "source": [
    "## Case1"
   ]
  },
  {
   "cell_type": "code",
   "execution_count": 12,
   "metadata": {},
   "outputs": [
    {
     "name": "stderr",
     "output_type": "stream",
     "text": [
      "-> System connectivity check results:\n",
      "  No islanded bus detected.\n",
      "  System is interconnected.\n",
      "  Each island has a slack bus correctly defined and enabled.\n",
      "\n",
      "-> Power flow calculation\n",
      "           Numba: Off\n",
      "   Sparse solver: KLU\n",
      " Solution method: NR method\n",
      "Power flow initialized in 0.0036 seconds.\n",
      "0: |F(x)| = 8.6568834\n",
      "1: |F(x)| = 7.007197233\n",
      "2: |F(x)| = 1.365637093\n",
      "3: |F(x)| = 0.1659350293\n",
      "4: |F(x)| = 0.003034072009\n",
      "5: |F(x)| = 9.897107126e-07\n",
      "Converged in 6 iterations in 0.0045 seconds.\n"
     ]
    },
    {
     "data": {
      "text/plain": [
       "True"
      ]
     },
     "execution_count": 12,
     "metadata": {},
     "output_type": "execute_result"
    }
   ],
   "source": [
    "ss1.PFlow.run()"
   ]
  },
  {
   "cell_type": "markdown",
   "metadata": {},
   "source": [
    "Power flow solved."
   ]
  },
  {
   "cell_type": "code",
   "execution_count": 13,
   "metadata": {},
   "outputs": [
    {
     "name": "stderr",
     "output_type": "stream",
     "text": [
      "Initialization for dynamics completed in 0.0346 seconds.\n",
      "Initialization was successful.\n"
     ]
    }
   ],
   "source": [
    "ss1i = ss1.TDS.init()"
   ]
  },
  {
   "cell_type": "markdown",
   "metadata": {},
   "source": [
    "TDS initialized."
   ]
  },
  {
   "cell_type": "markdown",
   "metadata": {},
   "source": [
    "## Case2"
   ]
  },
  {
   "cell_type": "code",
   "execution_count": 14,
   "metadata": {},
   "outputs": [
    {
     "name": "stderr",
     "output_type": "stream",
     "text": [
      "-> System connectivity check results:\n",
      "  No islanded bus detected.\n",
      "  System is interconnected.\n",
      "  Each island has a slack bus correctly defined and enabled.\n",
      "\n",
      "-> Power flow calculation\n",
      "           Numba: Off\n",
      "   Sparse solver: KLU\n",
      " Solution method: NR method\n",
      "Power flow initialized in 0.0031 seconds.\n",
      "0: |F(x)| = 15.44601457\n",
      "1: |F(x)| = 87.13552781\n",
      "2: |F(x)| = 51.0391057\n",
      "3: |F(x)| = 14.27050865\n",
      "4: |F(x)| = 3.188620159\n",
      "5: |F(x)| = 0.5200860572\n",
      "6: |F(x)| = 0.131954607\n",
      "7: |F(x)| = 0.02833026213\n",
      "8: |F(x)| = 0.007088256275\n",
      "9: |F(x)| = 0.001772020979\n",
      "10: |F(x)| = 0.0004430050393\n",
      "11: |F(x)| = 0.0001107512598\n",
      "12: |F(x)| = 2.768781496e-05\n",
      "13: |F(x)| = 6.92195374e-06\n",
      "14: |F(x)| = 1.730488435e-06\n",
      "15: |F(x)| = 4.326221088e-07\n",
      "Converged in 16 iterations in 0.0108 seconds.\n"
     ]
    },
    {
     "data": {
      "text/plain": [
       "True"
      ]
     },
     "execution_count": 14,
     "metadata": {},
     "output_type": "execute_result"
    }
   ],
   "source": [
    "ss2.PFlow.run()"
   ]
  },
  {
   "cell_type": "markdown",
   "metadata": {},
   "source": [
    "Power flow solved."
   ]
  },
  {
   "cell_type": "code",
   "execution_count": 15,
   "metadata": {},
   "outputs": [
    {
     "name": "stderr",
     "output_type": "stream",
     "text": [
      "GENROU (vf range) out of typical upper limit.\n",
      "\n",
      "   idx    | values | limit\n",
      "----------+--------+------\n",
      " GENROU_1 | 7.000  | 5    \n",
      " GENROU_2 | 11.206 | 5    \n",
      " GENROU_3 | 5.413  | 5    \n",
      " GENROU_4 | 36.426 | 5    \n",
      " GENROU_5 | 12.359 | 5    \n",
      "\n",
      "\n",
      "ESST3A.VG_lim: adjusted limit <VGMAX>\n",
      "\n",
      "   Idx    | Input  | Old Limit\n",
      "----------+--------+----------\n",
      " ESST3A_2 | 7.000  | 3.860    \n",
      " ESST3A_3 | 5.413  | 3.860    \n",
      " ESST3A_4 | 36.426 | 3.860    \n",
      " ESST3A_5 | 12.359 | 3.860    \n",
      "\n",
      "\n",
      "ESST3A.VB_lim: adjusted limit <VBMAX>\n",
      "\n",
      "   Idx    | Input | Old Limit\n",
      "----------+-------+----------\n",
      " ESST3A_4 | 7.352 | 5.480    \n",
      "\n",
      "\n",
      "PQ.vcmp out of limits <vmin>\n",
      "\n",
      " idx   | Flag | Input Value | Limit\n",
      "-------+------+-------------+------\n",
      " PQ_3  | zl   | 0.772       | 0.800\n",
      " PQ_4  | zl   | 0.782       | 0.800\n",
      " PQ_6  | zl   | -0.000      | 0.800\n",
      " PQ_7  | zl   | -0.000      | 0.800\n",
      " PQ_8  | zl   | -0.000      | 0.800\n",
      " PQ_11 | zl   | 0.369       | 0.800\n",
      "\n",
      "\n",
      "ESST3A.HLI out of limits <VIMAX>\n",
      "\n",
      "   idx    | Flag | Input Value | Limit\n",
      "----------+------+-------------+------\n",
      " ESST3A_2 | zu   | 0.360       | 0.200\n",
      " ESST3A_3 | zu   | 0.278       | 0.200\n",
      " ESST3A_4 | zu   | 1.852       | 0.200\n",
      " ESST3A_5 | zu   | 0.633       | 0.200\n",
      "\n",
      "\n",
      "Suspect initialization issue! Simulation may crash!\n",
      "\n",
      "    Name      | Var. Value | Eqn. Mismatch\n",
      "--------------+------------+--------------\n",
      " LL_y TGOV1 1 | 3.454      | -2.404       \n",
      " vil ESST3A 2 | 0.360      | -0.160       \n",
      " vil ESST3A 3 | 0.278      | -0.078       \n",
      " vil ESST3A 4 | 1.852      | -1.652       \n",
      " vil ESST3A 5 | 0.633      | -0.433       \n",
      "\n",
      "\n",
      "Initialization for dynamics completed in 0.0237 seconds.\n",
      "Initialization failed!!\n",
      "If you are developing a new model, check the initialization with\n",
      "   andes -v 10 run -r tds --init ./ieee14_1.00_Line_12_0.90_1.00_1.30.xlsx\n",
      "Otherwise, check the variables that are initialized out of limits.\n"
     ]
    }
   ],
   "source": [
    "ss2i = ss2.TDS.init()"
   ]
  },
  {
   "cell_type": "markdown",
   "metadata": {},
   "source": [
    "TDS initialization failed.\n",
    "\n",
    "The Eqn. Mismatch items are associated with ``LL_y TGOV1`` and ``vil ESST3A``.\n",
    "In the Model Reference or the model source code, it can be noticed that: \n",
    "\n",
    "1. ``LL_y TGOV1`` is associated with function ``LAG``, and ``LAG`` is limited by ``VMIN`` and ``VMAX``.\n",
    "\n",
    "1. ``vil ESST3A`` is associated with ``HIL``, and ``HIL`` is limited by ``VIMIN`` and ``VIMAX``.\n",
    "\n",
    "Usually, the failed initialization is caused by the inapproriate limiter range, and it can be addressed by adjusting the range.\n"
   ]
  },
  {
   "cell_type": "code",
   "execution_count": 16,
   "metadata": {},
   "outputs": [
    {
     "data": {
      "text/html": [
       "<div>\n",
       "<style scoped>\n",
       "    .dataframe tbody tr th:only-of-type {\n",
       "        vertical-align: middle;\n",
       "    }\n",
       "\n",
       "    .dataframe tbody tr th {\n",
       "        vertical-align: top;\n",
       "    }\n",
       "\n",
       "    .dataframe thead th {\n",
       "        text-align: right;\n",
       "    }\n",
       "</style>\n",
       "<table border=\"1\" class=\"dataframe\">\n",
       "  <thead>\n",
       "    <tr style=\"text-align: right;\">\n",
       "      <th></th>\n",
       "      <th>idx</th>\n",
       "      <th>u</th>\n",
       "      <th>name</th>\n",
       "      <th>syn</th>\n",
       "      <th>Tn</th>\n",
       "      <th>wref0</th>\n",
       "      <th>R</th>\n",
       "      <th>VMAX</th>\n",
       "      <th>VMIN</th>\n",
       "      <th>T1</th>\n",
       "      <th>T2</th>\n",
       "      <th>T3</th>\n",
       "      <th>Dt</th>\n",
       "    </tr>\n",
       "    <tr>\n",
       "      <th>uid</th>\n",
       "      <th></th>\n",
       "      <th></th>\n",
       "      <th></th>\n",
       "      <th></th>\n",
       "      <th></th>\n",
       "      <th></th>\n",
       "      <th></th>\n",
       "      <th></th>\n",
       "      <th></th>\n",
       "      <th></th>\n",
       "      <th></th>\n",
       "      <th></th>\n",
       "      <th></th>\n",
       "    </tr>\n",
       "  </thead>\n",
       "  <tbody>\n",
       "    <tr>\n",
       "      <th>0</th>\n",
       "      <td>TGOV1_1</td>\n",
       "      <td>1.0</td>\n",
       "      <td>TGOV1_1</td>\n",
       "      <td>GENROU_1</td>\n",
       "      <td>0.0</td>\n",
       "      <td>1.0</td>\n",
       "      <td>0.05</td>\n",
       "      <td>1.05</td>\n",
       "      <td>0.3</td>\n",
       "      <td>0.05</td>\n",
       "      <td>1.0</td>\n",
       "      <td>2.1</td>\n",
       "      <td>0.0</td>\n",
       "    </tr>\n",
       "    <tr>\n",
       "      <th>1</th>\n",
       "      <td>TGOV1_2</td>\n",
       "      <td>1.0</td>\n",
       "      <td>TGOV1_2</td>\n",
       "      <td>GENROU_2</td>\n",
       "      <td>0.0</td>\n",
       "      <td>1.0</td>\n",
       "      <td>0.05</td>\n",
       "      <td>1.20</td>\n",
       "      <td>0.0</td>\n",
       "      <td>0.10</td>\n",
       "      <td>1.0</td>\n",
       "      <td>2.1</td>\n",
       "      <td>0.0</td>\n",
       "    </tr>\n",
       "    <tr>\n",
       "      <th>2</th>\n",
       "      <td>TGOV1_3</td>\n",
       "      <td>1.0</td>\n",
       "      <td>TGOV1_3</td>\n",
       "      <td>GENROU_3</td>\n",
       "      <td>0.0</td>\n",
       "      <td>1.0</td>\n",
       "      <td>0.05</td>\n",
       "      <td>1.20</td>\n",
       "      <td>0.0</td>\n",
       "      <td>0.10</td>\n",
       "      <td>1.0</td>\n",
       "      <td>2.1</td>\n",
       "      <td>0.0</td>\n",
       "    </tr>\n",
       "    <tr>\n",
       "      <th>3</th>\n",
       "      <td>TGOV1_4</td>\n",
       "      <td>1.0</td>\n",
       "      <td>TGOV1_4</td>\n",
       "      <td>GENROU_4</td>\n",
       "      <td>0.0</td>\n",
       "      <td>1.0</td>\n",
       "      <td>0.05</td>\n",
       "      <td>1.05</td>\n",
       "      <td>0.3</td>\n",
       "      <td>0.05</td>\n",
       "      <td>1.0</td>\n",
       "      <td>2.1</td>\n",
       "      <td>0.0</td>\n",
       "    </tr>\n",
       "    <tr>\n",
       "      <th>4</th>\n",
       "      <td>TGOV1_5</td>\n",
       "      <td>1.0</td>\n",
       "      <td>TGOV1_5</td>\n",
       "      <td>GENROU_5</td>\n",
       "      <td>0.0</td>\n",
       "      <td>1.0</td>\n",
       "      <td>0.05</td>\n",
       "      <td>1.05</td>\n",
       "      <td>0.3</td>\n",
       "      <td>0.05</td>\n",
       "      <td>1.0</td>\n",
       "      <td>2.1</td>\n",
       "      <td>0.0</td>\n",
       "    </tr>\n",
       "  </tbody>\n",
       "</table>\n",
       "</div>"
      ],
      "text/plain": [
       "         idx    u     name       syn   Tn  wref0     R  VMAX  VMIN    T1   T2  \\\n",
       "uid                                                                             \n",
       "0    TGOV1_1  1.0  TGOV1_1  GENROU_1  0.0    1.0  0.05  1.05   0.3  0.05  1.0   \n",
       "1    TGOV1_2  1.0  TGOV1_2  GENROU_2  0.0    1.0  0.05  1.20   0.0  0.10  1.0   \n",
       "2    TGOV1_3  1.0  TGOV1_3  GENROU_3  0.0    1.0  0.05  1.20   0.0  0.10  1.0   \n",
       "3    TGOV1_4  1.0  TGOV1_4  GENROU_4  0.0    1.0  0.05  1.05   0.3  0.05  1.0   \n",
       "4    TGOV1_5  1.0  TGOV1_5  GENROU_5  0.0    1.0  0.05  1.05   0.3  0.05  1.0   \n",
       "\n",
       "      T3   Dt  \n",
       "uid            \n",
       "0    2.1  0.0  \n",
       "1    2.1  0.0  \n",
       "2    2.1  0.0  \n",
       "3    2.1  0.0  \n",
       "4    2.1  0.0  "
      ]
     },
     "execution_count": 16,
     "metadata": {},
     "output_type": "execute_result"
    }
   ],
   "source": [
    "ss2.TGOV1.as_df()"
   ]
  },
  {
   "cell_type": "code",
   "execution_count": 17,
   "metadata": {},
   "outputs": [
    {
     "data": {
      "text/html": [
       "<div>\n",
       "<style scoped>\n",
       "    .dataframe tbody tr th:only-of-type {\n",
       "        vertical-align: middle;\n",
       "    }\n",
       "\n",
       "    .dataframe tbody tr th {\n",
       "        vertical-align: top;\n",
       "    }\n",
       "\n",
       "    .dataframe thead th {\n",
       "        text-align: right;\n",
       "    }\n",
       "</style>\n",
       "<table border=\"1\" class=\"dataframe\">\n",
       "  <thead>\n",
       "    <tr style=\"text-align: right;\">\n",
       "      <th></th>\n",
       "      <th>idx</th>\n",
       "      <th>u</th>\n",
       "      <th>name</th>\n",
       "      <th>syn</th>\n",
       "      <th>TR</th>\n",
       "      <th>VIMAX</th>\n",
       "      <th>VIMIN</th>\n",
       "      <th>KM</th>\n",
       "      <th>TC</th>\n",
       "      <th>TB</th>\n",
       "      <th>...</th>\n",
       "      <th>KP</th>\n",
       "      <th>KI</th>\n",
       "      <th>VBMAX</th>\n",
       "      <th>KC</th>\n",
       "      <th>XL</th>\n",
       "      <th>VGMAX</th>\n",
       "      <th>THETAP</th>\n",
       "      <th>TM</th>\n",
       "      <th>VMMAX</th>\n",
       "      <th>VMMIN</th>\n",
       "    </tr>\n",
       "    <tr>\n",
       "      <th>uid</th>\n",
       "      <th></th>\n",
       "      <th></th>\n",
       "      <th></th>\n",
       "      <th></th>\n",
       "      <th></th>\n",
       "      <th></th>\n",
       "      <th></th>\n",
       "      <th></th>\n",
       "      <th></th>\n",
       "      <th></th>\n",
       "      <th></th>\n",
       "      <th></th>\n",
       "      <th></th>\n",
       "      <th></th>\n",
       "      <th></th>\n",
       "      <th></th>\n",
       "      <th></th>\n",
       "      <th></th>\n",
       "      <th></th>\n",
       "      <th></th>\n",
       "      <th></th>\n",
       "    </tr>\n",
       "  </thead>\n",
       "  <tbody>\n",
       "    <tr>\n",
       "      <th>0</th>\n",
       "      <td>ESST3A_2</td>\n",
       "      <td>1.0</td>\n",
       "      <td>ESST3A_2</td>\n",
       "      <td>GENROU_1</td>\n",
       "      <td>0.02</td>\n",
       "      <td>0.2</td>\n",
       "      <td>-0.2</td>\n",
       "      <td>8.0</td>\n",
       "      <td>1.0</td>\n",
       "      <td>5.0</td>\n",
       "      <td>...</td>\n",
       "      <td>3.67</td>\n",
       "      <td>0.435</td>\n",
       "      <td>5.480000</td>\n",
       "      <td>0.01</td>\n",
       "      <td>0.0098</td>\n",
       "      <td>7.000318</td>\n",
       "      <td>3.33</td>\n",
       "      <td>0.4</td>\n",
       "      <td>99.0</td>\n",
       "      <td>0.0</td>\n",
       "    </tr>\n",
       "    <tr>\n",
       "      <th>1</th>\n",
       "      <td>ESST3A_3</td>\n",
       "      <td>1.0</td>\n",
       "      <td>ESST3A_3</td>\n",
       "      <td>GENROU_3</td>\n",
       "      <td>0.02</td>\n",
       "      <td>0.2</td>\n",
       "      <td>-0.2</td>\n",
       "      <td>8.0</td>\n",
       "      <td>1.0</td>\n",
       "      <td>5.0</td>\n",
       "      <td>...</td>\n",
       "      <td>3.67</td>\n",
       "      <td>0.435</td>\n",
       "      <td>5.480000</td>\n",
       "      <td>0.01</td>\n",
       "      <td>0.0098</td>\n",
       "      <td>5.413357</td>\n",
       "      <td>3.33</td>\n",
       "      <td>0.4</td>\n",
       "      <td>99.0</td>\n",
       "      <td>0.0</td>\n",
       "    </tr>\n",
       "    <tr>\n",
       "      <th>2</th>\n",
       "      <td>ESST3A_4</td>\n",
       "      <td>1.0</td>\n",
       "      <td>ESST3A_4</td>\n",
       "      <td>GENROU_4</td>\n",
       "      <td>0.02</td>\n",
       "      <td>0.2</td>\n",
       "      <td>-0.2</td>\n",
       "      <td>8.0</td>\n",
       "      <td>1.0</td>\n",
       "      <td>5.0</td>\n",
       "      <td>...</td>\n",
       "      <td>3.67</td>\n",
       "      <td>0.435</td>\n",
       "      <td>7.352355</td>\n",
       "      <td>0.01</td>\n",
       "      <td>0.0098</td>\n",
       "      <td>36.425544</td>\n",
       "      <td>3.33</td>\n",
       "      <td>0.4</td>\n",
       "      <td>99.0</td>\n",
       "      <td>0.0</td>\n",
       "    </tr>\n",
       "    <tr>\n",
       "      <th>3</th>\n",
       "      <td>ESST3A_5</td>\n",
       "      <td>1.0</td>\n",
       "      <td>ESST3A_5</td>\n",
       "      <td>GENROU_5</td>\n",
       "      <td>0.02</td>\n",
       "      <td>0.2</td>\n",
       "      <td>-0.2</td>\n",
       "      <td>8.0</td>\n",
       "      <td>1.0</td>\n",
       "      <td>5.0</td>\n",
       "      <td>...</td>\n",
       "      <td>3.67</td>\n",
       "      <td>0.435</td>\n",
       "      <td>5.480000</td>\n",
       "      <td>0.01</td>\n",
       "      <td>0.0098</td>\n",
       "      <td>12.359430</td>\n",
       "      <td>3.33</td>\n",
       "      <td>0.4</td>\n",
       "      <td>99.0</td>\n",
       "      <td>0.0</td>\n",
       "    </tr>\n",
       "  </tbody>\n",
       "</table>\n",
       "<p>4 rows × 25 columns</p>\n",
       "</div>"
      ],
      "text/plain": [
       "          idx    u      name       syn    TR  VIMAX  VIMIN   KM   TC   TB  \\\n",
       "uid                                                                         \n",
       "0    ESST3A_2  1.0  ESST3A_2  GENROU_1  0.02    0.2   -0.2  8.0  1.0  5.0   \n",
       "1    ESST3A_3  1.0  ESST3A_3  GENROU_3  0.02    0.2   -0.2  8.0  1.0  5.0   \n",
       "2    ESST3A_4  1.0  ESST3A_4  GENROU_4  0.02    0.2   -0.2  8.0  1.0  5.0   \n",
       "3    ESST3A_5  1.0  ESST3A_5  GENROU_5  0.02    0.2   -0.2  8.0  1.0  5.0   \n",
       "\n",
       "     ...    KP     KI     VBMAX    KC      XL      VGMAX  THETAP   TM  VMMAX  \\\n",
       "uid  ...                                                                       \n",
       "0    ...  3.67  0.435  5.480000  0.01  0.0098   7.000318    3.33  0.4   99.0   \n",
       "1    ...  3.67  0.435  5.480000  0.01  0.0098   5.413357    3.33  0.4   99.0   \n",
       "2    ...  3.67  0.435  7.352355  0.01  0.0098  36.425544    3.33  0.4   99.0   \n",
       "3    ...  3.67  0.435  5.480000  0.01  0.0098  12.359430    3.33  0.4   99.0   \n",
       "\n",
       "     VMMIN  \n",
       "uid         \n",
       "0      0.0  \n",
       "1      0.0  \n",
       "2      0.0  \n",
       "3      0.0  \n",
       "\n",
       "[4 rows x 25 columns]"
      ]
     },
     "execution_count": 17,
     "metadata": {},
     "output_type": "execute_result"
    }
   ],
   "source": [
    "ss2.ESST3A.as_df()"
   ]
  },
  {
   "cell_type": "markdown",
   "metadata": {},
   "source": [
    "We can try to enlarge ``VMAX`` and ``VMIN`` of device ``TGOV1_1``.\n",
    "\n",
    "However, it should be noted that since ``ss2`` has been initialziaed, we need to re-instantiate a new one."
   ]
  },
  {
   "cell_type": "code",
   "execution_count": 18,
   "metadata": {},
   "outputs": [
    {
     "name": "stderr",
     "output_type": "stream",
     "text": [
      "Working directory: \"/Users/jinningwang/work/demo/demo/misc\"\n",
      "> Reloaded generated Python code of module \"pycode\".\n",
      "Parsing input file \"./ieee14_1.00_Line_12_0.90_1.00_1.30.xlsx\"...\n",
      "Input file parsed in 0.0276 seconds.\n",
      "System internal structure set up in 0.0191 seconds.\n"
     ]
    }
   ],
   "source": [
    "sc2 = andes.load(case2,\n",
    "                 default_config=True,\n",
    "                 no_output=True)\n"
   ]
  },
  {
   "cell_type": "code",
   "execution_count": 19,
   "metadata": {},
   "outputs": [
    {
     "data": {
      "text/plain": [
       "True"
      ]
     },
     "execution_count": 19,
     "metadata": {},
     "output_type": "execute_result"
    }
   ],
   "source": [
    "sc2.TGOV1.set(idx='TGOV1_1', src='VMAX', attr='v', value=10)\n",
    "sc2.TGOV1.set(idx='TGOV1_1', src='VMIN', attr='v', value=0)\n"
   ]
  },
  {
   "cell_type": "markdown",
   "metadata": {},
   "source": [
    "Similarly, we can try to enlarge ``VIMAX`` and ``VIMIN`` of device ``ESST3A_2`` - ``ESST3A_5``."
   ]
  },
  {
   "cell_type": "code",
   "execution_count": 20,
   "metadata": {},
   "outputs": [
    {
     "data": {
      "text/plain": [
       "True"
      ]
     },
     "execution_count": 20,
     "metadata": {},
     "output_type": "execute_result"
    }
   ],
   "source": [
    "sc2.ESST3A.set(idx=['ESST3A_2', 'ESST3A_3', 'ESST3A_4', 'ESST3A_5'],\n",
    "               src='VIMAX', attr='v',\n",
    "               value=[10, 10, 10, 10])\n",
    "\n",
    "sc2.ESST3A.set(idx=['ESST3A_2', 'ESST3A_3', 'ESST3A_4', 'ESST3A_5'],\n",
    "               src='VIMIN', attr='v',\n",
    "               value=[-10, -10, -10, -10])\n"
   ]
  },
  {
   "cell_type": "code",
   "execution_count": 21,
   "metadata": {},
   "outputs": [
    {
     "name": "stderr",
     "output_type": "stream",
     "text": [
      "-> System connectivity check results:\n",
      "  No islanded bus detected.\n",
      "  System is interconnected.\n",
      "  Each island has a slack bus correctly defined and enabled.\n",
      "\n",
      "-> Power flow calculation\n",
      "           Numba: Off\n",
      "   Sparse solver: KLU\n",
      " Solution method: NR method\n",
      "Power flow initialized in 0.0026 seconds.\n",
      "0: |F(x)| = 15.44601457\n",
      "1: |F(x)| = 87.13552781\n",
      "2: |F(x)| = 51.0391057\n",
      "3: |F(x)| = 14.27050865\n",
      "4: |F(x)| = 3.188620159\n",
      "5: |F(x)| = 0.5200860572\n",
      "6: |F(x)| = 0.131954607\n",
      "7: |F(x)| = 0.02833026213\n",
      "8: |F(x)| = 0.007088256275\n",
      "9: |F(x)| = 0.001772020979\n",
      "10: |F(x)| = 0.0004430050393\n",
      "11: |F(x)| = 0.0001107512598\n",
      "12: |F(x)| = 2.768781496e-05\n",
      "13: |F(x)| = 6.92195374e-06\n",
      "14: |F(x)| = 1.730488435e-06\n",
      "15: |F(x)| = 4.326221088e-07\n",
      "Converged in 16 iterations in 0.0110 seconds.\n"
     ]
    },
    {
     "data": {
      "text/plain": [
       "True"
      ]
     },
     "execution_count": 21,
     "metadata": {},
     "output_type": "execute_result"
    }
   ],
   "source": [
    "sc2.PFlow.run()"
   ]
  },
  {
   "cell_type": "markdown",
   "metadata": {},
   "source": [
    "Now, Case2 can be initialized successfully."
   ]
  },
  {
   "cell_type": "code",
   "execution_count": 22,
   "metadata": {},
   "outputs": [
    {
     "name": "stderr",
     "output_type": "stream",
     "text": [
      "GENROU (vf range) out of typical upper limit.\n",
      "\n",
      "   idx    | values | limit\n",
      "----------+--------+------\n",
      " GENROU_1 | 7.000  | 5    \n",
      " GENROU_2 | 11.206 | 5    \n",
      " GENROU_3 | 5.413  | 5    \n",
      " GENROU_4 | 36.426 | 5    \n",
      " GENROU_5 | 12.359 | 5    \n",
      "\n",
      "\n",
      "ESST3A.VG_lim: adjusted limit <VGMAX>\n",
      "\n",
      "   Idx    | Input  | Old Limit\n",
      "----------+--------+----------\n",
      " ESST3A_2 | 7.000  | 3.860    \n",
      " ESST3A_3 | 5.413  | 3.860    \n",
      " ESST3A_4 | 36.426 | 3.860    \n",
      " ESST3A_5 | 12.359 | 3.860    \n",
      "\n",
      "\n",
      "ESST3A.VB_lim: adjusted limit <VBMAX>\n",
      "\n",
      "   Idx    | Input | Old Limit\n",
      "----------+-------+----------\n",
      " ESST3A_4 | 7.352 | 5.480    \n",
      "\n",
      "\n",
      "PQ.vcmp out of limits <vmin>\n",
      "\n",
      " idx   | Flag | Input Value | Limit\n",
      "-------+------+-------------+------\n",
      " PQ_3  | zl   | 0.772       | 0.800\n",
      " PQ_4  | zl   | 0.782       | 0.800\n",
      " PQ_6  | zl   | -0.000      | 0.800\n",
      " PQ_7  | zl   | -0.000      | 0.800\n",
      " PQ_8  | zl   | -0.000      | 0.800\n",
      " PQ_11 | zl   | 0.369       | 0.800\n",
      "\n",
      "\n",
      "Initialization for dynamics completed in 0.0238 seconds.\n",
      "Initialization was successful.\n"
     ]
    }
   ],
   "source": [
    "sc2i = sc2.TDS.init()"
   ]
  },
  {
   "cell_type": "markdown",
   "metadata": {},
   "source": [
    "## Case3"
   ]
  },
  {
   "cell_type": "code",
   "execution_count": 23,
   "metadata": {},
   "outputs": [
    {
     "name": "stderr",
     "output_type": "stream",
     "text": [
      "-> System connectivity check results:\n",
      "  No islanded bus detected.\n",
      "  System is interconnected.\n",
      "  Each island has a slack bus correctly defined and enabled.\n",
      "\n",
      "-> Power flow calculation\n",
      "           Numba: Off\n",
      "   Sparse solver: KLU\n",
      " Solution method: NR method\n",
      "Power flow initialized in 0.0032 seconds.\n",
      "0: |F(x)| = 29.31915012\n",
      "1: |F(x)| = 740.0002552\n",
      "2: |F(x)| = 184.73335\n",
      "3: |F(x)| = 45.4526586\n",
      "4: |F(x)| = 12.50794966\n",
      "5: |F(x)| = 15.21452341\n",
      "6: |F(x)| = 10.05944283\n",
      "7: |F(x)| = 13.62000075\n",
      "8: |F(x)| = 35.58834526\n",
      "9: |F(x)| = 8.482833322\n",
      "10: |F(x)| = 9.728767349\n",
      "11: |F(x)| = 2.816658058\n",
      "12: |F(x)| = 67.82313883\n",
      "13: |F(x)| = 4567.704115\n",
      "14: |F(x)| = 1037.967197\n",
      "15: |F(x)| = 259.1764923\n",
      "16: |F(x)| = 64.52716864\n",
      "17: |F(x)| = 72.64100209\n",
      "18: |F(x)| = 34.57363538\n",
      "19: |F(x)| = 5.076861911\n",
      "20: |F(x)| = 250.4310678\n",
      "21: |F(x)| = 69.24418146\n",
      "22: |F(x)| = 182.7485337\n",
      "23: |F(x)| = 7.728601901\n",
      "24: |F(x)| = 3.243495938\n",
      "25: |F(x)| = 12.93637626\n",
      "26: |F(x)| = 61.62695216\n",
      "Power flow failed after 27 iterations for \"./ieee14_1.00_Line_12_0.95_1.00_1.30.xlsx\".\n"
     ]
    },
    {
     "data": {
      "text/plain": [
       "False"
      ]
     },
     "execution_count": 23,
     "metadata": {},
     "output_type": "execute_result"
    }
   ],
   "source": [
    "ss3.PFlow.run()"
   ]
  },
  {
   "cell_type": "markdown",
   "metadata": {},
   "source": [
    "Power flow failed."
   ]
  },
  {
   "cell_type": "code",
   "execution_count": 24,
   "metadata": {},
   "outputs": [
    {
     "name": "stderr",
     "output_type": "stream",
     "text": [
      "Working directory: \"/Users/jinningwang/work/demo/demo/misc\"\n",
      "> Reloaded generated Python code of module \"pycode\".\n",
      "Parsing input file \"./ieee14_1.00_Line_12_0.95_1.00_1.30.xlsx\"...\n",
      "Input file parsed in 0.0311 seconds.\n",
      "System internal structure set up in 0.0188 seconds.\n"
     ]
    }
   ],
   "source": [
    "sc3 = andes.load(case3,\n",
    "                 default_config=True,\n",
    "                 no_output=True)\n"
   ]
  },
  {
   "cell_type": "code",
   "execution_count": 25,
   "metadata": {},
   "outputs": [
    {
     "data": {
      "text/html": [
       "<div>\n",
       "<style scoped>\n",
       "    .dataframe tbody tr th:only-of-type {\n",
       "        vertical-align: middle;\n",
       "    }\n",
       "\n",
       "    .dataframe tbody tr th {\n",
       "        vertical-align: top;\n",
       "    }\n",
       "\n",
       "    .dataframe thead th {\n",
       "        text-align: right;\n",
       "    }\n",
       "</style>\n",
       "<table border=\"1\" class=\"dataframe\">\n",
       "  <thead>\n",
       "    <tr style=\"text-align: right;\">\n",
       "      <th></th>\n",
       "      <th>idx</th>\n",
       "      <th>u</th>\n",
       "      <th>name</th>\n",
       "      <th>Vn</th>\n",
       "      <th>vmax</th>\n",
       "      <th>vmin</th>\n",
       "      <th>v0</th>\n",
       "      <th>a0</th>\n",
       "      <th>xcoord</th>\n",
       "      <th>ycoord</th>\n",
       "      <th>area</th>\n",
       "      <th>zone</th>\n",
       "      <th>owner</th>\n",
       "    </tr>\n",
       "    <tr>\n",
       "      <th>uid</th>\n",
       "      <th></th>\n",
       "      <th></th>\n",
       "      <th></th>\n",
       "      <th></th>\n",
       "      <th></th>\n",
       "      <th></th>\n",
       "      <th></th>\n",
       "      <th></th>\n",
       "      <th></th>\n",
       "      <th></th>\n",
       "      <th></th>\n",
       "      <th></th>\n",
       "      <th></th>\n",
       "    </tr>\n",
       "  </thead>\n",
       "  <tbody>\n",
       "    <tr>\n",
       "      <th>11</th>\n",
       "      <td>12</td>\n",
       "      <td>1.0</td>\n",
       "      <td>BUS12</td>\n",
       "      <td>138.0</td>\n",
       "      <td>1.1</td>\n",
       "      <td>0.9</td>\n",
       "      <td>0.98639</td>\n",
       "      <td>-0.128934</td>\n",
       "      <td>0</td>\n",
       "      <td>0</td>\n",
       "      <td>2</td>\n",
       "      <td>2</td>\n",
       "      <td>2</td>\n",
       "    </tr>\n",
       "    <tr>\n",
       "      <th>12</th>\n",
       "      <td>13</td>\n",
       "      <td>1.0</td>\n",
       "      <td>BUS13</td>\n",
       "      <td>138.0</td>\n",
       "      <td>1.1</td>\n",
       "      <td>0.9</td>\n",
       "      <td>0.98403</td>\n",
       "      <td>-0.133786</td>\n",
       "      <td>0</td>\n",
       "      <td>0</td>\n",
       "      <td>2</td>\n",
       "      <td>2</td>\n",
       "      <td>2</td>\n",
       "    </tr>\n",
       "    <tr>\n",
       "      <th>13</th>\n",
       "      <td>14</td>\n",
       "      <td>1.0</td>\n",
       "      <td>BUS14</td>\n",
       "      <td>138.0</td>\n",
       "      <td>1.1</td>\n",
       "      <td>0.9</td>\n",
       "      <td>0.99063</td>\n",
       "      <td>-0.166916</td>\n",
       "      <td>0</td>\n",
       "      <td>0</td>\n",
       "      <td>2</td>\n",
       "      <td>2</td>\n",
       "      <td>2</td>\n",
       "    </tr>\n",
       "  </tbody>\n",
       "</table>\n",
       "</div>"
      ],
      "text/plain": [
       "     idx    u   name     Vn  vmax  vmin       v0        a0  xcoord  ycoord  \\\n",
       "uid                                                                          \n",
       "11    12  1.0  BUS12  138.0   1.1   0.9  0.98639 -0.128934       0       0   \n",
       "12    13  1.0  BUS13  138.0   1.1   0.9  0.98403 -0.133786       0       0   \n",
       "13    14  1.0  BUS14  138.0   1.1   0.9  0.99063 -0.166916       0       0   \n",
       "\n",
       "     area  zone  owner  \n",
       "uid                     \n",
       "11      2     2      2  \n",
       "12      2     2      2  \n",
       "13      2     2      2  "
      ]
     },
     "execution_count": 25,
     "metadata": {},
     "output_type": "execute_result"
    }
   ],
   "source": [
    "ss0.Bus.as_df().iloc[-3:]"
   ]
  },
  {
   "cell_type": "code",
   "execution_count": 26,
   "metadata": {},
   "outputs": [
    {
     "data": {
      "text/html": [
       "<div>\n",
       "<style scoped>\n",
       "    .dataframe tbody tr th:only-of-type {\n",
       "        vertical-align: middle;\n",
       "    }\n",
       "\n",
       "    .dataframe tbody tr th {\n",
       "        vertical-align: top;\n",
       "    }\n",
       "\n",
       "    .dataframe thead th {\n",
       "        text-align: right;\n",
       "    }\n",
       "</style>\n",
       "<table border=\"1\" class=\"dataframe\">\n",
       "  <thead>\n",
       "    <tr style=\"text-align: right;\">\n",
       "      <th></th>\n",
       "      <th>idx</th>\n",
       "      <th>u</th>\n",
       "      <th>name</th>\n",
       "      <th>Vn</th>\n",
       "      <th>vmax</th>\n",
       "      <th>vmin</th>\n",
       "      <th>v0</th>\n",
       "      <th>a0</th>\n",
       "      <th>xcoord</th>\n",
       "      <th>ycoord</th>\n",
       "      <th>area</th>\n",
       "      <th>zone</th>\n",
       "      <th>owner</th>\n",
       "    </tr>\n",
       "    <tr>\n",
       "      <th>uid</th>\n",
       "      <th></th>\n",
       "      <th></th>\n",
       "      <th></th>\n",
       "      <th></th>\n",
       "      <th></th>\n",
       "      <th></th>\n",
       "      <th></th>\n",
       "      <th></th>\n",
       "      <th></th>\n",
       "      <th></th>\n",
       "      <th></th>\n",
       "      <th></th>\n",
       "      <th></th>\n",
       "    </tr>\n",
       "  </thead>\n",
       "  <tbody>\n",
       "    <tr>\n",
       "      <th>12</th>\n",
       "      <td>13</td>\n",
       "      <td>1.0</td>\n",
       "      <td>BUS13</td>\n",
       "      <td>138.0</td>\n",
       "      <td>1.1</td>\n",
       "      <td>0.9</td>\n",
       "      <td>0.98403</td>\n",
       "      <td>-0.133786</td>\n",
       "      <td>0</td>\n",
       "      <td>0</td>\n",
       "      <td>2.0</td>\n",
       "      <td>2.0</td>\n",
       "      <td>2.0</td>\n",
       "    </tr>\n",
       "    <tr>\n",
       "      <th>13</th>\n",
       "      <td>14</td>\n",
       "      <td>1.0</td>\n",
       "      <td>BUS14</td>\n",
       "      <td>138.0</td>\n",
       "      <td>1.1</td>\n",
       "      <td>0.9</td>\n",
       "      <td>0.99063</td>\n",
       "      <td>-0.166916</td>\n",
       "      <td>0</td>\n",
       "      <td>0</td>\n",
       "      <td>2.0</td>\n",
       "      <td>2.0</td>\n",
       "      <td>2.0</td>\n",
       "    </tr>\n",
       "    <tr>\n",
       "      <th>14</th>\n",
       "      <td>15</td>\n",
       "      <td>1.0</td>\n",
       "      <td>BUS15</td>\n",
       "      <td>138.0</td>\n",
       "      <td>1.1</td>\n",
       "      <td>0.9</td>\n",
       "      <td>1.00000</td>\n",
       "      <td>0.000000</td>\n",
       "      <td>0</td>\n",
       "      <td>0</td>\n",
       "      <td>NaN</td>\n",
       "      <td>NaN</td>\n",
       "      <td>NaN</td>\n",
       "    </tr>\n",
       "  </tbody>\n",
       "</table>\n",
       "</div>"
      ],
      "text/plain": [
       "     idx    u   name     Vn  vmax  vmin       v0        a0  xcoord  ycoord  \\\n",
       "uid                                                                          \n",
       "12    13  1.0  BUS13  138.0   1.1   0.9  0.98403 -0.133786       0       0   \n",
       "13    14  1.0  BUS14  138.0   1.1   0.9  0.99063 -0.166916       0       0   \n",
       "14    15  1.0  BUS15  138.0   1.1   0.9  1.00000  0.000000       0       0   \n",
       "\n",
       "     area  zone  owner  \n",
       "uid                     \n",
       "12    2.0   2.0    2.0  \n",
       "13    2.0   2.0    2.0  \n",
       "14    NaN   NaN    NaN  "
      ]
     },
     "execution_count": 26,
     "metadata": {},
     "output_type": "execute_result"
    }
   ],
   "source": [
    "sc3.Bus.as_df().iloc[-3:]"
   ]
  },
  {
   "cell_type": "markdown",
   "metadata": {},
   "source": [
    "Compared to the original Case0, Case3 inserts a new device ``BUS15`` with ``v0`` and ``a0`` being set as default values.\n",
    "\n",
    "This might be the reason why the power flow failed.\n",
    "\n",
    "We can try to adjust those values to fix the power flow.\n"
   ]
  },
  {
   "cell_type": "code",
   "execution_count": 27,
   "metadata": {},
   "outputs": [],
   "source": [
    "sc3.Bus.set(idx=15, src='v0', attr='v', value=0.99)\n",
    "sc3.Bus.set(idx=15, src='a0', attr='v', value=-0.1)\n"
   ]
  },
  {
   "cell_type": "code",
   "execution_count": 28,
   "metadata": {},
   "outputs": [
    {
     "name": "stderr",
     "output_type": "stream",
     "text": [
      "-> System connectivity check results:\n",
      "  No islanded bus detected.\n",
      "  System is interconnected.\n",
      "  Each island has a slack bus correctly defined and enabled.\n",
      "\n",
      "-> Power flow calculation\n",
      "           Numba: Off\n",
      "   Sparse solver: KLU\n",
      " Solution method: NR method\n",
      "Power flow initialized in 0.0026 seconds.\n",
      "0: |F(x)| = 6.171679059\n",
      "1: |F(x)| = 0.8778049877\n",
      "2: |F(x)| = 0.05516065719\n",
      "3: |F(x)| = 0.0001907369157\n",
      "4: |F(x)| = 2.026433826e-09\n",
      "Converged in 5 iterations in 0.0037 seconds.\n"
     ]
    },
    {
     "data": {
      "text/plain": [
       "True"
      ]
     },
     "execution_count": 28,
     "metadata": {},
     "output_type": "execute_result"
    }
   ],
   "source": [
    "sc3.PFlow.run()"
   ]
  },
  {
   "cell_type": "code",
   "execution_count": 29,
   "metadata": {},
   "outputs": [
    {
     "name": "stderr",
     "output_type": "stream",
     "text": [
      "Initialization for dynamics completed in 0.0204 seconds.\n",
      "Initialization was successful.\n"
     ]
    }
   ],
   "source": [
    "sc3i = sc3.TDS.init()"
   ]
  },
  {
   "cell_type": "markdown",
   "metadata": {},
   "source": [
    "Now the power flow can be solved and the TDS can be initialized successfully."
   ]
  }
 ],
 "metadata": {
  "kernelspec": {
   "display_name": "ams",
   "language": "python",
   "name": "python3"
  },
  "language_info": {
   "codemirror_mode": {
    "name": "ipython",
    "version": 3
   },
   "file_extension": ".py",
   "mimetype": "text/x-python",
   "name": "python",
   "nbconvert_exporter": "python",
   "pygments_lexer": "ipython3",
   "version": "3.10.0"
  },
  "orig_nbformat": 4
 },
 "nbformat": 4,
 "nbformat_minor": 2
}
