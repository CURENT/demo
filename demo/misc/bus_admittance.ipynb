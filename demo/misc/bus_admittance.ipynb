{
 "cells": [
  {
   "cell_type": "markdown",
   "metadata": {},
   "source": [
    "# Bus Admittance Matrix"
   ]
  },
  {
   "cell_type": "code",
   "execution_count": 1,
   "metadata": {},
   "outputs": [],
   "source": [
    "import numpy as np\n",
    "\n",
    "import andes\n",
    "\n",
    "from andes.thirdparty.npfunc import safe_div\n",
    "\n",
    "from andes.linsolvers.scipy import spmatrix_to_csc\n",
    "\n",
    "import scipy.sparse as sps"
   ]
  },
  {
   "cell_type": "code",
   "execution_count": 2,
   "metadata": {},
   "outputs": [
    {
     "name": "stdout",
     "output_type": "stream",
     "text": [
      "Generating code for 1 models on 12 processes.\n"
     ]
    }
   ],
   "source": [
    "ss = andes.load(andes.get_case('kundur/kundur.raw'),\n",
    "                setup=True, no_output=True, default_config=True)"
   ]
  },
  {
   "cell_type": "markdown",
   "metadata": {},
   "source": [
    "ANDES allows bus admittance matrix calculation."
   ]
  },
  {
   "cell_type": "code",
   "execution_count": 3,
   "metadata": {},
   "outputs": [
    {
     "data": {
      "text/plain": [
       "(10, 10)"
      ]
     },
     "execution_count": 3,
     "metadata": {},
     "output_type": "execute_result"
    }
   ],
   "source": [
    "Y = spmatrix_to_csc(ss.Line.build_y()).todense()\n",
    "Y.shape"
   ]
  },
  {
   "cell_type": "code",
   "execution_count": 4,
   "metadata": {},
   "outputs": [
    {
     "data": {
      "text/plain": [
       "True"
      ]
     },
     "execution_count": 4,
     "metadata": {},
     "output_type": "execute_result"
    }
   ],
   "source": [
    "ss.PFlow.run()"
   ]
  },
  {
   "cell_type": "code",
   "execution_count": 5,
   "metadata": {},
   "outputs": [
    {
     "data": {
      "text/plain": [
       "array([-4.37853526+29.07211691j, -9.12192109+28.j        ,\n",
       "       -9.29537908+28.j        , -4.24364233+28.j        ,\n",
       "        0.         +0.j        ,  0.         +0.j        ,\n",
       "        0.         +0.j        ,  0.         +0.j        ,\n",
       "        0.         +0.j        ,  0.         +0.j        ])"
      ]
     },
     "execution_count": 5,
     "metadata": {},
     "output_type": "execute_result"
    }
   ],
   "source": [
    "stg = ss.StaticGen.find_idx(\n",
    "    keys='bus', values=ss.Bus.idx.v, allow_all=True, default=None, allow_none=True)\n",
    "p_gen = ss.StaticGen.get(src='a', attr='e', idx=stg,\n",
    "                         allow_none=True, default=0)\n",
    "q_gen = ss.StaticGen.get(src='v', attr='e', idx=stg,\n",
    "                         allow_none=True, default=0)\n",
    "\n",
    "r_gen = ss.StaticGen.get(\n",
    "    src='ra', attr='v', idx=stg, allow_none=True, default=0)\n",
    "x_gen = ss.StaticGen.get(\n",
    "    src='xs', attr='v', idx=stg, allow_none=True, default=0)\n",
    "\n",
    "I_gen = safe_div(p_gen + 1j * q_gen, r_gen + 1j * x_gen)\n",
    "I_gen"
   ]
  },
  {
   "cell_type": "code",
   "execution_count": 6,
   "metadata": {},
   "outputs": [
    {
     "data": {
      "text/plain": [
       "array([ 0.25279928-1.36315255j,  0.34819046-2.54640974j,\n",
       "        0.34377786-2.59071275j,  0.24065267-1.33158988j,\n",
       "       -0.06488381+0.8113498j , -0.15261117+1.85117031j,\n",
       "       -0.34003937+1.22118412j, -0.4354037 +1.44239613j,\n",
       "       -0.13695573+1.76345288j, -0.05552648+0.74231166j])"
      ]
     },
     "execution_count": 6,
     "metadata": {},
     "output_type": "execute_result"
    }
   ],
   "source": [
    "V1 = ss.Bus.get(src='v', attr='v', idx=ss.Line.bus1.v) * np.exp(1j *\n",
    "                                                                ss.Bus.get(src='a', attr='v', idx=ss.Line.bus1.v) * np.pi / 180)\n",
    "V2 = ss.Bus.get(src='v', attr='v', idx=ss.Line.bus2.v) * np.exp(1j *\n",
    "                                                                ss.Bus.get(src='a', attr='v', idx=ss.Line.bus2.v) * np.pi / 180)\n",
    "r = ss.Line.r.v\n",
    "x = ss.Line.x.v\n",
    "# Calculate the current flowing through the line\n",
    "I_line_through = safe_div(V1 - V2, r + 1j * x)\n",
    "\n",
    "# --- Cft ---\n",
    "nb = ss.Bus.n\n",
    "nl = ss.Line.n\n",
    "\n",
    "# line indices: idx -> uid\n",
    "idx_line = ss.Line.idx.v\n",
    "u_line = ss.Line.get(src='u', attr='v', idx=idx_line)\n",
    "on_line = np.flatnonzero(u_line)\n",
    "on_line_idx = [idx_line[i] for i in on_line]\n",
    "on_line_bus1 = ss.Line.get(src='bus1', attr='v', idx=on_line_idx)\n",
    "on_line_bus2 = ss.Line.get(src='bus2', attr='v', idx=on_line_idx)\n",
    "\n",
    "data_line = np.ones(2*len(on_line_idx))\n",
    "data_line[len(on_line_idx):] = -1\n",
    "row_line = np.array([ss.Bus.idx2uid(x) for x in on_line_bus1 + on_line_bus2])\n",
    "col_line = np.array([ss.Line.idx2uid(x) for x in on_line_idx + on_line_idx])\n",
    "Cft = sps.csr_matrix((data_line, (row_line, col_line)), (nb, nl)).toarray()\n",
    "\n",
    "I_line = Cft @ I_line_through\n",
    "I_line"
   ]
  },
  {
   "cell_type": "code",
   "execution_count": 7,
   "metadata": {},
   "outputs": [],
   "source": [
    "I_bus = I_line + I_gen"
   ]
  },
  {
   "cell_type": "code",
   "execution_count": 8,
   "metadata": {},
   "outputs": [
    {
     "data": {
      "text/plain": [
       "array([-4.12573598+27.70896436j, -8.77373063+25.45359026j,\n",
       "       -8.95160122+25.40928725j, -4.00298966+26.66841012j,\n",
       "       -0.06488381 +0.8113498j , -0.15261117 +1.85117031j,\n",
       "       -0.34003937 +1.22118412j, -0.4354037  +1.44239613j,\n",
       "       -0.13695573 +1.76345288j, -0.05552648 +0.74231166j])"
      ]
     },
     "execution_count": 8,
     "metadata": {},
     "output_type": "execute_result"
    }
   ],
   "source": [
    "I_bus"
   ]
  }
 ],
 "metadata": {
  "kernelspec": {
   "display_name": "ams",
   "language": "python",
   "name": "python3"
  },
  "language_info": {
   "codemirror_mode": {
    "name": "ipython",
    "version": 3
   },
   "file_extension": ".py",
   "mimetype": "text/x-python",
   "name": "python",
   "nbconvert_exporter": "python",
   "pygments_lexer": "ipython3",
   "version": "3.12.0"
  }
 },
 "nbformat": 4,
 "nbformat_minor": 2
}
