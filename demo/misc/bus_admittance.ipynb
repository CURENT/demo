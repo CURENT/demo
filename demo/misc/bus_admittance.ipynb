{
 "cells": [
  {
   "cell_type": "markdown",
   "metadata": {},
   "source": [
    "# Bus Admittance Matrix"
   ]
  },
  {
   "cell_type": "code",
   "execution_count": 1,
   "metadata": {},
   "outputs": [],
   "source": [
    "import andes\n",
    "\n",
    "from andes.linsolvers.scipy import spmatrix_to_csc"
   ]
  },
  {
   "cell_type": "code",
   "execution_count": 2,
   "metadata": {},
   "outputs": [
    {
     "name": "stdout",
     "output_type": "stream",
     "text": [
      "Generating code for 1 models on 12 processes.\n"
     ]
    }
   ],
   "source": [
    "ss = andes.load(andes.get_case('kundur/kundur.raw'),\n",
    "                setup=True, no_output=True, default_config=True)"
   ]
  },
  {
   "cell_type": "markdown",
   "metadata": {},
   "source": [
    "ANDES allows bus admittance matrix calculation."
   ]
  },
  {
   "cell_type": "code",
   "execution_count": 3,
   "metadata": {},
   "outputs": [
    {
     "data": {
      "text/plain": [
       "matrix([[ 6.89655172 -82.75862069j,  0.          +0.j        ,\n",
       "          0.          +0.j        ,  0.          +0.j        ,\n",
       "         -6.89655172 +82.75862069j,  0.          +0.j        ,\n",
       "          0.          +0.j        ,  0.          +0.j        ,\n",
       "          0.          +0.j        ,  0.          +0.j        ],\n",
       "        [ 0.          +0.j        ,  6.89655172 -82.75862069j,\n",
       "          0.          +0.j        ,  0.          +0.j        ,\n",
       "          0.          +0.j        , -6.89655172 +82.75862069j,\n",
       "          0.          +0.j        ,  0.          +0.j        ,\n",
       "          0.          +0.j        ,  0.          +0.j        ],\n",
       "        [ 0.          +0.j        ,  0.          +0.j        ,\n",
       "          6.89655172 -82.75862069j,  0.          +0.j        ,\n",
       "          0.          +0.j        ,  0.          +0.j        ,\n",
       "          0.          +0.j        ,  0.          +0.j        ,\n",
       "         -6.89655172 +82.75862069j,  0.          +0.j        ],\n",
       "        [ 0.          +0.j        ,  0.          +0.j        ,\n",
       "          0.          +0.j        ,  6.89655172 -82.75862069j,\n",
       "          0.          +0.j        ,  0.          +0.j        ,\n",
       "          0.          +0.j        ,  0.          +0.j        ,\n",
       "          0.          +0.j        , -6.89655172 +82.75862069j],\n",
       "        [-6.89655172 +82.75862069j,  0.          +0.j        ,\n",
       "          0.          +0.j        ,  0.          +0.j        ,\n",
       "         10.86004399-122.28291534j, -3.96349227 +39.59929465j,\n",
       "          0.          +0.j        ,  0.          +0.j        ,\n",
       "          0.          +0.j        ,  0.          +0.j        ],\n",
       "        [ 0.          +0.j        , -6.89655172 +82.75862069j,\n",
       "          0.          +0.j        ,  0.          +0.j        ,\n",
       "         -3.96349227 +39.59929465j, 20.78037142-221.23365979j,\n",
       "         -9.92032743 +98.98074444j,  0.          +0.j        ,\n",
       "          0.          +0.j        ,  0.          +0.j        ],\n",
       "        [ 0.          +0.j        ,  0.          +0.j        ,\n",
       "          0.          +0.j        ,  0.          +0.j        ,\n",
       "          0.          +0.j        , -9.92032743 +98.98074444j,\n",
       "         11.27094237-111.95637154j, -1.35061495 +13.50062709j,\n",
       "          0.          +0.j        ,  0.          +0.j        ],\n",
       "        [ 0.          +0.j        ,  0.          +0.j        ,\n",
       "          0.          +0.j        ,  0.          +0.j        ,\n",
       "          0.          +0.j        ,  0.          +0.j        ,\n",
       "         -1.35061495 +13.50062709j, 11.27094237-111.95637154j,\n",
       "         -9.92032743 +98.98074444j,  0.          +0.j        ],\n",
       "        [ 0.          +0.j        ,  0.          +0.j        ,\n",
       "         -6.89655172 +82.75862069j,  0.          +0.j        ,\n",
       "          0.          +0.j        ,  0.          +0.j        ,\n",
       "          0.          +0.j        , -9.92032743 +98.98074444j,\n",
       "         20.78037142-221.23365979j, -3.96349227 +39.59929465j],\n",
       "        [ 0.          +0.j        ,  0.          +0.j        ,\n",
       "          0.          +0.j        , -6.89655172 +82.75862069j,\n",
       "          0.          +0.j        ,  0.          +0.j        ,\n",
       "          0.          +0.j        ,  0.          +0.j        ,\n",
       "         -3.96349227 +39.59929465j, 10.86004399-122.28291534j]])"
      ]
     },
     "execution_count": 3,
     "metadata": {},
     "output_type": "execute_result"
    }
   ],
   "source": [
    "Y = spmatrix_to_csc(ss.Line.build_y()).todense()\n",
    "Y"
   ]
  }
 ],
 "metadata": {
  "kernelspec": {
   "display_name": "ams",
   "language": "python",
   "name": "python3"
  },
  "language_info": {
   "codemirror_mode": {
    "name": "ipython",
    "version": 3
   },
   "file_extension": ".py",
   "mimetype": "text/x-python",
   "name": "python",
   "nbconvert_exporter": "python",
   "pygments_lexer": "ipython3",
   "version": "3.12.0"
  }
 },
 "nbformat": 4,
 "nbformat_minor": 2
}
