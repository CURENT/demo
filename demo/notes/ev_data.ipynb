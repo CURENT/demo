{
 "cells": [
  {
   "attachments": {},
   "cell_type": "markdown",
   "metadata": {},
   "source": [
    "# Demo - EV SFR Provision\n",
    "\n",
    "ANDES case: ``ieee39_evsfr.xlsx``\n",
    "\n",
    "Source data: ``ieee39_ev_s.csv``, ``ieee39_ev_f.csv``, ``ieee39_ev_fict.csv``\n",
    "\n",
    "Output data: Source data are cut to the first two minutes as ``ieee39_ev_s_out_short.csv``, ``ieee39_ev_f_out_short.csv``, ``ieee39_ev_fict_out_short.csv``.\n",
    "\n",
    "Then the emulated measured bus data ``BusFreq`` output are added in the file ``ieee39_ev_s_out_short_emu.csv``, ``ieee39_ev_f_out_short_emu.csv``, ``ieee39_ev_fict_out_short_emu.csv``.\n",
    "\n",
    "Three scenarios are considered in this demo:\n",
    "1. ``ieee39_ev_s_out.csv``: EVs SFR is not provisioned.\n",
    "2. ``ieee39_ev_f_out.csv``: EVs SFR is provisioned with no charging time constraints.\n",
    "3. ``ieee39_ev_fict_out.csv``: EVs SFR is provisioned with charging time constraints.\n",
    "\n",
    "ANDES case file ``ieee39_evsfr.xlsx`` and output file ``ieee39_ev_fict_out_short_emu.csv`` can be used in AGVis to visualize the results."
   ]
  },
  {
   "cell_type": "code",
   "execution_count": 1,
   "metadata": {},
   "outputs": [],
   "source": [
    "import numpy as np\n",
    "import pandas as pd\n",
    "import scipy.signal as sig\n",
    "\n",
    "import matplotlib.pyplot as plt\n",
    "plt.rcParams.update(plt.rcParamsDefault)\n",
    "\n",
    "import os\n",
    "\n",
    "import andes"
   ]
  },
  {
   "cell_type": "code",
   "execution_count": 2,
   "metadata": {},
   "outputs": [
    {
     "data": {
      "text/plain": [
       "'1.8.7.post3+g4f0a0b9a'"
      ]
     },
     "execution_count": 2,
     "metadata": {},
     "output_type": "execute_result"
    }
   ],
   "source": [
    "andes.__version__"
   ]
  },
  {
   "cell_type": "code",
   "execution_count": 3,
   "metadata": {},
   "outputs": [],
   "source": [
    "cwd = os.getcwd()"
   ]
  },
  {
   "cell_type": "code",
   "execution_count": 4,
   "metadata": {},
   "outputs": [],
   "source": [
    "# Construct the file paths relative to the current working directory ev_s_path\n",
    "ev_s_path = os.path.join(cwd, '../data/source/ieee39_ev_s_out.csv')\n",
    "ev_f_path = os.path.join(cwd, '../data/source/ieee39_ev_f_out.csv')\n",
    "ev_fict_path = os.path.join(cwd, '../data/source/ieee39_ev_fict_out.csv')\n",
    "\n",
    "# Read the CSV files into pandas dataframes\n",
    "dfs_read = pd.read_csv(ev_s_path)\n",
    "dff_read = pd.read_csv(ev_f_path)\n",
    "dfict_read = pd.read_csv(ev_fict_path)"
   ]
  },
  {
   "cell_type": "code",
   "execution_count": 5,
   "metadata": {},
   "outputs": [],
   "source": [
    "evout_path = os.path.join(cwd, '../data/output/ieee39_evsfr_out.csv')\n",
    "evout = pd.read_csv(evout_path)"
   ]
  },
  {
   "cell_type": "code",
   "execution_count": 6,
   "metadata": {},
   "outputs": [],
   "source": [
    "ss = andes.load(os.path.join(cwd, '../data/case/ieee39_evsfr.xlsx'))"
   ]
  },
  {
   "cell_type": "code",
   "execution_count": 7,
   "metadata": {},
   "outputs": [],
   "source": [
    "dff = dff_read[dff_read['Time [s]'] <=120]\n",
    "dfs = dfs_read[dfs_read['Time [s]'] <= 120]\n",
    "dfict = dfict_read[dfict_read['Time [s]'] <= 120]"
   ]
  },
  {
   "cell_type": "code",
   "execution_count": 8,
   "metadata": {},
   "outputs": [],
   "source": [
    "dfs.to_csv(os.path.join(cwd, '../data/output/ieee39_ev_s_out_short.csv'), index=False)\n",
    "dff.to_csv(os.path.join(cwd, '../data/output/ieee39_ev_f_out_short.csv'), index=False)\n",
    "dfict.to_csv(os.path.join(cwd, '../data/output/ieee39_ev_fict_out_short.csv'), index=False)"
   ]
  },
  {
   "cell_type": "code",
   "execution_count": 9,
   "metadata": {},
   "outputs": [],
   "source": [
    "dfict_emu = pd.DataFrame(data=np.zeros((dfict.shape[0], evout.shape[1])), columns=evout.columns.tolist())\n",
    "dfict_emu['Time [s]'] = dfict['Time [s]']\n",
    "\n",
    "t = dfict_emu['Time [s]'].values"
   ]
  },
  {
   "cell_type": "code",
   "execution_count": 10,
   "metadata": {},
   "outputs": [],
   "source": [
    "aBus_cols = dff.filter(like='a Bus').columns.tolist()\n",
    "f_cols = [f'f BusFreq {n+1}' for n in range(ss.Bus.n)]"
   ]
  },
  {
   "cell_type": "code",
   "execution_count": 11,
   "metadata": {},
   "outputs": [
    {
     "name": "stderr",
     "output_type": "stream",
     "text": [
      "/Users/jinningwang/Documents/work/mambaforge/envs/demo/lib/python3.9/site-packages/scipy/signal/_filter_design.py:1746: BadCoefficients: Badly conditioned filter coefficients (numerator): the results may be meaningless\n",
      "  warnings.warn(\"Badly conditioned filter coefficients (numerator): the \"\n"
     ]
    }
   ],
   "source": [
    "# Create the transfer function object\n",
    "Lag = sig.lti([0, 1], [0.2, 1])\n",
    "Washout = sig.lti([1 / 2 / np.pi / ss.config.freq, 0], [0.02, 1])\n",
    "\n",
    "for n in range(1, 40):\n",
    "    a = dff[f'a Bus {n}'].values\n",
    "    # Simulate the response to the input signal\n",
    "    t, y, _ = sig.lsim2(Lag, a, t)\n",
    "    t, freq, _ = sig.lsim2(Washout, y, t)\n",
    "    dfict_emu[f'f BusFreq {n}'] = freq + 1\n",
    "    dfict_emu[f'WO_y BusFreq {n}'] = freq"
   ]
  },
  {
   "cell_type": "code",
   "execution_count": 12,
   "metadata": {},
   "outputs": [],
   "source": [
    "dfict_emu_path = os.path.join(cwd, '../data/output/ieee39_ev_fict_out_short_emu.csv')\n",
    "dfict_emu.to_csv(dfict_emu_path, index=False)"
   ]
  }
 ],
 "metadata": {
  "kernelspec": {
   "display_name": "demo",
   "language": "python",
   "name": "python3"
  },
  "language_info": {
   "codemirror_mode": {
    "name": "ipython",
    "version": 3
   },
   "file_extension": ".py",
   "mimetype": "text/x-python",
   "name": "python",
   "nbconvert_exporter": "python",
   "pygments_lexer": "ipython3",
   "version": "3.9.16"
  },
  "orig_nbformat": 4
 },
 "nbformat": 4,
 "nbformat_minor": 2
}
