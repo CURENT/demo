{
 "cells": [
  {
   "cell_type": "markdown",
   "metadata": {},
   "source": [
    "# Oscillation\n",
    "\n",
    "<!-- This notebook will show how to do a transient simulation with given scheduling results. -->"
   ]
  },
  {
   "cell_type": "code",
   "execution_count": 1,
   "metadata": {},
   "outputs": [],
   "source": [
    "import andes"
   ]
  },
  {
   "cell_type": "code",
   "execution_count": 2,
   "metadata": {},
   "outputs": [
    {
     "data": {
      "text/plain": [
       "'1.9.3'"
      ]
     },
     "execution_count": 2,
     "metadata": {},
     "output_type": "execute_result"
    }
   ],
   "source": [
    "andes.__version__"
   ]
  },
  {
   "cell_type": "code",
   "execution_count": 3,
   "metadata": {},
   "outputs": [],
   "source": [
    "%matplotlib inline"
   ]
  },
  {
   "cell_type": "code",
   "execution_count": 4,
   "metadata": {},
   "outputs": [],
   "source": [
    "andes.config_logger(stream_level=20)"
   ]
  },
  {
   "cell_type": "markdown",
   "metadata": {},
   "source": [
    "## Transient Simulation with ANDES"
   ]
  },
  {
   "cell_type": "code",
   "execution_count": 5,
   "metadata": {},
   "outputs": [
    {
     "name": "stderr",
     "output_type": "stream",
     "text": [
      "Working directory: \"/Users/jinningwang/work/demo/demo/oscillation\"\n",
      "> Loaded generated Python code in \"/Users/jinningwang/.andes/pycode\".\n",
      "Generated code for <PQ> is stale.\n",
      "Numerical code generation (rapid incremental mode) started...\n"
     ]
    },
    {
     "name": "stdout",
     "output_type": "stream",
     "text": [
      "Generating code for 1 models on 12 processes.\n"
     ]
    },
    {
     "name": "stderr",
     "output_type": "stream",
     "text": [
      "Saved generated pycode to \"/Users/jinningwang/.andes/pycode\"\n",
      "> Reloaded generated Python code of module \"pycode\".\n",
      "Generated numerical code for 1 models in 0.1048 seconds.\n",
      "Parsing input file \"/Users/jinningwang/work/miniconda3/envs/amsre/lib/python3.12/site-packages/andes/cases/kundur/kundur_full.xlsx\"...\n",
      "Input file parsed in 0.2373 seconds.\n",
      "System internal structure set up in 0.0156 seconds.\n"
     ]
    }
   ],
   "source": [
    "ss = andes.load(andes.get_case('kundur/kundur_full.xlsx'),\n",
    "                setup=True,\n",
    "                no_output=True,\n",
    "                default_config=True)"
   ]
  },
  {
   "cell_type": "code",
   "execution_count": 6,
   "metadata": {},
   "outputs": [
    {
     "data": {
      "text/html": [
       "<div>\n",
       "<style scoped>\n",
       "    .dataframe tbody tr th:only-of-type {\n",
       "        vertical-align: middle;\n",
       "    }\n",
       "\n",
       "    .dataframe tbody tr th {\n",
       "        vertical-align: top;\n",
       "    }\n",
       "\n",
       "    .dataframe thead th {\n",
       "        text-align: right;\n",
       "    }\n",
       "</style>\n",
       "<table border=\"1\" class=\"dataframe\">\n",
       "  <thead>\n",
       "    <tr style=\"text-align: right;\">\n",
       "      <th></th>\n",
       "      <th>idx</th>\n",
       "      <th>u</th>\n",
       "      <th>name</th>\n",
       "      <th>model</th>\n",
       "      <th>dev</th>\n",
       "      <th>t</th>\n",
       "    </tr>\n",
       "    <tr>\n",
       "      <th>uid</th>\n",
       "      <th></th>\n",
       "      <th></th>\n",
       "      <th></th>\n",
       "      <th></th>\n",
       "      <th></th>\n",
       "      <th></th>\n",
       "    </tr>\n",
       "  </thead>\n",
       "  <tbody>\n",
       "    <tr>\n",
       "      <th>0</th>\n",
       "      <td>1</td>\n",
       "      <td>1.0</td>\n",
       "      <td>Toggler_1</td>\n",
       "      <td>Line</td>\n",
       "      <td>Line_8</td>\n",
       "      <td>2.0</td>\n",
       "    </tr>\n",
       "  </tbody>\n",
       "</table>\n",
       "</div>"
      ],
      "text/plain": [
       "     idx    u       name model     dev    t\n",
       "uid                                        \n",
       "0      1  1.0  Toggler_1  Line  Line_8  2.0"
      ]
     },
     "execution_count": 6,
     "metadata": {},
     "output_type": "execute_result"
    }
   ],
   "source": [
    "ss.Toggle.as_df()"
   ]
  },
  {
   "cell_type": "code",
   "execution_count": 7,
   "metadata": {},
   "outputs": [
    {
     "name": "stderr",
     "output_type": "stream",
     "text": [
      "-> System connectivity check results:\n",
      "  No islanded bus detected.\n",
      "  System is interconnected.\n",
      "  Each island has a slack bus correctly defined and enabled.\n",
      "\n",
      "-> Power flow calculation\n",
      "           Numba: Off\n",
      "   Sparse solver: KLU\n",
      " Solution method: NR method\n",
      "Power flow initialized in 0.0023 seconds.\n",
      "0: |F(x)| = 14.9282832\n",
      "1: |F(x)| = 3.608627841\n",
      "2: |F(x)| = 0.1701107882\n",
      "3: |F(x)| = 0.002038626956\n",
      "4: |F(x)| = 3.745103979e-07\n",
      "Converged in 5 iterations in 0.0033 seconds.\n"
     ]
    },
    {
     "data": {
      "text/plain": [
       "True"
      ]
     },
     "execution_count": 7,
     "metadata": {},
     "output_type": "execute_result"
    }
   ],
   "source": [
    "ss.TDS.config.tf = 50\n",
    "\n",
    "ss.PFlow.run()"
   ]
  },
  {
   "cell_type": "code",
   "execution_count": 8,
   "metadata": {},
   "outputs": [
    {
     "name": "stderr",
     "output_type": "stream",
     "text": [
      "Initialization for dynamics completed in 0.0260 seconds.\n",
      "Initialization was successful.\n"
     ]
    }
   ],
   "source": [
    "_ = ss.TDS.init()"
   ]
  },
  {
   "cell_type": "code",
   "execution_count": 9,
   "metadata": {},
   "outputs": [
    {
     "name": "stderr",
     "output_type": "stream",
     "text": [
      "\n",
      "-> Time Domain Simulation Summary:\n",
      "Sparse Solver: KLU\n",
      "Simulation time: 0.0-50 s.\n",
      "Fixed step size: h=33.33 ms. Shrink if not converged.\n"
     ]
    },
    {
     "data": {
      "application/vnd.jupyter.widget-view+json": {
       "model_id": "46c0b6be3a0d40a688ba0a8cf1d00f58",
       "version_major": 2,
       "version_minor": 0
      },
      "text/plain": [
       "  0%|          | 0/100 [00:00<?, ?%/s]"
      ]
     },
     "metadata": {},
     "output_type": "display_data"
    },
    {
     "name": "stdout",
     "output_type": "stream",
     "text": [
      "<Toggle 1>: Line.Line_8 status changed to 0 at t=2.0 sec.\n"
     ]
    },
    {
     "name": "stderr",
     "output_type": "stream",
     "text": [
      "Simulation to t=50.00 sec completed in 1.0448 seconds.\n"
     ]
    },
    {
     "data": {
      "text/plain": [
       "True"
      ]
     },
     "execution_count": 9,
     "metadata": {},
     "output_type": "execute_result"
    }
   ],
   "source": [
    "ss.TDS.run()"
   ]
  },
  {
   "cell_type": "code",
   "execution_count": 10,
   "metadata": {},
   "outputs": [
    {
     "data": {
      "image/png": "[encoded data removed]",
      "text/plain": [
       "<Figure size 640x480 with 1 Axes>"
      ]
     },
     "metadata": {},
     "output_type": "display_data"
    },
    {
     "data": {
      "text/plain": [
       "(<Figure size 640x480 with 1 Axes>, <Axes: xlabel='Time [s]'>)"
      ]
     },
     "execution_count": 10,
     "metadata": {},
     "output_type": "execute_result"
    }
   ],
   "source": [
    "ss.TDS.plt.plot(ss.GENROU.omega)"
   ]
  },
  {
   "cell_type": "code",
   "execution_count": 13,
   "metadata": {},
   "outputs": [
    {
     "data": {
      "text/plain": [
       "OrderedDict([('Summary', Summary (0 devices) at 0x127a878f0),\n",
       "             ('Output', Output (0 devices) at 0x127a879e0),\n",
       "             ('Toggle', Toggle (1 device) at 0x127c8f740),\n",
       "             ('Fault', Fault (0 devices) at 0x1341cff80),\n",
       "             ('Alter', Alter (0 devices) at 0x127f363f0),\n",
       "             ('TimeSeries', TimeSeries (0 devices) at 0x127867c50),\n",
       "             ('Bus', Bus (10 devices) at 0x1343580e0),\n",
       "             ('PQ', PQ (2 devices) at 0x1271cd280),\n",
       "             ('PV', PV (3 devices) at 0x134459a30),\n",
       "             ('Slack', Slack (1 device) at 0x127a4b860),\n",
       "             ('Shunt', Shunt (0 devices) at 0x13406c7a0),\n",
       "             ('ShuntTD', ShuntTD (0 devices) at 0x127a48890),\n",
       "             ('ShuntSw', ShuntSw (0 devices) at 0x13445b8f0),\n",
       "             ('Fortescue', Fortescue (0 devices) at 0x127894980),\n",
       "             ('Line', Line (15 devices) at 0x127fbad50),\n",
       "             ('Jumper', Jumper (0 devices) at 0x1344b2a20),\n",
       "             ('Area', Area (2 devices) at 0x1344b2e70),\n",
       "             ('ACE', ACE (0 devices) at 0x1344b3680),\n",
       "             ('ACEc', ACEc (0 devices) at 0x12717b9e0),\n",
       "             ('ZIP', ZIP (0 devices) at 0x1344b3e30),\n",
       "             ('FLoad', FLoad (0 devices) at 0x1344dd490),\n",
       "             ('GENCLS', GENCLS (0 devices) at 0x1271ef560),\n",
       "             ('GENROU', GENROU (4 devices) at 0x13451fd10),\n",
       "             ('PLBVFU1', PLBVFU1 (0 devices) at 0x134549460),\n",
       "             ('TG2', TG2 (0 devices) at 0x1344de5a0),\n",
       "             ('TGOV1', TGOV1 (4 devices) at 0x134576330),\n",
       "             ('TGOV1DB', TGOV1DB (0 devices) at 0x134576bd0),\n",
       "             ('TGOV1N', TGOV1N (0 devices) at 0x1345a0200),\n",
       "             ('TGOV1NDB', TGOV1NDB (0 devices) at 0x1345a0da0),\n",
       "             ('IEEEG1', IEEEG1 (0 devices) at 0x1345a23c0),\n",
       "             ('IEESGO', IEESGO (0 devices) at 0x1345c4230),\n",
       "             ('GAST', GAST (0 devices) at 0x1345c5730),\n",
       "             ('HYGOV', HYGOV (0 devices) at 0x1345c67b0),\n",
       "             ('HYGOVDB', HYGOVDB (0 devices) at 0x1345c7b00),\n",
       "             ('HYGOV4', HYGOV4 (0 devices) at 0x1345fd130),\n",
       "             ('IEEEVC', IEEEVC (0 devices) at 0x1345fe960),\n",
       "             ('EXDC2', EXDC2 (4 devices) at 0x1345ff290),\n",
       "             ('IEEEX1', IEEEX1 (0 devices) at 0x13472c980),\n",
       "             ('ESDC1A', ESDC1A (0 devices) at 0x13472e450),\n",
       "             ('ESDC2A', ESDC2A (0 devices) at 0x134748260),\n",
       "             ('EXST1', EXST1 (0 devices) at 0x13451e870),\n",
       "             ('ESST3A', ESST3A (0 devices) at 0x13474b350),\n",
       "             ('SEXS', SEXS (0 devices) at 0x134781790),\n",
       "             ('IEEET1', IEEET1 (0 devices) at 0x1347825a0),\n",
       "             ('EXAC1', EXAC1 (0 devices) at 0x134783ad0),\n",
       "             ('EXAC2', EXAC2 (0 devices) at 0x1347a57f0),\n",
       "             ('EXAC4', EXAC4 (0 devices) at 0x13454bbf0),\n",
       "             ('ESST4B', ESST4B (0 devices) at 0x1347c8e60),\n",
       "             ('AC8B', AC8B (0 devices) at 0x1347caff0),\n",
       "             ('IEEET3', IEEET3 (0 devices) at 0x1347f8ec0),\n",
       "             ('ESAC1A', ESAC1A (0 devices) at 0x1347fa4b0),\n",
       "             ('ESST1A', ESST1A (0 devices) at 0x137ca85f0),\n",
       "             ('ESAC5A', ESAC5A (0 devices) at 0x137cab4d0),\n",
       "             ('IEEEST', IEEEST (0 devices) at 0x127a25430),\n",
       "             ('ST2CUT', ST2CUT (0 devices) at 0x137cf0cb0),\n",
       "             ('Motor3', Motor3 (0 devices) at 0x137cf36b0),\n",
       "             ('Motor5', Motor5 (0 devices) at 0x137d0cd70),\n",
       "             ('BusFreq', BusFreq (0 devices) at 0x1345fec60),\n",
       "             ('BusROCOF', BusROCOF (0 devices) at 0x137d0ee10),\n",
       "             ('PMU', PMU (0 devices) at 0x137d0f710),\n",
       "             ('PLL1', PLL1 (0 devices) at 0x137d0fce0),\n",
       "             ('PLL2', PLL2 (0 devices) at 0x137d586e0),\n",
       "             ('Node', Node (0 devices) at 0x137d58e60),\n",
       "             ('Ground', Ground (0 devices) at 0x137d5a000),\n",
       "             ('R', R (0 devices) at 0x137d5a3c0),\n",
       "             ('L', L (0 devices) at 0x137d5a870),\n",
       "             ('C', C (0 devices) at 0x137d5ad20),\n",
       "             ('RCp', RCp (0 devices) at 0x137d5b1d0),\n",
       "             ('RCs', RCs (0 devices) at 0x137d5b6e0),\n",
       "             ('RLs', RLs (0 devices) at 0x137d5bb90),\n",
       "             ('RLCs', RLCs (0 devices) at 0x137d940b0),\n",
       "             ('RLCp', RLCp (0 devices) at 0x137d94620),\n",
       "             ('VSCShunt', VSCShunt (0 devices) at 0x137d94b60),\n",
       "             ('REGCA1', REGCA1 (0 devices) at 0x137d95f40),\n",
       "             ('REGCP1', REGCP1 (0 devices) at 0x137df54f0),\n",
       "             ('REECA1', REECA1 (0 devices) at 0x137df73e0),\n",
       "             ('REECA1E', REECA1E (0 devices) at 0x137e2bb00),\n",
       "             ('REECA1G', REECA1G (0 devices) at 0x137e64410),\n",
       "             ('REPCA1', REPCA1 (0 devices) at 0x137e8cd40),\n",
       "             ('WTDTA1', WTDTA1 (0 devices) at 0x137ea40e0),\n",
       "             ('WTDS', WTDS (0 devices) at 0x137ea4e30),\n",
       "             ('WTARA1', WTARA1 (0 devices) at 0x137ea56a0),\n",
       "             ('WTPTA1', WTPTA1 (0 devices) at 0x137ea5ac0),\n",
       "             ('WTTQA1', WTTQA1 (0 devices) at 0x137ea6f60),\n",
       "             ('WTARV1', WTARV1 (0 devices) at 0x137edc590),\n",
       "             ('REGCV1', REGCV1 (0 devices) at 0x137edcaa0),\n",
       "             ('REGCV2', REGCV2 (0 devices) at 0x137ede7b0),\n",
       "             ('REGF1', REGF1 (0 devices) at 0x137edfad0),\n",
       "             ('REGF2', REGF2 (0 devices) at 0x137f0ef60),\n",
       "             ('REGF3', REGF3 (0 devices) at 0x137f2e600),\n",
       "             ('PVD1', PVD1 (0 devices) at 0x137f498e0),\n",
       "             ('ESD1', ESD1 (0 devices) at 0x137f6f290),\n",
       "             ('EV1', EV1 (0 devices) at 0x1440161b0),\n",
       "             ('EV2', EV2 (0 devices) at 0x144034f80),\n",
       "             ('DGPRCT1', DGPRCT1 (0 devices) at 0x144037e60),\n",
       "             ('DGPRCTExt', DGPRCTExt (0 devices) at 0x137d95580),\n",
       "             ('COI', COI (0 devices) at 0x14407a870)])"
      ]
     },
     "execution_count": 13,
     "metadata": {},
     "output_type": "execute_result"
    }
   ],
   "source": [
    "ss.models"
   ]
  }
 ],
 "metadata": {
  "kernelspec": {
   "display_name": "amsre",
   "language": "python",
   "name": "python3"
  },
  "language_info": {
   "codemirror_mode": {
    "name": "ipython",
    "version": 3
   },
   "file_extension": ".py",
   "mimetype": "text/x-python",
   "name": "python",
   "nbconvert_exporter": "python",
   "pygments_lexer": "ipython3",
   "version": "3.12.0"
  }
 },
 "nbformat": 4,
 "nbformat_minor": 2
}
