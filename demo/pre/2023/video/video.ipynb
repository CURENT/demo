{
 "cells": [
  {
   "attachments": {},
   "cell_type": "markdown",
   "metadata": {},
   "source": [
    "# Media to video\n",
    "\n",
    "The video makeing is hard coded."
   ]
  },
  {
   "cell_type": "code",
   "execution_count": 1,
   "metadata": {},
   "outputs": [],
   "source": [
    "import os\n",
    "\n",
    "from moviepy.editor import ImageClip, AudioFileClip, CompositeVideoClip, concatenate_videoclips\n"
   ]
  },
  {
   "cell_type": "code",
   "execution_count": 2,
   "metadata": {},
   "outputs": [],
   "source": [
    "cwd = os.getcwd()"
   ]
  },
  {
   "cell_type": "code",
   "execution_count": 3,
   "metadata": {},
   "outputs": [],
   "source": [
    "# Set the file paths for the images and audio\n",
    "img_dir = os.path.join(cwd, '../slides/')\n",
    "audio_dir = os.path.join(cwd, '../audio/')\n",
    "\n",
    "audio_files_read = [f for f in os.listdir(audio_dir) if f.endswith('.mp3')]\n",
    "audio_files = sorted(audio_files_read)\n",
    "\n",
    "img_files_read = [f for f in os.listdir(img_dir) if f.endswith('.png')]\n",
    "img_files = sorted(img_files_read)"
   ]
  },
  {
   "cell_type": "code",
   "execution_count": 4,
   "metadata": {},
   "outputs": [],
   "source": [
    "audios = []\n",
    "images = []\n",
    "\n",
    "for img, audio in zip(img_files, audio_files):\n",
    "    audio_file_path = os.path.join(audio_dir, audio)\n",
    "    audio_clip = AudioFileClip(audio_file_path)\n",
    "    image_file_path = os.path.join(img_dir, img)\n",
    "    image_clip = ImageClip(image_file_path).set_duration(audio_clip.duration)\n",
    "    audios.append(audio_clip)\n",
    "    images.append(image_clip)"
   ]
  },
  {
   "cell_type": "code",
   "execution_count": 5,
   "metadata": {},
   "outputs": [],
   "source": [
    "clips = []\n",
    "for i in range(len(images)):\n",
    "    clips.append(images[i].set_audio(audios[i]))"
   ]
  },
  {
   "cell_type": "code",
   "execution_count": 6,
   "metadata": {},
   "outputs": [],
   "source": [
    "final_clip = concatenate_videoclips(clips)"
   ]
  },
  {
   "cell_type": "code",
   "execution_count": 7,
   "metadata": {},
   "outputs": [],
   "source": [
    "final_clip = final_clip.set_fps(30)\n",
    "final_clip = final_clip.resize((1280, 720))"
   ]
  },
  {
   "cell_type": "code",
   "execution_count": 8,
   "metadata": {},
   "outputs": [
    {
     "name": "stdout",
     "output_type": "stream",
     "text": [
      "Moviepy - Building video ltb_pre_2023.mp4.\n",
      "MoviePy - Writing audio in ltb_pre_2023TEMP_MPY_wvf_snd.mp3\n"
     ]
    },
    {
     "name": "stderr",
     "output_type": "stream",
     "text": [
      "                                                                      \r"
     ]
    },
    {
     "name": "stdout",
     "output_type": "stream",
     "text": [
      "MoviePy - Done.\n",
      "Moviepy - Writing video ltb_pre_2023.mp4\n",
      "\n"
     ]
    },
    {
     "name": "stderr",
     "output_type": "stream",
     "text": [
      "                                                                \r"
     ]
    },
    {
     "name": "stdout",
     "output_type": "stream",
     "text": [
      "Moviepy - Done !\n",
      "Moviepy - video ready ltb_pre_2023.mp4\n"
     ]
    }
   ],
   "source": [
    "final_clip.write_videofile(\"ltb_pre_2023.mp4\")"
   ]
  }
 ],
 "metadata": {
  "kernelspec": {
   "display_name": "demo",
   "language": "python",
   "name": "python3"
  },
  "language_info": {
   "codemirror_mode": {
    "name": "ipython",
    "version": 3
   },
   "file_extension": ".py",
   "mimetype": "text/x-python",
   "name": "python",
   "nbconvert_exporter": "python",
   "pygments_lexer": "ipython3",
   "version": "3.11.3"
  },
  "orig_nbformat": 4,
  "vscode": {
   "interpreter": {
    "hash": "feca3ae780c4e26d03c09f906e6c39811a881665ba0254674d8dabb816cca15b"
   }
  }
 },
 "nbformat": 4,
 "nbformat_minor": 2
}
