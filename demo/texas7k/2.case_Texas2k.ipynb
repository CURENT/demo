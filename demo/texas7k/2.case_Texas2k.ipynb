{
 "cells": [
  {
   "cell_type": "markdown",
   "id": "3c7aac94",
   "metadata": {},
   "source": [
    "# Texas 2k Case"
   ]
  },
  {
   "cell_type": "code",
   "execution_count": 1,
   "id": "e98e666e",
   "metadata": {},
   "outputs": [],
   "source": [
    "import numpy as np\n",
    "import pandas as pd\n",
    "\n",
    "import ams"
   ]
  },
  {
   "cell_type": "code",
   "execution_count": 2,
   "id": "3b8fe4ae",
   "metadata": {},
   "outputs": [
    {
     "name": "stdout",
     "output_type": "stream",
     "text": [
      "Python   3.12.0\n",
      "ams      1.0.12\n",
      "andes    1.9.3\n",
      "numpy    2.3.0\n",
      "cvxpy    1.6.0\n",
      "solvers  CLARABEL, ECOS, ECOS_BB,\n",
      "         GUROBI, HIGHS, MOSEK, OSQP,\n",
      "         PIQP, SCIP, SCIPY, SCS\n"
     ]
    }
   ],
   "source": [
    "!ams misc --version"
   ]
  },
  {
   "cell_type": "code",
   "execution_count": 3,
   "id": "70accea9",
   "metadata": {},
   "outputs": [],
   "source": [
    "%matplotlib inline"
   ]
  },
  {
   "cell_type": "code",
   "execution_count": 4,
   "id": "ee703096",
   "metadata": {},
   "outputs": [],
   "source": [
    "ams.config_logger(stream_level=20)"
   ]
  },
  {
   "cell_type": "markdown",
   "id": "1188004b",
   "metadata": {},
   "source": [
    "First, we can read the MATPOWER format case file into a Python dictionary."
   ]
  },
  {
   "cell_type": "code",
   "execution_count": 5,
   "id": "12961f79",
   "metadata": {},
   "outputs": [
    {
     "name": "stderr",
     "output_type": "stream",
     "text": [
      " Case saved by PowerWorld Simulator, version 23, build date October 25, 2023\n"
     ]
    }
   ],
   "source": [
    "mpc = ams.io.matpower.m2mpc(\"./Texas2k_series24_case3_2024summerpeak.m\")"
   ]
  },
  {
   "cell_type": "code",
   "execution_count": 6,
   "id": "c57c8d6a",
   "metadata": {},
   "outputs": [],
   "source": [
    "ngen = mpc[\"gencost\"].shape[0]"
   ]
  },
  {
   "cell_type": "markdown",
   "id": "c6c854b1",
   "metadata": {},
   "source": [
    "This case gives a piecewise lienar cost function with two pairs of points.\n",
    "\n",
    "For simplification, it is manually mapped to a quadratic cost function with linear term and constant term."
   ]
  },
  {
   "cell_type": "code",
   "execution_count": 7,
   "id": "629e5aed",
   "metadata": {},
   "outputs": [],
   "source": [
    "gencost2 = np.concatenate((mpc['gencost'][:, 0:4], np.zeros((ngen, 4))), axis=1)\n",
    "\n",
    "gencost2[:, 0] = 2  # type of cost function\n",
    "gencost2[:, 3] = 3  # number of coefficients\n",
    "gencost2[:, 4] = 0.0  # quadratic coefficient\n",
    "gencost2[:, 5] = mpc[\"gencost\"][:, 7]  # linear coefficient\n",
    "gencost2[:, 6] = mpc[\"gencost\"][:, 5]  # constant term\n",
    "\n",
    "mpc2 = mpc.copy()\n",
    "mpc2['gencost'] = gencost2"
   ]
  },
  {
   "cell_type": "code",
   "execution_count": 8,
   "id": "b7a3c3dd",
   "metadata": {},
   "outputs": [
    {
     "name": "stderr",
     "output_type": "stream",
     "text": [
      "Zero Line parameters detected, adjusted to default values: rate_b, rate_c, amax, amin.\n",
      "System set up in 0.0088 seconds.\n"
     ]
    },
    {
     "data": {
      "text/plain": [
       "True"
      ]
     },
     "execution_count": 8,
     "metadata": {},
     "output_type": "execute_result"
    }
   ],
   "source": [
    "sp2 = ams.system.System()\n",
    "ams.io.matpower.mpc2system(mpc2, sp2)\n",
    "\n",
    "sp2.setup()"
   ]
  },
  {
   "cell_type": "code",
   "execution_count": 9,
   "id": "48c9fe0c",
   "metadata": {},
   "outputs": [
    {
     "name": "stderr",
     "output_type": "stream",
     "text": [
      "Parsing input file \"./Texas2k_series24_case3_2024summerpeak_0_33.RAW\"...\n",
      "Input file parsed in 0.5451 seconds.\n"
     ]
    }
   ],
   "source": [
    "sp3 = ams.load(\"./Texas2k_series24_case3_2024summerpeak_0_33.RAW\",\n",
    "               setup=False,\n",
    "               no_output=False,)"
   ]
  },
  {
   "cell_type": "code",
   "execution_count": 10,
   "id": "6777de7a",
   "metadata": {},
   "outputs": [
    {
     "data": {
      "text/plain": [
       "True"
      ]
     },
     "execution_count": 10,
     "metadata": {},
     "output_type": "execute_result"
    }
   ],
   "source": [
    "stg_mp = set(sp2.StaticGen.get_all_idxes())\n",
    "stg_raw = set(sp3.StaticGen.get_all_idxes())\n",
    "stg_equal = stg_mp == stg_raw\n",
    "stg_equal"
   ]
  },
  {
   "cell_type": "markdown",
   "id": "af3a4d65",
   "metadata": {},
   "source": [
    "From the inspectin we can see, the two cases have idential generators, so we can add generator costs to the PSSE read case."
   ]
  },
  {
   "cell_type": "code",
   "execution_count": 11,
   "id": "e48db6b7",
   "metadata": {},
   "outputs": [],
   "source": [
    "for index, row in sp2.GCost.cache.df_in.iterrows():\n",
    "    sp3.add(model='GCost', **row)"
   ]
  },
  {
   "cell_type": "code",
   "execution_count": 12,
   "id": "f5976554",
   "metadata": {},
   "outputs": [
    {
     "name": "stderr",
     "output_type": "stream",
     "text": [
      "Zero Line parameters detected, adjusted to default values: rate_b, rate_c.\n",
      "All bus type are PQ, adjusted given load and generator connection status.\n",
      "System set up in 0.0115 seconds.\n"
     ]
    },
    {
     "data": {
      "text/plain": [
       "True"
      ]
     },
     "execution_count": 12,
     "metadata": {},
     "output_type": "execute_result"
    }
   ],
   "source": [
    "sp3.setup()"
   ]
  },
  {
   "cell_type": "markdown",
   "id": "169dc6cc",
   "metadata": {},
   "source": [
    "We can scale down the total load for better convergence if necessary."
   ]
  },
  {
   "cell_type": "code",
   "execution_count": 13,
   "id": "df827bd6",
   "metadata": {},
   "outputs": [
    {
     "data": {
      "text/plain": [
       "True"
      ]
     },
     "execution_count": 13,
     "metadata": {},
     "output_type": "execute_result"
    }
   ],
   "source": [
    "p0 = sp3.StaticLoad.get(src='p0', attr='vin',\n",
    "                        idx=sp3.StaticLoad.get_all_idxes())\n",
    "sp3.StaticLoad.alter(src='p0', attr='vin',\n",
    "                     idx=sp3.StaticLoad.get_all_idxes(),\n",
    "                     value=0.9 * p0)"
   ]
  },
  {
   "cell_type": "code",
   "execution_count": 14,
   "id": "fce10510",
   "metadata": {},
   "outputs": [
    {
     "name": "stderr",
     "output_type": "stream",
     "text": [
      "Building system matrices\n",
      "Parsing OModel for <DCOPF>\n",
      "Evaluating OModel for <DCOPF>\n",
      "Finalizing OModel for <DCOPF>\n",
      "<DCOPF> initialized in 0.5389 seconds.\n",
      "<DCOPF> solved as optimal in 0.0333 seconds, converged in 13 iterations with PIQP.\n",
      "Report saved to \"Texas2k_series24_case3_2024summerpeak_0_33_out.txt\" in 0.3987 seconds.\n"
     ]
    },
    {
     "data": {
      "text/plain": [
       "'Texas2k_series24_case3_2024summerpeak_0_33_DCOPF.csv'"
      ]
     },
     "execution_count": 14,
     "metadata": {},
     "output_type": "execute_result"
    }
   ],
   "source": [
    "sp3.DCOPF.run(solver='PIQP', ignore_dpp=True)\n",
    "sp3.DCOPF.export_csv()"
   ]
  },
  {
   "cell_type": "markdown",
   "id": "2cadb33b",
   "metadata": {},
   "source": [
    "You can export the converted cases into either .xlsx or .json for future use."
   ]
  },
  {
   "cell_type": "code",
   "execution_count": 15,
   "id": "bf50339d",
   "metadata": {},
   "outputs": [],
   "source": [
    "# ams.io.xlsx.write(sp3, 'Texas2k.xlsx', overwrite=True)\n",
    "# ams.io.json.write(sp3, 'Texas2k.json', overwrite=True)"
   ]
  },
  {
   "cell_type": "markdown",
   "id": "10443419",
   "metadata": {},
   "source": [
    "Below code can be used to run ACOPF.\n",
    "Uncomment them to use."
   ]
  },
  {
   "cell_type": "code",
   "execution_count": 16,
   "id": "7c57fc29",
   "metadata": {},
   "outputs": [],
   "source": [
    "# sp3.ACOPF.run()\n",
    "# sp3.ACOPF.export_csv()"
   ]
  },
  {
   "cell_type": "code",
   "execution_count": 17,
   "id": "eee85c4c",
   "metadata": {},
   "outputs": [
    {
     "data": {
      "text/plain": [
       "'mul(nctrle, pg0) + mul(ctrle, pmax)'"
      ]
     },
     "execution_count": 17,
     "metadata": {},
     "output_type": "execute_result"
    }
   ],
   "source": [
    "sp3.DCOPF.pmaxe.e_str"
   ]
  },
  {
   "cell_type": "markdown",
   "id": "febff146",
   "metadata": {},
   "source": [
    "As above we can see, the `pmaxe` is the effective pmax of generators considering both the online status and controllability."
   ]
  },
  {
   "cell_type": "code",
   "execution_count": 18,
   "id": "0215b1a5",
   "metadata": {},
   "outputs": [
    {
     "data": {
      "text/plain": [
       "np.float64(1347.4291)"
      ]
     },
     "execution_count": 18,
     "metadata": {},
     "output_type": "execute_result"
    }
   ],
   "source": [
    "sp3.DCOPF.pmaxe.v.sum()"
   ]
  },
  {
   "cell_type": "code",
   "execution_count": 19,
   "id": "8544eb3a",
   "metadata": {},
   "outputs": [
    {
     "data": {
      "text/plain": [
       "np.float64(633.8973510000001)"
      ]
     },
     "execution_count": 19,
     "metadata": {},
     "output_type": "execute_result"
    }
   ],
   "source": [
    "sp3.DCOPF.pd.v.sum()"
   ]
  },
  {
   "cell_type": "markdown",
   "id": "d19a31fc",
   "metadata": {},
   "source": [
    "Then, in the comparasion of `pd` versus `pmaxe`, we can find there are much more surplus generation than the load."
   ]
  },
  {
   "cell_type": "code",
   "execution_count": 20,
   "id": "90ab00af",
   "metadata": {},
   "outputs": [
    {
     "data": {
      "text/html": [
       "<div>\n",
       "<style scoped>\n",
       "    .dataframe tbody tr th:only-of-type {\n",
       "        vertical-align: middle;\n",
       "    }\n",
       "\n",
       "    .dataframe tbody tr th {\n",
       "        vertical-align: top;\n",
       "    }\n",
       "\n",
       "    .dataframe thead th {\n",
       "        text-align: right;\n",
       "    }\n",
       "</style>\n",
       "<table border=\"1\" class=\"dataframe\">\n",
       "  <thead>\n",
       "    <tr style=\"text-align: right;\">\n",
       "      <th></th>\n",
       "      <th>idx</th>\n",
       "      <th>u</th>\n",
       "      <th>ctrl</th>\n",
       "      <th>pmax</th>\n",
       "      <th>pmin</th>\n",
       "      <th>pg</th>\n",
       "      <th>c2</th>\n",
       "      <th>c1</th>\n",
       "      <th>c0</th>\n",
       "    </tr>\n",
       "  </thead>\n",
       "  <tbody>\n",
       "    <tr>\n",
       "      <th>25</th>\n",
       "      <td>26</td>\n",
       "      <td>0.0</td>\n",
       "      <td>1.0</td>\n",
       "      <td>1.219</td>\n",
       "      <td>0.3657</td>\n",
       "      <td>0.0000</td>\n",
       "      <td>0.0</td>\n",
       "      <td>0.0</td>\n",
       "      <td>0.000</td>\n",
       "    </tr>\n",
       "    <tr>\n",
       "      <th>26</th>\n",
       "      <td>27</td>\n",
       "      <td>1.0</td>\n",
       "      <td>1.0</td>\n",
       "      <td>0.588</td>\n",
       "      <td>0.1764</td>\n",
       "      <td>0.3893</td>\n",
       "      <td>0.0</td>\n",
       "      <td>0.0</td>\n",
       "      <td>0.000</td>\n",
       "    </tr>\n",
       "    <tr>\n",
       "      <th>27</th>\n",
       "      <td>28</td>\n",
       "      <td>1.0</td>\n",
       "      <td>1.0</td>\n",
       "      <td>3.024</td>\n",
       "      <td>0.0000</td>\n",
       "      <td>1.9087</td>\n",
       "      <td>0.0</td>\n",
       "      <td>0.0</td>\n",
       "      <td>0.010</td>\n",
       "    </tr>\n",
       "    <tr>\n",
       "      <th>28</th>\n",
       "      <td>29</td>\n",
       "      <td>1.0</td>\n",
       "      <td>1.0</td>\n",
       "      <td>15.245</td>\n",
       "      <td>0.0000</td>\n",
       "      <td>10.7248</td>\n",
       "      <td>0.0</td>\n",
       "      <td>0.0</td>\n",
       "      <td>0.010</td>\n",
       "    </tr>\n",
       "    <tr>\n",
       "      <th>29</th>\n",
       "      <td>30</td>\n",
       "      <td>0.0</td>\n",
       "      <td>1.0</td>\n",
       "      <td>3.252</td>\n",
       "      <td>0.9756</td>\n",
       "      <td>-0.0000</td>\n",
       "      <td>0.0</td>\n",
       "      <td>108780.0</td>\n",
       "      <td>0.001</td>\n",
       "    </tr>\n",
       "    <tr>\n",
       "      <th>30</th>\n",
       "      <td>31</td>\n",
       "      <td>0.0</td>\n",
       "      <td>1.0</td>\n",
       "      <td>3.252</td>\n",
       "      <td>0.9756</td>\n",
       "      <td>-0.0000</td>\n",
       "      <td>0.0</td>\n",
       "      <td>108780.0</td>\n",
       "      <td>0.001</td>\n",
       "    </tr>\n",
       "    <tr>\n",
       "      <th>31</th>\n",
       "      <td>32</td>\n",
       "      <td>1.0</td>\n",
       "      <td>1.0</td>\n",
       "      <td>0.894</td>\n",
       "      <td>0.2682</td>\n",
       "      <td>0.2682</td>\n",
       "      <td>0.0</td>\n",
       "      <td>73410.0</td>\n",
       "      <td>0.001</td>\n",
       "    </tr>\n",
       "    <tr>\n",
       "      <th>32</th>\n",
       "      <td>33</td>\n",
       "      <td>1.0</td>\n",
       "      <td>1.0</td>\n",
       "      <td>0.894</td>\n",
       "      <td>0.2682</td>\n",
       "      <td>0.2682</td>\n",
       "      <td>0.0</td>\n",
       "      <td>73410.0</td>\n",
       "      <td>0.001</td>\n",
       "    </tr>\n",
       "    <tr>\n",
       "      <th>33</th>\n",
       "      <td>34</td>\n",
       "      <td>1.0</td>\n",
       "      <td>1.0</td>\n",
       "      <td>0.894</td>\n",
       "      <td>0.2682</td>\n",
       "      <td>0.2682</td>\n",
       "      <td>0.0</td>\n",
       "      <td>73410.0</td>\n",
       "      <td>0.001</td>\n",
       "    </tr>\n",
       "    <tr>\n",
       "      <th>34</th>\n",
       "      <td>35</td>\n",
       "      <td>0.0</td>\n",
       "      <td>1.0</td>\n",
       "      <td>1.788</td>\n",
       "      <td>0.5364</td>\n",
       "      <td>-0.0000</td>\n",
       "      <td>0.0</td>\n",
       "      <td>86820.0</td>\n",
       "      <td>0.001</td>\n",
       "    </tr>\n",
       "  </tbody>\n",
       "</table>\n",
       "</div>"
      ],
      "text/plain": [
       "    idx    u  ctrl    pmax    pmin       pg   c2        c1     c0\n",
       "25   26  0.0   1.0   1.219  0.3657   0.0000  0.0       0.0  0.000\n",
       "26   27  1.0   1.0   0.588  0.1764   0.3893  0.0       0.0  0.000\n",
       "27   28  1.0   1.0   3.024  0.0000   1.9087  0.0       0.0  0.010\n",
       "28   29  1.0   1.0  15.245  0.0000  10.7248  0.0       0.0  0.010\n",
       "29   30  0.0   1.0   3.252  0.9756  -0.0000  0.0  108780.0  0.001\n",
       "30   31  0.0   1.0   3.252  0.9756  -0.0000  0.0  108780.0  0.001\n",
       "31   32  1.0   1.0   0.894  0.2682   0.2682  0.0   73410.0  0.001\n",
       "32   33  1.0   1.0   0.894  0.2682   0.2682  0.0   73410.0  0.001\n",
       "33   34  1.0   1.0   0.894  0.2682   0.2682  0.0   73410.0  0.001\n",
       "34   35  0.0   1.0   1.788  0.5364  -0.0000  0.0   86820.0  0.001"
      ]
     },
     "execution_count": 20,
     "metadata": {},
     "output_type": "execute_result"
    }
   ],
   "source": [
    "stg = sp3.DCOPF.pg.get_all_idxes()\n",
    "\n",
    "gen = pd.DataFrame()\n",
    "gen['idx'] = stg\n",
    "gen['u'] = sp3.DCOPF.ug.v\n",
    "gen['ctrl'] = sp3.DCOPF.ctrl.v\n",
    "gen['pmax'] = sp3.DCOPF.pmax.v\n",
    "gen['pmin'] = sp3.DCOPF.pmin.v\n",
    "gen['pg'] = sp3.DCOPF.pg.v\n",
    "gen['c2'] = sp3.DCOPF.c2.v\n",
    "gen['c1'] = sp3.DCOPF.c1.v\n",
    "gen['c0'] = sp3.DCOPF.c0.v\n",
    "\n",
    "gen.iloc[25:35].round(4)"
   ]
  },
  {
   "cell_type": "markdown",
   "id": "32c2dafd",
   "metadata": {},
   "source": [
    "From the above DataFrame, we can notice there are some \"free\" generators."
   ]
  },
  {
   "cell_type": "markdown",
   "id": "f08e1b33",
   "metadata": {},
   "source": [
    "Next, let's find the \"free\" generators, and alter their `pmax`.\n",
    "\n",
    "First, let's find which ``GCost`` are \"free\" (i.e., with zero cost)."
   ]
  },
  {
   "cell_type": "code",
   "execution_count": 21,
   "id": "7fe3b895",
   "metadata": {},
   "outputs": [],
   "source": [
    "gcost_free = sp3.GCost.find_idx(keys=['c2', 'c1'], values=[[0], [0]],\n",
    "                                allow_all=True)[0]"
   ]
  },
  {
   "cell_type": "markdown",
   "id": "2a0df3f2",
   "metadata": {},
   "source": [
    "Second, we can grab the generators that are \"free\""
   ]
  },
  {
   "cell_type": "code",
   "execution_count": 22,
   "id": "2075fd76",
   "metadata": {},
   "outputs": [],
   "source": [
    "gen_free = sp3.GCost.get(src='gen', attr='v', idx=gcost_free)"
   ]
  },
  {
   "cell_type": "markdown",
   "id": "41addbec",
   "metadata": {},
   "source": [
    "Last, their total `pmax` can be calculated:"
   ]
  },
  {
   "cell_type": "code",
   "execution_count": 23,
   "id": "8b18fa41",
   "metadata": {},
   "outputs": [
    {
     "data": {
      "text/plain": [
       "np.float64(426.33835158600755)"
      ]
     },
     "execution_count": 23,
     "metadata": {},
     "output_type": "execute_result"
    }
   ],
   "source": [
    "pg_free = sp3.DCOPF.get(src='pg', attr='v', idx=gen_free)\n",
    "\n",
    "pg_free.sum()"
   ]
  },
  {
   "cell_type": "markdown",
   "id": "edb9ce88",
   "metadata": {},
   "source": [
    "Let's scale it down."
   ]
  },
  {
   "cell_type": "code",
   "execution_count": 24,
   "id": "3d8791f1",
   "metadata": {},
   "outputs": [
    {
     "data": {
      "text/plain": [
       "True"
      ]
     },
     "execution_count": 24,
     "metadata": {},
     "output_type": "execute_result"
    }
   ],
   "source": [
    "pmax0 = sp3.StaticGen.get(src='pmax', attr='v', idx=gen_free)\n",
    "pmin0 = sp3.StaticGen.get(src='pmin', attr='v', idx=gen_free)\n",
    "sp3.StaticGen.alter(src='pmax', attr='v', idx=gen_free,\n",
    "                    value=0.01 * pmax0)\n",
    "sp3.StaticGen.alter(src='pmin', attr='v', idx=gen_free,\n",
    "                    value=0.01 * pmin0)"
   ]
  },
  {
   "cell_type": "code",
   "execution_count": 25,
   "id": "7afe9e02",
   "metadata": {},
   "outputs": [
    {
     "data": {
      "text/plain": [
       "np.float64(26911413.548376776)"
      ]
     },
     "execution_count": 25,
     "metadata": {},
     "output_type": "execute_result"
    }
   ],
   "source": [
    "sp3.DCOPF.obj.v"
   ]
  },
  {
   "cell_type": "code",
   "execution_count": 26,
   "id": "d2f07786",
   "metadata": {},
   "outputs": [
    {
     "name": "stderr",
     "output_type": "stream",
     "text": [
      "Building system matrices\n",
      "<DCOPF> reinit OModel due to non-parametric change.\n",
      "Evaluating OModel for <DCOPF>\n",
      "Finalizing OModel for <DCOPF>\n"
     ]
    },
    {
     "data": {
      "text/plain": [
       "True"
      ]
     },
     "execution_count": 26,
     "metadata": {},
     "output_type": "execute_result"
    }
   ],
   "source": [
    "sp3.DCOPF.update()"
   ]
  },
  {
   "cell_type": "code",
   "execution_count": 27,
   "id": "1eb8ea21",
   "metadata": {},
   "outputs": [
    {
     "name": "stderr",
     "output_type": "stream",
     "text": [
      "<DCOPF> solved as optimal in 0.0639 seconds, converged in 29 iterations with PIQP.\n",
      "Report saved to \"Texas2k_series24_case3_2024summerpeak_0_33_out.txt\" in 0.4825 seconds.\n"
     ]
    },
    {
     "data": {
      "text/plain": [
       "True"
      ]
     },
     "execution_count": 27,
     "metadata": {},
     "output_type": "execute_result"
    }
   ],
   "source": [
    "sp3.DCOPF.run(solver='PIQP', ignore_dpp=True)"
   ]
  },
  {
   "cell_type": "code",
   "execution_count": 28,
   "id": "969f915a",
   "metadata": {},
   "outputs": [
    {
     "data": {
      "text/plain": [
       "np.float64(69587595.75665128)"
      ]
     },
     "execution_count": 28,
     "metadata": {},
     "output_type": "execute_result"
    }
   ],
   "source": [
    "sp3.DCOPF.obj.v"
   ]
  },
  {
   "cell_type": "markdown",
   "id": "10468cd6",
   "metadata": {},
   "source": [
    "We can see that after the manipulation, the cost incresed a lot."
   ]
  }
 ],
 "metadata": {
  "kernelspec": {
   "display_name": "amsre",
   "language": "python",
   "name": "python3"
  },
  "language_info": {
   "codemirror_mode": {
    "name": "ipython",
    "version": 3
   },
   "file_extension": ".py",
   "mimetype": "text/x-python",
   "name": "python",
   "nbconvert_exporter": "python",
   "pygments_lexer": "ipython3",
   "version": "3.12.0"
  }
 },
 "nbformat": 4,
 "nbformat_minor": 5
}
