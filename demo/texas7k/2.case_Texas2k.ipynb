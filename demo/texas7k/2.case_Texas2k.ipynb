{
 "cells": [
  {
   "cell_type": "markdown",
   "id": "3c7aac94",
   "metadata": {},
   "source": [
    "# Texas 2k Case and ACOPF"
   ]
  },
  {
   "cell_type": "code",
   "execution_count": 1,
   "id": "e98e666e",
   "metadata": {},
   "outputs": [],
   "source": [
    "import numpy as np\n",
    "\n",
    "import ams"
   ]
  },
  {
   "cell_type": "code",
   "execution_count": 2,
   "id": "3b8fe4ae",
   "metadata": {},
   "outputs": [
    {
     "name": "stdout",
     "output_type": "stream",
     "text": [
      "Python   3.12.0\n",
      "ams      1.0.9\n",
      "andes    1.9.3\n",
      "numpy    2.1.2\n",
      "cvxpy    1.5.3\n",
      "solvers  CLARABEL, ECOS, ECOS_BB, OSQP,\n",
      "         PIQP, SCIP, SCIPY, SCS\n"
     ]
    }
   ],
   "source": [
    "!ams misc --version"
   ]
  },
  {
   "cell_type": "code",
   "execution_count": 3,
   "id": "70accea9",
   "metadata": {},
   "outputs": [],
   "source": [
    "%matplotlib inline"
   ]
  },
  {
   "cell_type": "code",
   "execution_count": 4,
   "id": "ee703096",
   "metadata": {},
   "outputs": [],
   "source": [
    "ams.config_logger(stream_level=20)"
   ]
  },
  {
   "cell_type": "markdown",
   "id": "1188004b",
   "metadata": {},
   "source": [
    "First, we can read the MATPOWER format case file into a Python dictionary."
   ]
  },
  {
   "cell_type": "code",
   "execution_count": 5,
   "id": "12961f79",
   "metadata": {},
   "outputs": [
    {
     "name": "stderr",
     "output_type": "stream",
     "text": [
      " Case saved by PowerWorld Simulator, version 23, build date October 25, 2023\n"
     ]
    }
   ],
   "source": [
    "mpc = ams.io.matpower.m2mpc(\"./Texas2k_series24_case3_2024summerpeak.m\")"
   ]
  },
  {
   "cell_type": "code",
   "execution_count": 6,
   "id": "c57c8d6a",
   "metadata": {},
   "outputs": [],
   "source": [
    "ngen = mpc[\"gencost\"].shape[0]"
   ]
  },
  {
   "cell_type": "markdown",
   "id": "c6c854b1",
   "metadata": {},
   "source": [
    "This case gives a piecewise lienar cost function with two pairs of points.\n",
    "\n",
    "For simplification, it is manually mapped to a quadratic cost function with linear term and constant term."
   ]
  },
  {
   "cell_type": "code",
   "execution_count": 7,
   "id": "629e5aed",
   "metadata": {},
   "outputs": [],
   "source": [
    "gencost2 = np.concatenate((mpc['gencost'][:, 0:4], np.zeros((ngen, 4))), axis=1)\n",
    "\n",
    "gencost2[:, 0] = 2  # type of cost function\n",
    "gencost2[:, 3] = 3  # number of coefficients\n",
    "gencost2[:, 4] = 0.0  # quadratic coefficient\n",
    "gencost2[:, 5] = mpc[\"gencost\"][:, 7]  # linear coefficient\n",
    "gencost2[:, 6] = mpc[\"gencost\"][:, 5]  # constant term\n",
    "\n",
    "mpc2 = mpc.copy()\n",
    "mpc2['gencost'] = gencost2"
   ]
  },
  {
   "cell_type": "code",
   "execution_count": 8,
   "id": "b7a3c3dd",
   "metadata": {},
   "outputs": [
    {
     "name": "stderr",
     "output_type": "stream",
     "text": [
      "Zero Line parameters detected, adjusted to default values: rate_b, rate_c, amax, amin.\n",
      "System set up in 0.0113 seconds.\n"
     ]
    },
    {
     "data": {
      "text/plain": [
       "True"
      ]
     },
     "execution_count": 8,
     "metadata": {},
     "output_type": "execute_result"
    }
   ],
   "source": [
    "sp2 = ams.system.System()\n",
    "ams.io.matpower.mpc2system(mpc2, sp2)\n",
    "\n",
    "sp2.setup()"
   ]
  },
  {
   "cell_type": "code",
   "execution_count": 9,
   "id": "48c9fe0c",
   "metadata": {},
   "outputs": [
    {
     "name": "stderr",
     "output_type": "stream",
     "text": [
      "Parsing input file \"./Texas2k_series24_case3_2024summerpeak_0_33.RAW\"...\n",
      "Input file parsed in 0.5889 seconds.\n"
     ]
    }
   ],
   "source": [
    "sp3 = ams.load(\"./Texas2k_series24_case3_2024summerpeak_0_33.RAW\",\n",
    "               setup=False,\n",
    "               no_output=False,)"
   ]
  },
  {
   "cell_type": "code",
   "execution_count": 10,
   "id": "6777de7a",
   "metadata": {},
   "outputs": [
    {
     "data": {
      "text/plain": [
       "True"
      ]
     },
     "execution_count": 10,
     "metadata": {},
     "output_type": "execute_result"
    }
   ],
   "source": [
    "stg_mp = set(sp2.StaticGen.get_all_idxes())\n",
    "stg_raw = set(sp3.StaticGen.get_all_idxes())\n",
    "stg_equal = stg_mp == stg_raw\n",
    "stg_equal"
   ]
  },
  {
   "cell_type": "markdown",
   "id": "af3a4d65",
   "metadata": {},
   "source": [
    "The two cases have idential generators, so we can add generator costs to the PSSE read case."
   ]
  },
  {
   "cell_type": "code",
   "execution_count": 11,
   "id": "e48db6b7",
   "metadata": {},
   "outputs": [],
   "source": [
    "for index, row in sp2.GCost.cache.df_in.iterrows():\n",
    "    sp3.add(model='GCost', **row)"
   ]
  },
  {
   "cell_type": "code",
   "execution_count": 12,
   "id": "f5976554",
   "metadata": {},
   "outputs": [
    {
     "name": "stderr",
     "output_type": "stream",
     "text": [
      "Zero Line parameters detected, adjusted to default values: rate_b, rate_c.\n",
      "System set up in 0.0101 seconds.\n"
     ]
    },
    {
     "data": {
      "text/plain": [
       "True"
      ]
     },
     "execution_count": 12,
     "metadata": {},
     "output_type": "execute_result"
    }
   ],
   "source": [
    "sp3.setup()"
   ]
  },
  {
   "cell_type": "markdown",
   "id": "169dc6cc",
   "metadata": {},
   "source": [
    "We can scale down the total load for better convergence if necessary."
   ]
  },
  {
   "cell_type": "code",
   "execution_count": 13,
   "id": "df827bd6",
   "metadata": {},
   "outputs": [
    {
     "data": {
      "text/plain": [
       "True"
      ]
     },
     "execution_count": 13,
     "metadata": {},
     "output_type": "execute_result"
    }
   ],
   "source": [
    "p0 = sp3.StaticGen.get(src='p0', attr='vin', idx=sp3.StaticGen.get_all_idxes())\n",
    "sp3.StaticGen.alter(src='p0', attr='vin', idx=sp3.StaticGen.get_all_idxes(),\n",
    "                    value=1 * p0)"
   ]
  },
  {
   "cell_type": "code",
   "execution_count": 14,
   "id": "fce10510",
   "metadata": {},
   "outputs": [
    {
     "name": "stderr",
     "output_type": "stream",
     "text": [
      "Building system matrices\n",
      "Parsing OModel for <DCOPF>\n",
      "Evaluating OModel for <DCOPF>\n",
      "Finalizing OModel for <DCOPF>\n",
      "<DCOPF> initialized in 0.5957 seconds.\n",
      "<DCOPF> solved as optimal in 0.0401 seconds, converged in 13 iterations with PIQP.\n",
      "Report saved to \"Texas2k_series24_case3_2024summerpeak_0_33_out.txt\" in 0.2140 seconds.\n"
     ]
    },
    {
     "data": {
      "text/plain": [
       "True"
      ]
     },
     "execution_count": 14,
     "metadata": {},
     "output_type": "execute_result"
    }
   ],
   "source": [
    "sp3.DCOPF.run(solver='PIQP', ignore_dpp=True)"
   ]
  },
  {
   "cell_type": "code",
   "execution_count": 15,
   "id": "bf50339d",
   "metadata": {},
   "outputs": [
    {
     "name": "stderr",
     "output_type": "stream",
     "text": [
      "xlsx file written to \"Texas2k.xlsx\"\n"
     ]
    },
    {
     "data": {
      "text/plain": [
       "True"
      ]
     },
     "execution_count": 15,
     "metadata": {},
     "output_type": "execute_result"
    }
   ],
   "source": [
    "ams.io.xlsx.write(sp3, 'Texas2k.xlsx', overwrite=True)"
   ]
  },
  {
   "cell_type": "code",
   "execution_count": 16,
   "id": "0be6a856",
   "metadata": {},
   "outputs": [
    {
     "name": "stderr",
     "output_type": "stream",
     "text": [
      "JSON file written to \"Texas2k.json\"\n"
     ]
    },
    {
     "data": {
      "text/plain": [
       "True"
      ]
     },
     "execution_count": 16,
     "metadata": {},
     "output_type": "execute_result"
    }
   ],
   "source": [
    "ams.io.json.write(sp3, 'Texas2k.json', overwrite=True)"
   ]
  },
  {
   "cell_type": "code",
   "execution_count": 17,
   "id": "7c57fc29",
   "metadata": {},
   "outputs": [
    {
     "name": "stderr",
     "output_type": "stream",
     "text": [
      "Parsing OModel for <ACOPF>\n",
      "Evaluating OModel for <ACOPF>\n",
      "Finalizing OModel for <ACOPF>\n",
      "<ACOPF> initialized in 0.8103 seconds.\n",
      "<ACOPF> solved in 34.5884 seconds, converged in 37 iterations with PYPOWER-PIPS.\n",
      "Report saved to \"Texas2k_series24_case3_2024summerpeak_0_33_out.txt\" in 0.4004 seconds.\n"
     ]
    }
   ],
   "source": [
    "sp3.ACOPF.run()"
   ]
  },
  {
   "cell_type": "code",
   "execution_count": 18,
   "id": "f0af6f86",
   "metadata": {},
   "outputs": [
    {
     "data": {
      "text/plain": [
       "'Texas2k_series24_case3_2024summerpeak_0_33_ACOPF.csv'"
      ]
     },
     "execution_count": 18,
     "metadata": {},
     "output_type": "execute_result"
    }
   ],
   "source": [
    "sp3.ACOPF.export_csv()"
   ]
  }
 ],
 "metadata": {
  "kernelspec": {
   "display_name": "moky",
   "language": "python",
   "name": "python3"
  },
  "language_info": {
   "codemirror_mode": {
    "name": "ipython",
    "version": 3
   },
   "file_extension": ".py",
   "mimetype": "text/x-python",
   "name": "python",
   "nbconvert_exporter": "python",
   "pygments_lexer": "ipython3",
   "version": "3.12.0"
  }
 },
 "nbformat": 4,
 "nbformat_minor": 5
}
