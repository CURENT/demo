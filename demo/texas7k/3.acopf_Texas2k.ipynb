{
 "cells": [
  {
   "cell_type": "markdown",
   "id": "3c7aac94",
   "metadata": {},
   "source": [
    "# ACOPF"
   ]
  },
  {
   "cell_type": "code",
   "execution_count": null,
   "id": "e98e666e",
   "metadata": {},
   "outputs": [],
   "source": [
    "import ams"
   ]
  },
  {
   "cell_type": "code",
   "execution_count": 2,
   "id": "3b8fe4ae",
   "metadata": {},
   "outputs": [
    {
     "name": "stderr",
     "output_type": "stream",
     "text": [
      "/Users/jinningwang/work/miniconda3/envs/moky/lib/python3.12/pty.py:95: RuntimeWarning: Using fork() can cause Polars to deadlock in the child process.\n",
      "In addition, using fork() with Python in general is a recipe for mysterious\n",
      "deadlocks and crashes.\n",
      "\n",
      "The most likely reason you are seeing this error is because you are using the\n",
      "multiprocessing module on Linux, which uses fork() by default. This will be\n",
      "fixed in Python 3.14. Until then, you want to use the \"spawn\" context instead.\n",
      "\n",
      "See https://docs.pola.rs/user-guide/misc/multiprocessing/ for details.\n",
      "\n",
      "If you really know what your doing, you can silence this warning with the warning module\n",
      "or by setting POLARS_ALLOW_FORKING_THREAD=1.\n",
      "\n",
      "  pid, fd = os.forkpty()\n"
     ]
    },
    {
     "name": "stdout",
     "output_type": "stream",
     "text": [
      "Python   3.12.0\n",
      "ams      1.0.9\n",
      "andes    1.9.3\n",
      "numpy    2.1.2\n",
      "cvxpy    1.5.3\n",
      "solvers  CLARABEL, ECOS, ECOS_BB, OSQP,\n",
      "         PIQP, SCIP, SCIPY, SCS\n"
     ]
    }
   ],
   "source": [
    "!ams misc --version"
   ]
  },
  {
   "cell_type": "code",
   "execution_count": 3,
   "id": "70accea9",
   "metadata": {},
   "outputs": [],
   "source": [
    "%matplotlib inline"
   ]
  },
  {
   "cell_type": "code",
   "execution_count": 4,
   "id": "ee703096",
   "metadata": {},
   "outputs": [],
   "source": [
    "ams.config_logger(stream_level=20)"
   ]
  },
  {
   "cell_type": "code",
   "execution_count": 5,
   "id": "8d37483f",
   "metadata": {},
   "outputs": [
    {
     "name": "stderr",
     "output_type": "stream",
     "text": [
      "Parsing input file \"./Texas2k.json\"...\n",
      "Input file parsed in 0.1081 seconds.\n",
      "Zero Line parameters detected, adjusted to default values: rate_b, rate_c.\n",
      "System set up in 0.0090 seconds.\n"
     ]
    }
   ],
   "source": [
    "sp = ams.load(\"./Texas2k.json\",\n",
    "              setup=True)"
   ]
  },
  {
   "cell_type": "code",
   "execution_count": 6,
   "id": "73e74fd4",
   "metadata": {},
   "outputs": [
    {
     "data": {
      "text/plain": [
       "True"
      ]
     },
     "execution_count": 6,
     "metadata": {},
     "output_type": "execute_result"
    }
   ],
   "source": [
    "p0 = sp.StaticGen.get(src='p0', attr='vin', idx=sp.StaticGen.get_all_idxes())\n",
    "sp.StaticGen.alter(src='p0', attr='vin', idx=sp.StaticGen.get_all_idxes(),\n",
    "                   value=0.7 * p0)"
   ]
  },
  {
   "cell_type": "markdown",
   "id": "09919a92",
   "metadata": {},
   "source": [
    "After solving, there will be a report in .txt there if ``no_output=False``."
   ]
  },
  {
   "cell_type": "code",
   "execution_count": 7,
   "id": "8c8dc2b5",
   "metadata": {},
   "outputs": [
    {
     "name": "stderr",
     "output_type": "stream",
     "text": [
      "Building system matrices\n",
      "Parsing OModel for <ACOPF>\n",
      "Evaluating OModel for <ACOPF>\n",
      "Finalizing OModel for <ACOPF>\n",
      "<ACOPF> initialized in 0.7572 seconds.\n",
      "<ACOPF> solved in 34.0795 seconds, converged in 37 iterations with PYPOWER-PIPS.\n",
      "Report saved to \"Texas2k_out.txt\" in 0.1961 seconds.\n"
     ]
    }
   ],
   "source": [
    "sp.ACOPF.run()"
   ]
  },
  {
   "cell_type": "markdown",
   "id": "7585a5e0",
   "metadata": {},
   "source": [
    "We can also export the CSV results."
   ]
  },
  {
   "cell_type": "code",
   "execution_count": 11,
   "id": "0a117ee8",
   "metadata": {},
   "outputs": [
    {
     "data": {
      "text/plain": [
       "'Texas2k_ACOPF.csv'"
      ]
     },
     "execution_count": 11,
     "metadata": {},
     "output_type": "execute_result"
    }
   ],
   "source": [
    "sp.ACOPF.export_csv()"
   ]
  }
 ],
 "metadata": {
  "kernelspec": {
   "display_name": "moky",
   "language": "python",
   "name": "python3"
  },
  "language_info": {
   "codemirror_mode": {
    "name": "ipython",
    "version": 3
   },
   "file_extension": ".py",
   "mimetype": "text/x-python",
   "name": "python",
   "nbconvert_exporter": "python",
   "pygments_lexer": "ipython3",
   "version": "3.12.0"
  }
 },
 "nbformat": 4,
 "nbformat_minor": 5
}
