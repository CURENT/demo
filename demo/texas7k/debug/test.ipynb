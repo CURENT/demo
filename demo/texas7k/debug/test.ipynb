{
 "cells": [
  {
   "cell_type": "code",
   "execution_count": 1,
   "id": "aab48b1a",
   "metadata": {},
   "outputs": [],
   "source": [
    "import pandas as pd\n",
    "\n",
    "import ams"
   ]
  },
  {
   "cell_type": "code",
   "execution_count": 2,
   "id": "d264cec6",
   "metadata": {},
   "outputs": [
    {
     "name": "stdout",
     "output_type": "stream",
     "text": [
      "Python   3.12.0\n",
      "ams      1.0.12\n",
      "andes    1.9.3\n",
      "numpy    2.3.0\n",
      "cvxpy    1.6.0\n",
      "solvers  CLARABEL, ECOS, ECOS_BB,\n",
      "         GUROBI, HIGHS, MOSEK, OSQP,\n",
      "         PIQP, SCIP, SCIPY, SCS\n"
     ]
    }
   ],
   "source": [
    "!ams misc --version"
   ]
  },
  {
   "cell_type": "code",
   "execution_count": 3,
   "id": "851000f4",
   "metadata": {},
   "outputs": [],
   "source": [
    "cases = [\n",
    "    \"./Texas2k_64.m\",\n",
    "    \"./Texas2k_67.m\",\n",
    "    \"./Texas2k_88.m\",\n",
    "    \"./Texas2k_90.m\",\n",
    "    \"./Texas2k_136.m\",\n",
    "]"
   ]
  },
  {
   "cell_type": "code",
   "execution_count": 4,
   "id": "a1f0d4e3",
   "metadata": {},
   "outputs": [
    {
     "name": "stderr",
     "output_type": "stream",
     "text": [
      "Building system matrices\n",
      "Parsing OModel for <DCOPF>\n",
      "Evaluating OModel for <DCOPF>\n",
      "Finalizing OModel for <DCOPF>\n",
      "<DCOPF> solved as optimal in 0.2239 seconds, converged in 16 iterations with CLARABEL.\n",
      "Building system matrices\n",
      "Parsing OModel for <DCOPF>\n",
      "Evaluating OModel for <DCOPF>\n",
      "Finalizing OModel for <DCOPF>\n",
      "<DCOPF> solved as optimal in 0.2608 seconds, converged in 14 iterations with CLARABEL.\n",
      "Building system matrices\n",
      "Parsing OModel for <DCOPF>\n",
      "Evaluating OModel for <DCOPF>\n",
      "Finalizing OModel for <DCOPF>\n",
      "<DCOPF> solved as optimal in 0.2153 seconds, converged in 14 iterations with CLARABEL.\n",
      "Building system matrices\n",
      "Parsing OModel for <DCOPF>\n",
      "Evaluating OModel for <DCOPF>\n",
      "Finalizing OModel for <DCOPF>\n",
      "<DCOPF> solved as optimal in 0.2119 seconds, converged in 13 iterations with CLARABEL.\n",
      "Building system matrices\n",
      "Parsing OModel for <DCOPF>\n",
      "Evaluating OModel for <DCOPF>\n",
      "Finalizing OModel for <DCOPF>\n",
      "<DCOPF> solved as optimal in 0.2196 seconds, converged in 14 iterations with CLARABEL.\n"
     ]
    }
   ],
   "source": [
    "for case in cases:\n",
    "    ss = ams.load(case, setup=True,)\n",
    "    ss.DCOPF.run(solver='CLARABEL')\n",
    "    ss.DCOPF.export_csv()"
   ]
  },
  {
   "cell_type": "code",
   "execution_count": 5,
   "id": "44ef16ab",
   "metadata": {},
   "outputs": [],
   "source": [
    "res = pd.read_csv(\"./Texas2k_136_DCOPF.csv\")"
   ]
  },
  {
   "cell_type": "code",
   "execution_count": 6,
   "id": "b0a5135e",
   "metadata": {},
   "outputs": [
    {
     "data": {
      "text/html": [
       "<div>\n",
       "<style scoped>\n",
       "    .dataframe tbody tr th:only-of-type {\n",
       "        vertical-align: middle;\n",
       "    }\n",
       "\n",
       "    .dataframe tbody tr th {\n",
       "        vertical-align: top;\n",
       "    }\n",
       "\n",
       "    .dataframe thead th {\n",
       "        text-align: right;\n",
       "    }\n",
       "</style>\n",
       "<table border=\"1\" class=\"dataframe\">\n",
       "  <thead>\n",
       "    <tr style=\"text-align: right;\">\n",
       "      <th></th>\n",
       "      <th>pg 1</th>\n",
       "      <th>pg 2</th>\n",
       "      <th>pg 3</th>\n",
       "      <th>pg 4</th>\n",
       "      <th>pg 5</th>\n",
       "      <th>pg 6</th>\n",
       "      <th>pg 7</th>\n",
       "      <th>pg 8</th>\n",
       "      <th>pg 9</th>\n",
       "      <th>pg 10</th>\n",
       "      <th>...</th>\n",
       "      <th>pg 734</th>\n",
       "      <th>pg 735</th>\n",
       "      <th>pg 736</th>\n",
       "      <th>pg 737</th>\n",
       "      <th>pg 738</th>\n",
       "      <th>pg 739</th>\n",
       "      <th>pg 740</th>\n",
       "      <th>pg 741</th>\n",
       "      <th>pg 742</th>\n",
       "      <th>pg 743</th>\n",
       "    </tr>\n",
       "  </thead>\n",
       "  <tbody>\n",
       "    <tr>\n",
       "      <th>0</th>\n",
       "      <td>1.6284</td>\n",
       "      <td>1.986826</td>\n",
       "      <td>0.300423</td>\n",
       "      <td>4.630701</td>\n",
       "      <td>0.754286</td>\n",
       "      <td>0.074282</td>\n",
       "      <td>9.566122</td>\n",
       "      <td>2.838943</td>\n",
       "      <td>1.87516</td>\n",
       "      <td>2.507041</td>\n",
       "      <td>...</td>\n",
       "      <td>1.98</td>\n",
       "      <td>1.98</td>\n",
       "      <td>1.98</td>\n",
       "      <td>-0.0</td>\n",
       "      <td>-0.0</td>\n",
       "      <td>-0.0</td>\n",
       "      <td>-0.0</td>\n",
       "      <td>0.5238</td>\n",
       "      <td>-0.0</td>\n",
       "      <td>-0.0</td>\n",
       "    </tr>\n",
       "  </tbody>\n",
       "</table>\n",
       "<p>1 rows × 743 columns</p>\n",
       "</div>"
      ],
      "text/plain": [
       "     pg 1      pg 2      pg 3      pg 4      pg 5      pg 6      pg 7  \\\n",
       "0  1.6284  1.986826  0.300423  4.630701  0.754286  0.074282  9.566122   \n",
       "\n",
       "       pg 8     pg 9     pg 10  ...  pg 734  pg 735  pg 736  pg 737  pg 738  \\\n",
       "0  2.838943  1.87516  2.507041  ...    1.98    1.98    1.98    -0.0    -0.0   \n",
       "\n",
       "   pg 739  pg 740  pg 741  pg 742  pg 743  \n",
       "0    -0.0    -0.0  0.5238    -0.0    -0.0  \n",
       "\n",
       "[1 rows x 743 columns]"
      ]
     },
     "execution_count": 6,
     "metadata": {},
     "output_type": "execute_result"
    }
   ],
   "source": [
    "res[[f'pg {n}' for n in range(1, ss.DCOPF.pg.n+1)]]"
   ]
  }
 ],
 "metadata": {
  "kernelspec": {
   "display_name": "amsre",
   "language": "python",
   "name": "python3"
  },
  "language_info": {
   "codemirror_mode": {
    "name": "ipython",
    "version": 3
   },
   "file_extension": ".py",
   "mimetype": "text/x-python",
   "name": "python",
   "nbconvert_exporter": "python",
   "pygments_lexer": "ipython3",
   "version": "3.12.0"
  }
 },
 "nbformat": 4,
 "nbformat_minor": 5
}
