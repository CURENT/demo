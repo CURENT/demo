{
 "cells": [
  {
   "cell_type": "markdown",
   "id": "3c7aac94",
   "metadata": {},
   "source": [
    "# Series Analysis Using AMS"
   ]
  },
  {
   "cell_type": "markdown",
   "id": "3b40c509",
   "metadata": {},
   "source": [
    "In this notebook, we will show how to use AMS to do a series analysis, for example, a series of DCOPF with different load levels."
   ]
  },
  {
   "cell_type": "code",
   "execution_count": 1,
   "id": "e98e666e",
   "metadata": {},
   "outputs": [],
   "source": [
    "import numpy as np\n",
    "\n",
    "import ams"
   ]
  },
  {
   "cell_type": "code",
   "execution_count": 2,
   "id": "3b8fe4ae",
   "metadata": {},
   "outputs": [
    {
     "name": "stdout",
     "output_type": "stream",
     "text": [
      "Python   3.12.0\n",
      "ams      1.0.7\n",
      "andes    1.9.3\n",
      "numpy    2.0.2\n",
      "cvxpy    1.6.0\n",
      "solvers  CLARABEL, ECOS, ECOS_BB,\n",
      "         GUROBI, HIGHS, MOSEK, OSQP,\n",
      "         PIQP, SCIP, SCIPY, SCS\n"
     ]
    }
   ],
   "source": [
    "!ams misc --version"
   ]
  },
  {
   "cell_type": "code",
   "execution_count": 3,
   "id": "ee703096",
   "metadata": {},
   "outputs": [],
   "source": [
    "ams.config_logger(stream_level=30)"
   ]
  },
  {
   "cell_type": "markdown",
   "id": "1188004b",
   "metadata": {},
   "source": [
    "Typically, it is faster to read a JSON case than XLSX."
   ]
  },
  {
   "cell_type": "code",
   "execution_count": 4,
   "id": "f769bbda",
   "metadata": {},
   "outputs": [],
   "source": [
    "sp = ams.load(\"./Texas7k.json\",\n",
    "              setup=True, no_output=True)"
   ]
  },
  {
   "cell_type": "markdown",
   "id": "147bce27",
   "metadata": {},
   "source": [
    "For example, there are 4 snapshots DCOPF need to be solved."
   ]
  },
  {
   "cell_type": "code",
   "execution_count": 5,
   "id": "0e3ec31c",
   "metadata": {},
   "outputs": [],
   "source": [
    "lfs = np.array([1.0, 1.05, 1.1, 1.03])"
   ]
  },
  {
   "cell_type": "code",
   "execution_count": 6,
   "id": "bda25ab5",
   "metadata": {},
   "outputs": [
    {
     "name": "stderr",
     "output_type": "stream",
     "text": [
      "Building system matrices\n",
      "Parsing OModel for <DCOPF>\n",
      "Evaluating OModel for <DCOPF>\n",
      "Finalizing OModel for <DCOPF>\n",
      "<DCOPF> solved as optimal in 0.1003 seconds, converged in 19 iterations with PIQP.\n",
      "<DCOPF> solved as optimal in 0.1217 seconds, converged in 23 iterations with PIQP.\n"
     ]
    },
    {
     "name": "stdout",
     "output_type": "stream",
     "text": [
      "Snapshot 1: Cost=1688046.7556, Gen=746.6659\n",
      "Snapshot 2: Cost=1797718.9681, Gen=783.9992\n"
     ]
    },
    {
     "name": "stderr",
     "output_type": "stream",
     "text": [
      "<DCOPF> solved as optimal in 0.1012 seconds, converged in 19 iterations with PIQP.\n",
      "<DCOPF> solved as optimal in 0.1094 seconds, converged in 21 iterations with PIQP.\n"
     ]
    },
    {
     "name": "stdout",
     "output_type": "stream",
     "text": [
      "Snapshot 3: Cost=1912139.8883, Gen=821.3325\n",
      "Snapshot 4: Cost=1753278.1005, Gen=769.0659\n"
     ]
    }
   ],
   "source": [
    "# store the original load values\n",
    "pq_idx = sp.PQ.idx.v\n",
    "p0 = sp.PQ.get(src='p0', attr='v', idx=pq_idx).copy()\n",
    "\n",
    "# initialize the DCOPF routine\n",
    "sp.DCOPF.init()\n",
    "\n",
    "for i, lf in enumerate(lfs):\n",
    "    # update load values with the load factor\n",
    "    sp.PQ.set(src='p0', attr='v', idx=pq_idx, value=lf * p0)\n",
    "    # update the corresponding routine parameters\n",
    "    sp.DCOPF.update('pd')\n",
    "    # solve it\n",
    "    sp.DCOPF.run(solver='PIQP', ignore_dpp=True)\n",
    "    print(f\"Snapshot {i+1}: Cost={sp.DCOPF.obj.v:.4f}, Gen={sp.DCOPF.pg.v.sum():.4f}\")"
   ]
  }
 ],
 "metadata": {
  "kernelspec": {
   "display_name": "amsre",
   "language": "python",
   "name": "python3"
  },
  "language_info": {
   "codemirror_mode": {
    "name": "ipython",
    "version": 3
   },
   "file_extension": ".py",
   "mimetype": "text/x-python",
   "name": "python",
   "nbconvert_exporter": "python",
   "pygments_lexer": "ipython3",
   "version": "3.12.0"
  }
 },
 "nbformat": 4,
 "nbformat_minor": 5
}
