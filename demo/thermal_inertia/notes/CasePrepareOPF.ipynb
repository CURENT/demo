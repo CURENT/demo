{
 "cells": [
  {
   "cell_type": "markdown",
   "metadata": {},
   "source": [
    "# OPF Case Preparation"
   ]
  },
  {
   "cell_type": "code",
   "execution_count": 1,
   "metadata": {},
   "outputs": [],
   "source": [
    "import andes\n",
    "import ams"
   ]
  },
  {
   "cell_type": "code",
   "execution_count": 2,
   "metadata": {},
   "outputs": [
    {
     "name": "stdout",
     "output_type": "stream",
     "text": [
      "Python   3.12.0\n",
      "ams      1.0.9\n",
      "andes    1.9.3.post51+g005049af\n",
      "numpy    2.0.2\n",
      "cvxpy    1.6.0\n",
      "solvers  CLARABEL, ECOS, ECOS_BB,\n",
      "         GUROBI, HIGHS, MOSEK, OSQP,\n",
      "         PIQP, SCIP, SCIPY, SCS\n"
     ]
    }
   ],
   "source": [
    "!ams misc --version"
   ]
  },
  {
   "cell_type": "code",
   "execution_count": 3,
   "metadata": {},
   "outputs": [],
   "source": [
    "%matplotlib inline"
   ]
  },
  {
   "cell_type": "code",
   "execution_count": 4,
   "metadata": {},
   "outputs": [],
   "source": [
    "andes.config_logger(stream_level=40)\n",
    "ams.config_logger(stream_level=20)"
   ]
  },
  {
   "cell_type": "code",
   "execution_count": 5,
   "metadata": {},
   "outputs": [
    {
     "name": "stderr",
     "output_type": "stream",
     "text": [
      "Parsing input file \"./../cases/case_ACTIVSg200.m\"...\n",
      "CASE_ACTIVSG200  Synthetic Illinois 200-bus power system model.\n",
      "Input file parsed in 0.0205 seconds.\n",
      "Zero Line parameters detected, adjusted to default values: rate_b, rate_c, amax, amin.\n",
      "System set up in 0.0030 seconds.\n"
     ]
    },
    {
     "data": {
      "text/plain": [
       "True"
      ]
     },
     "execution_count": 5,
     "metadata": {},
     "output_type": "execute_result"
    }
   ],
   "source": [
    "sp = ams.load('./../cases/case_ACTIVSg200.m',\n",
    "              setup=True, no_output=True,\n",
    "              default_config=True)\n",
    "\n",
    "# manually turn on all generators\n",
    "sp.StaticGen.alter(src='u', idx=sp.StaticGen.get_all_idxes(),\n",
    "                   value=1)"
   ]
  },
  {
   "cell_type": "code",
   "execution_count": 6,
   "metadata": {},
   "outputs": [
    {
     "name": "stderr",
     "output_type": "stream",
     "text": [
      "Parsing input file \"./../cases/ACTIVSg200.RAW\"...\n"
     ]
    },
    {
     "name": "stderr",
     "output_type": "stream",
     "text": [
      "Input file parsed in 0.0743 seconds.\n"
     ]
    }
   ],
   "source": [
    "sp2 = ams.load('./../cases/ACTIVSg200.RAW',\n",
    "               setup=False, no_output=True,\n",
    "               default_config=True)"
   ]
  },
  {
   "cell_type": "code",
   "execution_count": 7,
   "metadata": {},
   "outputs": [
    {
     "data": {
      "text/plain": [
       "True"
      ]
     },
     "execution_count": 7,
     "metadata": {},
     "output_type": "execute_result"
    }
   ],
   "source": [
    "stg_mp = set(sp.StaticGen.get_all_idxes())\n",
    "stg_raw = set(sp2.StaticGen.get_all_idxes())\n",
    "stg_equal = stg_mp == stg_raw\n",
    "stg_equal"
   ]
  },
  {
   "cell_type": "markdown",
   "metadata": {},
   "source": [
    "The two cases have idential generators, so we can add generator costs to the PSSE read case."
   ]
  },
  {
   "cell_type": "code",
   "execution_count": 8,
   "metadata": {},
   "outputs": [],
   "source": [
    "for index, row in sp.GCost.cache.df_in.iterrows():\n",
    "    sp2.add(model='GCost', **row)"
   ]
  },
  {
   "cell_type": "code",
   "execution_count": 9,
   "metadata": {},
   "outputs": [
    {
     "data": {
      "text/plain": [
       "True"
      ]
     },
     "execution_count": 9,
     "metadata": {},
     "output_type": "execute_result"
    }
   ],
   "source": [
    "stg = sp2.StaticGen.get_all_idxes()\n",
    "sp2.StaticGen.alter(src='gentype', attr='v', idx=stg,\n",
    "                    value=sp.StaticGen.get(src='gentype', idx=stg))\n",
    "\n",
    "sp2.StaticGen.alter(src='genfuel', attr='v', idx=stg,\n",
    "                    value=sp.StaticGen.get(src='genfuel', idx=stg))"
   ]
  },
  {
   "cell_type": "code",
   "execution_count": 10,
   "metadata": {},
   "outputs": [
    {
     "name": "stderr",
     "output_type": "stream",
     "text": [
      "xlsx file written to \"./../cases/IL200_opf_20wt.xlsx\"\n"
     ]
    },
    {
     "data": {
      "text/plain": [
       "True"
      ]
     },
     "execution_count": 10,
     "metadata": {},
     "output_type": "execute_result"
    }
   ],
   "source": [
    "ams.io.xlsx.write(sp2,\n",
    "                  './../cases/IL200_opf_20wt.xlsx',\n",
    "                  overwrite=True)"
   ]
  },
  {
   "cell_type": "markdown",
   "metadata": {},
   "source": [
    "The rest two OPF cases are manually prepared by changing some StaticGen's ``gentype`` and ``genfule``."
   ]
  }
 ],
 "metadata": {
  "kernelspec": {
   "display_name": "amsre",
   "language": "python",
   "name": "python3"
  },
  "language_info": {
   "codemirror_mode": {
    "name": "ipython",
    "version": 3
   },
   "file_extension": ".py",
   "mimetype": "text/x-python",
   "name": "python",
   "nbconvert_exporter": "python",
   "pygments_lexer": "ipython3",
   "version": "3.12.0"
  }
 },
 "nbformat": 4,
 "nbformat_minor": 2
}
