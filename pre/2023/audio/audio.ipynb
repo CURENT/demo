{
 "cells": [
  {
   "attachments": {},
   "cell_type": "markdown",
   "metadata": {},
   "source": [
    "# Text to audio"
   ]
  },
  {
   "cell_type": "code",
   "execution_count": null,
   "metadata": {},
   "outputs": [],
   "source": [
    "from gtts import gTTS\n",
    "from IPython.display import Audio, display"
   ]
  },
  {
   "cell_type": "code",
   "execution_count": null,
   "metadata": {},
   "outputs": [],
   "source": [
    "# Set the language and accent (optional)\n",
    "lang = 'en'"
   ]
  },
  {
   "attachments": {},
   "cell_type": "markdown",
   "metadata": {},
   "source": [
    "## Page 1: Cover"
   ]
  },
  {
   "cell_type": "code",
   "execution_count": null,
   "metadata": {},
   "outputs": [],
   "source": [
    "# Display the audio element in the notebook\n",
    "# display(Audio(\"ttsp0.mp3\"))"
   ]
  },
  {
   "cell_type": "code",
   "execution_count": null,
   "metadata": {},
   "outputs": [],
   "source": [
    "# Set the text to be spoken\n",
    "txt1 = \"Disclaimer: The voice in this video is generated using gTTS.\\\n",
    "    The video is for non-commercial use only.\\\n",
    "    Welcome to the 2023 Industry Conference. \\\n",
    "    We are excited to present the progress of current Large-scale Testbed, \\\n",
    "    a comprehensive power system testing platform for research.\"\n",
    "\n",
    "# Create a gTTS object with the specified text and language/accent\n",
    "ttsp1 = gTTS(txt1,\n",
    "             lang=lang, tld='com', lang_check=True)\n",
    "\n",
    "# Save the audio output to a file\n",
    "ttsp1.save('ttsp1.mp3')"
   ]
  },
  {
   "attachments": {},
   "cell_type": "markdown",
   "metadata": {},
   "source": [
    "## Page 2: Overview"
   ]
  },
  {
   "cell_type": "code",
   "execution_count": null,
   "metadata": {},
   "outputs": [],
   "source": [
    "# Set the text to be spoken\n",
    "txt2 = \"Although there have been some power system simulation software,\\\n",
    "    the need for a comprehensive platform,\\\n",
    "    that includes both dynamic and market simulation, has become increasingly pressing.\\\n",
    "    Our platform not only supports these features, but also enables dispatch-dynamic interfaced co-simulation,\\\n",
    "    helping researchers to study the comprehensive impacts of a decarbonized grid.\\\n",
    "    Regarding the structure, we have four core modules. \\\n",
    "    ANDES is a dynamic simulation engine that uses a hybrid symbolic-numeric framework.\\\n",
    "    It simplifies the modeling process while maintain high computation efficiency. \\\n",
    "    AMS is a market simulation tool. \\\n",
    "    It features dynamic information and interface capabilities. \\\n",
    "    This ongoing project allows users to quantify not only economic results but also dynamic performance. \\\n",
    "    EggVis is the geographical visualization for energy system, \\\n",
    "    that provides researchers with an intuitive understanding of the system status.\\\n",
    "    Finally, DiME is the data messaging environment between multiple modules.\"\n",
    "\n",
    "# Create a gTTS object with the specified text and language/accent\n",
    "ttsp2 = gTTS(txt2,\n",
    "             lang=lang, tld='com', lang_check=True)\n",
    "\n",
    "# Save the audio output to a file\n",
    "ttsp2.save('ttsp2.mp3')"
   ]
  },
  {
   "cell_type": "code",
   "execution_count": null,
   "metadata": {},
   "outputs": [],
   "source": [
    "# Set the text to be spoken\n",
    "txt3 = \"Next, I would like to provide you with the updates on the development of the LTB. \\\n",
    "    Regarding ANDES, we have made some progress in the functionality and performance. \\\n",
    "    We developing new dynamic models, interfaces with dispatch software, and distribution simulators.\\\n",
    "    We also developed new features such as snapshot and memory management.\\\n",
    "    As for AMS, we started development this spring, \\\n",
    "    with the aim of creating a flexible dispatch modeling framework, and a scalable dispatch-dynamic co-simulation capability.\\\n",
    "    Moving on to EggVis, we have made significant improvements to the usability by creating online documentation and video tutorials.\\\n",
    "    Additionally, we have introduced new features such as customized functions, multilayer support, and an independent data reader.\\\n",
    "    Finally, for DiME, we have created online documentation and conducted software tests to ensure the reliability and performance of the platform.\\\n",
    "    \"\n",
    "\n",
    "# Create a gTTS object with the specified text and language/accent\n",
    "ttsp3 = gTTS(txt3,\n",
    "             lang=lang, tld='com', lang_check=True)\n",
    "\n",
    "# Save the audio output to a file\n",
    "ttsp3.save('ttsp3.mp3')"
   ]
  },
  {
   "cell_type": "code",
   "execution_count": null,
   "metadata": {},
   "outputs": [],
   "source": [
    "# Set the text to be spoken\n",
    "txt4 = \"Here is a brief overview of the dispatch-dynamic co-simulation.\\\n",
    "    In this case, we are doing the co-simulation of real-time economic dispatch and time-domain simulation.\\\n",
    "    Between the RTED and TDS, there is a conversion of ACOPF to smooth the transition from dispatch to TDS.\\\n",
    "    In this way, we can quantify both economic results and dynamic performance.\\\n",
    "    We have two demos to further illustrate this framework.\\\n",
    "    One is the charging time constrained EV secondary frequency regulation. \\\n",
    "    Another is the virtual inertia scheduling scheme from IBR.\\\n",
    "    We are using the I triple E 39 bus system and realistic load data from PJM.\\\n",
    "    \"\n",
    "\n",
    "# Create a gTTS object with the specified text and language/accent\n",
    "ttsp4 = gTTS(txt4,\n",
    "             lang=lang, tld='com', lang_check=True)\n",
    "\n",
    "# Save the audio output to a file\n",
    "ttsp4.save('ttsp4.mp3')"
   ]
  },
  {
   "cell_type": "code",
   "execution_count": null,
   "metadata": {},
   "outputs": [],
   "source": [
    "# Set the text to be spoken\n",
    "txt5 = \"The EV demo is skiped in this video. You can watch it in the YouTube channel.\\\n",
    "    \"\n",
    "\n",
    "# Create a gTTS object with the specified text and language/accent\n",
    "ttsp5 = gTTS(txt5,\n",
    "             lang=lang, tld='com', lang_check=True)\n",
    "\n",
    "# Save the audio output to a file\n",
    "ttsp5.save('ttsp5.mp3')"
   ]
  },
  {
   "cell_type": "code",
   "execution_count": null,
   "metadata": {},
   "outputs": [],
   "source": [
    "# Set the text to be spoken\n",
    "txt6 = \"The VIS demo is also skiped in this video. You can watch it in the YouTube channel.\\\n",
    "    \"\n",
    "\n",
    "# Create a gTTS object with the specified text and language/accent\n",
    "ttsp6 = gTTS(txt6,\n",
    "             lang=lang, tld='com', lang_check=True)\n",
    "\n",
    "# Save the audio output to a file\n",
    "ttsp6.save('ttsp6.mp3')"
   ]
  },
  {
   "cell_type": "code",
   "execution_count": null,
   "metadata": {},
   "outputs": [],
   "source": [
    "# Set the text to be spoken\n",
    "txt7 = \"We thanks for the funding agencies, and all the LTB users and partners.\\\n",
    "    We are looking forward to your feedbacks and collaborations.\\\n",
    "    \"\n",
    "\n",
    "# Create a gTTS object with the specified text and language/accent\n",
    "ttsp7 = gTTS(txt7,\n",
    "             lang=lang, tld='com', lang_check=True)\n",
    "\n",
    "# Save the audio output to a file\n",
    "ttsp7.save('ttsp7.mp3')"
   ]
  }
 ],
 "metadata": {
  "kernelspec": {
   "display_name": "Python 3",
   "language": "python",
   "name": "python3"
  },
  "language_info": {
   "codemirror_mode": {
    "name": "ipython",
    "version": 3
   },
   "file_extension": ".py",
   "mimetype": "text/x-python",
   "name": "python",
   "nbconvert_exporter": "python",
   "pygments_lexer": "ipython3",
   "version": "3.10.6"
  },
  "orig_nbformat": 4,
  "vscode": {
   "interpreter": {
    "hash": "31f2aee4e71d21fbe5cf8b01ff0e069b9275f58929596ceb00d14d90e3e16cd6"
   }
  }
 },
 "nbformat": 4,
 "nbformat_minor": 2
}
